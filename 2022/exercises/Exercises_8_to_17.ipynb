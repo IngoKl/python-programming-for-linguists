{
  "cells": [
    {
      "cell_type": "markdown",
      "metadata": {
        "id": "g8L_jaAr9S8v"
      },
      "source": [
        "# Python Programming for Linguists\n",
        "**03 - Python for (Corpus) Linguists**\n",
        "as of 2022-12-31"
      ]
    },
    {
      "cell_type": "markdown",
      "metadata": {
        "id": "iJwE7TYEo1_7"
      },
      "source": [
        "## 1. Environment and Data"
      ]
    },
    {
      "cell_type": "markdown",
      "metadata": {
        "id": "VOAC6yCfxu-f"
      },
      "source": [
        "Before we begin, we need to set up **our development environment**.\n",
        "\n",
        "First, we will download (*git cloning*) the workshop repository. The [\"magic command\"](https://ipython.readthedocs.io/en/stable/interactive/magics.html) `%%capture` will suppress any cell output. Be careful: `rm -r python-programming-for-linguists` will delete previous files.\n",
        "\n",
        "\n",
        "Next, we are installing two additional libraries/dependencies: `textdirectory` and `justext`. While many libraries are available on Colab, some need (and can) be installed using `pip`.\n",
        "\n",
        "Then we are `import`-ing all the needed dependencies.\n",
        "\n",
        "Finally, we are using two scripts, provided in the repository, to download two corpora.\n",
        "\n",
        "In addition, we will define a `print_dict` helper function that we will use to look at large dictionaries without breaking *Colab*."
      ]
    },
    {
      "cell_type": "code",
      "execution_count": 1,
      "metadata": {
        "id": "7mHW5hAMApoA",
        "vscode": {
          "languageId": "python"
        }
      },
      "outputs": [],
      "source": [
        "%%capture\n",
        "!rm -r python-programming-for-linguists\n",
        "!git clone https://github.com/IngoKl/python-programming-for-linguists"
      ]
    },
    {
      "cell_type": "code",
      "execution_count": 2,
      "metadata": {
        "id": "PoWWCg--DtgW",
        "vscode": {
          "languageId": "python"
        }
      },
      "outputs": [],
      "source": [
        "%%capture\n",
        "!pip install textdirectory --upgrade\n",
        "!pip install justext\n",
        "!pip install ftfy"
      ]
    },
    {
      "cell_type": "code",
      "execution_count": 3,
      "metadata": {
        "colab": {
          "base_uri": "https://localhost:8080/"
        },
        "id": "eneM8GARD4Yg",
        "outputId": "a202ffbc-d75a-44fb-c761-77fc459427dd",
        "vscode": {
          "languageId": "python"
        }
      },
      "outputs": [
        {
          "name": "stderr",
          "output_type": "stream",
          "text": [
            "/usr/local/lib/python3.8/dist-packages/torch/cuda/__init__.py:497: UserWarning: Can't initialize NVML\n",
            "  warnings.warn(\"Can't initialize NVML\")\n"
          ]
        }
      ],
      "source": [
        "# Basics from Python's standard library\n",
        "import re\n",
        "import statistics\n",
        "import math\n",
        "\n",
        "from collections import Counter\n",
        "from operator import itemgetter\n",
        "\n",
        "from io import StringIO\n",
        "\n",
        "# Data Science\n",
        "import pandas as pd\n",
        "import numpy as np\n",
        "\n",
        "# Plotting\n",
        "import matplotlib.pyplot as plt\n",
        "import seaborn as sns\n",
        "\n",
        "# XML\n",
        "import lxml\n",
        "\n",
        "# NLP\n",
        "import nltk\n",
        "from nltk.corpus import wordnet\n",
        "from nltk.stem import PorterStemmer\n",
        "from nltk.stem import LancasterStemmer\n",
        "from nltk.stem import WordNetLemmatizer\n",
        "from nltk.collocations import BigramCollocationFinder\n",
        "from nltk.collocations import BigramAssocMeasures\n",
        "\n",
        "import spacy\n",
        "from spacy import displacy\n",
        "\n",
        "import ftfy\n",
        "\n",
        "import textdirectory\n",
        "\n",
        "# Web\n",
        "import requests\n",
        "from bs4 import BeautifulSoup\n",
        "import justext\n",
        "\n",
        "# Formatting output\n",
        "from tabulate import tabulate"
      ]
    },
    {
      "cell_type": "markdown",
      "metadata": {
        "id": "TeAeFCirn-cW"
      },
      "source": [
        "Downloading two corpora (HUM19UK and COCA sampler)"
      ]
    },
    {
      "cell_type": "code",
      "execution_count": 4,
      "metadata": {
        "id": "m7DAj4DhD-IO",
        "vscode": {
          "languageId": "python"
        }
      },
      "outputs": [],
      "source": [
        "%%capture\n",
        "!cd python-programming-for-linguists/2020/data && sh download_hum19uk.sh\n",
        "!cd python-programming-for-linguists/2020/data && sh download_coca.sh"
      ]
    },
    {
      "cell_type": "markdown",
      "metadata": {
        "id": "sJHMf2II4GWY"
      },
      "source": [
        "Helper function for looking at large dictionaries:"
      ]
    },
    {
      "cell_type": "code",
      "execution_count": 5,
      "metadata": {
        "id": "zv1PXbG233Kz",
        "vscode": {
          "languageId": "python"
        }
      },
      "outputs": [],
      "source": [
        "def print_dict(d, top=10):\n",
        "  print(list(d.items())[0:top])"
      ]
    },
    {
      "cell_type": "markdown",
      "metadata": {
        "id": "pBzngIdcLEeZ"
      },
      "source": [
        "## 2. New Tools and Hints"
      ]
    },
    {
      "cell_type": "markdown",
      "metadata": {
        "id": "Tb1qBmMkgz4L"
      },
      "source": [
        "### Classes and Objects"
      ]
    },
    {
      "cell_type": "markdown",
      "metadata": {
        "id": "tLAE2PVmJSj5"
      },
      "source": [
        "You can think of classes as blueprints for objects. An object, which is an instantiation of a class, can have attributes and methods (basically functions tied to the object). There's lots more to this, but this should get you going!\n",
        "\n",
        "Here we create a new class `Word`. The class has two attributes (`word` and `length`) as well as one method `reverse`."
      ]
    },
    {
      "cell_type": "code",
      "execution_count": 8,
      "metadata": {
        "id": "VpnfgklhJGCA",
        "vscode": {
          "languageId": "python"
        }
      },
      "outputs": [],
      "source": [
        "class Word():\n",
        "  \n",
        "  def __init__(self, word):\n",
        "    self.word = word\n",
        "    self.length = len(word)\n",
        "\n",
        "  def reverse(self):\n",
        "    self.word = self.word[::-1]"
      ]
    },
    {
      "cell_type": "code",
      "execution_count": 9,
      "metadata": {
        "id": "eNUoc8LpJ3Jo",
        "vscode": {
          "languageId": "python"
        }
      },
      "outputs": [],
      "source": [
        "new_word = Word('cat')"
      ]
    },
    {
      "cell_type": "markdown",
      "metadata": {
        "id": "gZiwYBoDKFZs"
      },
      "source": [
        "Now we have created a new object based on our blueprint. We can access the instance attributes by using `object.attribute`."
      ]
    },
    {
      "cell_type": "code",
      "execution_count": 10,
      "metadata": {
        "colab": {
          "base_uri": "https://localhost:8080/"
        },
        "id": "gOsx-klVJ-Aw",
        "outputId": "11d3b2a4-ca4a-44cf-d0ad-b08b10f4549e",
        "vscode": {
          "languageId": "python"
        }
      },
      "outputs": [
        {
          "data": {
            "text/plain": [
              "('cat', 3)"
            ]
          },
          "execution_count": 10,
          "metadata": {},
          "output_type": "execute_result"
        }
      ],
      "source": [
        "new_word.word, new_word.length"
      ]
    },
    {
      "cell_type": "markdown",
      "metadata": {
        "id": "qwtBzBdJKYMH"
      },
      "source": [
        "Of course, we now also use the methods of the object by calling `object.method()`."
      ]
    },
    {
      "cell_type": "code",
      "execution_count": 11,
      "metadata": {
        "colab": {
          "base_uri": "https://localhost:8080/",
          "height": 35
        },
        "id": "015fB5fhKbXC",
        "outputId": "bdb17835-cabe-4fa9-f60c-cadbf0f9b474",
        "vscode": {
          "languageId": "python"
        }
      },
      "outputs": [
        {
          "data": {
            "application/vnd.google.colaboratory.intrinsic+json": {
              "type": "string"
            },
            "text/plain": [
              "'tac'"
            ]
          },
          "execution_count": 11,
          "metadata": {},
          "output_type": "execute_result"
        }
      ],
      "source": [
        "new_word.reverse()\n",
        "new_word.word"
      ]
    },
    {
      "cell_type": "markdown",
      "metadata": {
        "id": "q-8lFCNwiEtp"
      },
      "source": [
        "### List Comprehensions"
      ]
    },
    {
      "cell_type": "code",
      "execution_count": 18,
      "metadata": {
        "colab": {
          "base_uri": "https://localhost:8080/"
        },
        "id": "9G7Z1yWA5tql",
        "outputId": "0d6e0c98-f1d9-47fd-e116-81b6d88bf442",
        "vscode": {
          "languageId": "python"
        }
      },
      "outputs": [
        {
          "data": {
            "text/plain": [
              "[100, 200, 300]"
            ]
          },
          "execution_count": 18,
          "metadata": {},
          "output_type": "execute_result"
        }
      ],
      "source": [
        "numbers = [10, 20, 30]\n",
        "times_ten = [n * 10 for n in numbers]\n",
        "\n",
        "times_ten"
      ]
    },
    {
      "cell_type": "code",
      "execution_count": 21,
      "metadata": {
        "colab": {
          "base_uri": "https://localhost:8080/"
        },
        "id": "ORDQhxIF53nm",
        "outputId": "5fb24614-419b-4bd5-981b-8c6b7a7b6c8c",
        "vscode": {
          "languageId": "python"
        }
      },
      "outputs": [
        {
          "data": {
            "text/plain": [
              "[1, 2, 3]"
            ]
          },
          "execution_count": 21,
          "metadata": {},
          "output_type": "execute_result"
        }
      ],
      "source": [
        "list_of_lists = [['A', 1], ['B', 2], ['C', 3]]\n",
        "only_first_element = [n[1] for n in list_of_lists]\n",
        "\n",
        "only_first_element"
      ]
    },
    {
      "cell_type": "markdown",
      "metadata": {
        "id": "vmGV6kC8ebGF"
      },
      "source": [
        "### Enumerate"
      ]
    },
    {
      "cell_type": "code",
      "execution_count": null,
      "metadata": {
        "colab": {
          "base_uri": "https://localhost:8080/"
        },
        "id": "_zJcldtpedGu",
        "outputId": "808114c7-ce2b-4581-915d-d253670c3367",
        "vscode": {
          "languageId": "python"
        }
      },
      "outputs": [
        {
          "name": "stdout",
          "output_type": "stream",
          "text": [
            "0 A\n",
            "1 B\n",
            "2 C\n"
          ]
        }
      ],
      "source": [
        "l = ['A', 'B', 'C']\n",
        "\n",
        "for index, value in enumerate(l):\n",
        "  print(index, value)"
      ]
    },
    {
      "cell_type": "markdown",
      "metadata": {
        "id": "siURhumtutW6"
      },
      "source": [
        "### ftfy – Fixing Unicode"
      ]
    },
    {
      "cell_type": "markdown",
      "metadata": {
        "id": "QW-1rXUcE8NL"
      },
      "source": [
        "`ftfy` by Robyn Speer is an incredibly simple (to use) and useful tool for fixing problems with Unicode."
      ]
    },
    {
      "cell_type": "code",
      "execution_count": null,
      "metadata": {
        "id": "_-dLiUGdutp5",
        "vscode": {
          "languageId": "python"
        }
      },
      "outputs": [],
      "source": [
        "unicode_string = 'âœ” No problems'\n",
        "ftfy.fix_text(unicode_string)"
      ]
    },
    {
      "cell_type": "markdown",
      "metadata": {
        "id": "fGM5yrfSYN0E"
      },
      "source": [
        "## 3. Exercises (8 to 17)"
      ]
    },
    {
      "cell_type": "markdown",
      "metadata": {
        "id": "n_BfVcYGKLRw"
      },
      "source": [
        "### Exercise 8 – Concordancer"
      ]
    },
    {
      "cell_type": "code",
      "execution_count": null,
      "metadata": {
        "id": "7K10f5ATI0qa",
        "vscode": {
          "languageId": "python"
        }
      },
      "outputs": [],
      "source": [
        "# YOUR CODE GOES HERE"
      ]
    },
    {
      "attachments": {},
      "cell_type": "markdown",
      "metadata": {
        "id": "ifm5BisVseyt"
      },
      "source": [
        "### Exercise 9 – N-Grams\n",
        "Note: Number of N-Grams = Tokens + 1 - N"
      ]
    },
    {
      "cell_type": "code",
      "execution_count": null,
      "metadata": {
        "id": "r7JBw7IqnF2Z",
        "vscode": {
          "languageId": "python"
        }
      },
      "outputs": [],
      "source": [
        "# YOUR CODE GOES HERE"
      ]
    },
    {
      "attachments": {},
      "cell_type": "markdown",
      "metadata": {
        "id": "DbitsVl5NDQF"
      },
      "source": [
        "### Exercise 10 – Frequency Analysis"
      ]
    },
    {
      "cell_type": "code",
      "execution_count": null,
      "metadata": {
        "id": "P95yKU-DnME0",
        "vscode": {
          "languageId": "python"
        }
      },
      "outputs": [],
      "source": [
        "# YOUR CODE GOES HERE"
      ]
    },
    {
      "attachments": {},
      "cell_type": "markdown",
      "metadata": {
        "id": "pF9NL_sMl4jQ"
      },
      "source": [
        "### Exercise 11 – Computing Basic Statistics"
      ]
    },
    {
      "cell_type": "code",
      "execution_count": null,
      "metadata": {
        "id": "0IW9jFTwnRkQ",
        "vscode": {
          "languageId": "python"
        }
      },
      "outputs": [],
      "source": [
        "# YOUR CODE GOES HERE"
      ]
    },
    {
      "cell_type": "markdown",
      "metadata": {
        "id": "qYG5cZGAj8Yk"
      },
      "source": [
        "### Exercise 12 – Basic Collocation Analysis"
      ]
    },
    {
      "cell_type": "code",
      "execution_count": null,
      "metadata": {
        "id": "B_FmWJinkBSa",
        "vscode": {
          "languageId": "python"
        }
      },
      "outputs": [],
      "source": [
        "# YOUR CODE GOES HERE"
      ]
    },
    {
      "cell_type": "markdown",
      "metadata": {
        "id": "YDFk4KYuO5NP"
      },
      "source": [
        "### Exercise 13 – NLTK Stemming, Lemmatization, and WordNet"
      ]
    },
    {
      "cell_type": "code",
      "execution_count": null,
      "metadata": {
        "id": "rIc1pHatnXlj",
        "vscode": {
          "languageId": "python"
        }
      },
      "outputs": [],
      "source": [
        "# YOUR CODE GOES HERE"
      ]
    },
    {
      "cell_type": "markdown",
      "metadata": {
        "id": "l6a71ydw2Dea"
      },
      "source": [
        "### Exercise 14 – spaCy Tagging"
      ]
    },
    {
      "cell_type": "code",
      "execution_count": null,
      "metadata": {
        "id": "-sU3NCYSncBs",
        "vscode": {
          "languageId": "python"
        }
      },
      "outputs": [],
      "source": [
        "# YOUR CODE GOES HERE"
      ]
    },
    {
      "attachments": {},
      "cell_type": "markdown",
      "metadata": {
        "id": "ovBYK7RO2GU2"
      },
      "source": [
        "### Exercise 15 – Parsing XML"
      ]
    },
    {
      "cell_type": "code",
      "execution_count": null,
      "metadata": {
        "id": "z3se7AiWnfvN",
        "vscode": {
          "languageId": "python"
        }
      },
      "outputs": [],
      "source": [
        "# YOUR CODE GOES HERE"
      ]
    },
    {
      "attachments": {},
      "cell_type": "markdown",
      "metadata": {
        "id": "Id18_qZ52OyO"
      },
      "source": [
        "### Exercise 16 – Web Scraping"
      ]
    },
    {
      "cell_type": "code",
      "execution_count": null,
      "metadata": {
        "id": "NmzLJJWunjBe",
        "vscode": {
          "languageId": "python"
        }
      },
      "outputs": [],
      "source": [
        "# YOUR CODE GOES HERE"
      ]
    },
    {
      "attachments": {},
      "cell_type": "markdown",
      "metadata": {
        "id": "zmr79eLxY7-Y"
      },
      "source": [
        "### Exercise 17 – Putting Everything Together (Keyword Analysis)"
      ]
    },
    {
      "cell_type": "code",
      "execution_count": null,
      "metadata": {
        "id": "-ffpnkkNnobd",
        "vscode": {
          "languageId": "python"
        }
      },
      "outputs": [],
      "source": [
        "# YOUR CODE GOES HERE"
      ]
    }
  ],
  "metadata": {
    "colab": {
      "collapsed_sections": [
        "iJwE7TYEo1_7"
      ],
      "provenance": []
    },
    "kernelspec": {
      "display_name": "Python 3",
      "name": "python3"
    }
  },
  "nbformat": 4,
  "nbformat_minor": 0
}
