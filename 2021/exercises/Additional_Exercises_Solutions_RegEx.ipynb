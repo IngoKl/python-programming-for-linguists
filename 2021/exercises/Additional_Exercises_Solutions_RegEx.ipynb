{
  "nbformat": 4,
  "nbformat_minor": 0,
  "metadata": {
    "colab": {
      "name": "Additional_Exercises_RegEx.ipynb",
      "provenance": [],
      "collapsed_sections": [
        "Cqxm6b_VpxGz"
      ]
    },
    "kernelspec": {
      "name": "python3",
      "display_name": "Python 3"
    },
    "language_info": {
      "name": "python"
    }
  },
  "cells": [
    {
      "cell_type": "markdown",
      "metadata": {
        "id": "edUynZOdKwve"
      },
      "source": [
        "# Additional Exercises - Regular Expressions"
      ]
    },
    {
      "cell_type": "code",
      "metadata": {
        "id": "rl-SxvedLN-3"
      },
      "source": [
        "import re"
      ],
      "execution_count": null,
      "outputs": []
    },
    {
      "cell_type": "markdown",
      "metadata": {
        "id": "XEmhlAOhLqIn"
      },
      "source": [
        "Please be aware that there is **a [video](https://www.youtube.com/watch?v=GGEveroG3Fg)** going through these exercises. 🙂"
      ]
    },
    {
      "cell_type": "markdown",
      "metadata": {
        "id": "Cqxm6b_VpxGz"
      },
      "source": [
        "## Helper Function\n",
        "\n"
      ]
    },
    {
      "cell_type": "markdown",
      "metadata": {
        "id": "wJANYqBVp8eA"
      },
      "source": [
        "This is a helper function that will help you during the exercises. You will not have to change it but feel free to play around!"
      ]
    },
    {
      "cell_type": "code",
      "metadata": {
        "id": "udmQReyrMAzw"
      },
      "source": [
        "def regex_exercise(text, regular_expression, desired_output):\n",
        "  '''This is a helper function that will run a re.findall() \n",
        "  and return matches nicely.'''\n",
        "\n",
        "  if regular_expression:\n",
        "    regular_expression = f'({regular_expression})'\n",
        "    matches = re.findall(regular_expression, text)\n",
        "\n",
        "    print(f'Matching \"{regular_expression}\" and \"{text[0:10]} ...\"')\n",
        "\n",
        "    if matches == desired_output:\n",
        "      print(f'\\nSUCCESS')\n",
        "      print(f'Desired Output: {desired_output}')\n",
        "      print(f'Your Output: {matches}')\n",
        "    else:\n",
        "      print(f'\\nTRY AGAIN')\n",
        "      print(f'Desired Output: {desired_output}')\n",
        "      print(f'Your Output: {matches}')"
      ],
      "execution_count": null,
      "outputs": []
    },
    {
      "cell_type": "markdown",
      "metadata": {
        "id": "SY2U1-NFMuml"
      },
      "source": [
        "## Exercises"
      ]
    },
    {
      "cell_type": "markdown",
      "metadata": {
        "id": "oOqsVRcbp3YF"
      },
      "source": [
        "### Demo"
      ]
    },
    {
      "cell_type": "code",
      "metadata": {
        "colab": {
          "base_uri": "https://localhost:8080/"
        },
        "id": "oP67U_LLp2Zd",
        "outputId": "72790ee7-98fa-4d52-ab65-0ca3a3f15056"
      },
      "source": [
        "text = 'She had one cat while her friends had three cats.'\n",
        "desired_output = ['one cat', 'three cats']\n",
        "\n",
        "regular_expression = '\\w+ cats?'\n",
        "\n",
        "regex_exercise(text, regular_expression, desired_output)"
      ],
      "execution_count": null,
      "outputs": [
        {
          "output_type": "stream",
          "text": [
            "Matching \"(\\w+ cats?)\" and \"She had on ...\"\n",
            "\n",
            "SUCCESS\n",
            "Desired Output: ['one cat', 'three cats']\n",
            "Your Output: ['one cat', 'three cats']\n"
          ],
          "name": "stdout"
        }
      ]
    },
    {
      "cell_type": "markdown",
      "metadata": {
        "id": "iVecUGESV4vY"
      },
      "source": [
        "### Exercise 1 - Color and Colour\n",
        "\n",
        "Write an expression that matches both `the color X` and `the colour X`."
      ]
    },
    {
      "cell_type": "code",
      "metadata": {
        "colab": {
          "base_uri": "https://localhost:8080/"
        },
        "id": "aMfWDMlWV-RQ",
        "outputId": "cfb7ce29-33a2-4e5f-da86-768d61577a9f"
      },
      "source": [
        "text = '''She likes the color fern while he prefers the colour lilac.'''\n",
        "desired_output = [('the color fern', 'color'), ('the colour lilac', 'colour')]\n",
        "\n",
        "# YOUR CODE GOES HERE\n",
        "regular_expression = r'the (color|colour) \\w+'\n",
        "#regular_expression = r'the colou?r \\w+'\n",
        "\n",
        "regex_exercise(text, regular_expression, desired_output)"
      ],
      "execution_count": null,
      "outputs": [
        {
          "output_type": "stream",
          "text": [
            "Matching \"(the (color|colour) \\w+)\" and \"She likes  ...\"\n",
            "\n",
            "SUCCESS\n",
            "Desired Output: [('the color fern', 'color'), ('the colour lilac', 'colour')]\n",
            "Your Output: [('the color fern', 'color'), ('the colour lilac', 'colour')]\n"
          ],
          "name": "stdout"
        }
      ]
    },
    {
      "cell_type": "markdown",
      "metadata": {
        "id": "CSKQ8PX_VOBw"
      },
      "source": [
        "### Exercise 2: -ing Forms\n",
        "\n",
        "Write an expression that matches all words (tokens) ending in -ing."
      ]
    },
    {
      "cell_type": "code",
      "metadata": {
        "colab": {
          "base_uri": "https://localhost:8080/"
        },
        "id": "n8LkYEfIV9Ex",
        "outputId": "d9314c74-f7d2-4460-e8a4-4c2467301cfd"
      },
      "source": [
        "text = '''The two lions are moving towards their prey; \n",
        "waiting for it to make a move.'''\n",
        "desired_output = ['moving', 'waiting']\n",
        "\n",
        "# YOUR CODE GOES HERE\n",
        "regular_expression = r'\\w+ing'\n",
        "\n",
        "regex_exercise(text, regular_expression, desired_output)"
      ],
      "execution_count": null,
      "outputs": [
        {
          "output_type": "stream",
          "text": [
            "Matching \"(\\w+ing)\" and \"The two li ...\"\n",
            "\n",
            "SUCCESS\n",
            "Desired Output: ['moving', 'waiting']\n",
            "Your Output: ['moving', 'waiting']\n"
          ],
          "name": "stdout"
        }
      ]
    },
    {
      "cell_type": "markdown",
      "metadata": {
        "id": "ceflSXLCbHv_"
      },
      "source": [
        "### Exercise 3 - CCV Syllables / Consonant Clusters\n",
        "\n",
        "Write an expresion that matches CCV syllables (e.g., blue, glow, shred, free). Since this is not a class on phonetics, we will simply assume vowels to be a, e, i, o, u, (y)."
      ]
    },
    {
      "cell_type": "code",
      "metadata": {
        "colab": {
          "base_uri": "https://localhost:8080/"
        },
        "id": "GBOABwoCV-u-",
        "outputId": "4165d0a3-79a6-4d34-a635-c4c59f62c75d"
      },
      "source": [
        "text = '''The blue monster was set free.'''\n",
        "desired_output = ['blu', 'ste', 'fre']\n",
        "\n",
        "# YOUR CODE GOES HERE\n",
        "v = '[aeiouy]'\n",
        "c = '[bcdfgjklmnpqstvxzhrw]'\n",
        "regular_expression = f'{c}{c}{v}'\n",
        "\n",
        "regex_exercise(text, regular_expression, desired_output)"
      ],
      "execution_count": null,
      "outputs": [
        {
          "output_type": "stream",
          "text": [
            "Matching \"([bcdfgjklmnpqstvxzhrw][bcdfgjklmnpqstvxzhrw][aeiouy])\" and \"The blue m ...\"\n",
            "\n",
            "SUCCESS\n",
            "Desired Output: ['blu', 'ste', 'fre']\n",
            "Your Output: ['blu', 'ste', 'fre']\n"
          ],
          "name": "stdout"
        }
      ]
    },
    {
      "cell_type": "markdown",
      "metadata": {
        "id": "drNa_7DEV5Ej"
      },
      "source": [
        "\n",
        "### Exercise 4 - Old School Annotations\n",
        "\n",
        "Write an expression that matches all nouns from this BROWN-style example."
      ]
    },
    {
      "cell_type": "code",
      "metadata": {
        "colab": {
          "base_uri": "https://localhost:8080/"
        },
        "id": "YHndLo0hV_bB",
        "outputId": "814dd0c0-84f0-4807-8c9b-dabf4a881a80"
      },
      "source": [
        "text = '''Many/ap visitors/nns will/md be/be taking/vbg seats/nns. \n",
        "The/at organizer/nn has/hvz said/vbn the/at event/nn \n",
        "will/md be/be successful/jj.'''\n",
        "desired_output = [('visitors/nns', 'visitors'), ('seats/nns', 'seats'), ('organizer/nn', 'organizer'), ('event/nn', 'event')]\n",
        "\n",
        "# YOUR CODE GOES HERE\n",
        "regular_expression = r'(\\w+)/n\\w*'\n",
        "\n",
        "regex_exercise(text, regular_expression, desired_output)"
      ],
      "execution_count": null,
      "outputs": [
        {
          "output_type": "stream",
          "text": [
            "Matching \"((\\w+)/n\\w*)\" and \"Many/ap vi ...\"\n",
            "\n",
            "SUCCESS\n",
            "Desired Output: [('visitors/nns', 'visitors'), ('seats/nns', 'seats'), ('organizer/nn', 'organizer'), ('event/nn', 'event')]\n",
            "Your Output: [('visitors/nns', 'visitors'), ('seats/nns', 'seats'), ('organizer/nn', 'organizer'), ('event/nn', 'event')]\n"
          ],
          "name": "stdout"
        }
      ]
    },
    {
      "cell_type": "markdown",
      "metadata": {
        "id": "JrmZL4NdV5JL"
      },
      "source": [
        "### Exercise 5 - Determiners\n",
        "\n",
        "Write an expression that matches all determiners (defined as: a, an, the) in the text."
      ]
    },
    {
      "cell_type": "code",
      "metadata": {
        "colab": {
          "base_uri": "https://localhost:8080/"
        },
        "id": "vMv-esVRVb6o",
        "outputId": "d0f27f8f-5a3b-49c9-daaa-7810b56c268c"
      },
      "source": [
        "text = '''The car and a bike were driving down \n",
        "an alley when the accident happened.'''\n",
        "desired_output = ['The', 'a', 'an', 'the']\n",
        "\n",
        "# YOUR CODE GOES HERE\n",
        "regular_expression = r'\\b[Aa]\\b|\\b[Aa]n\\b|[Tt]he'\n",
        "\n",
        "regex_exercise(text, regular_expression, desired_output)"
      ],
      "execution_count": null,
      "outputs": [
        {
          "output_type": "stream",
          "text": [
            "Matching \"(\\b[Aa]\\b|\\b[Aa]n\\b|[Tt]he)\" and \"The car an ...\"\n",
            "\n",
            "SUCCESS\n",
            "Desired Output: ['The', 'a', 'an', 'the']\n",
            "Your Output: ['The', 'a', 'an', 'the']\n"
          ],
          "name": "stdout"
        }
      ]
    }
  ]
}