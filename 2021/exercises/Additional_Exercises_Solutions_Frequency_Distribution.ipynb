{
  "nbformat": 4,
  "nbformat_minor": 0,
  "metadata": {
    "colab": {
      "name": "Additional Exercises: Frequency Distribution (Solution)",
      "provenance": [],
      "collapsed_sections": []
    },
    "kernelspec": {
      "name": "python3",
      "display_name": "Python 3"
    },
    "language_info": {
      "name": "python"
    }
  },
  "cells": [
    {
      "cell_type": "markdown",
      "metadata": {
        "id": "M8LHZw5jxwmW"
      },
      "source": [
        "# Additional Exercises - Frequency Distribution\n"
      ]
    },
    {
      "cell_type": "markdown",
      "metadata": {
        "id": "WFTxNWfN8Vua"
      },
      "source": [
        "In this notebook (set of exercises) we will create a tool that, given a corpus of text files and a search term, is able to provide us with information about the frequency distribution of the term across the files in the corpus.\n",
        "\n",
        "The solution we will implement is not perfect and very much influenced by educational decisions. After finishing the exercise, you will be invited to think about ways of optimizing the solution."
      ]
    },
    {
      "cell_type": "markdown",
      "metadata": {
        "id": "gHvM1cmJ8qd7"
      },
      "source": [
        "## Setup\n",
        "\n",
        "This is a little bit of setup. First, we import necessary libraries. Of course, feel free to add libraries as needed! After, we clone the workshop repository and use the provided helper script to download a series of Sherlock Holmes short stories."
      ]
    },
    {
      "cell_type": "code",
      "metadata": {
        "id": "CTSVAtts8RdO"
      },
      "source": [
        "# Regular Expressions\n",
        "import re\n",
        "\n",
        "# Pathlib\n",
        "from pathlib import Path\n",
        "\n",
        "# Counter for getting frequencies\n",
        "from collections import Counter\n",
        "\n",
        "# DataFrames\n",
        "import pandas as pd\n",
        "\n",
        "# Visualization\n",
        "import seaborn as sns\n",
        "import matplotlib.pyplot as plt"
      ],
      "execution_count": 1,
      "outputs": []
    },
    {
      "cell_type": "code",
      "metadata": {
        "id": "jCqH7MeyxzRa"
      },
      "source": [
        "%%capture\n",
        "!git clone https://github.com/IngoKl/python-programming-for-linguists\n",
        "!cd python-programming-for-linguists/2021/data && sh download_sherlockholmes.sh"
      ],
      "execution_count": 2,
      "outputs": []
    },
    {
      "cell_type": "markdown",
      "metadata": {
        "id": "l-txyxOP9G5s"
      },
      "source": [
        "## Step 1: Preparing the Data\n",
        "\n",
        "After running the `download_sherlockholmes.sh` script above, you will have 12 short stories (*The Adventures of Sherlock Holmes*) in the `python-programming-for-linguists/2021/data/corpora/holmes` folder.\n",
        "\n",
        "The goal of this first step is to read and prepare the data. Your goal will be to create the data structure below. \n",
        "\n",
        "Please note that there are other, better and more efficient, data structures to achieve the same goals. However, we are building a solution that mirrors practices in corpus linguistics without being too conscious of memory of computation limitations."
      ]
    },
    {
      "cell_type": "code",
      "metadata": {
        "colab": {
          "base_uri": "https://localhost:8080/"
        },
        "id": "5nlXgAZq9GYH",
        "outputId": "c1aca188-1e0e-4a75-f18c-913f76c711dc"
      },
      "source": [
        "corpus = [\n",
        "          {\n",
        "           'filename': 'bery.txt', \n",
        "           'text': '...', \n",
        "           'story_title': 'THE ADVENTURE OF THE BERYL CORONET', \n",
        "           'length': None, \n",
        "           'frequencies': {}\n",
        "          },\n",
        "]\n",
        "\n",
        "corpus"
      ],
      "execution_count": 3,
      "outputs": [
        {
          "output_type": "execute_result",
          "data": {
            "text/plain": [
              "[{'filename': 'bery.txt',\n",
              "  'frequencies': {},\n",
              "  'length': None,\n",
              "  'story_title': 'THE ADVENTURE OF THE BERYL CORONET',\n",
              "  'text': '...'}]"
            ]
          },
          "metadata": {
            "tags": []
          },
          "execution_count": 3
        }
      ]
    },
    {
      "cell_type": "markdown",
      "metadata": {
        "id": "bPGW5NIW-nGN"
      },
      "source": [
        "Obviously, your solution will create a list with more than one item. The `frequencies` dictionary as well as `length` can be empty for now. We will populate it in the next step. `text` is supposed to contain the actual text.\n",
        "\n",
        "If you want to, you can preprocess the text before adding it to `corpus`.\n",
        "\n",
        "The trickiest bit is getting the `story_title` from the file. Have a look at one of the actual text files and remember what you've learned about regular expressions."
      ]
    },
    {
      "cell_type": "code",
      "metadata": {
        "id": "Vx13B3qyAD3q"
      },
      "source": [
        "def get_story_title(text):\n",
        "  title = re.search(\" *([A-Z '-]+)\\n\", text).group(1)\n",
        "  return title\n",
        "\n",
        "def preprocess_text(text):\n",
        "  text = text.lower()\n",
        "  text = re.sub('\\n+', ' ', text)\n",
        "  text = re.sub(' +', ' ', text)\n",
        "\n",
        "  return text"
      ],
      "execution_count": 4,
      "outputs": []
    },
    {
      "cell_type": "code",
      "metadata": {
        "id": "y_17lprz_MFg"
      },
      "source": [
        "corpus = []\n",
        "files = Path('python-programming-for-linguists/2021/data/corpora/holmes').glob('*.txt')\n",
        "\n",
        "for f in files:\n",
        "  filename = f.name\n",
        "  text = preprocess_text(f.read_text())\n",
        "  story_title = get_story_title(f.read_text())\n",
        "\n",
        "  corpus.append({'filename': filename, \n",
        "                 'text': text, \n",
        "                 'story_title': story_title, \n",
        "                 'length': None, \n",
        "                 'frequencies': {}\n",
        "                 })"
      ],
      "execution_count": 5,
      "outputs": []
    },
    {
      "cell_type": "markdown",
      "metadata": {
        "id": "_qizNQCTDTSt"
      },
      "source": [
        "## Step 2: Getting the Frequencies\n",
        "\n",
        "You will need to generate frequency tables and add them to `corpus`. At the same time, you should populate `length` with the number of tokens in the document.\n",
        "\n",
        "This also means that you will have to tokenize the stories first. Remember that you can use `dict()` to turn a `Counter` object into a dictionary.\n",
        "\n",
        "Ultimately, `frequency`, for each story, should contain a structure like below:"
      ]
    },
    {
      "cell_type": "code",
      "metadata": {
        "id": "gnZ_FDT8Dn4P"
      },
      "source": [
        "frequencies = {\n",
        "    'word_a': 42,\n",
        "    'word_b': 12,\n",
        "}"
      ],
      "execution_count": 6,
      "outputs": []
    },
    {
      "cell_type": "code",
      "metadata": {
        "id": "i5VrpJaVDufW"
      },
      "source": [
        "def tokenize(text):\n",
        "  return re.findall('\\w+', text)"
      ],
      "execution_count": 7,
      "outputs": []
    },
    {
      "cell_type": "code",
      "metadata": {
        "id": "5ObMUj8gDy5f"
      },
      "source": [
        "for story in corpus:\n",
        "  tokenized_story = tokenize(story['text'])\n",
        "  frequencies = dict(Counter(tokenized_story))\n",
        "\n",
        "  story['length'] = len(tokenized_story)\n",
        "  story['frequencies'] = frequencies"
      ],
      "execution_count": 8,
      "outputs": []
    },
    {
      "cell_type": "markdown",
      "metadata": {
        "id": "dhScros9GJeW"
      },
      "source": [
        "## Step 3: Frequencies and Frequency Distribution\n",
        "\n",
        "Now you will need to write a function that takes a `corpus` as well as `search_term`. You will also need to account for both the absolute as well as the relative (per 1,000 tokens) frequencies.\n",
        "\n",
        "If you need to check whether something is in a dictionary, you can do the following: `if x in y`\n",
        "\n",
        "You will generate a frequency table for the search term that looks as follows:"
      ]
    },
    {
      "cell_type": "code",
      "metadata": {
        "id": "wclpClooGXZr"
      },
      "source": [
        "frequency_table = {\n",
        "    # Filename: (abs_frequency, rel_frequency_per_1000)\n",
        "    'story_title_a': (1, 2),\n",
        "    'story_title_b': (1, 2)\n",
        "}"
      ],
      "execution_count": 9,
      "outputs": []
    },
    {
      "cell_type": "code",
      "metadata": {
        "id": "7ZZufRoQG_S1"
      },
      "source": [
        "def get_frequencies(corpus, search_term):\n",
        "\n",
        "  frequency_table = {}\n",
        "\n",
        "  for story in corpus:\n",
        "\n",
        "    # Absolute Frequency\n",
        "    if search_term in story['frequencies']:\n",
        "      abs_frequency = story['frequencies'][search_term]\n",
        "    else:\n",
        "      abs_frequency = 0\n",
        "\n",
        "    rel_frequency = (abs_frequency / story['length']) * 1000\n",
        "\n",
        "    # Relative Frequency (per 1,000 tokens)\n",
        "    frequency_table[story['story_title']] = (abs_frequency, rel_frequency)\n",
        "\n",
        "  return frequency_table\n"
      ],
      "execution_count": 10,
      "outputs": []
    },
    {
      "cell_type": "markdown",
      "metadata": {
        "id": "fzoGahWOHF5-"
      },
      "source": [
        "The following code is **provided for you**. You don't have to change anything here. Just need to make sure that you `get_frequencies` function works well with it. \n",
        "\n",
        "* We will nicely print the results\n",
        "* We will calculate a very basic dispersion statistic (Range_2)\n",
        "* We will plot the results using `seaborn`"
      ]
    },
    {
      "cell_type": "code",
      "metadata": {
        "id": "B77mZcOA8H_4"
      },
      "source": [
        "def plot_frequency_table(frequency_table, search_term):\n",
        "\n",
        "  df = pd.DataFrame(frequency_table).transpose()\n",
        "  df.columns = ['abs_frequency', 'rel_frequency']\n",
        "  df = df.sort_values('rel_frequency', ascending=False)\n",
        "\n",
        "  ax = sns.barplot(y=df.index, x='rel_frequency', data=df, color='#EF2D56')\n",
        "  ax.set_title(f'Frequency Distribution of {search_term} (per 1,000 Tokens')"
      ],
      "execution_count": 11,
      "outputs": []
    },
    {
      "cell_type": "code",
      "metadata": {
        "colab": {
          "base_uri": "https://localhost:8080/",
          "height": 590
        },
        "id": "aEOGDIi-HNTR",
        "outputId": "24f14ec3-eb32-4f0f-e3fe-dd35dda3058f"
      },
      "source": [
        "search_term = 'watson'\n",
        "\n",
        "parts_with_st = 0\n",
        "frequency_table = get_frequencies(corpus, search_term)\n",
        "\n",
        "print(f'Distribution of \"{search_term}\":\\n')\n",
        "for s in frequency_table:\n",
        "  \n",
        "  if frequency_table[s][0] > 0:\n",
        "    parts_with_st += 1\n",
        "\n",
        "  print(f'- {frequency_table[s][0]} ({round(frequency_table[s][1], 2)} per 1,000 tokens) in {s}')\n",
        "\n",
        "# Range_2\n",
        "range_2 = ( parts_with_st / len(frequency_table.keys()) ) * 100\n",
        "\n",
        "print(f'\\nThe Range_2 is: {round(range_2, 2)}%\\n')\n",
        "\n",
        "plot_frequency_table(frequency_table, search_term)"
      ],
      "execution_count": 12,
      "outputs": [
        {
          "output_type": "stream",
          "text": [
            "Distribution of \"watson\":\n",
            "\n",
            "- 16 (1.69 per 1,000 tokens) in THE MAN WITH THE TWISTED LIP\n",
            "- 10 (1.07 per 1,000 tokens) in HEADED LEAGUE\n",
            "- 7 (0.84 per 1,000 tokens) in THE ADVENTURE OF THE NOBLE BACHELOR\n",
            "- 7 (0.69 per 1,000 tokens) in THE ADVENTURE OF THE COPPER BEECHES\n",
            "- 4 (0.53 per 1,000 tokens) in THE FIVE ORANGE PIPS\n",
            "- 4 (0.56 per 1,000 tokens) in A CASE OF IDENTITY\n",
            "- 4 (0.41 per 1,000 tokens) in THE BOSCOMBE VALLEY MYSTERY\n",
            "- 2 (0.2 per 1,000 tokens) in THE ADVENTURE OF THE BERYL CORONET\n",
            "- 9 (1.12 per 1,000 tokens) in THE ADVENTURE OF THE BLUE CARBUNCLE\n",
            "- 0 (0.0 per 1,000 tokens) in THE ADVENTURE OF THE ENGINEER'S THUMB\n",
            "- 6 (0.69 per 1,000 tokens) in A SCANDAL IN BOHEMIA\n",
            "- 12 (1.2 per 1,000 tokens) in THE ADVENTURE OF THE SPECKLED BAND\n",
            "\n",
            "The Range_2 is: 91.67%\n",
            "\n"
          ],
          "name": "stdout"
        },
        {
          "output_type": "display_data",
          "data": {
            "image/png": "[encoded data removed]",
            "text/plain": [
              "<Figure size 432x288 with 1 Axes>"
            ]
          },
          "metadata": {
            "tags": [],
            "needs_background": "light"
          }
        }
      ]
    },
    {
      "cell_type": "markdown",
      "metadata": {
        "id": "C2kHzQ0wHDqd"
      },
      "source": [
        "## Making it Better\n",
        "\n",
        "Now we have a working solution that does what we set out to do. However, it is definitely not the most efficient or most elegant solution.\n",
        "\n",
        "Can you think of some ways of making this program better?"
      ]
    },
    {
      "cell_type": "markdown",
      "metadata": {
        "id": "kqDDyWvwHElg"
      },
      "source": [
        "*   If we combined steps one and two, we would not have to store the actual `text` in our corpus object. This would save a lot of memory!\n",
        "*   In step one, we are reading each file twice. Once to get the text and again to get the `story_title`. This isn't necessarily a problem for 10 or 20 files, but it becomes important very quickly. That said, often there are memory vs. speed trade-offs.\n",
        "* Storing individual frequency tables for each document is wasteful in terms of memory as we are storing each word in the vocabulary multiple times.\n",
        "* Since we are storing individual frequency tables, we need to mitigate differences between the vocabularies of each document. For example, we need to mitigage if a `search_term` does not appear in a document. An alternative would be a vocabulary, across all documents, approach. Here we would first create a vocabulary of all words in all documents. Then we would get frequencies for each document and each word."
      ]
    },
    {
      "cell_type": "markdown",
      "metadata": {
        "id": "fUYJNonuttUw"
      },
      "source": [
        "These are just some suggestions. Ultimately, there are many ways of achieving the same result - each with its own pros and cons. When developing solutions, you should also be mindful of what you are doing why."
      ]
    },
    {
      "cell_type": "markdown",
      "metadata": {
        "id": "fAn_uzYJIVh8"
      },
      "source": [
        "## Bonus: Dispersion Statistics\n",
        "\n",
        "If you are interested in playing with dispersion statistics, have a look at this function:"
      ]
    },
    {
      "cell_type": "code",
      "metadata": {
        "id": "OFmjmCfdIVA4"
      },
      "source": [
        "import numpy as np\n",
        "\n",
        "def dispersion_statistics(frequency_table):\n",
        "    document_lengths = {}\n",
        "    for d in corpus:\n",
        "        document_lengths[d['story_title']] = d['length']\n",
        "        \n",
        "    # The percentage the term makes up of each document\n",
        "    p = [f[0] / document_lengths[t] for t, f in frequency_table.items()]\n",
        "    \n",
        "    frequencies = [f[0] for f in frequency_table.values()]\n",
        "    \n",
        "    n = len(frequencies)\n",
        "    range_1 = len([f for f in frequencies if f > 0])\n",
        "    range_2 = round((range_1 / n) * 100, 2)\n",
        "    \n",
        "    mean = np.mean(frequencies)\n",
        "    mean_p = np.mean(p)\n",
        "    \n",
        "    std = np.std(frequencies)\n",
        "    std_p = np.std(p)\n",
        "    \n",
        "    cv = std / mean\n",
        "    cv_p = std_p / mean_p\n",
        "    \n",
        "    D = 1 - (cv / np.sqrt(n - 1))\n",
        "    D_p = 1 - (cv_p / np.sqrt(n - 1))\n",
        "\n",
        "    stats = {'n': n, \n",
        "             'mean': mean, 'mean_p': mean_p, \n",
        "             'range_2': range_2, \n",
        "             'std': std, 'std_p': std_p, \n",
        "             'cv': cv, 'cv_p': cv_p, \n",
        "             'D': D, 'D_p': D_p\n",
        "    }\n",
        "\n",
        "\n",
        "    return stats"
      ],
      "execution_count": 19,
      "outputs": []
    },
    {
      "cell_type": "code",
      "metadata": {
        "colab": {
          "base_uri": "https://localhost:8080/"
        },
        "id": "i6yUaB-gIYDG",
        "outputId": "07c43234-2b82-45ec-be57-58d75815bb7c"
      },
      "source": [
        "frequency_table = get_frequencies(corpus, 'watson')\n",
        "dispersion_statistics(frequency_table)"
      ],
      "execution_count": 20,
      "outputs": [
        {
          "output_type": "execute_result",
          "data": {
            "text/plain": [
              "{'D': 0.8086329244383665,\n",
              " 'D_p': 0.819914027984733,\n",
              " 'cv': 0.6346927868655285,\n",
              " 'cv_p': 0.5972775991810831,\n",
              " 'mean': 6.75,\n",
              " 'mean_p': 0.0007495326821571226,\n",
              " 'n': 12,\n",
              " 'range_2': 91.67,\n",
              " 'std': 4.284176311342318,\n",
              " 'std_p': 0.00044767908090656404}"
            ]
          },
          "metadata": {
            "tags": []
          },
          "execution_count": 20
        }
      ]
    },
    {
      "cell_type": "markdown",
      "metadata": {
        "id": "WhPh-FyFIkda"
      },
      "source": [
        "For a detailled discussion of these statistics as well as the '_p' versions, have a look at: \n",
        "\n",
        "Gries, Stefan Th. 2020. “Analyzing Dispersion.” In A Practical Handbook of Corpus Linguistics, edited by Magali Paquot and Stefan T. Gries, 99–118. Cham: Springer Nature Switzerland."
      ]
    }
  ]
}
