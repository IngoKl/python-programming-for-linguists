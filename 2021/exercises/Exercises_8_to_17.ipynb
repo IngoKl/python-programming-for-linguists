{
  "nbformat": 4,
  "nbformat_minor": 0,
  "metadata": {
    "colab": {
      "name": "Exercises_8_to_17.ipynb",
      "provenance": [],
      "collapsed_sections": [
        "iJwE7TYEo1_7"
      ],
      "toc_visible": true
    },
    "kernelspec": {
      "display_name": "Python 3",
      "name": "python3"
    }
  },
  "cells": [
    {
      "cell_type": "markdown",
      "metadata": {
        "id": "g8L_jaAr9S8v"
      },
      "source": [
        "# Python Programming for Linguists\n",
        "**03 - Python for (Corpus) Linguists**\n",
        "as of 2021-06-11"
      ]
    },
    {
      "cell_type": "markdown",
      "metadata": {
        "id": "iJwE7TYEo1_7"
      },
      "source": [
        "## 1. Environment and Data"
      ]
    },
    {
      "cell_type": "markdown",
      "metadata": {
        "id": "VOAC6yCfxu-f"
      },
      "source": [
        "Before we begin, we need to set up **our development environment**.\n",
        "\n",
        "First, we will download (*git cloning*) the workshop repository. The [\"magic command\"](https://ipython.readthedocs.io/en/stable/interactive/magics.html) `%%capture` will suppress any cell output. Be careful: `rm -r python-programming-for-linguists` will delete previous files.\n",
        "\n",
        "\n",
        "Next, we are installing two additional libraries/dependencies: `textdirectory` and `justext`. While many libraries are available on Colab, some need (and can) be installed using `pip`.\n",
        "\n",
        "Then we are `import`-ing all the needed dependencies.\n",
        "\n",
        "Finally, we are using two scripts, provided in the repository, to download two corpora.\n",
        "\n",
        "In addition, we will define a `print_dict` helper function that we will use to look at large dictionaries without breaking *Colab*."
      ]
    },
    {
      "cell_type": "code",
      "metadata": {
        "id": "7mHW5hAMApoA"
      },
      "source": [
        "%%capture\n",
        "!rm -r python-programming-for-linguists\n",
        "!git clone https://github.com/IngoKl/python-programming-for-linguists"
      ],
      "execution_count": null,
      "outputs": []
    },
    {
      "cell_type": "code",
      "metadata": {
        "id": "PoWWCg--DtgW"
      },
      "source": [
        "%%capture\n",
        "!pip install textdirectory --upgrade\n",
        "!pip install justext"
      ],
      "execution_count": null,
      "outputs": []
    },
    {
      "cell_type": "code",
      "metadata": {
        "id": "eneM8GARD4Yg"
      },
      "source": [
        "# Basics from Python's standard library\n",
        "import re\n",
        "import statistics\n",
        "import math\n",
        "\n",
        "from collections import Counter\n",
        "from operator import itemgetter\n",
        "\n",
        "from io import StringIO\n",
        "\n",
        "# Data Science\n",
        "import pandas as pd\n",
        "import numpy as np\n",
        "\n",
        "# Plotting\n",
        "import matplotlib.pyplot as plt\n",
        "import seaborn as sns\n",
        "\n",
        "# XML\n",
        "import lxml\n",
        "\n",
        "# NLP\n",
        "import nltk\n",
        "from nltk.corpus import wordnet\n",
        "from nltk.stem import PorterStemmer\n",
        "from nltk.stem import LancasterStemmer\n",
        "from nltk.stem import WordNetLemmatizer\n",
        "from nltk.collocations import BigramCollocationFinder\n",
        "from nltk.collocations import BigramAssocMeasures\n",
        "\n",
        "import spacy\n",
        "from spacy import displacy\n",
        "\n",
        "import textdirectory\n",
        "\n",
        "# Web\n",
        "import requests\n",
        "from bs4 import BeautifulSoup\n",
        "import justext\n",
        "\n",
        "# Formatting output\n",
        "from tabulate import tabulate"
      ],
      "execution_count": null,
      "outputs": []
    },
    {
      "cell_type": "markdown",
      "metadata": {
        "id": "TeAeFCirn-cW"
      },
      "source": [
        "Downloading two corpora (HUM19UK and COCA sampler)"
      ]
    },
    {
      "cell_type": "code",
      "metadata": {
        "id": "m7DAj4DhD-IO"
      },
      "source": [
        "%%capture\n",
        "!cd python-programming-for-linguists/2020/data && sh download_hum19uk.sh\n",
        "!cd python-programming-for-linguists/2020/data && sh download_coca.sh"
      ],
      "execution_count": null,
      "outputs": []
    },
    {
      "cell_type": "markdown",
      "metadata": {
        "id": "sJHMf2II4GWY"
      },
      "source": [
        "Helper function for looking at large dictionaries:"
      ]
    },
    {
      "cell_type": "code",
      "metadata": {
        "id": "zv1PXbG233Kz"
      },
      "source": [
        "def print_dict(d, top=10):\n",
        "  print(list(d.items())[0:top])"
      ],
      "execution_count": null,
      "outputs": []
    },
    {
      "cell_type": "markdown",
      "metadata": {
        "id": "pBzngIdcLEeZ"
      },
      "source": [
        "## 2. New Tools and Hints"
      ]
    },
    {
      "cell_type": "markdown",
      "metadata": {
        "id": "Tb1qBmMkgz4L"
      },
      "source": [
        "### Classes and Objects"
      ]
    },
    {
      "cell_type": "markdown",
      "metadata": {
        "id": "tLAE2PVmJSj5"
      },
      "source": [
        "You can think of classes as blueprints for objects. An object, which is an instantiation of a class, can have attributes and methods (basically functions tied to the object). There's lots more to this, but this should get you going!\n",
        "\n",
        "Here we create a new class `Word`. The class has two attributes (`word` and `length`) as well as one method `reverse`."
      ]
    },
    {
      "cell_type": "code",
      "metadata": {
        "id": "VpnfgklhJGCA"
      },
      "source": [
        "class Word():\n",
        "  \n",
        "  def __init__(self, word):\n",
        "    self.word = word\n",
        "    self.length = len(word)\n",
        "\n",
        "  def reverse(self):\n",
        "    self.word = self.word[::-1]"
      ],
      "execution_count": null,
      "outputs": []
    },
    {
      "cell_type": "code",
      "metadata": {
        "id": "eNUoc8LpJ3Jo"
      },
      "source": [
        "new_word = Word('cat')"
      ],
      "execution_count": null,
      "outputs": []
    },
    {
      "cell_type": "markdown",
      "metadata": {
        "id": "gZiwYBoDKFZs"
      },
      "source": [
        "Now we have created a new object based on our blueprint. We can access the instance attributes by using `object.attribute`."
      ]
    },
    {
      "cell_type": "code",
      "metadata": {
        "colab": {
          "base_uri": "https://localhost:8080/"
        },
        "id": "gOsx-klVJ-Aw",
        "outputId": "81a5556b-9626-4cc4-c6ba-909b88491ad4"
      },
      "source": [
        "new_word.word, new_word.length"
      ],
      "execution_count": null,
      "outputs": [
        {
          "output_type": "execute_result",
          "data": {
            "text/plain": [
              "('cat', 3)"
            ]
          },
          "metadata": {
            "tags": []
          },
          "execution_count": 8
        }
      ]
    },
    {
      "cell_type": "markdown",
      "metadata": {
        "id": "qwtBzBdJKYMH"
      },
      "source": [
        "Of course, we now also use the methods of the object by calling `object.method()`."
      ]
    },
    {
      "cell_type": "code",
      "metadata": {
        "colab": {
          "base_uri": "https://localhost:8080/"
        },
        "id": "015fB5fhKbXC",
        "outputId": "9744fd51-1bb7-4117-ac5d-29292c5c4a7f"
      },
      "source": [
        "new_word.reverse()\n",
        "new_word.word"
      ],
      "execution_count": null,
      "outputs": [
        {
          "output_type": "execute_result",
          "data": {
            "application/vnd.google.colaboratory.intrinsic+json": {
              "type": "string"
            },
            "text/plain": [
              "'tac'"
            ]
          },
          "metadata": {
            "tags": []
          },
          "execution_count": 9
        }
      ]
    },
    {
      "cell_type": "markdown",
      "metadata": {
        "id": "q-8lFCNwiEtp"
      },
      "source": [
        "### List Comprehensions"
      ]
    },
    {
      "cell_type": "code",
      "metadata": {
        "colab": {
          "base_uri": "https://localhost:8080/"
        },
        "id": "9G7Z1yWA5tql",
        "outputId": "14078e09-4582-4c74-879c-6696bbfa05ae"
      },
      "source": [
        "numbers = [10, 20, 30]\n",
        "times_ten = [n * 10 for n in numbers]\n",
        "\n",
        "times_ten"
      ],
      "execution_count": null,
      "outputs": [
        {
          "output_type": "execute_result",
          "data": {
            "text/plain": [
              "[100, 200, 300]"
            ]
          },
          "metadata": {
            "tags": []
          },
          "execution_count": 10
        }
      ]
    },
    {
      "cell_type": "code",
      "metadata": {
        "colab": {
          "base_uri": "https://localhost:8080/"
        },
        "id": "ORDQhxIF53nm",
        "outputId": "1eff98d3-d0dd-4599-9c94-8e956cd5258c"
      },
      "source": [
        "list_of_lists = [['A', 1], ['B', 2], ['C', 3]]\n",
        "only_first_element = [n[1] for n in list_of_lists]\n",
        "\n",
        "only_first_element"
      ],
      "execution_count": null,
      "outputs": [
        {
          "output_type": "execute_result",
          "data": {
            "text/plain": [
              "[1, 2, 3]"
            ]
          },
          "metadata": {
            "tags": []
          },
          "execution_count": 11
        }
      ]
    },
    {
      "cell_type": "markdown",
      "metadata": {
        "id": "vmGV6kC8ebGF"
      },
      "source": [
        "### Enumerate"
      ]
    },
    {
      "cell_type": "code",
      "metadata": {
        "colab": {
          "base_uri": "https://localhost:8080/"
        },
        "id": "_zJcldtpedGu",
        "outputId": "808114c7-ce2b-4581-915d-d253670c3367"
      },
      "source": [
        "l = ['A', 'B', 'C']\n",
        "\n",
        "for index, value in enumerate(l):\n",
        "  print(index, value)"
      ],
      "execution_count": null,
      "outputs": [
        {
          "output_type": "stream",
          "text": [
            "0 A\n",
            "1 B\n",
            "2 C\n"
          ],
          "name": "stdout"
        }
      ]
    },
    {
      "cell_type": "markdown",
      "metadata": {
        "id": "fGM5yrfSYN0E"
      },
      "source": [
        "## 3. Exercises (8 to 17)"
      ]
    },
    {
      "cell_type": "markdown",
      "metadata": {
        "id": "n_BfVcYGKLRw"
      },
      "source": [
        "### Exercise 8 – Concordancer"
      ]
    },
    {
      "cell_type": "code",
      "metadata": {
        "id": "7K10f5ATI0qa"
      },
      "source": [
        "# YOUR CODE GOES HERE"
      ],
      "execution_count": null,
      "outputs": []
    },
    {
      "cell_type": "markdown",
      "metadata": {
        "id": "ifm5BisVseyt"
      },
      "source": [
        "### Exercise 9 - N-Grams\n",
        "Note: Number of N-Grams = Tokens + 1 - N"
      ]
    },
    {
      "cell_type": "code",
      "metadata": {
        "id": "r7JBw7IqnF2Z"
      },
      "source": [
        "# YOUR CODE GOES HERE"
      ],
      "execution_count": null,
      "outputs": []
    },
    {
      "cell_type": "markdown",
      "metadata": {
        "id": "DbitsVl5NDQF"
      },
      "source": [
        "### Exercise 10 - Frequency Analysis"
      ]
    },
    {
      "cell_type": "code",
      "metadata": {
        "id": "P95yKU-DnME0"
      },
      "source": [
        "# YOUR CODE GOES HERE"
      ],
      "execution_count": null,
      "outputs": []
    },
    {
      "cell_type": "markdown",
      "metadata": {
        "id": "pF9NL_sMl4jQ"
      },
      "source": [
        "### Exercise 11 - Computing Basic Statistics"
      ]
    },
    {
      "cell_type": "code",
      "metadata": {
        "id": "0IW9jFTwnRkQ"
      },
      "source": [
        "# YOUR CODE GOES HERE"
      ],
      "execution_count": null,
      "outputs": []
    },
    {
      "cell_type": "markdown",
      "metadata": {
        "id": "qYG5cZGAj8Yk"
      },
      "source": [
        "### Exercise 12 – Basic Collocation Analysis"
      ]
    },
    {
      "cell_type": "code",
      "metadata": {
        "id": "B_FmWJinkBSa"
      },
      "source": [
        "# YOUR CODE GOES HERE"
      ],
      "execution_count": null,
      "outputs": []
    },
    {
      "cell_type": "markdown",
      "metadata": {
        "id": "YDFk4KYuO5NP"
      },
      "source": [
        "### Exercise 13 – NLTK Stemming, Lemmatization, and WordNet"
      ]
    },
    {
      "cell_type": "code",
      "metadata": {
        "id": "rIc1pHatnXlj"
      },
      "source": [
        "# YOUR CODE GOES HERE"
      ],
      "execution_count": null,
      "outputs": []
    },
    {
      "cell_type": "markdown",
      "metadata": {
        "id": "l6a71ydw2Dea"
      },
      "source": [
        "### Exercise 14 – spaCy Tagging"
      ]
    },
    {
      "cell_type": "code",
      "metadata": {
        "id": "-sU3NCYSncBs"
      },
      "source": [
        "# YOUR CODE GOES HERE"
      ],
      "execution_count": null,
      "outputs": []
    },
    {
      "cell_type": "markdown",
      "metadata": {
        "id": "ovBYK7RO2GU2"
      },
      "source": [
        "### Exercise 15 - Parsing XML"
      ]
    },
    {
      "cell_type": "code",
      "metadata": {
        "id": "z3se7AiWnfvN"
      },
      "source": [
        "# YOUR CODE GOES HERE"
      ],
      "execution_count": null,
      "outputs": []
    },
    {
      "cell_type": "markdown",
      "metadata": {
        "id": "Id18_qZ52OyO"
      },
      "source": [
        "### Exercise 16 - Web Scraping"
      ]
    },
    {
      "cell_type": "code",
      "metadata": {
        "id": "NmzLJJWunjBe"
      },
      "source": [
        "# YOUR CODE GOES HERE"
      ],
      "execution_count": null,
      "outputs": []
    },
    {
      "cell_type": "markdown",
      "metadata": {
        "id": "zmr79eLxY7-Y"
      },
      "source": [
        "### Exercise 17 - Putting Everything Together (Keyword Analysis)"
      ]
    },
    {
      "cell_type": "code",
      "metadata": {
        "id": "-ffpnkkNnobd"
      },
      "source": [
        "# YOUR CODE GOES HERE"
      ],
      "execution_count": null,
      "outputs": []
    }
  ]
}