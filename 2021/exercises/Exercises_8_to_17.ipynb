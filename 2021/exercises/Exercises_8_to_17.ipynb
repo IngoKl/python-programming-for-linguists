{
  "nbformat": 4,
  "nbformat_minor": 0,
  "metadata": {
    "colab": {
      "name": "Exercises 8 to 17.ipynb",
      "provenance": [],
      "collapsed_sections": [],
      "toc_visible": true
    },
    "kernelspec": {
      "display_name": "Python 3",
      "name": "python3"
    }
  },
  "cells": [
    {
      "cell_type": "markdown",
      "metadata": {
        "id": "g8L_jaAr9S8v"
      },
      "source": [
        "# Python Programming for Linguists\n",
        "**03 - Python for (Corpus) Linguists**"
      ]
    },
    {
      "cell_type": "markdown",
      "metadata": {
        "id": "iJwE7TYEo1_7"
      },
      "source": [
        "## Environment"
      ]
    },
    {
      "cell_type": "markdown",
      "metadata": {
        "id": "VOAC6yCfxu-f"
      },
      "source": [
        "Before we begin, we need to set up **our environment**.\n",
        "\n",
        "First, we will download (*git cloning*) the workshop repository. The [\"magic command\"](https://ipython.readthedocs.io/en/stable/interactive/magics.html) `%%capture` will suppress any cell output. Be careful: `rm -r python-programming-for-linguists` will delete previous files.\n",
        "\n",
        "\n",
        "Next, we are installing two additional libraries/dependencies: `textdirectory` and `justext`.\n",
        "\n",
        "Then we are `import`-ing all the needed dependencies.\n",
        "\n",
        "Finally, we are using two scripts, provided in the repository, to download two corpora."
      ]
    },
    {
      "cell_type": "code",
      "metadata": {
        "id": "7mHW5hAMApoA"
      },
      "source": [
        "%%capture\n",
        "!rm -r python-programming-for-linguists\n",
        "!git clone https://github.com/IngoKl/python-programming-for-linguists"
      ],
      "execution_count": null,
      "outputs": []
    },
    {
      "cell_type": "code",
      "metadata": {
        "id": "PoWWCg--DtgW"
      },
      "source": [
        "%%capture\n",
        "!pip install textdirectory --upgrade\n",
        "!pip install justext"
      ],
      "execution_count": null,
      "outputs": []
    },
    {
      "cell_type": "code",
      "metadata": {
        "id": "eneM8GARD4Yg"
      },
      "source": [
        "# Basics from Python's standard library\n",
        "import re\n",
        "import statistics\n",
        "import math\n",
        "\n",
        "from collections import Counter\n",
        "from operator import itemgetter\n",
        "\n",
        "from io import StringIO\n",
        "\n",
        "# Data Science\n",
        "import pandas as pd\n",
        "import numpy as np\n",
        "\n",
        "# XML\n",
        "import lxml\n",
        "\n",
        "# NLP\n",
        "import nltk\n",
        "from nltk.corpus import wordnet\n",
        "from nltk.stem import PorterStemmer\n",
        "from nltk.stem import LancasterStemmer\n",
        "from nltk.stem import WordNetLemmatizer\n",
        "import spacy\n",
        "from spacy import displacy\n",
        "import textdirectory\n",
        "\n",
        "# Web\n",
        "import requests\n",
        "from bs4 import BeautifulSoup\n",
        "import justext\n",
        "\n",
        "# Formatting output\n",
        "from tabulate import tabulate"
      ],
      "execution_count": null,
      "outputs": []
    },
    {
      "cell_type": "markdown",
      "metadata": {
        "id": "TeAeFCirn-cW"
      },
      "source": [
        "Downloading two corpora (HUM19UK and COCA sampler)"
      ]
    },
    {
      "cell_type": "code",
      "metadata": {
        "id": "m7DAj4DhD-IO"
      },
      "source": [
        "%%capture\n",
        "!cd python-programming-for-linguists/2020/data && sh download_hum19uk.sh\n",
        "!cd python-programming-for-linguists/2020/data && sh download_coca.sh"
      ],
      "execution_count": null,
      "outputs": []
    },
    {
      "cell_type": "markdown",
      "metadata": {
        "id": "fGM5yrfSYN0E"
      },
      "source": [
        "## Exercises (8 to 17)"
      ]
    },
    {
      "cell_type": "markdown",
      "metadata": {
        "id": "n_BfVcYGKLRw"
      },
      "source": [
        "### Exercise 8 – Concordancer"
      ]
    },
    {
      "cell_type": "code",
      "metadata": {
        "id": "7K10f5ATI0qa"
      },
      "source": [
        "# YOUR CODE GOES HERE"
      ],
      "execution_count": null,
      "outputs": []
    },
    {
      "cell_type": "markdown",
      "metadata": {
        "id": "ifm5BisVseyt"
      },
      "source": [
        "### Exercise 9 - N-Grams\n",
        "Note: Number of N-Grams = Tokens + 1 - N"
      ]
    },
    {
      "cell_type": "code",
      "metadata": {
        "id": "r7JBw7IqnF2Z"
      },
      "source": [
        "# YOUR CODE GOES HERE"
      ],
      "execution_count": null,
      "outputs": []
    },
    {
      "cell_type": "markdown",
      "metadata": {
        "id": "DbitsVl5NDQF"
      },
      "source": [
        "### Exercise 10 - Frequency Analysis"
      ]
    },
    {
      "cell_type": "code",
      "metadata": {
        "id": "P95yKU-DnME0"
      },
      "source": [
        "# YOUR CODE GOES HERE"
      ],
      "execution_count": null,
      "outputs": []
    },
    {
      "cell_type": "markdown",
      "metadata": {
        "id": "pF9NL_sMl4jQ"
      },
      "source": [
        "### Exercise 11 - Computing Basic Statistics"
      ]
    },
    {
      "cell_type": "code",
      "metadata": {
        "id": "0IW9jFTwnRkQ"
      },
      "source": [
        "# YOUR CODE GOES HERE"
      ],
      "execution_count": null,
      "outputs": []
    },
    {
      "cell_type": "markdown",
      "metadata": {
        "id": "qYG5cZGAj8Yk"
      },
      "source": [
        "### Exercise 12 – Basic Collocation Analysis"
      ]
    },
    {
      "cell_type": "code",
      "metadata": {
        "id": "B_FmWJinkBSa"
      },
      "source": [
        "# YOUR CODE GOES HERE"
      ],
      "execution_count": null,
      "outputs": []
    },
    {
      "cell_type": "markdown",
      "metadata": {
        "id": "YDFk4KYuO5NP"
      },
      "source": [
        "### Exercise 13 – NLTK Stemming, Lemmatization, and WordNet"
      ]
    },
    {
      "cell_type": "code",
      "metadata": {
        "id": "rIc1pHatnXlj"
      },
      "source": [
        "# YOUR CODE GOES HERE"
      ],
      "execution_count": null,
      "outputs": []
    },
    {
      "cell_type": "markdown",
      "metadata": {
        "id": "l6a71ydw2Dea"
      },
      "source": [
        "### Exercise 14 – spaCy Tagging"
      ]
    },
    {
      "cell_type": "code",
      "metadata": {
        "id": "-sU3NCYSncBs"
      },
      "source": [
        "# YOUR CODE GOES HERE"
      ],
      "execution_count": null,
      "outputs": []
    },
    {
      "cell_type": "markdown",
      "metadata": {
        "id": "ovBYK7RO2GU2"
      },
      "source": [
        "### Exercise 15 - Parsing XML"
      ]
    },
    {
      "cell_type": "code",
      "metadata": {
        "id": "z3se7AiWnfvN"
      },
      "source": [
        "# YOUR CODE GOES HERE"
      ],
      "execution_count": null,
      "outputs": []
    },
    {
      "cell_type": "markdown",
      "metadata": {
        "id": "Id18_qZ52OyO"
      },
      "source": [
        "### Exercise 16 - Web Scraping"
      ]
    },
    {
      "cell_type": "code",
      "metadata": {
        "id": "NmzLJJWunjBe"
      },
      "source": [
        "# YOUR CODE GOES HERE"
      ],
      "execution_count": null,
      "outputs": []
    },
    {
      "cell_type": "markdown",
      "metadata": {
        "id": "zmr79eLxY7-Y"
      },
      "source": [
        "### Exercise 17 - Putting Everything Together (Keyword Analysis)"
      ]
    },
    {
      "cell_type": "code",
      "metadata": {
        "id": "-ffpnkkNnobd"
      },
      "source": [
        "# YOUR CODE GOES HERE"
      ],
      "execution_count": null,
      "outputs": []
    }
  ]
}