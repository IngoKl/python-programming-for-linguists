{
  "nbformat": 4,
  "nbformat_minor": 0,
  "metadata": {
    "colab": {
      "name": "03 - New Tools and Syntax.ipynb",
      "provenance": [],
      "collapsed_sections": [
        "iUjmNZbexWjy",
        "9a41_8vw0VyR",
        "cpgiPlyM0iCJ",
        "ZkrmCL580nIs",
        "qjY51inka2Mp",
        "2XFF1VEXovLa",
        "zTBPImDUqc-9",
        "5u28uZ4CqzIo",
        "jNeomNi3eXv0",
        "4Hq2R4Wghrms"
      ]
    },
    "kernelspec": {
      "display_name": "Python 3",
      "name": "python3"
    }
  },
  "cells": [
    {
      "cell_type": "markdown",
      "metadata": {
        "id": "g8L_jaAr9S8v"
      },
      "source": [
        "# Python Programming for Linguists\n",
        "**03 - Python for (Corpus) Linguists**"
      ]
    },
    {
      "cell_type": "markdown",
      "metadata": {
        "id": "EfMAgONy5Lc3"
      },
      "source": [
        "There are a number of **new tools** and a **little bit of new syntax**, which can be extremely helpful in approaching exercises 8 to 17. Here are some basic examples to get you started!\n",
        "\n",
        "This notebook will introduce these concepts by looking at a number of straightforward examples. **Play around** with the code to get a feeling for what these things are doing."
      ]
    },
    {
      "cell_type": "markdown",
      "metadata": {
        "id": "iUjmNZbexWjy"
      },
      "source": [
        "## 1. Miscellaneous"
      ]
    },
    {
      "cell_type": "markdown",
      "metadata": {
        "id": "9a41_8vw0VyR"
      },
      "source": [
        "##### Lists and Sets\n",
        "\n"
      ]
    },
    {
      "cell_type": "code",
      "metadata": {
        "id": "xIuNRycqxlVH"
      },
      "source": [
        "tokens = ['a', 'the', 'car', 'the']\n",
        "tokens"
      ],
      "execution_count": null,
      "outputs": []
    },
    {
      "cell_type": "markdown",
      "metadata": {
        "id": "NYCd-QVx8-XZ"
      },
      "source": [
        "Sets, at least on the surface level, work similarly to lists. However, they are *unordered* and set elements are *unique*. Hence, turning (casting) a set into a list will remove duplicate entries."
      ]
    },
    {
      "cell_type": "code",
      "metadata": {
        "id": "fweVx2qPLalB"
      },
      "source": [
        "types = set(tokens)\n",
        "types"
      ],
      "execution_count": null,
      "outputs": []
    },
    {
      "cell_type": "markdown",
      "metadata": {
        "id": "cpgiPlyM0iCJ"
      },
      "source": [
        "##### The `.join()` method (on strings)"
      ]
    },
    {
      "cell_type": "markdown",
      "metadata": {
        "id": "bqAdgFwf9kav"
      },
      "source": [
        "The `.join()` method allows you to turn a list of items into a string. This is, for example, useful if you want to turn a tokenized text into a string."
      ]
    },
    {
      "cell_type": "code",
      "metadata": {
        "id": "6LG2hP560p3i"
      },
      "source": [
        "tokens = ['The', 'cat', 'is', 'grey']\n",
        "s1 = ' '.join(tokens)\n",
        "s2 = '-'.join(tokens)\n",
        "\n",
        "s1, s2"
      ],
      "execution_count": null,
      "outputs": []
    },
    {
      "cell_type": "markdown",
      "metadata": {
        "id": "ZkrmCL580nIs"
      },
      "source": [
        "##### Lambda Functions / Anonymous (nameless) Functions"
      ]
    },
    {
      "cell_type": "markdown",
      "metadata": {
        "id": "mlQwooxX-Cq1"
      },
      "source": [
        "Lambda functions are a little bit strange but very powerful. They are small anonymous functions that can be used whenever you don't need a named (regular) function."
      ]
    },
    {
      "cell_type": "code",
      "metadata": {
        "id": "v1r-wX6u0pOr"
      },
      "source": [
        "x = lambda a: a + 10\n",
        "x(5)"
      ],
      "execution_count": null,
      "outputs": []
    },
    {
      "cell_type": "markdown",
      "metadata": {
        "id": "bHVcHXMvOTRS"
      },
      "source": [
        "We will be using a Lambda below when using `.apply()` on a DataFrame (see Pandas)."
      ]
    },
    {
      "cell_type": "markdown",
      "metadata": {
        "id": "qjY51inka2Mp"
      },
      "source": [
        "##### `Counter` objects"
      ]
    },
    {
      "cell_type": "markdown",
      "metadata": {
        "id": "Iz4HJr0l-Mu4"
      },
      "source": [
        "A `Counter` is an easy way to count items in a list. They are a quick and easy way to, for example, generate frequency tables."
      ]
    },
    {
      "cell_type": "code",
      "metadata": {
        "id": "E4XdDHoDa4m9"
      },
      "source": [
        "from collections import Counter\n",
        "\n",
        "numbers = [1, 1, 2, 3, 3, 4]\n",
        "counts = Counter(numbers)\n",
        "\n",
        "# Show the frequency of '1'\n",
        "counts[1]"
      ],
      "execution_count": null,
      "outputs": []
    },
    {
      "cell_type": "code",
      "metadata": {
        "id": "X1H7MDvIbAiw"
      },
      "source": [
        "counts.most_common(2)"
      ],
      "execution_count": null,
      "outputs": []
    },
    {
      "cell_type": "code",
      "metadata": {
        "id": "jZIgTQl_-bUU"
      },
      "source": [
        "tokens = ['I', 'have', 'a', 'cat', '.', 'She', 'has', 'a', 'mouse.']\n",
        "Counter(tokens)"
      ],
      "execution_count": null,
      "outputs": []
    },
    {
      "cell_type": "markdown",
      "metadata": {
        "id": "2XFF1VEXovLa"
      },
      "source": [
        "##### Adding to Variables\n"
      ]
    },
    {
      "cell_type": "markdown",
      "metadata": {
        "id": "O_1JInt5-x3R"
      },
      "source": [
        "Python supports the `+=`and `-=` operators to easily add or substract from a variable. This also works when concatenating strings."
      ]
    },
    {
      "cell_type": "code",
      "metadata": {
        "id": "fpBDY_7PoyPB"
      },
      "source": [
        "a = 1\n",
        "a += 5\n",
        "\n",
        "a"
      ],
      "execution_count": null,
      "outputs": []
    },
    {
      "cell_type": "code",
      "metadata": {
        "id": "0kk8tUCFpCGx"
      },
      "source": [
        "b = 'Hello'\n",
        "b += 'World'\n",
        "\n",
        "b"
      ],
      "execution_count": null,
      "outputs": []
    },
    {
      "cell_type": "markdown",
      "metadata": {
        "id": "zTBPImDUqc-9"
      },
      "source": [
        "##### Enumerate and (Un)packing"
      ]
    },
    {
      "cell_type": "markdown",
      "metadata": {
        "id": "p4b0U58m-0G2"
      },
      "source": [
        "When looping (e.g., iterating over a list) it is sometimes helpful to keep track of where you are. The `enumerate` function allows you to do just that."
      ]
    },
    {
      "cell_type": "code",
      "metadata": {
        "id": "6rsMqU5YqeIU"
      },
      "source": [
        "l = ['A', 'B', 'C']\n",
        "\n",
        "for i in l:\n",
        "  print(l)"
      ],
      "execution_count": null,
      "outputs": []
    },
    {
      "cell_type": "code",
      "metadata": {
        "id": "YVE8OW0lqgdO"
      },
      "source": [
        "for e, i in enumerate(l):\n",
        "  print(e, i)"
      ],
      "execution_count": null,
      "outputs": []
    },
    {
      "cell_type": "markdown",
      "metadata": {
        "id": "ydJ2bEtq_FPd"
      },
      "source": [
        "Maybe you are wondering what is up with his `e, i` construction. In Python, you can pack and unpack variables from structures. Have a look at the following example:"
      ]
    },
    {
      "cell_type": "code",
      "metadata": {
        "id": "JXE2NkBV_UIR"
      },
      "source": [
        "# A list with two elements\n",
        "characters = ['this is a', 'this is b']\n",
        "\n",
        "# Unpacking the elements into two variables\n",
        "a, b = characters\n",
        "\n",
        "a"
      ],
      "execution_count": null,
      "outputs": []
    },
    {
      "cell_type": "markdown",
      "metadata": {
        "id": "5zBnYCb8_jQ_"
      },
      "source": [
        "Similarly, we can also pack variables into, for example, a list:"
      ]
    },
    {
      "cell_type": "code",
      "metadata": {
        "id": "6chX0sam_l6h"
      },
      "source": [
        "a = 'this is a'\n",
        "b = 'this is b'\n",
        "\n",
        "characters = [a, b]\n",
        "\n",
        "characters"
      ],
      "execution_count": null,
      "outputs": []
    },
    {
      "cell_type": "markdown",
      "metadata": {
        "id": "5u28uZ4CqzIo"
      },
      "source": [
        "##### Slicing Notation"
      ]
    },
    {
      "cell_type": "markdown",
      "metadata": {
        "id": "DSlJgKa1rPm1"
      },
      "source": [
        "In many cases, we need to only get part of a list. This is possible using slicing notation. \n",
        "\n",
        "The syntax is: *start:stop:step* "
      ]
    },
    {
      "cell_type": "code",
      "metadata": {
        "id": "1554Oi_Gq1VB"
      },
      "source": [
        "l = [0, 1, 2, 3, 4, 5]"
      ],
      "execution_count": null,
      "outputs": []
    },
    {
      "cell_type": "code",
      "metadata": {
        "id": "0muZDKcmrR_v"
      },
      "source": [
        "l[1:3]"
      ],
      "execution_count": null,
      "outputs": []
    },
    {
      "cell_type": "code",
      "metadata": {
        "id": "pXmSRb9orUeY"
      },
      "source": [
        "l[0:5:2]"
      ],
      "execution_count": null,
      "outputs": []
    },
    {
      "cell_type": "markdown",
      "metadata": {
        "id": "jNeomNi3eXv0"
      },
      "source": [
        "## 2. List Comprehensions"
      ]
    },
    {
      "cell_type": "markdown",
      "metadata": {
        "id": "msOcbm-GAFsK"
      },
      "source": [
        "List comprehensions offer a shorter syntax for creating lists. Here are two examples:"
      ]
    },
    {
      "cell_type": "markdown",
      "metadata": {
        "id": "OvpUy28fARIT"
      },
      "source": [
        "**Example 1**: We want to create a new list that contains all of the numbers in `numbers` multiplied by ten."
      ]
    },
    {
      "cell_type": "code",
      "metadata": {
        "id": "mu3Zn2jdA7u8"
      },
      "source": [
        "numbers = [1, 2, 3]\n",
        "n_times_ten = []\n",
        "\n",
        "for number in numbers:\n",
        "  n_times_ten.append(number * 10)\n",
        "\n",
        "n_times_ten"
      ],
      "execution_count": null,
      "outputs": []
    },
    {
      "cell_type": "markdown",
      "metadata": {
        "id": "BDxdNCftAaM6"
      },
      "source": [
        "The very same thing can be achieved using a list comprehension:"
      ]
    },
    {
      "cell_type": "code",
      "metadata": {
        "id": "uYI-m9txBOpm"
      },
      "source": [
        "numbers = [1, 2, 3]\n",
        "\n",
        "[n * 10 for n in numbers]"
      ],
      "execution_count": null,
      "outputs": []
    },
    {
      "cell_type": "markdown",
      "metadata": {
        "id": "jAOj_wYWAiXY"
      },
      "source": [
        "**Example 2**: We can also use list comprehensions when working with lists of lists. Below is a list of lists (`lol`). Let's assume we only want to print the second element (A, B, C) from each sublist."
      ]
    },
    {
      "cell_type": "code",
      "metadata": {
        "id": "fZbx8EeyBYIv"
      },
      "source": [
        "lol = [\n",
        "       [1, 'A'],\n",
        "       [2, 'B'],\n",
        "       [3, 'C']\n",
        "]\n",
        "\n",
        "lol"
      ],
      "execution_count": null,
      "outputs": []
    },
    {
      "cell_type": "code",
      "metadata": {
        "id": "SA-lNPM6Bi9_"
      },
      "source": [
        "for n in lol:\n",
        "  print(n[1])"
      ],
      "execution_count": null,
      "outputs": []
    },
    {
      "cell_type": "markdown",
      "metadata": {
        "id": "w1-mKieZA3CV"
      },
      "source": [
        "The same thing but as a compact list comprehension:"
      ]
    },
    {
      "cell_type": "code",
      "metadata": {
        "id": "PuQ8x_1TBvkC"
      },
      "source": [
        "[n[1] for n in lol]"
      ],
      "execution_count": null,
      "outputs": []
    },
    {
      "cell_type": "markdown",
      "metadata": {
        "id": "4Hq2R4Wghrms"
      },
      "source": [
        "## 3. Pandas"
      ]
    },
    {
      "cell_type": "markdown",
      "metadata": {
        "id": "kwq56INvPd3t"
      },
      "source": [
        "Pandas is one of the most widely used libraries in Data Science. While Pandas can do lots more, we are focusing on the `DataFrame` provided by the library. You can think of DataFrames as tables. They look and work similarly to spreadsheets.\n"
      ]
    },
    {
      "cell_type": "code",
      "metadata": {
        "id": "hTdiV4zYB0-Q"
      },
      "source": [
        "import pandas as pd"
      ],
      "execution_count": null,
      "outputs": []
    },
    {
      "cell_type": "markdown",
      "metadata": {
        "id": "avdL3jVpBg2Q"
      },
      "source": [
        "When importing libraries, we can use `as` to give the library another name. For `pandas`, it is convention to simple use `pd` as an alias.\n",
        "\n",
        "The first thing we will do is to create a simple `DataFrame`, a table. The easiest way of doing this is to populate each column (Document, Tokens, Sentiment) individually."
      ]
    },
    {
      "cell_type": "code",
      "metadata": {
        "id": "g4HMvNV8CBGn"
      },
      "source": [
        "df = pd.DataFrame()\n",
        "\n",
        "df['Document'] = [0, 1, 2, 3]\n",
        "df['Tokens'] = [1000, 2000, 3000, 3000]\n",
        "df['Sentiment'] = [0.2, 0.3, 0.8, None]\n",
        "\n",
        "df"
      ],
      "execution_count": null,
      "outputs": []
    },
    {
      "cell_type": "markdown",
      "metadata": {
        "id": "fe4x6pnfSq7k"
      },
      "source": [
        "Of course, we don't have to create tables manually all the time.\n",
        "\n",
        "Pandas has many methods that help with getting data into your programs. For example, here we are using `read_csv()` to read a CSV file."
      ]
    },
    {
      "cell_type": "code",
      "metadata": {
        "id": "FRhukaVACHpO"
      },
      "source": [
        "df_2 = pd.read_csv('https://raw.githubusercontent.com/IngoKl/python-programming-for-linguists/main/2020/data/numerical/pandas_demo.csv')"
      ],
      "execution_count": null,
      "outputs": []
    },
    {
      "cell_type": "code",
      "metadata": {
        "id": "HObPuSGNCl6A"
      },
      "source": [
        "df = df.set_index('Document')"
      ],
      "execution_count": null,
      "outputs": []
    },
    {
      "cell_type": "markdown",
      "metadata": {
        "id": "VB4h0dWsCdiE"
      },
      "source": [
        "`df.head()` will only show the first few lines of a `DataFrame`."
      ]
    },
    {
      "cell_type": "code",
      "metadata": {
        "id": "Hg_KstV8Cbp5"
      },
      "source": [
        "df.head()"
      ],
      "execution_count": null,
      "outputs": []
    },
    {
      "cell_type": "markdown",
      "metadata": {
        "id": "SXMzr3VUB88r"
      },
      "source": [
        "Now that we have a new `DataFrame`, we can also look at individual columns or calculate some statistics."
      ]
    },
    {
      "cell_type": "code",
      "metadata": {
        "id": "HfNkJIc0C7JS"
      },
      "source": [
        "df['Tokens']"
      ],
      "execution_count": null,
      "outputs": []
    },
    {
      "cell_type": "code",
      "metadata": {
        "id": "V_KUQ2awDCWx"
      },
      "source": [
        "df['Tokens'].mean()"
      ],
      "execution_count": null,
      "outputs": []
    },
    {
      "cell_type": "code",
      "metadata": {
        "id": "t3bXcCYyDIKZ"
      },
      "source": [
        "df['Sentiment'].describe()"
      ],
      "execution_count": null,
      "outputs": []
    },
    {
      "cell_type": "markdown",
      "metadata": {
        "id": "k1jIWmJICK6E"
      },
      "source": [
        "We can also filter/select parts of the data:"
      ]
    },
    {
      "cell_type": "code",
      "metadata": {
        "id": "96elnKBzDPrM"
      },
      "source": [
        "df[df['Tokens'] > 2000]"
      ],
      "execution_count": null,
      "outputs": []
    },
    {
      "cell_type": "markdown",
      "metadata": {
        "id": "FA4SPFCGSCVc"
      },
      "source": [
        "This selection works based on boolean logic (True/False). `df['Tokens'] > 2000` will return a series of True/False statements for each row in the DataFrame that correspond to the criteria (`> 2000`)."
      ]
    },
    {
      "cell_type": "code",
      "metadata": {
        "id": "AzPP--WXSP9K"
      },
      "source": [
        "df['Tokens'] > 2000"
      ],
      "execution_count": null,
      "outputs": []
    },
    {
      "cell_type": "code",
      "metadata": {
        "id": "aWICqmw3DaQ0"
      },
      "source": [
        "df.fillna(df.mean())"
      ],
      "execution_count": null,
      "outputs": []
    },
    {
      "cell_type": "markdown",
      "metadata": {
        "id": "Ws_LDA_BxRXp"
      },
      "source": [
        "The `.apply()` Method can be used to apply a function to a row."
      ]
    },
    {
      "cell_type": "code",
      "metadata": {
        "id": "la5sdMgzxQFF"
      },
      "source": [
        "def double(x):\n",
        "  '''This function will double a given number.'''\n",
        "  return x * 2"
      ],
      "execution_count": null,
      "outputs": []
    },
    {
      "cell_type": "markdown",
      "metadata": {
        "id": "gWzLuBhnP1pa"
      },
      "source": [
        "We will `apply` the `double` function to axis 1 (rows). As you can see, all numbers have doubled."
      ]
    },
    {
      "cell_type": "code",
      "metadata": {
        "id": "67PMBLTmPo4C"
      },
      "source": [
        "df.apply(double, axis=1)"
      ],
      "execution_count": null,
      "outputs": []
    },
    {
      "cell_type": "markdown",
      "metadata": {
        "id": "nc-hhG8rQBCq"
      },
      "source": [
        "Sometimes we might want to use column values while using apply. Here Lambdas come into play. In the example below, we want to create a new column that contains *Sentiment* times 100. We will be using a very simple function `times100` to do that. In the `.apply()` method, we will be using a Lambda to pass the relevant column (*Sentiment*) to the function."
      ]
    },
    {
      "cell_type": "code",
      "metadata": {
        "id": "zQ1l69GnQXs7"
      },
      "source": [
        "def time100(x):\n",
        "  return x * 100"
      ],
      "execution_count": null,
      "outputs": []
    },
    {
      "cell_type": "code",
      "metadata": {
        "id": "jWZIYqq8QPYj"
      },
      "source": [
        "df['Sx100'] = df.apply(lambda row : time100(row[1]), axis=1)\n",
        "df"
      ],
      "execution_count": null,
      "outputs": []
    }
  ]
}