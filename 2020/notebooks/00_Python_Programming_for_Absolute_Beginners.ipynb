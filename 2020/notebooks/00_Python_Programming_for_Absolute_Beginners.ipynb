{
  "nbformat": 4,
  "nbformat_minor": 0,
  "metadata": {
    "colab": {
      "name": "00 - Python Programming for Absolute Beginners.ipynb",
      "provenance": [],
      "collapsed_sections": []
    },
    "kernelspec": {
      "name": "python3",
      "display_name": "Python 3"
    }
  },
  "cells": [
    {
      "cell_type": "markdown",
      "metadata": {
        "id": "fUSUA50eDcdR"
      },
      "source": [
        "# Python Programming for Linguists"
      ]
    },
    {
      "cell_type": "code",
      "metadata": {
        "id": "tewPOhqyDhXJ"
      },
      "source": [
        "print('Welcome to this workshop!')"
      ],
      "execution_count": null,
      "outputs": []
    },
    {
      "cell_type": "markdown",
      "metadata": {
        "id": "VZ8hEKS5IaSl"
      },
      "source": [
        "## 1. Variables"
      ]
    },
    {
      "cell_type": "code",
      "metadata": {
        "id": "leI-q2-eIhAi"
      },
      "source": [
        "a = 13\r\n",
        "b = 'Hello World'\r\n",
        "c = 42.42"
      ],
      "execution_count": null,
      "outputs": []
    },
    {
      "cell_type": "code",
      "metadata": {
        "id": "zsNFqnBwIpek"
      },
      "source": [
        "x = 5\r\n",
        "y = 10\r\n",
        "z = x + y"
      ],
      "execution_count": null,
      "outputs": []
    },
    {
      "cell_type": "code",
      "metadata": {
        "id": "Tj4h2vNAIwG_"
      },
      "source": [
        "z"
      ],
      "execution_count": null,
      "outputs": []
    },
    {
      "cell_type": "markdown",
      "metadata": {
        "id": "-lXJYXB0IydG"
      },
      "source": [
        "## 2. Lists"
      ]
    },
    {
      "cell_type": "code",
      "metadata": {
        "id": "F3LJQFHtI1WD"
      },
      "source": [
        "a = 6\r\n",
        "\r\n",
        "l = [1, 2, 3, 4, a]"
      ],
      "execution_count": null,
      "outputs": []
    },
    {
      "cell_type": "code",
      "metadata": {
        "id": "KqOHqNqLI6h8"
      },
      "source": [
        "l[3]"
      ],
      "execution_count": null,
      "outputs": []
    },
    {
      "cell_type": "code",
      "metadata": {
        "id": "AMn8I36JI9-U"
      },
      "source": [
        "la = [1, 2, 3]\r\n",
        "lb = [4, 5, 6]\r\n",
        "lol = [la, lb]"
      ],
      "execution_count": null,
      "outputs": []
    },
    {
      "cell_type": "code",
      "metadata": {
        "id": "4-NijmHkJDgm"
      },
      "source": [
        "lol[0][1]"
      ],
      "execution_count": null,
      "outputs": []
    },
    {
      "cell_type": "code",
      "metadata": {
        "id": "GUYLPAK_JG_Q"
      },
      "source": [
        "l = [1, 2, 3, 4, 5]\r\n",
        "l"
      ],
      "execution_count": null,
      "outputs": []
    },
    {
      "cell_type": "code",
      "metadata": {
        "id": "J0LjcxeRJJzw"
      },
      "source": [
        "l.append(0)\r\n",
        "l.append(3)\r\n",
        "l"
      ],
      "execution_count": null,
      "outputs": []
    },
    {
      "cell_type": "code",
      "metadata": {
        "id": "nzehYNAgJNfv"
      },
      "source": [
        "l.sort()\r\n",
        "l"
      ],
      "execution_count": null,
      "outputs": []
    },
    {
      "cell_type": "markdown",
      "metadata": {
        "id": "SwJG6SlcJTJ2"
      },
      "source": [
        "## 3. Loops"
      ]
    },
    {
      "cell_type": "code",
      "metadata": {
        "id": "HsK_tKdUJU3I"
      },
      "source": [
        "box = ['i0', 'i1', 'i2']"
      ],
      "execution_count": null,
      "outputs": []
    },
    {
      "cell_type": "code",
      "metadata": {
        "id": "PagAlgemJYbQ"
      },
      "source": [
        "for item in box:\r\n",
        "  print(item)"
      ],
      "execution_count": null,
      "outputs": []
    },
    {
      "cell_type": "markdown",
      "metadata": {
        "id": "SWcLDIwcJdUN"
      },
      "source": [
        "## 4. If-Constructions"
      ]
    },
    {
      "cell_type": "code",
      "metadata": {
        "id": "yAzo2Nz0JfU-"
      },
      "source": [
        "a = 10"
      ],
      "execution_count": null,
      "outputs": []
    },
    {
      "cell_type": "code",
      "metadata": {
        "id": "YF-O-gYIJoIT"
      },
      "source": [
        "if a > 15:\r\n",
        "  print('A is greater than 15')\r\n",
        "else:\r\n",
        "  print('A is not greater than 15')"
      ],
      "execution_count": null,
      "outputs": []
    },
    {
      "cell_type": "markdown",
      "metadata": {
        "id": "Dk4Jd1a2JqQH"
      },
      "source": [
        "## 5. Functions"
      ]
    },
    {
      "cell_type": "code",
      "metadata": {
        "id": "kwbh8_SbJsBu"
      },
      "source": [
        "def add(a, b):\r\n",
        "  result = a + b\r\n",
        "  return result"
      ],
      "execution_count": null,
      "outputs": []
    },
    {
      "cell_type": "code",
      "metadata": {
        "id": "LOQq9myIJwrw"
      },
      "source": [
        "add(5, 10)"
      ],
      "execution_count": null,
      "outputs": []
    },
    {
      "cell_type": "code",
      "metadata": {
        "id": "yJOVBie9KTg6"
      },
      "source": [
        "print('Hello World')"
      ],
      "execution_count": null,
      "outputs": []
    },
    {
      "cell_type": "code",
      "metadata": {
        "id": "4pBZpQYJKV0O"
      },
      "source": [
        "round(1.234, 0)"
      ],
      "execution_count": null,
      "outputs": []
    },
    {
      "cell_type": "markdown",
      "metadata": {
        "id": "Mb3ReK4qJ3g-"
      },
      "source": [
        "## 6. Dictionaries"
      ]
    },
    {
      "cell_type": "code",
      "metadata": {
        "id": "NStegPvxJ4a3"
      },
      "source": [
        "word = {\r\n",
        "    'lemma': 'cat',\r\n",
        "    'pos': 'noun'\r\n",
        "}"
      ],
      "execution_count": null,
      "outputs": []
    },
    {
      "cell_type": "code",
      "metadata": {
        "id": "D6iu_8g4J2Lw"
      },
      "source": [
        "word"
      ],
      "execution_count": null,
      "outputs": []
    },
    {
      "cell_type": "markdown",
      "metadata": {
        "id": "vT0CuiNwZ5cy"
      },
      "source": [
        "## Example Counting\r\n",
        "See `scripts/count.py`"
      ]
    },
    {
      "cell_type": "code",
      "metadata": {
        "id": "Lpdtmi2eZ9AW"
      },
      "source": [
        "print('Counting up to ten!')\r\n",
        "\r\n",
        "for i in range(10):\r\n",
        "    print(f'{i + 1} out of 10')\r\n",
        "\r\n",
        "print('Finished!')"
      ],
      "execution_count": null,
      "outputs": []
    }
  ]
}