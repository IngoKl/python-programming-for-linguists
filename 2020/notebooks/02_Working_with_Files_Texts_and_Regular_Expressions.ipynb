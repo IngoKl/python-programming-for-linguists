{
  "nbformat": 4,
  "nbformat_minor": 0,
  "metadata": {
    "colab": {
      "name": "02 - Working with Files, Texts, and Regular Expressions.ipynb",
      "provenance": [],
      "collapsed_sections": []
    },
    "kernelspec": {
      "name": "python3",
      "display_name": "Python 3"
    }
  },
  "cells": [
    {
      "cell_type": "markdown",
      "metadata": {
        "id": "mptuuPZRINjl"
      },
      "source": [
        "# 02 - Working with Files, Texts, and Regular Expressions"
      ]
    },
    {
      "cell_type": "markdown",
      "metadata": {
        "id": "lr5_W75-IRt8"
      },
      "source": [
        "First, we need to download the data (the Git repository) and install an external library (TextDirectory) using [pip](https://en.wikipedia.org/wiki/Pip_(package_manager)."
      ]
    },
    {
      "cell_type": "code",
      "metadata": {
        "id": "LoV5Ozb3IR1B"
      },
      "source": [
        "%%capture\r\n",
        "!git clone https://github.com/IngoKl/python-programming-for-linguists\r\n",
        "!pip install textdirectory"
      ],
      "execution_count": 155,
      "outputs": []
    },
    {
      "cell_type": "code",
      "metadata": {
        "colab": {
          "base_uri": "https://localhost:8080/"
        },
        "id": "YUuK5_PghQxw",
        "outputId": "6cbab405-cd0a-4d19-bea1-88afc45f5b98"
      },
      "source": [
        "!ls"
      ],
      "execution_count": 157,
      "outputs": [
        {
          "output_type": "stream",
          "text": [
            "python-programming-for-linguists  results.txt  text.txt\n",
            "results.tst\t\t\t  sample_data\n"
          ],
          "name": "stdout"
        }
      ]
    },
    {
      "cell_type": "markdown",
      "metadata": {
        "id": "7a9PkJHBJJyo"
      },
      "source": [
        "## 1. Reading and Writing Files"
      ]
    },
    {
      "cell_type": "code",
      "metadata": {
        "id": "shpFfPsVL58i"
      },
      "source": [
        "from pathlib import Path"
      ],
      "execution_count": null,
      "outputs": []
    },
    {
      "cell_type": "code",
      "metadata": {
        "id": "pYGQNHRfLtEF"
      },
      "source": [
        "data_folder = Path('python-programming-for-linguists/2020/data/wikipedia/')"
      ],
      "execution_count": null,
      "outputs": []
    },
    {
      "cell_type": "code",
      "metadata": {
        "colab": {
          "base_uri": "https://localhost:8080/"
        },
        "id": "CvUeajiAhjZw",
        "outputId": "5b13a3b0-11b4-4b07-a12c-caa2e9d9a728"
      },
      "source": [
        "!ls python-programming-for-linguists/2020/data/wikipedia/"
      ],
      "execution_count": 158,
      "outputs": [
        {
          "output_type": "stream",
          "text": [
            "cologne.txt  linguistics.txt  python.txt\n"
          ],
          "name": "stdout"
        }
      ]
    },
    {
      "cell_type": "code",
      "metadata": {
        "id": "JMDIzh9hMTOd"
      },
      "source": [
        "with open(data_folder / 'python.txt', 'r') as f:\r\n",
        "  data = f.read()\r\n",
        "  #data = f.read(10) # Read ten bytes\r\n",
        "  #data = f.readlines()"
      ],
      "execution_count": 171,
      "outputs": []
    },
    {
      "cell_type": "code",
      "metadata": {
        "id": "PKVLev9tMauY",
        "colab": {
          "base_uri": "https://localhost:8080/",
          "height": 71
        },
        "outputId": "07e2d3a9-4ae3-4a77-fe9d-e7947945994c"
      },
      "source": [
        "data"
      ],
      "execution_count": 172,
      "outputs": [
        {
          "output_type": "execute_result",
          "data": {
            "application/vnd.google.colaboratory.intrinsic+json": {
              "type": "string"
            },
            "text/plain": [
              "'Python is an interpreted, high-level and general-purpose programming language. Python\\'s design philosophy emphasizes code readability with its notable use of significant whitespace. Its language constructs and object-oriented approach aim to help programmers write clear, logical code for small and large-scale projects.\\nPython is dynamically typed and garbage-collected. It supports multiple programming paradigms, including structured (particularly, procedural), object-oriented, and functional programming. Python is often described as a \"batteries included\" language due to its comprehensive standard library.\\nPython was created in the late 1980s, and first released in 1991, by Guido van Rossum as a successor to the ABC programming language. Python 2.0, released in 2000, introduced new features, such as list comprehensions, and a garbage collection system with reference counting, and was discontinued with version 2.7 in 2020. Python 3.0, released in 2008, was a major revision of the language that is not completely backward-compatible and much Python 2 code does not run unmodified on Python 3. With Python 2\\'s end-of-life, only Python 3.6.x and later are supported, with older versions still supporting e.g. Windows 7 (and old installers not restricted to 64-bit Windows).\\nPython interpreters are supported for mainstream operating systems and available for a few more (and in the past supported many more). A global community of programmers develops and maintains CPython, a free and open-source reference implementation. A non-profit organization, the Python Software Foundation, manages and directs resources for Python and CPython development.\\nAs of December 2020 Python ranked third in TIOBE’s index of most popular programming languages, behind C and Java.'"
            ]
          },
          "metadata": {
            "tags": []
          },
          "execution_count": 172
        }
      ]
    },
    {
      "cell_type": "markdown",
      "metadata": {
        "id": "xl2pv-OsM5aX"
      },
      "source": [
        "### Writing Files"
      ]
    },
    {
      "cell_type": "code",
      "metadata": {
        "id": "lFXUNjtGM9Ye"
      },
      "source": [
        "data = 'This is some text we want to store!'\r\n",
        "\r\n",
        "with open('text.txt', 'w') as f:\r\n",
        "  f.write(data)"
      ],
      "execution_count": 177,
      "outputs": []
    },
    {
      "cell_type": "code",
      "metadata": {
        "id": "EA-Rk9DnNJIG",
        "colab": {
          "base_uri": "https://localhost:8080/"
        },
        "outputId": "b3bf714d-fab6-417b-a882-731c46cada30"
      },
      "source": [
        "!cat text.txt"
      ],
      "execution_count": 178,
      "outputs": [
        {
          "output_type": "stream",
          "text": [
            "This is some text we want to store!"
          ],
          "name": "stdout"
        }
      ]
    },
    {
      "cell_type": "markdown",
      "metadata": {
        "id": "G4YQCu__KH7W"
      },
      "source": [
        "## 2. Working with Text"
      ]
    },
    {
      "cell_type": "markdown",
      "metadata": {
        "id": "kTOShTKBKMwk"
      },
      "source": [
        "### Basics"
      ]
    },
    {
      "cell_type": "code",
      "metadata": {
        "id": "rlkLATUuKKpZ"
      },
      "source": [
        "s = 'ABC'"
      ],
      "execution_count": 273,
      "outputs": []
    },
    {
      "cell_type": "code",
      "metadata": {
        "colab": {
          "base_uri": "https://localhost:8080/",
          "height": 35
        },
        "id": "78QF0a-OjYnh",
        "outputId": "efc3d8ec-e201-4fc3-a5fd-e9c49a0debc1"
      },
      "source": [
        "s[0]"
      ],
      "execution_count": 182,
      "outputs": [
        {
          "output_type": "execute_result",
          "data": {
            "application/vnd.google.colaboratory.intrinsic+json": {
              "type": "string"
            },
            "text/plain": [
              "'A'"
            ]
          },
          "metadata": {
            "tags": []
          },
          "execution_count": 182
        }
      ]
    },
    {
      "cell_type": "code",
      "metadata": {
        "colab": {
          "base_uri": "https://localhost:8080/"
        },
        "id": "d3kvOxFs_fmK",
        "outputId": "12de42da-e905-4e51-81a4-c08d9a497db1"
      },
      "source": [
        "print(s[0:2])\r\n",
        "print(len(s))"
      ],
      "execution_count": 183,
      "outputs": [
        {
          "output_type": "stream",
          "text": [
            "AB\n",
            "3\n"
          ],
          "name": "stdout"
        }
      ]
    },
    {
      "cell_type": "code",
      "metadata": {
        "id": "NayJHoDVQ0x3",
        "colab": {
          "base_uri": "https://localhost:8080/"
        },
        "outputId": "26dbf243-afa5-435e-80f6-71d1a2fe0dce"
      },
      "source": [
        "if 'A' in s:\r\n",
        "  print('\"A\" is in the string.')\r\n",
        "else:\r\n",
        "  print('\"A\" is not in the string.')"
      ],
      "execution_count": 274,
      "outputs": [
        {
          "output_type": "stream",
          "text": [
            "\"A\" is in the string.\n"
          ],
          "name": "stdout"
        }
      ]
    },
    {
      "cell_type": "markdown",
      "metadata": {
        "id": "xrAISZUcQxX6"
      },
      "source": [
        "### String Methods"
      ]
    },
    {
      "cell_type": "markdown",
      "metadata": {
        "id": "oAw-Yb0YP1F_"
      },
      "source": [
        "A full list of string methods can be found in the [official Python documentation](https://docs.python.org/3/library/stdtypes.html#string-methods). "
      ]
    },
    {
      "cell_type": "code",
      "metadata": {
        "id": "aPu71aUyPz62"
      },
      "source": [
        "s = 'Hello World'"
      ],
      "execution_count": 199,
      "outputs": []
    },
    {
      "cell_type": "code",
      "metadata": {
        "id": "VCCwvE2uQbSh",
        "colab": {
          "base_uri": "https://localhost:8080/",
          "height": 35
        },
        "outputId": "7530e3d9-fc1b-4202-851b-da1364438fbf"
      },
      "source": [
        "s.upper()"
      ],
      "execution_count": 192,
      "outputs": [
        {
          "output_type": "execute_result",
          "data": {
            "application/vnd.google.colaboratory.intrinsic+json": {
              "type": "string"
            },
            "text/plain": [
              "'HELLO WORLD'"
            ]
          },
          "metadata": {
            "tags": []
          },
          "execution_count": 192
        }
      ]
    },
    {
      "cell_type": "code",
      "metadata": {
        "id": "9GTjluDqQdWR",
        "colab": {
          "base_uri": "https://localhost:8080/",
          "height": 35
        },
        "outputId": "10d47b3b-9d26-4c76-bb20-cb50705f8ce6"
      },
      "source": [
        "s.lower()"
      ],
      "execution_count": 193,
      "outputs": [
        {
          "output_type": "execute_result",
          "data": {
            "application/vnd.google.colaboratory.intrinsic+json": {
              "type": "string"
            },
            "text/plain": [
              "'hello world'"
            ]
          },
          "metadata": {
            "tags": []
          },
          "execution_count": 193
        }
      ]
    },
    {
      "cell_type": "code",
      "metadata": {
        "id": "ojOzNq5CQeSf",
        "colab": {
          "base_uri": "https://localhost:8080/"
        },
        "outputId": "7412b7c3-f3cf-45b1-bc3c-9ef65f890f89"
      },
      "source": [
        "s.find('World')"
      ],
      "execution_count": 195,
      "outputs": [
        {
          "output_type": "execute_result",
          "data": {
            "text/plain": [
              "6"
            ]
          },
          "metadata": {
            "tags": []
          },
          "execution_count": 195
        }
      ]
    },
    {
      "cell_type": "code",
      "metadata": {
        "id": "NzCRtFGEQiRP",
        "colab": {
          "base_uri": "https://localhost:8080/"
        },
        "outputId": "25308d9e-c7e9-451e-fa77-0b83982d83b2"
      },
      "source": [
        "s.isdigit()"
      ],
      "execution_count": 200,
      "outputs": [
        {
          "output_type": "execute_result",
          "data": {
            "text/plain": [
              "False"
            ]
          },
          "metadata": {
            "tags": []
          },
          "execution_count": 200
        }
      ]
    },
    {
      "cell_type": "code",
      "metadata": {
        "id": "4PDaKOQDQj3G",
        "colab": {
          "base_uri": "https://localhost:8080/"
        },
        "outputId": "37a73431-9b0b-4d36-8f84-636bd96b92f3"
      },
      "source": [
        "s.split()"
      ],
      "execution_count": 203,
      "outputs": [
        {
          "output_type": "execute_result",
          "data": {
            "text/plain": [
              "['Hello', 'World']"
            ]
          },
          "metadata": {
            "tags": []
          },
          "execution_count": 203
        }
      ]
    },
    {
      "cell_type": "code",
      "metadata": {
        "colab": {
          "base_uri": "https://localhost:8080/",
          "height": 35
        },
        "id": "57GH06OxY398",
        "outputId": "513b9c38-fa41-4aa3-a0ca-a6e4a28a176d"
      },
      "source": [
        "s.replace('e', 'E')"
      ],
      "execution_count": 271,
      "outputs": [
        {
          "output_type": "execute_result",
          "data": {
            "application/vnd.google.colaboratory.intrinsic+json": {
              "type": "string"
            },
            "text/plain": [
              "'HEllo World'"
            ]
          },
          "metadata": {
            "tags": []
          },
          "execution_count": 271
        }
      ]
    },
    {
      "cell_type": "markdown",
      "metadata": {
        "id": "EnBP4K1DKOH0"
      },
      "source": [
        "### *difflib*"
      ]
    },
    {
      "cell_type": "markdown",
      "metadata": {
        "id": "UOwiS6FKRR7V"
      },
      "source": [
        "difflib: \"This module provides classes and functions for comparing sequences.\" ([Documentation](https://docs.python.org/3/library/difflib.html#))"
      ]
    },
    {
      "cell_type": "code",
      "metadata": {
        "id": "K-vqX2hEKu6G"
      },
      "source": [
        "import difflib"
      ],
      "execution_count": 208,
      "outputs": []
    },
    {
      "cell_type": "code",
      "metadata": {
        "id": "LzhkrMbtRF7t"
      },
      "source": [
        "sequence_a = 'Linguistics is awesome'\r\n",
        "sequence_b = 'Linguistics is great'"
      ],
      "execution_count": 269,
      "outputs": []
    },
    {
      "cell_type": "code",
      "metadata": {
        "id": "rznkC9Q3RsZX",
        "colab": {
          "base_uri": "https://localhost:8080/"
        },
        "outputId": "c05ddb4d-98cb-48e4-da0b-13d221895af8"
      },
      "source": [
        "sm = difflib.SequenceMatcher(a=sequence_a, b=sequence_b)\r\n",
        "sm.ratio()"
      ],
      "execution_count": 270,
      "outputs": [
        {
          "output_type": "execute_result",
          "data": {
            "text/plain": [
              "0.7619047619047619"
            ]
          },
          "metadata": {
            "tags": []
          },
          "execution_count": 270
        }
      ]
    },
    {
      "cell_type": "markdown",
      "metadata": {
        "id": "TQJi5tX2KW88"
      },
      "source": [
        "## 3. Regular Expressions"
      ]
    },
    {
      "cell_type": "code",
      "metadata": {
        "id": "WmRlLNGwKlOk"
      },
      "source": [
        "import re"
      ],
      "execution_count": 218,
      "outputs": []
    },
    {
      "cell_type": "code",
      "metadata": {
        "id": "11ggXNobUqXK"
      },
      "source": [
        "text = 'Despite carefully cleaning the crime scene she was quickly captured by police.'"
      ],
      "execution_count": 229,
      "outputs": []
    },
    {
      "cell_type": "code",
      "metadata": {
        "id": "q3PzR44unXEl"
      },
      "source": [
        "pattern = r'\\w+ly'"
      ],
      "execution_count": 220,
      "outputs": []
    },
    {
      "cell_type": "code",
      "metadata": {
        "id": "mle8aeK6VAuU"
      },
      "source": [
        "matches = re.findall(pattern, text)"
      ],
      "execution_count": 221,
      "outputs": []
    },
    {
      "cell_type": "code",
      "metadata": {
        "id": "akgdWXTyVMOQ",
        "colab": {
          "base_uri": "https://localhost:8080/"
        },
        "outputId": "dabb2dba-3e1c-464f-f553-d097f81af95f"
      },
      "source": [
        "matches"
      ],
      "execution_count": 222,
      "outputs": [
        {
          "output_type": "execute_result",
          "data": {
            "text/plain": [
              "['carefully', 'quickly']"
            ]
          },
          "metadata": {
            "tags": []
          },
          "execution_count": 222
        }
      ]
    },
    {
      "cell_type": "markdown",
      "metadata": {
        "id": "fU8OSCEyV2ql"
      },
      "source": [
        "### Groups"
      ]
    },
    {
      "cell_type": "code",
      "metadata": {
        "id": "K6slMIIaVRvq"
      },
      "source": [
        "pattern = r'((\\w+)ly)'\r\n",
        "matches = re.findall(pattern, text)"
      ],
      "execution_count": 268,
      "outputs": []
    },
    {
      "cell_type": "code",
      "metadata": {
        "id": "Ajod3-2HVWlI",
        "colab": {
          "base_uri": "https://localhost:8080/"
        },
        "outputId": "bdbe4f47-d920-4417-f9d3-f8b087ca7972"
      },
      "source": [
        "for match in matches:\r\n",
        "  print(match)"
      ],
      "execution_count": 267,
      "outputs": [
        {
          "output_type": "stream",
          "text": [
            "('carefully', 'careful')\n",
            "('quickly', 'quick')\n"
          ],
          "name": "stdout"
        }
      ]
    },
    {
      "cell_type": "code",
      "metadata": {
        "colab": {
          "base_uri": "https://localhost:8080/"
        },
        "id": "dvmpngREokvh",
        "outputId": "a4a20c66-b851-4cd9-bf5f-a8dca08cd349"
      },
      "source": [
        "for match in matches:\r\n",
        "  print(match[1])"
      ],
      "execution_count": 266,
      "outputs": [
        {
          "output_type": "stream",
          "text": [
            "careful\n",
            "quick\n"
          ],
          "name": "stdout"
        }
      ]
    },
    {
      "cell_type": "markdown",
      "metadata": {
        "id": "eDCiKzKDaSC_"
      },
      "source": [
        "### re.sub()"
      ]
    },
    {
      "cell_type": "code",
      "metadata": {
        "id": "rSo0H_SHaT0V"
      },
      "source": [
        "text = '$25 and $30'"
      ],
      "execution_count": 264,
      "outputs": []
    },
    {
      "cell_type": "code",
      "metadata": {
        "colab": {
          "base_uri": "https://localhost:8080/",
          "height": 35
        },
        "id": "kA1pSiv2akYQ",
        "outputId": "1e07f0d5-55f9-4b0b-e5b8-70c32683ebf9"
      },
      "source": [
        "re.sub(r'(\\$)([0-9]*)', r'\\2\\1', text)"
      ],
      "execution_count": 265,
      "outputs": [
        {
          "output_type": "execute_result",
          "data": {
            "application/vnd.google.colaboratory.intrinsic+json": {
              "type": "string"
            },
            "text/plain": [
              "'25$ and 30$'"
            ]
          },
          "metadata": {
            "tags": []
          },
          "execution_count": 265
        }
      ]
    },
    {
      "cell_type": "markdown",
      "metadata": {
        "id": "eEgYBoqRW0BB"
      },
      "source": [
        "### Putting Things Together"
      ]
    },
    {
      "cell_type": "code",
      "metadata": {
        "id": "uheEA7HtW12z"
      },
      "source": [
        "with open(data_folder / 'linguistics.txt', 'r') as f:\r\n",
        "  data = f.read()"
      ],
      "execution_count": 243,
      "outputs": []
    },
    {
      "cell_type": "code",
      "metadata": {
        "id": "QcBRyJ_mW7EI",
        "colab": {
          "base_uri": "https://localhost:8080/"
        },
        "outputId": "11d15c2b-f150-4328-fca4-c509589d3c12"
      },
      "source": [
        "words = re.findall(r'\\w+ly\\b', data)\r\n",
        "words"
      ],
      "execution_count": 246,
      "outputs": [
        {
          "output_type": "execute_result",
          "data": {
            "text/plain": [
              "['traditionally', 'directly', 'logically', 'particularly']"
            ]
          },
          "metadata": {
            "tags": []
          },
          "execution_count": 246
        }
      ]
    },
    {
      "cell_type": "code",
      "metadata": {
        "id": "TAd9yEPXXRtX"
      },
      "source": [
        "with open('results.txt', 'w') as f:\r\n",
        "  f.writelines(words)"
      ],
      "execution_count": 247,
      "outputs": []
    },
    {
      "cell_type": "code",
      "metadata": {
        "id": "j2RiNZVJXcQo",
        "colab": {
          "base_uri": "https://localhost:8080/"
        },
        "outputId": "69f1198d-0182-4163-cb49-d10fe1717010"
      },
      "source": [
        "!cat results.txt"
      ],
      "execution_count": 248,
      "outputs": [
        {
          "output_type": "stream",
          "text": [
            "traditionallydirectlylogicallyparticularly"
          ],
          "name": "stdout"
        }
      ]
    },
    {
      "cell_type": "markdown",
      "metadata": {
        "id": "o2IRoUW6Koax"
      },
      "source": [
        "## 4. TextDirectory"
      ]
    },
    {
      "cell_type": "markdown",
      "metadata": {
        "id": "QeXb3LsUY6V4"
      },
      "source": [
        "[TextDirectory](https://github.com/IngoKl/textdirectory) allows you to combine multiple text files into one aggregated file. You can also filter files based on various criteria and run transformations before aggregating them."
      ]
    },
    {
      "cell_type": "code",
      "metadata": {
        "id": "PfrKX4GSYuB1"
      },
      "source": [
        "import textdirectory"
      ],
      "execution_count": 249,
      "outputs": []
    },
    {
      "cell_type": "code",
      "metadata": {
        "id": "Sf7eRbanY-Du"
      },
      "source": [
        "data_folder = Path('python-programming-for-linguists/2020/data/wikipedia/')\r\n",
        "\r\n",
        "td = textdirectory.TextDirectory(directory=data_folder)"
      ],
      "execution_count": 250,
      "outputs": []
    },
    {
      "cell_type": "code",
      "metadata": {
        "id": "63Y8dsXMZH2M"
      },
      "source": [
        "td.load_files(filetype='txt', sort=True)"
      ],
      "execution_count": 263,
      "outputs": []
    },
    {
      "cell_type": "code",
      "metadata": {
        "id": "FmXhkT7jZNaw",
        "colab": {
          "base_uri": "https://localhost:8080/"
        },
        "outputId": "43d4cc27-fb3a-4389-a50e-450a83a1080c"
      },
      "source": [
        "td.print_aggregation()"
      ],
      "execution_count": 261,
      "outputs": [
        {
          "output_type": "stream",
          "text": [
            "\n",
            "|------------------------------------------------------------|\n",
            "|path                     |characters|tokens|transformed_text|\n",
            "|------------------------------------------------------------|\n",
            "|python-programming-for-li|3061      |490   |False           |\n",
            "|python-programming-for-li|2119      |306   |False           |\n",
            "|------------------------------------------------------------|\n",
            "\n",
            "Staged Transformations: [['transformation_uppercase'], ['transformation_uppercase']]\n"
          ],
          "name": "stdout"
        }
      ]
    },
    {
      "cell_type": "code",
      "metadata": {
        "id": "zPMOaoxmZWv9",
        "colab": {
          "base_uri": "https://localhost:8080/"
        },
        "outputId": "f992f2ca-0447-4bc8-ef64-71313b28086e"
      },
      "source": [
        "td.filter_by_min_chars(2000)\r\n",
        "td.print_aggregation()"
      ],
      "execution_count": 260,
      "outputs": [
        {
          "output_type": "stream",
          "text": [
            "\n",
            "|------------------------------------------------------------|\n",
            "|path                     |characters|tokens|transformed_text|\n",
            "|------------------------------------------------------------|\n",
            "|python-programming-for-li|3061      |490   |False           |\n",
            "|python-programming-for-li|2119      |306   |False           |\n",
            "|------------------------------------------------------------|\n",
            "\n",
            "Staged Transformations: [['transformation_uppercase'], ['transformation_uppercase']]\n"
          ],
          "name": "stdout"
        }
      ]
    },
    {
      "cell_type": "code",
      "metadata": {
        "id": "SlTRpcg7ZeAr",
        "colab": {
          "base_uri": "https://localhost:8080/"
        },
        "outputId": "bf8da371-30c2-4c7e-cb78-a030023f6133"
      },
      "source": [
        "td.stage_transformation(['transformation_uppercase'])\r\n",
        "td.print_aggregation()"
      ],
      "execution_count": 259,
      "outputs": [
        {
          "output_type": "stream",
          "text": [
            "\n",
            "|------------------------------------------------------------|\n",
            "|path                     |characters|tokens|transformed_text|\n",
            "|------------------------------------------------------------|\n",
            "|python-programming-for-li|3061      |490   |False           |\n",
            "|python-programming-for-li|2119      |306   |False           |\n",
            "|------------------------------------------------------------|\n",
            "\n",
            "Staged Transformations: [['transformation_uppercase'], ['transformation_uppercase']]\n"
          ],
          "name": "stdout"
        }
      ]
    },
    {
      "cell_type": "code",
      "metadata": {
        "id": "Jdrz49_3Z3Sr",
        "colab": {
          "base_uri": "https://localhost:8080/",
          "height": 71
        },
        "outputId": "a8c07d94-5d7d-434b-f4ae-92df3731c77c"
      },
      "source": [
        "td.aggregate_to_memory()"
      ],
      "execution_count": 258,
      "outputs": [
        {
          "output_type": "execute_result",
          "data": {
            "application/vnd.google.colaboratory.intrinsic+json": {
              "type": "string"
            },
            "text/plain": [
              "'COLOGNE IS THE LARGEST CITY OF GERMANY\\'S MOST POPULOUS FEDERAL STATE OF NORTH RHINE-WESTPHALIA AND THE FOURTH-MOST POPULOUS CITY IN GERMANY. WITH SLIGHTLY OVER A MILLION INHABITANTS (1.09 MILLION) WITHIN ITS CITY BOUNDARIES, COLOGNE IS THE LARGEST CITY ON THE RHINE AND ALSO THE MOST POPULOUS CITY BOTH OF THE RHINE-RUHR METROPOLITAN REGION, WHICH IS GERMANY\\'S LARGEST AND ONE OF EUROPE\\'S MAJOR METROPOLITAN AREAS, AND OF THE RHINELAND. CENTERED ON THE LEFT BANK OF THE RHINE, COLOGNE IS ABOUT 45 KILOMETRES (28 MI) SOUTHEAST OF NORTH RHINE-WESTPHALIA\\'S CAPITAL OF DÜSSELDORF AND 25 KILOMETRES (16 MI) NORTHWEST OF BONN. IT IS THE LARGEST CITY IN THE CENTRAL FRANCONIAN AND RIPUARIAN DIALECT AREAS.\\nTHE CITY\\'S COLOGNE CATHEDRAL (KÖLNER DOM) IS THE SEAT OF THE CATHOLIC ARCHBISHOP OF COLOGNE. THERE ARE MANY INSTITUTIONS OF HIGHER EDUCATION IN THE CITY, MOST NOTABLY THE UNIVERSITY OF COLOGNE (UNIVERSITÄT ZU KÖLN), ONE OF EUROPE\\'S OLDEST AND LARGEST UNIVERSITIES, THE TECHNICAL UNIVERSITY OF COLOGNE (TECHNISCHE HOCHSCHULE KÖLN), GERMANY\\'S LARGEST UNIVERSITY OF APPLIED SCIENCES, AND THE GERMAN SPORT UNIVERSITY COLOGNE (DEUTSCHE SPORTHOCHSCHULE KÖLN), GERMANY\\'S ONLY SPORT UNIVERSITY. COLOGNE BONN AIRPORT (FLUGHAFEN KÖLN/BONN) IS GERMANY\\'S SEVENTH-LARGEST AIRPORT AND LIES IN THE SOUTHEAST OF THE CITY. THE MAIN AIRPORT FOR THE RHINE-RUHR REGION IS DÜSSELDORF AIRPORT.\\nCOLOGNE WAS FOUNDED AND ESTABLISHED IN UBII TERRITORY IN THE 1ST CENTURY AD AS THE ROMAN COLONIA CLAUDIA ARA AGRIPPINENSIUM, THE FIRST WORD OF WHICH IS THE ORIGIN OF ITS NAME. AN ALTERNATIVE LATIN NAME OF THE SETTLEMENT IS AUGUSTA UBIORUM, AFTER THE UBII. \"COLOGNE\", THE FRENCH VERSION OF THE CITY\\'S NAME, HAS BECOME STANDARD IN ENGLISH AS WELL. COLOGNE FUNCTIONED AS THE CAPITAL OF THE ROMAN PROVINCE OF GERMANIA INFERIOR AND AS THE HEADQUARTERS OF THE ROMAN MILITARY IN THE REGION UNTIL OCCUPIED BY THE FRANKS IN 462. DURING THE MIDDLE AGES THE CITY FLOURISHED AS BEING LOCATED ON ONE OF THE MOST IMPORTANT MAJOR TRADE ROUTES BETWEEN EAST AND WESTERN EUROPE. COLOGNE WAS ONE OF THE LEADING MEMBERS OF THE HANSEATIC LEAGUE AND ONE OF THE LARGEST CITIES NORTH OF THE ALPS IN MEDIEVAL AND RENAISSANCE TIMES. PRIOR TO WORLD WAR II, THE CITY HAD UNDERGONE SEVERAL OCCUPATIONS BY THE FRENCH AND ALSO BY THE BRITISH (1918–1926). COLOGNE WAS ONE OF THE MOST HEAVILY BOMBED CITIES IN GERMANY DURING WORLD WAR II, WITH THE ROYAL AIR FORCE (RAF) DROPPING 34,711 LONG TONS (35,268 TONNES) OF BOMBS ON THE CITY. THE BOMBING REDUCED THE POPULATION BY 95%, MAINLY DUE TO EVACUATION, AND DESTROYED ALMOST THE ENTIRE CITY CENTRE. WITH THE INTENTION OF RESTORING AS MANY HISTORIC LANDMARKS AS POSSIBLE, THE POSTWAR REBUILDING HAS RESULTED IN A VERY MIXED AND UNIQUE CITYSCAPE.\\nCOLOGNE IS A MAJOR CULTURAL CENTRE FOR THE RHINELAND; IT HOSTS MORE THAN 30 MUSEUMS AND HUNDREDS OF GALLERIES. EXHIBITIONS RANGE FROM LOCAL ANCIENT ROMAN ARCHEOLOGICAL SITES TO CONTEMPORARY GRAPHICS AND SCULPTURE. THE COLOGNE TRADE FAIR HOSTS A NUMBER OF TRADE SHOWS SUCH AS ART COLOGNE, IMM COLOGNE, GAMESCOM, AND THE PHOTOKINA.LINGUISTICS IS THE SCIENTIFIC STUDY OF LANGUAGE. IT INVOLVES AN ANALYSIS OF LANGUAGE FORM, LANGUAGE MEANING, AND LANGUAGE IN CONTEXT, AS WELL AS AN ANALYSIS OF THE SOCIAL, CULTURAL, HISTORICAL, AND POLITICAL FACTORS THAT INFLUENCE LANGUAGE.\\nLINGUISTS TRADITIONALLY ANALYSE HUMAN LANGUAGE BY OBSERVING THE RELATIONSHIP BETWEEN SOUND AND MEANING. MEANING CAN BE STUDIED IN ITS DIRECTLY SPOKEN OR WRITTEN FORM THROUGH THE FIELD OF SEMANTICS, AS WELL AS IN ITS INDIRECT FORM THROUGH BODY LANGUAGE AND GESTURES UNDER THE DISCIPLINE OF PRAGMATICS. EACH SPEECH SOUND PARTICLE IS CALLED A PHONEME. HOW THESE PHONEMES ARE ORGANISED TO CONVEY MEANING DEPENDS ON VARIOUS LINGUISTIC PATTERNS AND STRUCTURES THAT THEORETICAL LINGUISTS DESCRIBE AND ANALYSE.\\nSOME OF THESE PATTERNS OF SOUND AND MEANING ARE FOUND IN THE STUDY OF MORPHOLOGY (CONCERNING HOW WORDS ARE FORMULATED THROUGH \"MORPHEMES\"), SYNTAX (HOW SENTENCES ARE LOGICALLY STRUCTURED), AND PHONOLOGY (THE STUDY OF SOUND PATTERNS). THE EMERGENCE OF HISTORICAL AND EVOLUTIONARY LINGUISTICS HAS ALSO LED TO A GREATER FOCUS OVER STUDYING HOW LANGUAGES CHANGE AND GROW, PARTICULARLY OVER AN EXTENDED PERIOD OF TIME. SOCIOLINGUISTS ALSO STUDY HOW LANGUAGE DEVELOPS AMONG DIFFERENT COMMUNITIES THROUGH DIALECTS, AND HOW EACH LANGUAGE CHANGES, GROWS, AND VARIES FROM PERSON TO PERSON AND GROUP TO GROUP.\\nMACROLINGUISTIC CONCEPTS INCLUDE THE STUDY OF NARRATIVE THEORY, STYLISTICS, DISCOURSE ANALYSIS, AND SEMIOTICS. MICROLINGUISTIC CONCEPTS, ON THE OTHER HAND, INVOLVE THE ANALYSIS OF GRAMMAR, SPEECH SOUNDS, PALAEOGRAPHIC SYMBOLS, CONNOTATION, AND LOGICAL REFERENCES, ALL OF WHICH CAN BE APPLIED TO LEXICOGRAPHY, EDITING, LANGUAGE DOCUMENTATION, TRANSLATION, AS WELL AS SPEECH-LANGUAGE PATHOLOGY (A CORRECTIVE METHOD TO CURE PHONETIC DISABILITIES AND DISFUNCTIONS).\\nTHE EARLIEST ACTIVITIES IN THE DOCUMENTATION AND DESCRIPTION OF LANGUAGE HAVE BEEN ATTRIBUTED TO THE 6TH-CENTURY-BC INDIAN GRAMMARIAN PĀṆINI WHO WROTE A FORMAL DESCRIPTION OF THE SANSKRIT LANGUAGE IN HIS AṢṬĀDHYĀYĪ. TODAY, MODERN-DAY THEORIES ON GRAMMAR EMPLOY MANY OF THE PRINCIPLES THAT WERE LAID DOWN BACK THEN.'"
            ]
          },
          "metadata": {
            "tags": []
          },
          "execution_count": 258
        }
      ]
    }
  ]
}