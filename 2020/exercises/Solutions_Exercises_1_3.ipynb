{
  "nbformat": 4,
  "nbformat_minor": 0,
  "metadata": {
    "colab": {
      "name": "Solutions - Exercises 1 - 3.ipynb",
      "provenance": [],
      "collapsed_sections": []
    },
    "kernelspec": {
      "name": "python3",
      "display_name": "Python 3"
    }
  },
  "cells": [
    {
      "cell_type": "markdown",
      "metadata": {
        "id": "4lT71anpPzb4"
      },
      "source": [
        "# Exercises 1 - 3"
      ]
    },
    {
      "cell_type": "markdown",
      "metadata": {
        "id": "PYbZO_PFP2sl"
      },
      "source": [
        "## Exercise 1 - Printing Your Name"
      ]
    },
    {
      "cell_type": "code",
      "metadata": {
        "colab": {
          "base_uri": "https://localhost:8080/"
        },
        "id": "HO-YR2fURh9s",
        "outputId": "cc31fdbd-313a-4ecd-dcb5-aaa8ce8fa375"
      },
      "source": [
        "print('Sue')"
      ],
      "execution_count": 2,
      "outputs": [
        {
          "output_type": "stream",
          "text": [
            "Sue\n"
          ],
          "name": "stdout"
        }
      ]
    },
    {
      "cell_type": "code",
      "metadata": {
        "colab": {
          "base_uri": "https://localhost:8080/"
        },
        "id": "4rYwzY6PRlTv",
        "outputId": "5ee2fedb-18b8-4edb-f420-0154aae6729f"
      },
      "source": [
        "print('Sue'.upper())"
      ],
      "execution_count": 4,
      "outputs": [
        {
          "output_type": "stream",
          "text": [
            "SUE\n"
          ],
          "name": "stdout"
        }
      ]
    },
    {
      "cell_type": "markdown",
      "metadata": {
        "id": "fVUYJrB4P4Kl"
      },
      "source": [
        "## Exercise 2 - Adding Variables"
      ]
    },
    {
      "cell_type": "code",
      "metadata": {
        "id": "dVhci8NWR5bC"
      },
      "source": [
        "name = 'Sue'\r\n",
        "age = 20"
      ],
      "execution_count": 6,
      "outputs": []
    },
    {
      "cell_type": "code",
      "metadata": {
        "colab": {
          "base_uri": "https://localhost:8080/"
        },
        "id": "lU-jv2tVR9R6",
        "outputId": "a26a868a-d585-4400-9ca1-c90493dc9441"
      },
      "source": [
        "print(f'{name} is {age}')"
      ],
      "execution_count": 7,
      "outputs": [
        {
          "output_type": "stream",
          "text": [
            "Sue is 20\n"
          ],
          "name": "stdout"
        }
      ]
    },
    {
      "cell_type": "markdown",
      "metadata": {
        "id": "_9GipoF0SDpB"
      },
      "source": [
        "While `name` is a string, `age` is an integer. You cannot just use integers as if they were text. However, modern Python allows you to use so-called f-strings (as seen above) which easily allow you to print variables. Here, Python figures out how to represent the age as text automatically."
      ]
    },
    {
      "cell_type": "code",
      "metadata": {
        "colab": {
          "base_uri": "https://localhost:8080/"
        },
        "id": "Uwwr41O3SYBF",
        "outputId": "742286ea-d16f-4605-eeb2-9364fa6fab9f"
      },
      "source": [
        "type(age)"
      ],
      "execution_count": 9,
      "outputs": [
        {
          "output_type": "execute_result",
          "data": {
            "text/plain": [
              "int"
            ]
          },
          "metadata": {
            "tags": []
          },
          "execution_count": 9
        }
      ]
    },
    {
      "cell_type": "code",
      "metadata": {
        "colab": {
          "base_uri": "https://localhost:8080/"
        },
        "id": "NqyY0y57Sp6t",
        "outputId": "b63c8ff7-e343-4593-8bab-916411315572"
      },
      "source": [
        "age_string = str(age)\r\n",
        "type(age_string)"
      ],
      "execution_count": 13,
      "outputs": [
        {
          "output_type": "execute_result",
          "data": {
            "text/plain": [
              "str"
            ]
          },
          "metadata": {
            "tags": []
          },
          "execution_count": 13
        }
      ]
    },
    {
      "cell_type": "markdown",
      "metadata": {
        "id": "90-2TPKgStIZ"
      },
      "source": [
        "Above you can see that we can use `type` to check of which type a variable is. In the following two lines, we are using `str` to transform `age` into a string. When using f-strings, this happens automatically."
      ]
    },
    {
      "cell_type": "markdown",
      "metadata": {
        "id": "9OTC96SVP4S-"
      },
      "source": [
        "## Exercise 3 - Looping Numbers"
      ]
    },
    {
      "cell_type": "code",
      "metadata": {
        "colab": {
          "base_uri": "https://localhost:8080/"
        },
        "id": "Iy9P9mxgTLa6",
        "outputId": "61482dc2-3747-416e-ab50-cad1a6076f6e"
      },
      "source": [
        "for number in range(50):\r\n",
        "  if number < 25:\r\n",
        "    print(f'{number} is smaller than 25')\r\n",
        "  if number > 25:\r\n",
        "    print(f'{number} is larger than 25')"
      ],
      "execution_count": 22,
      "outputs": [
        {
          "output_type": "stream",
          "text": [
            "0 is smaller than 25\n",
            "1 is smaller than 25\n",
            "2 is smaller than 25\n",
            "3 is smaller than 25\n",
            "4 is smaller than 25\n",
            "5 is smaller than 25\n",
            "6 is smaller than 25\n",
            "7 is smaller than 25\n",
            "8 is smaller than 25\n",
            "9 is smaller than 25\n",
            "10 is smaller than 25\n",
            "11 is smaller than 25\n",
            "12 is smaller than 25\n",
            "13 is smaller than 25\n",
            "14 is smaller than 25\n",
            "15 is smaller than 25\n",
            "16 is smaller than 25\n",
            "17 is smaller than 25\n",
            "18 is smaller than 25\n",
            "19 is smaller than 25\n",
            "20 is smaller than 25\n",
            "21 is smaller than 25\n",
            "22 is smaller than 25\n",
            "23 is smaller than 25\n",
            "24 is smaller than 25\n",
            "26 is larger than 25\n",
            "27 is larger than 25\n",
            "28 is larger than 25\n",
            "29 is larger than 25\n",
            "30 is larger than 25\n",
            "31 is larger than 25\n",
            "32 is larger than 25\n",
            "33 is larger than 25\n",
            "34 is larger than 25\n",
            "35 is larger than 25\n",
            "36 is larger than 25\n",
            "37 is larger than 25\n",
            "38 is larger than 25\n",
            "39 is larger than 25\n",
            "40 is larger than 25\n",
            "41 is larger than 25\n",
            "42 is larger than 25\n",
            "43 is larger than 25\n",
            "44 is larger than 25\n",
            "45 is larger than 25\n",
            "46 is larger than 25\n",
            "47 is larger than 25\n",
            "48 is larger than 25\n",
            "49 is larger than 25\n"
          ],
          "name": "stdout"
        }
      ]
    },
    {
      "cell_type": "markdown",
      "metadata": {
        "id": "3Nju6_TXTpNY"
      },
      "source": [
        "If you look carefully, you will see that the number 25 is missing from our output. This happens because no condition meets 25."
      ]
    },
    {
      "cell_type": "code",
      "metadata": {
        "colab": {
          "base_uri": "https://localhost:8080/"
        },
        "id": "dhTh3rpOTwLE",
        "outputId": "8b18c0bd-504b-42ba-9b4a-bb5dd37ffe4d"
      },
      "source": [
        "for number in range(50):\r\n",
        "  if number < 25:\r\n",
        "    print(f'{number} is smaller than 25')\r\n",
        "  if number > 25:\r\n",
        "    print(f'{number} is larger than 25')\r\n",
        "  if number == 25:\r\n",
        "    print(f'{number} is equal to 25')"
      ],
      "execution_count": 24,
      "outputs": [
        {
          "output_type": "stream",
          "text": [
            "0 is smaller than 25\n",
            "1 is smaller than 25\n",
            "2 is smaller than 25\n",
            "3 is smaller than 25\n",
            "4 is smaller than 25\n",
            "5 is smaller than 25\n",
            "6 is smaller than 25\n",
            "7 is smaller than 25\n",
            "8 is smaller than 25\n",
            "9 is smaller than 25\n",
            "10 is smaller than 25\n",
            "11 is smaller than 25\n",
            "12 is smaller than 25\n",
            "13 is smaller than 25\n",
            "14 is smaller than 25\n",
            "15 is smaller than 25\n",
            "16 is smaller than 25\n",
            "17 is smaller than 25\n",
            "18 is smaller than 25\n",
            "19 is smaller than 25\n",
            "20 is smaller than 25\n",
            "21 is smaller than 25\n",
            "22 is smaller than 25\n",
            "23 is smaller than 25\n",
            "24 is smaller than 25\n",
            "25 is equal to 25\n",
            "26 is larger than 25\n",
            "27 is larger than 25\n",
            "28 is larger than 25\n",
            "29 is larger than 25\n",
            "30 is larger than 25\n",
            "31 is larger than 25\n",
            "32 is larger than 25\n",
            "33 is larger than 25\n",
            "34 is larger than 25\n",
            "35 is larger than 25\n",
            "36 is larger than 25\n",
            "37 is larger than 25\n",
            "38 is larger than 25\n",
            "39 is larger than 25\n",
            "40 is larger than 25\n",
            "41 is larger than 25\n",
            "42 is larger than 25\n",
            "43 is larger than 25\n",
            "44 is larger than 25\n",
            "45 is larger than 25\n",
            "46 is larger than 25\n",
            "47 is larger than 25\n",
            "48 is larger than 25\n",
            "49 is larger than 25\n"
          ],
          "name": "stdout"
        }
      ]
    },
    {
      "cell_type": "markdown",
      "metadata": {
        "id": "izSIq763T3Ef"
      },
      "source": [
        "Please note that this, technically, now produces a 'wrong' result if we take the task, which did not specifiy this condition, seriously."
      ]
    }
  ]
}