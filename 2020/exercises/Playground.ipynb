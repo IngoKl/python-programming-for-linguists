{
  "nbformat": 4,
  "nbformat_minor": 0,
  "metadata": {
    "colab": {
      "name": "Playground.ipynb",
      "provenance": [],
      "collapsed_sections": []
    },
    "kernelspec": {
      "name": "python3",
      "display_name": "Python 3"
    }
  },
  "cells": [
    {
      "cell_type": "markdown",
      "metadata": {
        "id": "UV91AtD1i95-"
      },
      "source": [
        "# Python Programming for Linguists\r\n",
        "## Playground"
      ]
    },
    {
      "cell_type": "code",
      "metadata": {
        "colab": {
          "base_uri": "https://localhost:8080/"
        },
        "id": "ytZFXMEJjD05",
        "outputId": "5cb6e274-115d-4b8a-9fa3-c2edce1bb8c1"
      },
      "source": [
        "print('Have fun!')"
      ],
      "execution_count": null,
      "outputs": [
        {
          "output_type": "stream",
          "text": [
            "Have fun!\n"
          ],
          "name": "stdout"
        }
      ]
    }
  ]
}