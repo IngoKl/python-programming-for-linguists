{
  "nbformat": 4,
  "nbformat_minor": 0,
  "metadata": {
    "colab": {
      "name": "03 - Exercises 8 to 16.ipynb",
      "provenance": [],
      "collapsed_sections": []
    },
    "kernelspec": {
      "display_name": "Python 3",
      "name": "python3"
    }
  },
  "cells": [
    {
      "cell_type": "markdown",
      "metadata": {
        "id": "g8L_jaAr9S8v"
      },
      "source": [
        "# Python Programming for Linguists\r\n",
        "**03 - Python for (Corpus) Linguists**"
      ]
    },
    {
      "cell_type": "markdown",
      "metadata": {
        "id": "VOAC6yCfxu-f"
      },
      "source": [
        "Downloading (*git cloning*) the workshop repository. The [\"magic command\"](https://ipython.readthedocs.io/en/stable/interactive/magics.html) `%%capture` will suppress any cell output. Be careful: `rm -r python-programming-for-linguists` will delete previous files."
      ]
    },
    {
      "cell_type": "code",
      "metadata": {
        "id": "7mHW5hAMApoA"
      },
      "source": [
        "%%capture\r\n",
        "!rm -r python-programming-for-linguists\r\n",
        "!git clone https://github.com/IngoKl/python-programming-for-linguists"
      ],
      "execution_count": 1,
      "outputs": []
    },
    {
      "cell_type": "markdown",
      "metadata": {
        "id": "fNpGZLOjYPLC"
      },
      "source": [
        "## A. New Syntax and Tools"
      ]
    },
    {
      "cell_type": "markdown",
      "metadata": {
        "id": "EfMAgONy5Lc3"
      },
      "source": [
        "We will be using some new syntax and tools for these exercises. Here are some basic examples. Don't worry, these will be used rather lightly."
      ]
    },
    {
      "cell_type": "markdown",
      "metadata": {
        "id": "iUjmNZbexWjy"
      },
      "source": [
        "### 1. Miscellaneous"
      ]
    },
    {
      "cell_type": "markdown",
      "metadata": {
        "id": "9a41_8vw0VyR"
      },
      "source": [
        "##### Lists and Sets\r\n",
        "\r\n"
      ]
    },
    {
      "cell_type": "code",
      "metadata": {
        "colab": {
          "base_uri": "https://localhost:8080/"
        },
        "id": "xIuNRycqxlVH",
        "outputId": "9765f21b-9e39-495e-a4b8-a53e3ecc1d9f"
      },
      "source": [
        "tokens = ['a', 'the', 'car', 'the']\r\n",
        "tokens"
      ],
      "execution_count": 2,
      "outputs": [
        {
          "output_type": "execute_result",
          "data": {
            "text/plain": [
              "['a', 'the', 'car', 'the']"
            ]
          },
          "metadata": {
            "tags": []
          },
          "execution_count": 2
        }
      ]
    },
    {
      "cell_type": "code",
      "metadata": {
        "colab": {
          "base_uri": "https://localhost:8080/"
        },
        "id": "fweVx2qPLalB",
        "outputId": "7e2dc34e-f01d-4977-b52e-dc8e16adfa98"
      },
      "source": [
        "types = set(tokens)\r\n",
        "types"
      ],
      "execution_count": 3,
      "outputs": [
        {
          "output_type": "execute_result",
          "data": {
            "text/plain": [
              "{'a', 'car', 'the'}"
            ]
          },
          "metadata": {
            "tags": []
          },
          "execution_count": 3
        }
      ]
    },
    {
      "cell_type": "markdown",
      "metadata": {
        "id": "cpgiPlyM0iCJ"
      },
      "source": [
        "##### The `.join()` method (on strings)"
      ]
    },
    {
      "cell_type": "code",
      "metadata": {
        "colab": {
          "base_uri": "https://localhost:8080/"
        },
        "id": "6LG2hP560p3i",
        "outputId": "d9cb7787-a493-496b-84cd-bbf813a0a69e"
      },
      "source": [
        "tokens = ['The', 'cat', 'is', 'grey']\r\n",
        "s1 = ' '.join(tokens)\r\n",
        "s2 = '-'.join(tokens)\r\n",
        "\r\n",
        "s1, s2"
      ],
      "execution_count": 4,
      "outputs": [
        {
          "output_type": "execute_result",
          "data": {
            "text/plain": [
              "('The cat is grey', 'The-cat-is-grey')"
            ]
          },
          "metadata": {
            "tags": []
          },
          "execution_count": 4
        }
      ]
    },
    {
      "cell_type": "markdown",
      "metadata": {
        "id": "ZkrmCL580nIs"
      },
      "source": [
        "##### Lambda Functions / Anonymous (nameless) Functions"
      ]
    },
    {
      "cell_type": "code",
      "metadata": {
        "colab": {
          "base_uri": "https://localhost:8080/"
        },
        "id": "v1r-wX6u0pOr",
        "outputId": "cedf5e25-b886-47bc-9d45-34e6bd74b075"
      },
      "source": [
        "x = lambda a: a + 10\r\n",
        "x(5)"
      ],
      "execution_count": 5,
      "outputs": [
        {
          "output_type": "execute_result",
          "data": {
            "text/plain": [
              "15"
            ]
          },
          "metadata": {
            "tags": []
          },
          "execution_count": 5
        }
      ]
    },
    {
      "cell_type": "markdown",
      "metadata": {
        "id": "bHVcHXMvOTRS"
      },
      "source": [
        "We will be using a Lambda below when using `.apply()` on a DataFrame (see Pandas)."
      ]
    },
    {
      "cell_type": "markdown",
      "metadata": {
        "id": "qjY51inka2Mp"
      },
      "source": [
        "##### `Counter` objects"
      ]
    },
    {
      "cell_type": "code",
      "metadata": {
        "id": "E4XdDHoDa4m9"
      },
      "source": [
        "from collections import Counter\r\n",
        "\r\n",
        "numbers = [1, 1, 2, 3, 3, 4]\r\n",
        "counts = Counter(numbers)"
      ],
      "execution_count": 6,
      "outputs": []
    },
    {
      "cell_type": "code",
      "metadata": {
        "colab": {
          "base_uri": "https://localhost:8080/"
        },
        "id": "iE4awcwda-rN",
        "outputId": "8fdb428a-09f2-4667-de84-907198411409"
      },
      "source": [
        "counts[1]"
      ],
      "execution_count": 7,
      "outputs": [
        {
          "output_type": "execute_result",
          "data": {
            "text/plain": [
              "2"
            ]
          },
          "metadata": {
            "tags": []
          },
          "execution_count": 7
        }
      ]
    },
    {
      "cell_type": "code",
      "metadata": {
        "colab": {
          "base_uri": "https://localhost:8080/"
        },
        "id": "X1H7MDvIbAiw",
        "outputId": "2037d00c-3ce8-4088-ef77-efe62f082960"
      },
      "source": [
        "counts.most_common(2)"
      ],
      "execution_count": 8,
      "outputs": [
        {
          "output_type": "execute_result",
          "data": {
            "text/plain": [
              "[(1, 2), (3, 2)]"
            ]
          },
          "metadata": {
            "tags": []
          },
          "execution_count": 8
        }
      ]
    },
    {
      "cell_type": "markdown",
      "metadata": {
        "id": "2XFF1VEXovLa"
      },
      "source": [
        "##### Adding to Variables\r\n",
        "\r\n",
        "Python supports the `+=`and `-=` operators to easily add or substract from a variable. This also works when concatenating strings."
      ]
    },
    {
      "cell_type": "code",
      "metadata": {
        "colab": {
          "base_uri": "https://localhost:8080/"
        },
        "id": "fpBDY_7PoyPB",
        "outputId": "1a1c98ad-b43f-42de-8004-f596b7cebdb9"
      },
      "source": [
        "a = 1\r\n",
        "a += 5\r\n",
        "\r\n",
        "a"
      ],
      "execution_count": 9,
      "outputs": [
        {
          "output_type": "execute_result",
          "data": {
            "text/plain": [
              "6"
            ]
          },
          "metadata": {
            "tags": []
          },
          "execution_count": 9
        }
      ]
    },
    {
      "cell_type": "code",
      "metadata": {
        "colab": {
          "base_uri": "https://localhost:8080/",
          "height": 35
        },
        "id": "0kk8tUCFpCGx",
        "outputId": "2779e051-26ba-4749-a939-0dfa25d23b68"
      },
      "source": [
        "b = 'Hello'\r\n",
        "b += 'World'\r\n",
        "\r\n",
        "b"
      ],
      "execution_count": 10,
      "outputs": [
        {
          "output_type": "execute_result",
          "data": {
            "application/vnd.google.colaboratory.intrinsic+json": {
              "type": "string"
            },
            "text/plain": [
              "'HelloWorld'"
            ]
          },
          "metadata": {
            "tags": []
          },
          "execution_count": 10
        }
      ]
    },
    {
      "cell_type": "markdown",
      "metadata": {
        "id": "zTBPImDUqc-9"
      },
      "source": [
        "##### Enumerate"
      ]
    },
    {
      "cell_type": "code",
      "metadata": {
        "colab": {
          "base_uri": "https://localhost:8080/"
        },
        "id": "6rsMqU5YqeIU",
        "outputId": "9f037cea-b5d2-46ba-ce12-0ed969c68c73"
      },
      "source": [
        "l = ['A', 'B', 'C']\r\n",
        "\r\n",
        "for i in l:\r\n",
        "  print(l)"
      ],
      "execution_count": 11,
      "outputs": [
        {
          "output_type": "stream",
          "text": [
            "['A', 'B', 'C']\n",
            "['A', 'B', 'C']\n",
            "['A', 'B', 'C']\n"
          ],
          "name": "stdout"
        }
      ]
    },
    {
      "cell_type": "code",
      "metadata": {
        "colab": {
          "base_uri": "https://localhost:8080/"
        },
        "id": "YVE8OW0lqgdO",
        "outputId": "84cf7fd7-ca17-4493-e27b-e0d4561986f9"
      },
      "source": [
        "for e, i in enumerate(l):\r\n",
        "  print(e, i)"
      ],
      "execution_count": 12,
      "outputs": [
        {
          "output_type": "stream",
          "text": [
            "0 A\n",
            "1 B\n",
            "2 C\n"
          ],
          "name": "stdout"
        }
      ]
    },
    {
      "cell_type": "markdown",
      "metadata": {
        "id": "5u28uZ4CqzIo"
      },
      "source": [
        "##### Slicing Notation"
      ]
    },
    {
      "cell_type": "markdown",
      "metadata": {
        "id": "DSlJgKa1rPm1"
      },
      "source": [
        "The syntax is: *start:stop:step* "
      ]
    },
    {
      "cell_type": "code",
      "metadata": {
        "id": "1554Oi_Gq1VB"
      },
      "source": [
        "l = [0, 1, 2, 3, 4, 5]"
      ],
      "execution_count": 13,
      "outputs": []
    },
    {
      "cell_type": "code",
      "metadata": {
        "colab": {
          "base_uri": "https://localhost:8080/"
        },
        "id": "0muZDKcmrR_v",
        "outputId": "a4f70be4-3981-4f15-d6d5-dd7a116914e4"
      },
      "source": [
        "l[1:3]"
      ],
      "execution_count": 14,
      "outputs": [
        {
          "output_type": "execute_result",
          "data": {
            "text/plain": [
              "[1, 2]"
            ]
          },
          "metadata": {
            "tags": []
          },
          "execution_count": 14
        }
      ]
    },
    {
      "cell_type": "code",
      "metadata": {
        "colab": {
          "base_uri": "https://localhost:8080/"
        },
        "id": "pXmSRb9orUeY",
        "outputId": "b17cbf81-f8a4-4401-ac6f-d03c6c7e4950"
      },
      "source": [
        "l[0:5:2]"
      ],
      "execution_count": 15,
      "outputs": [
        {
          "output_type": "execute_result",
          "data": {
            "text/plain": [
              "[0, 2, 4]"
            ]
          },
          "metadata": {
            "tags": []
          },
          "execution_count": 15
        }
      ]
    },
    {
      "cell_type": "markdown",
      "metadata": {
        "id": "jNeomNi3eXv0"
      },
      "source": [
        "### 2. List Comprehensions"
      ]
    },
    {
      "cell_type": "code",
      "metadata": {
        "colab": {
          "base_uri": "https://localhost:8080/"
        },
        "id": "mu3Zn2jdA7u8",
        "outputId": "02f9279e-77f6-4cbf-b973-0f4cafcaf5b4"
      },
      "source": [
        "numbers = [1, 2, 3]\r\n",
        "n_times_ten = []\r\n",
        "\r\n",
        "for number in numbers:\r\n",
        "  n_times_ten.append(number * 10)\r\n",
        "\r\n",
        "n_times_ten"
      ],
      "execution_count": 16,
      "outputs": [
        {
          "output_type": "execute_result",
          "data": {
            "text/plain": [
              "[10, 20, 30]"
            ]
          },
          "metadata": {
            "tags": []
          },
          "execution_count": 16
        }
      ]
    },
    {
      "cell_type": "code",
      "metadata": {
        "colab": {
          "base_uri": "https://localhost:8080/"
        },
        "id": "uYI-m9txBOpm",
        "outputId": "a31ebfe2-53cb-4b1a-fe30-c0cf726126dd"
      },
      "source": [
        "[n * 10 for n in numbers]"
      ],
      "execution_count": 17,
      "outputs": [
        {
          "output_type": "execute_result",
          "data": {
            "text/plain": [
              "[10, 20, 30]"
            ]
          },
          "metadata": {
            "tags": []
          },
          "execution_count": 17
        }
      ]
    },
    {
      "cell_type": "code",
      "metadata": {
        "colab": {
          "base_uri": "https://localhost:8080/"
        },
        "id": "fZbx8EeyBYIv",
        "outputId": "65d27589-4b07-4b83-8ceb-9ea367328fd6"
      },
      "source": [
        "lol = [\r\n",
        "       [1, 'A'],\r\n",
        "       [2, 'B'],\r\n",
        "       [3, 'C']\r\n",
        "]\r\n",
        "\r\n",
        "lol"
      ],
      "execution_count": 18,
      "outputs": [
        {
          "output_type": "execute_result",
          "data": {
            "text/plain": [
              "[[1, 'A'], [2, 'B'], [3, 'C']]"
            ]
          },
          "metadata": {
            "tags": []
          },
          "execution_count": 18
        }
      ]
    },
    {
      "cell_type": "code",
      "metadata": {
        "colab": {
          "base_uri": "https://localhost:8080/"
        },
        "id": "SA-lNPM6Bi9_",
        "outputId": "30be4a19-5ace-416a-f794-023e2972d5f7"
      },
      "source": [
        "for n in lol:\r\n",
        "  print(n[1])"
      ],
      "execution_count": 19,
      "outputs": [
        {
          "output_type": "stream",
          "text": [
            "A\n",
            "B\n",
            "C\n"
          ],
          "name": "stdout"
        }
      ]
    },
    {
      "cell_type": "code",
      "metadata": {
        "colab": {
          "base_uri": "https://localhost:8080/"
        },
        "id": "PuQ8x_1TBvkC",
        "outputId": "8c76974d-92ed-4801-9404-106691c1dbeb"
      },
      "source": [
        "[n[1] for n in lol]"
      ],
      "execution_count": 20,
      "outputs": [
        {
          "output_type": "execute_result",
          "data": {
            "text/plain": [
              "['A', 'B', 'C']"
            ]
          },
          "metadata": {
            "tags": []
          },
          "execution_count": 20
        }
      ]
    },
    {
      "cell_type": "markdown",
      "metadata": {
        "id": "4Hq2R4Wghrms"
      },
      "source": [
        "### 3. Pandas"
      ]
    },
    {
      "cell_type": "markdown",
      "metadata": {
        "id": "kwq56INvPd3t"
      },
      "source": [
        "When importing libraries, we can use `as` to give the library another name. For `pandas`, it is convention to simple use `pd` as an alias."
      ]
    },
    {
      "cell_type": "code",
      "metadata": {
        "id": "hTdiV4zYB0-Q"
      },
      "source": [
        "import pandas as pd"
      ],
      "execution_count": 21,
      "outputs": []
    },
    {
      "cell_type": "code",
      "metadata": {
        "colab": {
          "base_uri": "https://localhost:8080/",
          "height": 171
        },
        "id": "g4HMvNV8CBGn",
        "outputId": "060aad4f-2003-4712-e820-e5255065127e"
      },
      "source": [
        "df = pd.DataFrame()\r\n",
        "\r\n",
        "df['Document'] = [0, 1, 2, 3]\r\n",
        "df['Tokens'] = [1000, 2000, 3000, 3000]\r\n",
        "df['Sentiment'] = [0.2, 0.3, 0.8, None]\r\n",
        "\r\n",
        "df"
      ],
      "execution_count": 22,
      "outputs": [
        {
          "output_type": "execute_result",
          "data": {
            "text/html": [
              "<div>\n",
              "<style scoped>\n",
              "    .dataframe tbody tr th:only-of-type {\n",
              "        vertical-align: middle;\n",
              "    }\n",
              "\n",
              "    .dataframe tbody tr th {\n",
              "        vertical-align: top;\n",
              "    }\n",
              "\n",
              "    .dataframe thead th {\n",
              "        text-align: right;\n",
              "    }\n",
              "</style>\n",
              "<table border=\"1\" class=\"dataframe\">\n",
              "  <thead>\n",
              "    <tr style=\"text-align: right;\">\n",
              "      <th></th>\n",
              "      <th>Document</th>\n",
              "      <th>Tokens</th>\n",
              "      <th>Sentiment</th>\n",
              "    </tr>\n",
              "  </thead>\n",
              "  <tbody>\n",
              "    <tr>\n",
              "      <th>0</th>\n",
              "      <td>0</td>\n",
              "      <td>1000</td>\n",
              "      <td>0.2</td>\n",
              "    </tr>\n",
              "    <tr>\n",
              "      <th>1</th>\n",
              "      <td>1</td>\n",
              "      <td>2000</td>\n",
              "      <td>0.3</td>\n",
              "    </tr>\n",
              "    <tr>\n",
              "      <th>2</th>\n",
              "      <td>2</td>\n",
              "      <td>3000</td>\n",
              "      <td>0.8</td>\n",
              "    </tr>\n",
              "    <tr>\n",
              "      <th>3</th>\n",
              "      <td>3</td>\n",
              "      <td>3000</td>\n",
              "      <td>NaN</td>\n",
              "    </tr>\n",
              "  </tbody>\n",
              "</table>\n",
              "</div>"
            ],
            "text/plain": [
              "   Document  Tokens  Sentiment\n",
              "0         0    1000        0.2\n",
              "1         1    2000        0.3\n",
              "2         2    3000        0.8\n",
              "3         3    3000        NaN"
            ]
          },
          "metadata": {
            "tags": []
          },
          "execution_count": 22
        }
      ]
    },
    {
      "cell_type": "markdown",
      "metadata": {
        "id": "fe4x6pnfSq7k"
      },
      "source": [
        "Pandas has many methods that help with getting data into your programs. For example, here we are using `read_csv()` to read a CSV file."
      ]
    },
    {
      "cell_type": "code",
      "metadata": {
        "id": "FRhukaVACHpO"
      },
      "source": [
        "df_2 = pd.read_csv('python-programming-for-linguists/2020/data/numerical/pandas_demo.csv')"
      ],
      "execution_count": 23,
      "outputs": []
    },
    {
      "cell_type": "code",
      "metadata": {
        "id": "HObPuSGNCl6A"
      },
      "source": [
        "df = df.set_index('Document')"
      ],
      "execution_count": 24,
      "outputs": []
    },
    {
      "cell_type": "code",
      "metadata": {
        "colab": {
          "base_uri": "https://localhost:8080/"
        },
        "id": "HfNkJIc0C7JS",
        "outputId": "caea6f21-a8c9-4358-f3b6-f0264ed0c9ad"
      },
      "source": [
        "df['Tokens']"
      ],
      "execution_count": 25,
      "outputs": [
        {
          "output_type": "execute_result",
          "data": {
            "text/plain": [
              "Document\n",
              "0    1000\n",
              "1    2000\n",
              "2    3000\n",
              "3    3000\n",
              "Name: Tokens, dtype: int64"
            ]
          },
          "metadata": {
            "tags": []
          },
          "execution_count": 25
        }
      ]
    },
    {
      "cell_type": "code",
      "metadata": {
        "colab": {
          "base_uri": "https://localhost:8080/"
        },
        "id": "V_KUQ2awDCWx",
        "outputId": "11240c62-7d77-4edb-c340-30616d6526c0"
      },
      "source": [
        "df['Tokens'].mean()"
      ],
      "execution_count": 26,
      "outputs": [
        {
          "output_type": "execute_result",
          "data": {
            "text/plain": [
              "2250.0"
            ]
          },
          "metadata": {
            "tags": []
          },
          "execution_count": 26
        }
      ]
    },
    {
      "cell_type": "code",
      "metadata": {
        "colab": {
          "base_uri": "https://localhost:8080/"
        },
        "id": "t3bXcCYyDIKZ",
        "outputId": "393e3c69-454a-4643-e505-48fa9e4820ea"
      },
      "source": [
        "df['Sentiment'].describe()"
      ],
      "execution_count": 27,
      "outputs": [
        {
          "output_type": "execute_result",
          "data": {
            "text/plain": [
              "count    3.000000\n",
              "mean     0.433333\n",
              "std      0.321455\n",
              "min      0.200000\n",
              "25%      0.250000\n",
              "50%      0.300000\n",
              "75%      0.550000\n",
              "max      0.800000\n",
              "Name: Sentiment, dtype: float64"
            ]
          },
          "metadata": {
            "tags": []
          },
          "execution_count": 27
        }
      ]
    },
    {
      "cell_type": "code",
      "metadata": {
        "colab": {
          "base_uri": "https://localhost:8080/",
          "height": 140
        },
        "id": "96elnKBzDPrM",
        "outputId": "e2217fd0-49c1-4ea2-f56c-7e813c79816b"
      },
      "source": [
        "df[df['Tokens'] > 2000]"
      ],
      "execution_count": 28,
      "outputs": [
        {
          "output_type": "execute_result",
          "data": {
            "text/html": [
              "<div>\n",
              "<style scoped>\n",
              "    .dataframe tbody tr th:only-of-type {\n",
              "        vertical-align: middle;\n",
              "    }\n",
              "\n",
              "    .dataframe tbody tr th {\n",
              "        vertical-align: top;\n",
              "    }\n",
              "\n",
              "    .dataframe thead th {\n",
              "        text-align: right;\n",
              "    }\n",
              "</style>\n",
              "<table border=\"1\" class=\"dataframe\">\n",
              "  <thead>\n",
              "    <tr style=\"text-align: right;\">\n",
              "      <th></th>\n",
              "      <th>Tokens</th>\n",
              "      <th>Sentiment</th>\n",
              "    </tr>\n",
              "    <tr>\n",
              "      <th>Document</th>\n",
              "      <th></th>\n",
              "      <th></th>\n",
              "    </tr>\n",
              "  </thead>\n",
              "  <tbody>\n",
              "    <tr>\n",
              "      <th>2</th>\n",
              "      <td>3000</td>\n",
              "      <td>0.8</td>\n",
              "    </tr>\n",
              "    <tr>\n",
              "      <th>3</th>\n",
              "      <td>3000</td>\n",
              "      <td>NaN</td>\n",
              "    </tr>\n",
              "  </tbody>\n",
              "</table>\n",
              "</div>"
            ],
            "text/plain": [
              "          Tokens  Sentiment\n",
              "Document                   \n",
              "2           3000        0.8\n",
              "3           3000        NaN"
            ]
          },
          "metadata": {
            "tags": []
          },
          "execution_count": 28
        }
      ]
    },
    {
      "cell_type": "markdown",
      "metadata": {
        "id": "FA4SPFCGSCVc"
      },
      "source": [
        "This selection works based on boolean logic (True/False). `df['Tokens'] > 2000` will return a series of True/False statements for each row in the DataFrame that correspond to the criteria (`> 2000`)."
      ]
    },
    {
      "cell_type": "code",
      "metadata": {
        "colab": {
          "base_uri": "https://localhost:8080/"
        },
        "id": "AzPP--WXSP9K",
        "outputId": "5f80a1d9-a242-40c2-bf21-ff626fac7027"
      },
      "source": [
        "df['Tokens'] > 2000"
      ],
      "execution_count": 29,
      "outputs": [
        {
          "output_type": "execute_result",
          "data": {
            "text/plain": [
              "Document\n",
              "0    False\n",
              "1    False\n",
              "2     True\n",
              "3     True\n",
              "Name: Tokens, dtype: bool"
            ]
          },
          "metadata": {
            "tags": []
          },
          "execution_count": 29
        }
      ]
    },
    {
      "cell_type": "code",
      "metadata": {
        "colab": {
          "base_uri": "https://localhost:8080/",
          "height": 201
        },
        "id": "aWICqmw3DaQ0",
        "outputId": "ba6a494b-b547-457a-a75a-b4bcf6f46db1"
      },
      "source": [
        "df.fillna(df.mean())"
      ],
      "execution_count": 30,
      "outputs": [
        {
          "output_type": "execute_result",
          "data": {
            "text/html": [
              "<div>\n",
              "<style scoped>\n",
              "    .dataframe tbody tr th:only-of-type {\n",
              "        vertical-align: middle;\n",
              "    }\n",
              "\n",
              "    .dataframe tbody tr th {\n",
              "        vertical-align: top;\n",
              "    }\n",
              "\n",
              "    .dataframe thead th {\n",
              "        text-align: right;\n",
              "    }\n",
              "</style>\n",
              "<table border=\"1\" class=\"dataframe\">\n",
              "  <thead>\n",
              "    <tr style=\"text-align: right;\">\n",
              "      <th></th>\n",
              "      <th>Tokens</th>\n",
              "      <th>Sentiment</th>\n",
              "    </tr>\n",
              "    <tr>\n",
              "      <th>Document</th>\n",
              "      <th></th>\n",
              "      <th></th>\n",
              "    </tr>\n",
              "  </thead>\n",
              "  <tbody>\n",
              "    <tr>\n",
              "      <th>0</th>\n",
              "      <td>1000</td>\n",
              "      <td>0.200000</td>\n",
              "    </tr>\n",
              "    <tr>\n",
              "      <th>1</th>\n",
              "      <td>2000</td>\n",
              "      <td>0.300000</td>\n",
              "    </tr>\n",
              "    <tr>\n",
              "      <th>2</th>\n",
              "      <td>3000</td>\n",
              "      <td>0.800000</td>\n",
              "    </tr>\n",
              "    <tr>\n",
              "      <th>3</th>\n",
              "      <td>3000</td>\n",
              "      <td>0.433333</td>\n",
              "    </tr>\n",
              "  </tbody>\n",
              "</table>\n",
              "</div>"
            ],
            "text/plain": [
              "          Tokens  Sentiment\n",
              "Document                   \n",
              "0           1000   0.200000\n",
              "1           2000   0.300000\n",
              "2           3000   0.800000\n",
              "3           3000   0.433333"
            ]
          },
          "metadata": {
            "tags": []
          },
          "execution_count": 30
        }
      ]
    },
    {
      "cell_type": "markdown",
      "metadata": {
        "id": "Ws_LDA_BxRXp"
      },
      "source": [
        "The `.apply()` Method can be used to apply a function to a row."
      ]
    },
    {
      "cell_type": "code",
      "metadata": {
        "id": "la5sdMgzxQFF"
      },
      "source": [
        "def double(x):\r\n",
        "  '''This function will double a given number.'''\r\n",
        "  return x * 2"
      ],
      "execution_count": 31,
      "outputs": []
    },
    {
      "cell_type": "markdown",
      "metadata": {
        "id": "gWzLuBhnP1pa"
      },
      "source": [
        "We will `apply` the `double` function to axis 1 (rows). As you can see, all numbers have doubled."
      ]
    },
    {
      "cell_type": "code",
      "metadata": {
        "colab": {
          "base_uri": "https://localhost:8080/",
          "height": 201
        },
        "id": "67PMBLTmPo4C",
        "outputId": "3ed1d83f-6406-42eb-b11d-14f19b620462"
      },
      "source": [
        "df.apply(double, axis=1)"
      ],
      "execution_count": 32,
      "outputs": [
        {
          "output_type": "execute_result",
          "data": {
            "text/html": [
              "<div>\n",
              "<style scoped>\n",
              "    .dataframe tbody tr th:only-of-type {\n",
              "        vertical-align: middle;\n",
              "    }\n",
              "\n",
              "    .dataframe tbody tr th {\n",
              "        vertical-align: top;\n",
              "    }\n",
              "\n",
              "    .dataframe thead th {\n",
              "        text-align: right;\n",
              "    }\n",
              "</style>\n",
              "<table border=\"1\" class=\"dataframe\">\n",
              "  <thead>\n",
              "    <tr style=\"text-align: right;\">\n",
              "      <th></th>\n",
              "      <th>Tokens</th>\n",
              "      <th>Sentiment</th>\n",
              "    </tr>\n",
              "    <tr>\n",
              "      <th>Document</th>\n",
              "      <th></th>\n",
              "      <th></th>\n",
              "    </tr>\n",
              "  </thead>\n",
              "  <tbody>\n",
              "    <tr>\n",
              "      <th>0</th>\n",
              "      <td>2000.0</td>\n",
              "      <td>0.4</td>\n",
              "    </tr>\n",
              "    <tr>\n",
              "      <th>1</th>\n",
              "      <td>4000.0</td>\n",
              "      <td>0.6</td>\n",
              "    </tr>\n",
              "    <tr>\n",
              "      <th>2</th>\n",
              "      <td>6000.0</td>\n",
              "      <td>1.6</td>\n",
              "    </tr>\n",
              "    <tr>\n",
              "      <th>3</th>\n",
              "      <td>6000.0</td>\n",
              "      <td>NaN</td>\n",
              "    </tr>\n",
              "  </tbody>\n",
              "</table>\n",
              "</div>"
            ],
            "text/plain": [
              "          Tokens  Sentiment\n",
              "Document                   \n",
              "0         2000.0        0.4\n",
              "1         4000.0        0.6\n",
              "2         6000.0        1.6\n",
              "3         6000.0        NaN"
            ]
          },
          "metadata": {
            "tags": []
          },
          "execution_count": 32
        }
      ]
    },
    {
      "cell_type": "markdown",
      "metadata": {
        "id": "nc-hhG8rQBCq"
      },
      "source": [
        "Sometimes we might want to use column values while using apply. Here Lambdas come into play. In the example below, we want to create a new column that contains *Sentiment* times 100. We will be using a very simple function `times100` to do that. In the `.apply()` method, we will be using a Lambda to pass the relevant column (*Sentiment*) to the function."
      ]
    },
    {
      "cell_type": "code",
      "metadata": {
        "id": "zQ1l69GnQXs7"
      },
      "source": [
        "def time100(x):\r\n",
        "  return x * 100"
      ],
      "execution_count": 33,
      "outputs": []
    },
    {
      "cell_type": "code",
      "metadata": {
        "id": "jWZIYqq8QPYj",
        "colab": {
          "base_uri": "https://localhost:8080/",
          "height": 201
        },
        "outputId": "df48ccfd-b4db-425b-9923-ab8c150d4d25"
      },
      "source": [
        "df['Sx100'] = df.apply(lambda row : time100(row[1]), axis=1)\r\n",
        "df"
      ],
      "execution_count": 34,
      "outputs": [
        {
          "output_type": "execute_result",
          "data": {
            "text/html": [
              "<div>\n",
              "<style scoped>\n",
              "    .dataframe tbody tr th:only-of-type {\n",
              "        vertical-align: middle;\n",
              "    }\n",
              "\n",
              "    .dataframe tbody tr th {\n",
              "        vertical-align: top;\n",
              "    }\n",
              "\n",
              "    .dataframe thead th {\n",
              "        text-align: right;\n",
              "    }\n",
              "</style>\n",
              "<table border=\"1\" class=\"dataframe\">\n",
              "  <thead>\n",
              "    <tr style=\"text-align: right;\">\n",
              "      <th></th>\n",
              "      <th>Tokens</th>\n",
              "      <th>Sentiment</th>\n",
              "      <th>Sx100</th>\n",
              "    </tr>\n",
              "    <tr>\n",
              "      <th>Document</th>\n",
              "      <th></th>\n",
              "      <th></th>\n",
              "      <th></th>\n",
              "    </tr>\n",
              "  </thead>\n",
              "  <tbody>\n",
              "    <tr>\n",
              "      <th>0</th>\n",
              "      <td>1000</td>\n",
              "      <td>0.2</td>\n",
              "      <td>20.0</td>\n",
              "    </tr>\n",
              "    <tr>\n",
              "      <th>1</th>\n",
              "      <td>2000</td>\n",
              "      <td>0.3</td>\n",
              "      <td>30.0</td>\n",
              "    </tr>\n",
              "    <tr>\n",
              "      <th>2</th>\n",
              "      <td>3000</td>\n",
              "      <td>0.8</td>\n",
              "      <td>80.0</td>\n",
              "    </tr>\n",
              "    <tr>\n",
              "      <th>3</th>\n",
              "      <td>3000</td>\n",
              "      <td>NaN</td>\n",
              "      <td>NaN</td>\n",
              "    </tr>\n",
              "  </tbody>\n",
              "</table>\n",
              "</div>"
            ],
            "text/plain": [
              "          Tokens  Sentiment  Sx100\n",
              "Document                          \n",
              "0           1000        0.2   20.0\n",
              "1           2000        0.3   30.0\n",
              "2           3000        0.8   80.0\n",
              "3           3000        NaN    NaN"
            ]
          },
          "metadata": {
            "tags": []
          },
          "execution_count": 34
        }
      ]
    },
    {
      "cell_type": "markdown",
      "metadata": {
        "id": "fGM5yrfSYN0E"
      },
      "source": [
        "## B. Exercises (8 to 16)"
      ]
    },
    {
      "cell_type": "markdown",
      "metadata": {
        "id": "CpTf9HnDZZBL"
      },
      "source": [
        "### Environment"
      ]
    },
    {
      "cell_type": "markdown",
      "metadata": {
        "id": "_qV_x2ogW9qb"
      },
      "source": [
        "Here, we are setting up our environment. First, we are installing two additional libraries/dependencies - `textdirectory` and `justext`.\r\n",
        "\r\n",
        "Then we are `import`-ing all the needed dependencies.\r\n",
        "\r\n",
        "Finally, we are using two scripts, provided in the repository, to download two corpora."
      ]
    },
    {
      "cell_type": "code",
      "metadata": {
        "id": "PoWWCg--DtgW"
      },
      "source": [
        "%%capture\r\n",
        "!pip install textdirectory --upgrade\r\n",
        "!pip install justext"
      ],
      "execution_count": 35,
      "outputs": []
    },
    {
      "cell_type": "code",
      "metadata": {
        "id": "eneM8GARD4Yg"
      },
      "source": [
        "# Basics from Python's standard library\r\n",
        "import re\r\n",
        "import statistics\r\n",
        "import math\r\n",
        "\r\n",
        "from collections import Counter\r\n",
        "from operator import itemgetter\r\n",
        "\r\n",
        "from io import StringIO\r\n",
        "\r\n",
        "# Data Science\r\n",
        "import pandas as pd\r\n",
        "\r\n",
        "# XML\r\n",
        "import lxml\r\n",
        "\r\n",
        "# NLP\r\n",
        "import nltk\r\n",
        "from nltk.corpus import wordnet\r\n",
        "from nltk.stem import PorterStemmer\r\n",
        "from nltk.stem import LancasterStemmer\r\n",
        "from nltk.stem import WordNetLemmatizer\r\n",
        "import spacy\r\n",
        "from spacy import displacy\r\n",
        "import textdirectory\r\n",
        "\r\n",
        "# Web\r\n",
        "import requests\r\n",
        "from bs4 import BeautifulSoup\r\n",
        "import justext\r\n",
        "\r\n",
        "# Formatting output\r\n",
        "from tabulate import tabulate"
      ],
      "execution_count": 36,
      "outputs": []
    },
    {
      "cell_type": "code",
      "metadata": {
        "id": "m7DAj4DhD-IO"
      },
      "source": [
        "%%capture\r\n",
        "!cd python-programming-for-linguists/2020/data && sh download_hum19uk.sh\r\n",
        "!cd python-programming-for-linguists/2020/data && sh download_coca.sh"
      ],
      "execution_count": 37,
      "outputs": []
    },
    {
      "cell_type": "markdown",
      "metadata": {
        "id": "n_BfVcYGKLRw"
      },
      "source": [
        "### Exercise 8 – Concordancer"
      ]
    },
    {
      "cell_type": "code",
      "metadata": {
        "id": "-zQqd5poEelj"
      },
      "source": [
        "wikipedia = textdirectory.TextDirectory(directory='python-programming-for-linguists/2020/data/wikipedia', autoload=True)"
      ],
      "execution_count": 38,
      "outputs": []
    },
    {
      "cell_type": "markdown",
      "metadata": {
        "id": "txSWdW1MW1Va"
      },
      "source": [
        "We can use `.get_text()` to get the actual text. If the documents/files have not been transformed yet, this will simply load the text from the given file.\r\n",
        "\r\n",
        "Be careful: `.get_text()` can also provide you with texts that are not part of the aggregation (i.e., that have been filtered out)."
      ]
    },
    {
      "cell_type": "code",
      "metadata": {
        "colab": {
          "base_uri": "https://localhost:8080/",
          "height": 104
        },
        "id": "gZd7GGSYE2FX",
        "outputId": "ff794b57-0ce8-45ea-8341-c777b5fbfb74"
      },
      "source": [
        "wikipedia.get_text(0)"
      ],
      "execution_count": 39,
      "outputs": [
        {
          "output_type": "execute_result",
          "data": {
            "application/vnd.google.colaboratory.intrinsic+json": {
              "type": "string"
            },
            "text/plain": [
              "'Cologne is the largest city of Germany\\'s most populous federal state of North Rhine-Westphalia and the fourth-most populous city in Germany. With slightly over a million inhabitants (1.09 million) within its city boundaries, Cologne is the largest city on the Rhine and also the most populous city both of the Rhine-Ruhr Metropolitan Region, which is Germany\\'s largest and one of Europe\\'s major metropolitan areas, and of the Rhineland. Centered on the left bank of the Rhine, Cologne is about 45 kilometres (28 mi) southeast of North Rhine-Westphalia\\'s capital of Düsseldorf and 25 kilometres (16 mi) northwest of Bonn. It is the largest city in the Central Franconian and Ripuarian dialect areas.\\nThe city\\'s Cologne Cathedral (Kölner Dom) is the seat of the Catholic Archbishop of Cologne. There are many institutions of higher education in the city, most notably the University of Cologne (Universität zu Köln), one of Europe\\'s oldest and largest universities, the Technical University of Cologne (Technische Hochschule Köln), Germany\\'s largest university of applied sciences, and the German Sport University Cologne (Deutsche Sporthochschule Köln), Germany\\'s only sport university. Cologne Bonn Airport (Flughafen Köln/Bonn) is Germany\\'s seventh-largest airport and lies in the southeast of the city. The main airport for the Rhine-Ruhr region is Düsseldorf Airport.\\nCologne was founded and established in Ubii territory in the 1st century AD as the Roman Colonia Claudia Ara Agrippinensium, the first word of which is the origin of its name. An alternative Latin name of the settlement is Augusta Ubiorum, after the Ubii. \"Cologne\", the French version of the city\\'s name, has become standard in English as well. Cologne functioned as the capital of the Roman province of Germania Inferior and as the headquarters of the Roman military in the region until occupied by the Franks in 462. During the Middle Ages the city flourished as being located on one of the most important major trade routes between east and western Europe. Cologne was one of the leading members of the Hanseatic League and one of the largest cities north of the Alps in medieval and Renaissance times. Prior to World War II, the city had undergone several occupations by the French and also by the British (1918–1926). Cologne was one of the most heavily bombed cities in Germany during World War II, with the Royal Air Force (RAF) dropping 34,711 long tons (35,268 tonnes) of bombs on the city. The bombing reduced the population by 95%, mainly due to evacuation, and destroyed almost the entire city centre. With the intention of restoring as many historic landmarks as possible, the postwar rebuilding has resulted in a very mixed and unique cityscape.\\nCologne is a major cultural centre for the Rhineland; it hosts more than 30 museums and hundreds of galleries. Exhibitions range from local ancient Roman archeological sites to contemporary graphics and sculpture. The Cologne Trade Fair hosts a number of trade shows such as Art Cologne, imm Cologne, Gamescom, and the Photokina.'"
            ]
          },
          "metadata": {
            "tags": []
          },
          "execution_count": 39
        }
      ]
    },
    {
      "cell_type": "markdown",
      "metadata": {
        "id": "CIeAFZPxqVNp"
      },
      "source": [
        "#### RegEx-Based Approach"
      ]
    },
    {
      "cell_type": "markdown",
      "metadata": {
        "id": "ol4tTp5WUE8k"
      },
      "source": [
        "It is technically not necessary to `compile` the regular expression. However, it often makes the code more readable and it is also advisable when using the same expression multiple times."
      ]
    },
    {
      "cell_type": "code",
      "metadata": {
        "colab": {
          "base_uri": "https://localhost:8080/"
        },
        "id": "vkfRfUX0E6vh",
        "outputId": "8d6a80c2-ca92-4936-aa0a-78e89156266d"
      },
      "source": [
        "cologne = wikipedia.get_text(0)\r\n",
        "regex = re.compile(r'.{0,25}city\\b.{25}|city\\b.{0,25}', re.IGNORECASE)\r\n",
        "concordances = re.findall(regex, cologne)\r\n",
        "\r\n",
        "concordances"
      ],
      "execution_count": 40,
      "outputs": [
        {
          "output_type": "execute_result",
          "data": {
            "text/plain": [
              "[\"Cologne is the largest city of Germany's most populo\",\n",
              " 'the fourth-most populous city in Germany. With slightl',\n",
              " '1.09 million) within its city boundaries, Cologne is t',\n",
              " 'he largest city on the Rhine and also th',\n",
              " 'e most populous city both of the Rhine-Ruhr M',\n",
              " ' Bonn. It is the largest city in the Central Franconia',\n",
              " \"The city's Cologne Cathedral (Köl\",\n",
              " ' higher education in the city, most notably the Univer',\n",
              " ' in the southeast of the city. The main airport for th',\n",
              " \"he French version of the city's name, has become stand\",\n",
              " 'ring the Middle Ages the city flourished as being loca',\n",
              " 'ior to World War II, the city had undergone several oc',\n",
              " ' tonnes) of bombs on the city. The bombing reduced the',\n",
              " 'troyed almost the entire city centre. With the intenti']"
            ]
          },
          "metadata": {
            "tags": []
          },
          "execution_count": 40
        }
      ]
    },
    {
      "cell_type": "markdown",
      "metadata": {
        "id": "JDPGIL_lqRck"
      },
      "source": [
        "#### Token-Based Approach"
      ]
    },
    {
      "cell_type": "markdown",
      "metadata": {
        "id": "xEydo1FJqdqq"
      },
      "source": [
        "Below we will define a `tokenize` function, which we will use repeatedly. This simple regex tokenizer, despite its simplicity, works quite well for English. Feel free to replace this function with something more powerful!"
      ]
    },
    {
      "cell_type": "code",
      "metadata": {
        "id": "Ak-pel7GGKbS"
      },
      "source": [
        "def tokenize(text):\r\n",
        "  return re.findall(r'\\w+', text)"
      ],
      "execution_count": 41,
      "outputs": []
    },
    {
      "cell_type": "code",
      "metadata": {
        "colab": {
          "base_uri": "https://localhost:8080/"
        },
        "id": "x8A43pLVGajC",
        "outputId": "535e4641-3cd0-4a80-9300-f4f574c35542"
      },
      "source": [
        "tokenize('Hello world')"
      ],
      "execution_count": 42,
      "outputs": [
        {
          "output_type": "execute_result",
          "data": {
            "text/plain": [
              "['Hello', 'world']"
            ]
          },
          "metadata": {
            "tags": []
          },
          "execution_count": 42
        }
      ]
    },
    {
      "cell_type": "markdown",
      "metadata": {
        "id": "kzDTsD7NXGTM"
      },
      "source": [
        "In this variant, we are not differentiating between the left and right span."
      ]
    },
    {
      "cell_type": "code",
      "metadata": {
        "colab": {
          "base_uri": "https://localhost:8080/"
        },
        "id": "PhfYBNP9Gdiv",
        "outputId": "5e0cb29a-04d2-4840-8b9b-97453bd8592b"
      },
      "source": [
        "cologne_tokenized = tokenize(cologne)\r\n",
        "search_word = 'city'\r\n",
        "lr = 4\r\n",
        "\r\n",
        "for id in range(len(cologne_tokenized)):\r\n",
        "  if cologne_tokenized[id] == search_word:\r\n",
        "    kwic = ' '.join(cologne_tokenized[id - lr : id + lr + 1])\r\n",
        "    print(kwic)"
      ],
      "execution_count": 43,
      "outputs": [
        {
          "output_type": "stream",
          "text": [
            "Cologne is the largest city of Germany s most\n",
            "the fourth most populous city in Germany With slightly\n",
            "09 million within its city boundaries Cologne is the\n",
            "Cologne is the largest city on the Rhine and\n",
            "also the most populous city both of the Rhine\n",
            "It is the largest city in the Central Franconian\n",
            "Ripuarian dialect areas The city s Cologne Cathedral Kölner\n",
            "higher education in the city most notably the University\n",
            "the southeast of the city The main airport for\n",
            "French version of the city s name has become\n",
            "the Middle Ages the city flourished as being located\n",
            "World War II the city had undergone several occupations\n",
            "of bombs on the city The bombing reduced the\n",
            "destroyed almost the entire city centre With the intention\n"
          ],
          "name": "stdout"
        }
      ]
    },
    {
      "cell_type": "markdown",
      "metadata": {
        "id": "J5jC3INWXL1L"
      },
      "source": [
        "Here, we are creating two separate strings for the left and right span. These are then printed using `tabulate`."
      ]
    },
    {
      "cell_type": "code",
      "metadata": {
        "colab": {
          "base_uri": "https://localhost:8080/"
        },
        "id": "vDQyC4ZLH-HP",
        "outputId": "d8a6edd2-413d-467f-81b1-bb9ecc44a0ec"
      },
      "source": [
        "cologne_tokenized = tokenize(cologne)\r\n",
        "search_word = 'city'\r\n",
        "lr = 4\r\n",
        "kwic = []\r\n",
        "\r\n",
        "for id in range(len(cologne_tokenized)):\r\n",
        "  if cologne_tokenized[id] == search_word:\r\n",
        "\r\n",
        "    l = ' '.join(cologne_tokenized[id - lr:id])\r\n",
        "    r = ' '.join(cologne_tokenized[id + 1: id + lr + 1])\r\n",
        "    kwic.append([l, search_word, r])\r\n",
        "\r\n",
        "print(tabulate(kwic))"
      ],
      "execution_count": 44,
      "outputs": [
        {
          "output_type": "stream",
          "text": [
            "---------------------------  ----  ---------------------------------\n",
            "Cologne is the largest       city  of Germany s most\n",
            "the fourth most populous     city  in Germany With slightly\n",
            "09 million within its        city  boundaries Cologne is the\n",
            "Cologne is the largest       city  on the Rhine and\n",
            "also the most populous       city  both of the Rhine\n",
            "It is the largest            city  in the Central Franconian\n",
            "Ripuarian dialect areas The  city  s Cologne Cathedral Kölner\n",
            "higher education in the      city  most notably the University\n",
            "the southeast of the         city  The main airport for\n",
            "French version of the        city  s name has become\n",
            "the Middle Ages the          city  flourished as being located\n",
            "World War II the             city  had undergone several occupations\n",
            "of bombs on the              city  The bombing reduced the\n",
            "destroyed almost the entire  city  centre With the intention\n",
            "---------------------------  ----  ---------------------------------\n"
          ],
          "name": "stdout"
        }
      ]
    },
    {
      "cell_type": "markdown",
      "metadata": {
        "id": "zI56CNlzXV8z"
      },
      "source": [
        "It is very helpful to sort concordances. Given our approach above, we can sort either by the left or right context. We can use `itemgetter` to sort the list of lists based on a subkey."
      ]
    },
    {
      "cell_type": "code",
      "metadata": {
        "colab": {
          "base_uri": "https://localhost:8080/"
        },
        "id": "7K10f5ATI0qa",
        "outputId": "1fb759d4-e92a-4cbe-afe3-04add2acad09"
      },
      "source": [
        "kwic.sort(key=itemgetter(2))\r\n",
        "print(tabulate(kwic))"
      ],
      "execution_count": 45,
      "outputs": [
        {
          "output_type": "stream",
          "text": [
            "---------------------------  ----  ---------------------------------\n",
            "of bombs on the              city  The bombing reduced the\n",
            "the southeast of the         city  The main airport for\n",
            "also the most populous       city  both of the Rhine\n",
            "09 million within its        city  boundaries Cologne is the\n",
            "destroyed almost the entire  city  centre With the intention\n",
            "the Middle Ages the          city  flourished as being located\n",
            "World War II the             city  had undergone several occupations\n",
            "the fourth most populous     city  in Germany With slightly\n",
            "It is the largest            city  in the Central Franconian\n",
            "higher education in the      city  most notably the University\n",
            "Cologne is the largest       city  of Germany s most\n",
            "Cologne is the largest       city  on the Rhine and\n",
            "Ripuarian dialect areas The  city  s Cologne Cathedral Kölner\n",
            "French version of the        city  s name has become\n",
            "---------------------------  ----  ---------------------------------\n"
          ],
          "name": "stdout"
        }
      ]
    },
    {
      "cell_type": "markdown",
      "metadata": {
        "id": "ifm5BisVseyt"
      },
      "source": [
        "### Exercise 9 - N-Grams\r\n",
        "Note: Number of N-Grams = Tokens + 1 - N"
      ]
    },
    {
      "cell_type": "code",
      "metadata": {
        "id": "obM4_vWMJsNk"
      },
      "source": [
        "text = 'I really like Python, it is pretty awesome.'"
      ],
      "execution_count": 46,
      "outputs": []
    },
    {
      "cell_type": "markdown",
      "metadata": {
        "id": "SL4oGT1HJyVK"
      },
      "source": [
        "#### NLTP Approach"
      ]
    },
    {
      "cell_type": "code",
      "metadata": {
        "id": "MGWc-VyXJw5f"
      },
      "source": [
        "def nltk_ngrams(text, n=3):\r\n",
        "  tokenized_text = tokenize(text)\r\n",
        "  ngrams = list(nltk.ngrams(tokenized_text, n))\r\n",
        "  return ngrams"
      ],
      "execution_count": 47,
      "outputs": []
    },
    {
      "cell_type": "code",
      "metadata": {
        "colab": {
          "base_uri": "https://localhost:8080/"
        },
        "id": "WywLVUZjKaHx",
        "outputId": "42e043f3-4809-4a4a-c481-748bee768070"
      },
      "source": [
        "nltk_ngrams(text, n=3)"
      ],
      "execution_count": 48,
      "outputs": [
        {
          "output_type": "execute_result",
          "data": {
            "text/plain": [
              "[('I', 'really', 'like'),\n",
              " ('really', 'like', 'Python'),\n",
              " ('like', 'Python', 'it'),\n",
              " ('Python', 'it', 'is'),\n",
              " ('it', 'is', 'pretty'),\n",
              " ('is', 'pretty', 'awesome')]"
            ]
          },
          "metadata": {
            "tags": []
          },
          "execution_count": 48
        }
      ]
    },
    {
      "cell_type": "markdown",
      "metadata": {
        "id": "WgL-zEApKuXI"
      },
      "source": [
        "#### Plain Old Python"
      ]
    },
    {
      "cell_type": "code",
      "metadata": {
        "id": "LEdyRRZjKv8v"
      },
      "source": [
        "def ngrams_gop(text, n=3):\r\n",
        "  tokenized_text = tokenize(text)\r\n",
        "  no_of_ngrams = len(tokenized_text) + 1 - n\r\n",
        "  ngrams = []\r\n",
        "\r\n",
        "  for i in range(no_of_ngrams):\r\n",
        "    print(i, tokenized_text[i:i+n])\r\n",
        "    ngrams.append(tokenized_text[i:i+n])\r\n",
        "\r\n",
        "  return ngrams"
      ],
      "execution_count": 49,
      "outputs": []
    },
    {
      "cell_type": "code",
      "metadata": {
        "colab": {
          "base_uri": "https://localhost:8080/"
        },
        "id": "IVXw0k1-Ljjb",
        "outputId": "54a5495b-92c0-4c02-cb06-8ddc16a9e583"
      },
      "source": [
        "ngrams_gop(text, 3)"
      ],
      "execution_count": 50,
      "outputs": [
        {
          "output_type": "stream",
          "text": [
            "0 ['I', 'really', 'like']\n",
            "1 ['really', 'like', 'Python']\n",
            "2 ['like', 'Python', 'it']\n",
            "3 ['Python', 'it', 'is']\n",
            "4 ['it', 'is', 'pretty']\n",
            "5 ['is', 'pretty', 'awesome']\n"
          ],
          "name": "stdout"
        },
        {
          "output_type": "execute_result",
          "data": {
            "text/plain": [
              "[['I', 'really', 'like'],\n",
              " ['really', 'like', 'Python'],\n",
              " ['like', 'Python', 'it'],\n",
              " ['Python', 'it', 'is'],\n",
              " ['it', 'is', 'pretty'],\n",
              " ['is', 'pretty', 'awesome']]"
            ]
          },
          "metadata": {
            "tags": []
          },
          "execution_count": 50
        }
      ]
    },
    {
      "cell_type": "markdown",
      "metadata": {
        "id": "DbitsVl5NDQF"
      },
      "source": [
        "### Exercise 10 - Frequency Analysis"
      ]
    },
    {
      "cell_type": "code",
      "metadata": {
        "id": "kcKmWG4uLx-3"
      },
      "source": [
        "cologne = wikipedia.get_text(0)\r\n",
        "tokenized_text = tokenize(cologne)"
      ],
      "execution_count": 51,
      "outputs": []
    },
    {
      "cell_type": "markdown",
      "metadata": {
        "id": "1kv7q0G1LyRt"
      },
      "source": [
        "#### NLTK Approach"
      ]
    },
    {
      "cell_type": "code",
      "metadata": {
        "id": "cuoQYwE4L57Z"
      },
      "source": [
        "frequencies = nltk.probability.FreqDist(tokenized_text)"
      ],
      "execution_count": 52,
      "outputs": []
    },
    {
      "cell_type": "code",
      "metadata": {
        "colab": {
          "base_uri": "https://localhost:8080/"
        },
        "id": "apj48hltMDzM",
        "outputId": "8cf3ce80-6ce0-4163-9972-a1f08f288680"
      },
      "source": [
        "frequencies['the']"
      ],
      "execution_count": 53,
      "outputs": [
        {
          "output_type": "execute_result",
          "data": {
            "text/plain": [
              "53"
            ]
          },
          "metadata": {
            "tags": []
          },
          "execution_count": 53
        }
      ]
    },
    {
      "cell_type": "markdown",
      "metadata": {
        "id": "QNTntPAkZgYN"
      },
      "source": [
        "We can easily plot `FreqDist` objects by calling the `.plot()` method."
      ]
    },
    {
      "cell_type": "code",
      "metadata": {
        "colab": {
          "base_uri": "https://localhost:8080/",
          "height": 353
        },
        "id": "SSPKk2KjMMVG",
        "outputId": "a927ca33-4764-4fe3-9588-1bbeaa70b4c2"
      },
      "source": [
        "frequencies.plot()"
      ],
      "execution_count": 54,
      "outputs": [
        {
          "output_type": "display_data",
          "data": {
            "image/png": "[encoded data removed]",
            "text/plain": [
              "<Figure size 432x288 with 1 Axes>"
            ]
          },
          "metadata": {
            "tags": [],
            "needs_background": "light"
          }
        }
      ]
    },
    {
      "cell_type": "markdown",
      "metadata": {
        "id": "YEJmUfTeMZE3"
      },
      "source": [
        "#### Counter Approach"
      ]
    },
    {
      "cell_type": "code",
      "metadata": {
        "colab": {
          "base_uri": "https://localhost:8080/"
        },
        "id": "O-sLwsc-MomI",
        "outputId": "dbfd7dcf-0840-4107-99f4-387decbeef08"
      },
      "source": [
        "Counter(tokenized_text).most_common(10)"
      ],
      "execution_count": 55,
      "outputs": [
        {
          "output_type": "execute_result",
          "data": {
            "text/plain": [
              "[('the', 53),\n",
              " ('of', 34),\n",
              " ('and', 20),\n",
              " ('Cologne', 18),\n",
              " ('city', 14),\n",
              " ('in', 12),\n",
              " ('is', 11),\n",
              " ('s', 10),\n",
              " ('largest', 8),\n",
              " ('as', 8)]"
            ]
          },
          "metadata": {
            "tags": []
          },
          "execution_count": 55
        }
      ]
    },
    {
      "cell_type": "markdown",
      "metadata": {
        "id": "MZ4HteNVa--F"
      },
      "source": [
        "#### spaCy Approach"
      ]
    },
    {
      "cell_type": "code",
      "metadata": {
        "colab": {
          "base_uri": "https://localhost:8080/"
        },
        "id": "iTGc2UPGbAnh",
        "outputId": "f824e9f4-cd43-4f14-e1af-1759b48ffbf5"
      },
      "source": [
        "nlp = spacy.load('en_core_web_sm')\r\n",
        "doc = nlp(cologne)\r\n",
        "\r\n",
        "frequencies = doc.count_by(spacy.attrs.IDS['ORTH'])\r\n",
        "\r\n",
        "frequencies"
      ],
      "execution_count": 56,
      "outputs": [
        {
          "output_type": "execute_result",
          "data": {
            "text/plain": [
              "{432: 1,\n",
              " 24251518153235700: 1,\n",
              " 105500112762911502: 1,\n",
              " 303894265455322974: 1,\n",
              " 313188162254974305: 4,\n",
              " 579043611916083110: 1,\n",
              " 612863283393206791: 1,\n",
              " 631425121691394544: 1,\n",
              " 773980847981339143: 1,\n",
              " 880775317940149168: 1,\n",
              " 886050111519832510: 34,\n",
              " 888751574138454126: 18,\n",
              " 942632335873952620: 1,\n",
              " 962983613142996970: 3,\n",
              " 977517753744608976: 1,\n",
              " 986123062041987797: 3,\n",
              " 986618548386337475: 1,\n",
              " 1000530315840773259: 1,\n",
              " 1248239241591158246: 2,\n",
              " 1289759116526216761: 2,\n",
              " 1322442146463163273: 1,\n",
              " 1532693036686763602: 1,\n",
              " 1613974210813357845: 1,\n",
              " 1687215219543318037: 1,\n",
              " 1747952955844753189: 1,\n",
              " 1754670485160013151: 1,\n",
              " 1818853483982459826: 1,\n",
              " 1868285893322142039: 2,\n",
              " 1927409805714339930: 1,\n",
              " 1981369483889450574: 1,\n",
              " 2084334952704276755: 2,\n",
              " 2133265715002333624: 2,\n",
              " 2160362229054775535: 1,\n",
              " 2283656566040971221: 20,\n",
              " 2283951321596367051: 1,\n",
              " 2326625430448217935: 1,\n",
              " 2363646560689767403: 1,\n",
              " 2380246478874457969: 2,\n",
              " 2466615745961202537: 1,\n",
              " 2472857369998538979: 1,\n",
              " 2531821090233205420: 2,\n",
              " 2593208677638477497: 22,\n",
              " 2638523067158076300: 1,\n",
              " 2639073426372099914: 1,\n",
              " 2741584977878990470: 2,\n",
              " 2759968809464514635: 1,\n",
              " 2791266702968874823: 1,\n",
              " 2906777282977359384: 1,\n",
              " 2949952364219342751: 1,\n",
              " 3002984154512732771: 12,\n",
              " 3232292376133537883: 1,\n",
              " 3330182615943788655: 1,\n",
              " 3411606890003347522: 11,\n",
              " 3564373573326502857: 1,\n",
              " 3585718789434976181: 1,\n",
              " 3766551886407196655: 1,\n",
              " 3791531372978436496: 3,\n",
              " 3799908162833046445: 1,\n",
              " 3842344029291005339: 11,\n",
              " 3855458763365470110: 1,\n",
              " 3899131925553995529: 1,\n",
              " 3935369364672453876: 2,\n",
              " 4003250512168697582: 1,\n",
              " 4052250481318338146: 1,\n",
              " 4206877449096176963: 1,\n",
              " 4522981160172931067: 1,\n",
              " 4525988469032889948: 1,\n",
              " 4526602727772183287: 1,\n",
              " 4561183985744169044: 1,\n",
              " 4651146579010822544: 1,\n",
              " 4730329501408237600: 1,\n",
              " 4739951674274382177: 1,\n",
              " 4824744106799259529: 1,\n",
              " 4846624890286883293: 1,\n",
              " 4892528069537811086: 1,\n",
              " 4998935676724497216: 3,\n",
              " 5003778470087721891: 1,\n",
              " 5012629990875267006: 1,\n",
              " 5059648917813135842: 4,\n",
              " 5072166640930675723: 1,\n",
              " 5456543204961066030: 1,\n",
              " 5640369432778651323: 4,\n",
              " 5782640844011333142: 1,\n",
              " 5799512694199089206: 1,\n",
              " 5871978480629997527: 1,\n",
              " 5917449674799662640: 1,\n",
              " 5939814271563191916: 1,\n",
              " 5951875591235763184: 1,\n",
              " 5983206397430101660: 1,\n",
              " 6090035477591592277: 1,\n",
              " 6225242333788555276: 1,\n",
              " 6259460473343036054: 1,\n",
              " 6400965522219763706: 1,\n",
              " 6499760595733375392: 8,\n",
              " 6671365586410492301: 6,\n",
              " 6688816702017861720: 1,\n",
              " 6881782268128438066: 1,\n",
              " 7042833092324692838: 1,\n",
              " 7063653163634019529: 2,\n",
              " 7111508780595485950: 1,\n",
              " 7292201289852510567: 2,\n",
              " 7329594686958815785: 1,\n",
              " 7349368606960838668: 1,\n",
              " 7382018915763067227: 1,\n",
              " 7425985699627899538: 53,\n",
              " 7437575085468336610: 8,\n",
              " 7498889843165998945: 2,\n",
              " 7508752285157982505: 1,\n",
              " 7633559846251905887: 1,\n",
              " 7666004699573636134: 1,\n",
              " 7763320551915637149: 1,\n",
              " 7831658034963690409: 1,\n",
              " 7859011591137717335: 1,\n",
              " 7892888054762222619: 1,\n",
              " 7922831390341796414: 1,\n",
              " 8117742040754315580: 3,\n",
              " 8250960456982324759: 1,\n",
              " 8334407161178086546: 3,\n",
              " 8410310725588668258: 1,\n",
              " 8631044497021922973: 1,\n",
              " 8676063341920465065: 2,\n",
              " 8685177334462970838: 1,\n",
              " 8699115855297315659: 2,\n",
              " 8712024525343010093: 2,\n",
              " 9124845282915805297: 1,\n",
              " 9153284864653046197: 6,\n",
              " 9534611979636926357: 1,\n",
              " 9548244504980166557: 1,\n",
              " 9706746463156209471: 1,\n",
              " 9720044723474553187: 2,\n",
              " 9780120844974374175: 1,\n",
              " 9796807554284407750: 2,\n",
              " 9921686513378912864: 3,\n",
              " 9970931496028849525: 1,\n",
              " 10053667714843189622: 1,\n",
              " 10054775043177641619: 1,\n",
              " 10107942718796764992: 1,\n",
              " 10150879793970876528: 1,\n",
              " 10155833812963972614: 1,\n",
              " 10239237003504588839: 1,\n",
              " 10266199396556742871: 1,\n",
              " 10274014087187574974: 1,\n",
              " 10275277408386923532: 1,\n",
              " 10460284123447663213: 1,\n",
              " 10555827227230857786: 1,\n",
              " 10576426701297570588: 2,\n",
              " 10576765452093002944: 1,\n",
              " 10794458019344880855: 1,\n",
              " 10901800123542497023: 1,\n",
              " 11029108679331623882: 1,\n",
              " 11104729984170784471: 6,\n",
              " 11120905463357558375: 1,\n",
              " 11161450641259712200: 1,\n",
              " 11193276454185457422: 1,\n",
              " 11255438928975991251: 1,\n",
              " 11331706294240755208: 1,\n",
              " 11392157110771962752: 2,\n",
              " 11606009090297970687: 1,\n",
              " 11624174997366784379: 1,\n",
              " 11645434534719424374: 1,\n",
              " 11675930827866205887: 1,\n",
              " 11831343894246538112: 1,\n",
              " 11860158879560853892: 1,\n",
              " 11901859001352538922: 4,\n",
              " 11916616154811659322: 1,\n",
              " 12084876542534825196: 2,\n",
              " 12101821946584629805: 7,\n",
              " 12380071558262218793: 1,\n",
              " 12386272804366152714: 2,\n",
              " 12401324084266764846: 1,\n",
              " 12508082737821923009: 1,\n",
              " 12510949447758279278: 1,\n",
              " 12513610393978129441: 2,\n",
              " 12558846041070486771: 1,\n",
              " 12575491383357559564: 1,\n",
              " 12638816674900267446: 11,\n",
              " 12646065887601541794: 21,\n",
              " 12673666897586381700: 2,\n",
              " 12763746643991857148: 1,\n",
              " 12803960853340545319: 1,\n",
              " 12960022596163002503: 1,\n",
              " 12965068231793614765: 1,\n",
              " 13010778253764847868: 1,\n",
              " 13040105543478938413: 1,\n",
              " 13354359924547950576: 1,\n",
              " 13398675276606405380: 1,\n",
              " 13399430867684485744: 1,\n",
              " 13417787079733806306: 1,\n",
              " 13428508259213873547: 1,\n",
              " 13522292925360507503: 1,\n",
              " 13608597267892479228: 1,\n",
              " 13985144017073608775: 1,\n",
              " 14098742665602251584: 1,\n",
              " 14167363690842711897: 1,\n",
              " 14232354393656851550: 1,\n",
              " 14258820434006091661: 1,\n",
              " 14313830349899643614: 1,\n",
              " 14549692662067581904: 1,\n",
              " 14619547920188997180: 1,\n",
              " 14667099791903937066: 14,\n",
              " 14704457583367611984: 2,\n",
              " 14803739740077803148: 1,\n",
              " 14976309239260659165: 1,\n",
              " 15124752430317622815: 1,\n",
              " 15481038060779608540: 2,\n",
              " 15547364361012073971: 1,\n",
              " 15576488127472041145: 1,\n",
              " 15590198171169593030: 1,\n",
              " 15847707376089170903: 1,\n",
              " 15884554869126768810: 2,\n",
              " 15960013959647309407: 1,\n",
              " 15998110809398059887: 1,\n",
              " 16029857634315079195: 1,\n",
              " 16037325823156266367: 2,\n",
              " 16054814928816813054: 1,\n",
              " 16083597864187794159: 2,\n",
              " 16112636808995416939: 2,\n",
              " 16172899360071598086: 1,\n",
              " 16179859365244689814: 1,\n",
              " 16190435053222373540: 1,\n",
              " 16202671214426462062: 1,\n",
              " 16319852998319793599: 1,\n",
              " 16428057658620181782: 10,\n",
              " 16590897233515608007: 1,\n",
              " 16638794306746944276: 1,\n",
              " 16645327642385258788: 1,\n",
              " 16652247175759725537: 1,\n",
              " 16672740283687580497: 1,\n",
              " 16764210730586636600: 4,\n",
              " 16915378945439510792: 1,\n",
              " 17001595444317816917: 1,\n",
              " 17010352608710793005: 2,\n",
              " 17024108707146051813: 1,\n",
              " 17076879271226107481: 3,\n",
              " 17150435118023439842: 1,\n",
              " 17229130392928749018: 1,\n",
              " 17271606772285229643: 1,\n",
              " 17291208707885634567: 1,\n",
              " 17339365693586156025: 1,\n",
              " 17365054503653917826: 2,\n",
              " 17454115351911680600: 6,\n",
              " 17479173194742850528: 1,\n",
              " 17592433476969138703: 1,\n",
              " 17652899683494573057: 1,\n",
              " 17690917044763056997: 4,\n",
              " 17750038938330149908: 1,\n",
              " 17760228687901742862: 1,\n",
              " 17811160218560242530: 1,\n",
              " 17835273413852156139: 1,\n",
              " 18049436527277190559: 1,\n",
              " 18258199938562639160: 2,\n",
              " 18309932012808971453: 3,\n",
              " 18404306734529256095: 1}"
            ]
          },
          "metadata": {
            "tags": []
          },
          "execution_count": 56
        }
      ]
    },
    {
      "cell_type": "markdown",
      "metadata": {
        "id": "heLgCWHYZ7WQ"
      },
      "source": [
        "If we have the index of a given word (entry in the vocabulary), we can easily retrieve the text."
      ]
    },
    {
      "cell_type": "code",
      "metadata": {
        "colab": {
          "base_uri": "https://localhost:8080/",
          "height": 35
        },
        "id": "N-oMpwA6bb7D",
        "outputId": "f4f0dc41-f3b8-4e9c-b5a1-e8011bc90dec"
      },
      "source": [
        "doc.vocab[7425985699627899538].text"
      ],
      "execution_count": 57,
      "outputs": [
        {
          "output_type": "execute_result",
          "data": {
            "application/vnd.google.colaboratory.intrinsic+json": {
              "type": "string"
            },
            "text/plain": [
              "'the'"
            ]
          },
          "metadata": {
            "tags": []
          },
          "execution_count": 57
        }
      ]
    },
    {
      "cell_type": "code",
      "metadata": {
        "colab": {
          "base_uri": "https://localhost:8080/"
        },
        "id": "ke7zsq6EbjM2",
        "outputId": "10780331-d5b2-4095-f31e-09e90c2b8a7f"
      },
      "source": [
        "for vocab_index, count in frequencies.items():\r\n",
        "    human_readable = doc.vocab[vocab_index].text\r\n",
        "    print(human_readable, count)"
      ],
      "execution_count": 58,
      "outputs": [
        {
          "output_type": "stream",
          "text": [
            "Cologne 18\n",
            "is 11\n",
            "the 53\n",
            "largest 8\n",
            "city 14\n",
            "of 34\n",
            "Germany 7\n",
            "'s 10\n",
            "most 6\n",
            "populous 3\n",
            "federal 1\n",
            "state 1\n",
            "North 2\n",
            "Rhine 6\n",
            "- 6\n",
            "Westphalia 2\n",
            "and 20\n",
            "fourth 1\n",
            "in 12\n",
            ". 21\n",
            "With 2\n",
            "slightly 1\n",
            "over 1\n",
            "a 4\n",
            "million 2\n",
            "inhabitants 1\n",
            "( 11\n",
            "1.09 1\n",
            ") 11\n",
            "within 1\n",
            "its 2\n",
            "boundaries 1\n",
            ", 22\n",
            "on 4\n",
            "also 2\n",
            "both 1\n",
            "Ruhr 2\n",
            "Metropolitan 1\n",
            "Region 1\n",
            "which 2\n",
            "one 6\n",
            "Europe 3\n",
            "major 3\n",
            "metropolitan 1\n",
            "areas 2\n",
            "Rhineland 2\n",
            "Centered 1\n",
            "left 1\n",
            "bank 1\n",
            "about 1\n",
            "45 1\n",
            "kilometres 2\n",
            "28 1\n",
            "mi 2\n",
            "southeast 2\n",
            "capital 2\n",
            "Düsseldorf 2\n",
            "25 1\n",
            "16 1\n",
            "northwest 1\n",
            "Bonn 3\n",
            "It 1\n",
            "Central 1\n",
            "Franconian 1\n",
            "Ripuarian 1\n",
            "dialect 1\n",
            "\n",
            " 3\n",
            "The 4\n",
            "Cathedral 1\n",
            "Kölner 1\n",
            "Dom 1\n",
            "seat 1\n",
            "Catholic 1\n",
            "Archbishop 1\n",
            "There 1\n",
            "are 1\n",
            "many 2\n",
            "institutions 1\n",
            "higher 1\n",
            "education 1\n",
            "notably 1\n",
            "University 3\n",
            "Universität 1\n",
            "zu 1\n",
            "Köln 4\n",
            "oldest 1\n",
            "universities 1\n",
            "Technical 1\n",
            "Technische 1\n",
            "Hochschule 1\n",
            "university 2\n",
            "applied 1\n",
            "sciences 1\n",
            "German 1\n",
            "Sport 1\n",
            "Deutsche 1\n",
            "Sporthochschule 1\n",
            "only 1\n",
            "sport 1\n",
            "Airport 2\n",
            "Flughafen 1\n",
            "/ 1\n",
            "seventh 1\n",
            "airport 2\n",
            "lies 1\n",
            "main 1\n",
            "for 2\n",
            "region 2\n",
            "was 3\n",
            "founded 1\n",
            "established 1\n",
            "Ubii 2\n",
            "territory 1\n",
            "1st 1\n",
            "century 1\n",
            "AD 1\n",
            "as 8\n",
            "Roman 4\n",
            "Colonia 1\n",
            "Claudia 1\n",
            "Ara 1\n",
            "Agrippinensium 1\n",
            "first 1\n",
            "word 1\n",
            "origin 1\n",
            "name 3\n",
            "An 1\n",
            "alternative 1\n",
            "Latin 1\n",
            "settlement 1\n",
            "Augusta 1\n",
            "Ubiorum 1\n",
            "after 1\n",
            "\" 2\n",
            "French 2\n",
            "version 1\n",
            "has 2\n",
            "become 1\n",
            "standard 1\n",
            "English 1\n",
            "well 1\n",
            "functioned 1\n",
            "province 1\n",
            "Germania 1\n",
            "Inferior 1\n",
            "headquarters 1\n",
            "military 1\n",
            "until 1\n",
            "occupied 1\n",
            "by 4\n",
            "Franks 1\n",
            "462 1\n",
            "During 1\n",
            "Middle 1\n",
            "Ages 1\n",
            "flourished 1\n",
            "being 1\n",
            "located 1\n",
            "important 1\n",
            "trade 2\n",
            "routes 1\n",
            "between 1\n",
            "east 1\n",
            "western 1\n",
            "leading 1\n",
            "members 1\n",
            "Hanseatic 1\n",
            "League 1\n",
            "cities 2\n",
            "north 1\n",
            "Alps 1\n",
            "medieval 1\n",
            "Renaissance 1\n",
            "times 1\n",
            "Prior 1\n",
            "to 3\n",
            "World 2\n",
            "War 2\n",
            "II 2\n",
            "had 1\n",
            "undergone 1\n",
            "several 1\n",
            "occupations 1\n",
            "British 1\n",
            "1918–1926 1\n",
            "heavily 1\n",
            "bombed 1\n",
            "during 1\n",
            "with 1\n",
            "Royal 1\n",
            "Air 1\n",
            "Force 1\n",
            "RAF 1\n",
            "dropping 1\n",
            "34,711 1\n",
            "long 1\n",
            "tons 1\n",
            "35,268 1\n",
            "tonnes 1\n",
            "bombs 1\n",
            "bombing 1\n",
            "reduced 1\n",
            "population 1\n",
            "95 1\n",
            "% 1\n",
            "mainly 1\n",
            "due 1\n",
            "evacuation 1\n",
            "destroyed 1\n",
            "almost 1\n",
            "entire 1\n",
            "centre 2\n",
            "intention 1\n",
            "restoring 1\n",
            "historic 1\n",
            "landmarks 1\n",
            "possible 1\n",
            "postwar 1\n",
            "rebuilding 1\n",
            "resulted 1\n",
            "very 1\n",
            "mixed 1\n",
            "unique 1\n",
            "cityscape 1\n",
            "cultural 1\n",
            "; 1\n",
            "it 1\n",
            "hosts 2\n",
            "more 1\n",
            "than 1\n",
            "30 1\n",
            "museums 1\n",
            "hundreds 1\n",
            "galleries 1\n",
            "Exhibitions 1\n",
            "range 1\n",
            "from 1\n",
            "local 1\n",
            "ancient 1\n",
            "archeological 1\n",
            "sites 1\n",
            "contemporary 1\n",
            "graphics 1\n",
            "sculpture 1\n",
            "Trade 1\n",
            "Fair 1\n",
            "number 1\n",
            "shows 1\n",
            "such 1\n",
            "Art 1\n",
            "imm 1\n",
            "Gamescom 1\n",
            "Photokina 1\n"
          ],
          "name": "stdout"
        }
      ]
    },
    {
      "cell_type": "markdown",
      "metadata": {
        "id": "pF9NL_sMl4jQ"
      },
      "source": [
        "### Exercise 11 - Computing Basic Statistics"
      ]
    },
    {
      "cell_type": "markdown",
      "metadata": {
        "id": "YnFv7TSubhQ5"
      },
      "source": [
        "We use `textdirectory` to load the HUM19UK corpus. Then we are selecting a random sample of 10 texts and transform everything to lowercase."
      ]
    },
    {
      "cell_type": "code",
      "metadata": {
        "id": "oOQdtk30NH1a"
      },
      "source": [
        "hum19uk = textdirectory.TextDirectory(directory='python-programming-for-linguists/2020/data/corpora/hum19uk', autoload=True)\r\n",
        "hum19uk.filter_by_random_sampling(10)\r\n",
        "hum19uk.stage_transformation(['transformation_lowercase'])"
      ],
      "execution_count": 59,
      "outputs": []
    },
    {
      "cell_type": "code",
      "metadata": {
        "colab": {
          "base_uri": "https://localhost:8080/"
        },
        "id": "tfF3IY81NdXg",
        "outputId": "629abe22-ac98-41a3-f35a-065593aecb62"
      },
      "source": [
        "hum19uk.transform_to_memory()\r\n",
        "hum19uk.print_aggregation()"
      ],
      "execution_count": 60,
      "outputs": [
        {
          "output_type": "stream",
          "text": [
            "\n",
            "|------------------------------------------------------------------------------|\n",
            "|path                     |filename|characters|tokens|transformed_text         |\n",
            "|------------------------------------------------------------------------------|\n",
            "|python-programming-for-li|1803.txt|1026279   |181962|<title: thaddeus of warsa|\n",
            "|python-programming-for-li|1890.txt|233102    |45038 |<title: the sign of the f|\n",
            "|python-programming-for-li|1895.txt|806239    |153958|﻿<title: jude the obscure|\n",
            "|python-programming-for-li|1807.txt|711200    |122255|<title: drelincourt and r|\n",
            "|python-programming-for-li|1871.txt|1057480   |198513|﻿<title: joshua marvel>< |\n",
            "|python-programming-for-li|1842.txt|665126    |119138|﻿<title: windsor castle> |\n",
            "|python-programming-for-li|1841.txt|965319    |177641|<title: charles o’malley,|\n",
            "|python-programming-for-li|1893.txt|589896    |108662|﻿<title: miss stuart's le|\n",
            "|python-programming-for-li|1825.txt|293155    |53150 |<title: richelieu, v. 1/3|\n",
            "|python-programming-for-li|1845.txt|899670    |161649|﻿<title: sybil or the two|\n",
            "|------------------------------------------------------------------------------|\n",
            "\n",
            "Staged Transformations: [['transformation_lowercase']]\n"
          ],
          "name": "stdout"
        }
      ]
    },
    {
      "cell_type": "markdown",
      "metadata": {
        "id": "BT-mZrUWb4u9"
      },
      "source": [
        "For the `get_frequencies` function we are relying on the Counter approach from above."
      ]
    },
    {
      "cell_type": "markdown",
      "metadata": {
        "id": "Xv6q6KKCcVE9"
      },
      "source": [
        "#### Basic Approach"
      ]
    },
    {
      "cell_type": "markdown",
      "metadata": {
        "id": "SMyHIePjyLrd"
      },
      "source": [
        "Tokenizing in the `get_frequencies` function is convenient for us here. However, this will inevitable lead to us tokenizing some texts more than once - something you would not want to do in a real-life scenario in order to save time and resources."
      ]
    },
    {
      "cell_type": "code",
      "metadata": {
        "id": "WI_0H0ulNlwL"
      },
      "source": [
        "def get_frequencies(text):\r\n",
        "  tokenized_text = tokenize(text)\r\n",
        "  frequencies = Counter(tokenized_text)\r\n",
        "\r\n",
        "  return frequencies"
      ],
      "execution_count": 61,
      "outputs": []
    },
    {
      "cell_type": "markdown",
      "metadata": {
        "id": "1cDubBTx3Pm-"
      },
      "source": [
        "The `Counter` has a nice additional property. `Counter` objects will return 0 if the element is not present."
      ]
    },
    {
      "cell_type": "code",
      "metadata": {
        "colab": {
          "base_uri": "https://localhost:8080/"
        },
        "id": "Vb2C7KfG3WKP",
        "outputId": "7e3414f2-3f4e-487a-cefb-9f5a667d0375"
      },
      "source": [
        " test_text = 'The cat is black'\r\n",
        " f_cat = get_frequencies(test_text)['cat']\r\n",
        " f_dog = get_frequencies(test_text)['dog']\r\n",
        "\r\n",
        " f_cat, f_dog"
      ],
      "execution_count": 62,
      "outputs": [
        {
          "output_type": "execute_result",
          "data": {
            "text/plain": [
              "(1, 0)"
            ]
          },
          "metadata": {
            "tags": []
          },
          "execution_count": 62
        }
      ]
    },
    {
      "cell_type": "code",
      "metadata": {
        "id": "WSohjZDeN3Mv"
      },
      "source": [
        "def relative_frequency(abs_frequency, no_of_tokens):\r\n",
        "  return (abs_frequency / no_of_tokens) * 10000"
      ],
      "execution_count": 63,
      "outputs": []
    },
    {
      "cell_type": "code",
      "metadata": {
        "id": "Ig-_XAwZOI5u"
      },
      "source": [
        "def frequency_across_text(search_term, texts):\r\n",
        "  frequency_list = []\r\n",
        "\r\n",
        "  for text in texts:\r\n",
        "    frequencies = get_frequencies(text)\r\n",
        "    frequency_list.append(frequencies[search_term])\r\n",
        "\r\n",
        "  return frequency_list"
      ],
      "execution_count": 64,
      "outputs": []
    },
    {
      "cell_type": "markdown",
      "metadata": {
        "id": "kmGW4KRBcFax"
      },
      "source": [
        "To normalize the frequency counts, we need the number of tokens in the corpus. We can get this number by getting the length (`len`) of the tokenized text."
      ]
    },
    {
      "cell_type": "code",
      "metadata": {
        "id": "t1tvQaEeP1AK"
      },
      "source": [
        "def frequency_across_text_relative(search_term, texts):\r\n",
        "  frequency_list = []\r\n",
        "\r\n",
        "  for text in texts:\r\n",
        "    frequencies = get_frequencies(text)\r\n",
        "    no_of_tokens = len(tokenize(text))\r\n",
        "    relative_frequency_of_search_term = relative_frequency(frequencies[search_term], no_of_tokens)\r\n",
        "    frequency_list.append(relative_frequency_of_search_term)\r\n",
        "\r\n",
        "  return frequency_list"
      ],
      "execution_count": 65,
      "outputs": []
    },
    {
      "cell_type": "markdown",
      "metadata": {
        "id": "POH6kKAWc7Xx"
      },
      "source": [
        "This list comprehension will generate a list of strings, each containing the text of one document."
      ]
    },
    {
      "cell_type": "code",
      "metadata": {
        "id": "uz149CLIO6Cu"
      },
      "source": [
        "texts = [doc['transformed_text'] for doc in list(hum19uk.get_aggregation())]"
      ],
      "execution_count": 66,
      "outputs": []
    },
    {
      "cell_type": "markdown",
      "metadata": {
        "id": "4yq0RIlldBUO"
      },
      "source": [
        "We are now generating the frequencies for *shook* for all texts and storing them in a list."
      ]
    },
    {
      "cell_type": "code",
      "metadata": {
        "id": "StPUHEgDOwzP"
      },
      "source": [
        "frequencies_across_texts = frequency_across_text('shook', texts)"
      ],
      "execution_count": 67,
      "outputs": []
    },
    {
      "cell_type": "code",
      "metadata": {
        "id": "ZyNRqKAqQW70"
      },
      "source": [
        "frequencies_across_texts_relative = frequency_across_text_relative('shook', texts)"
      ],
      "execution_count": 68,
      "outputs": []
    },
    {
      "cell_type": "code",
      "metadata": {
        "colab": {
          "base_uri": "https://localhost:8080/"
        },
        "id": "LGLjJDgXPZ2o",
        "outputId": "66f64992-f9fc-4a59-e96c-253ab9e0ac85"
      },
      "source": [
        "statistics.mean(frequencies_across_texts)"
      ],
      "execution_count": 69,
      "outputs": [
        {
          "output_type": "execute_result",
          "data": {
            "text/plain": [
              "14"
            ]
          },
          "metadata": {
            "tags": []
          },
          "execution_count": 69
        }
      ]
    },
    {
      "cell_type": "code",
      "metadata": {
        "colab": {
          "base_uri": "https://localhost:8080/"
        },
        "id": "uCHEMuWxPjZM",
        "outputId": "30cd56dd-9e75-42e2-97fe-f57166360252"
      },
      "source": [
        "statistics.stdev(frequencies_across_texts)"
      ],
      "execution_count": 70,
      "outputs": [
        {
          "output_type": "execute_result",
          "data": {
            "text/plain": [
              "8.472176684759223"
            ]
          },
          "metadata": {
            "tags": []
          },
          "execution_count": 70
        }
      ]
    },
    {
      "cell_type": "code",
      "metadata": {
        "colab": {
          "base_uri": "https://localhost:8080/"
        },
        "id": "LWwc2oAzQbcs",
        "outputId": "b5d447b4-85f0-4401-c83c-ef7327a63099"
      },
      "source": [
        "statistics.mean(frequencies_across_texts_relative)"
      ],
      "execution_count": 71,
      "outputs": [
        {
          "output_type": "execute_result",
          "data": {
            "text/plain": [
              "1.0572430023900492"
            ]
          },
          "metadata": {
            "tags": []
          },
          "execution_count": 71
        }
      ]
    },
    {
      "cell_type": "markdown",
      "metadata": {
        "id": "2UF7c3rhQlh6"
      },
      "source": [
        "#### Pandas DataFrame"
      ]
    },
    {
      "cell_type": "markdown",
      "metadata": {
        "id": "chXwPVCGda8V"
      },
      "source": [
        "We typecast (force a new type) the list of tokens into a set. This will remove all duplicates and provide us with an unsorted list of all types."
      ]
    },
    {
      "cell_type": "code",
      "metadata": {
        "id": "tUOs8x5BQvQe"
      },
      "source": [
        "text = hum19uk.aggregate_to_memory()\r\n",
        "tokenized_text = tokenize(text)\r\n",
        "vocabulary = set(tokenized_text)"
      ],
      "execution_count": 72,
      "outputs": []
    },
    {
      "cell_type": "code",
      "metadata": {
        "colab": {
          "base_uri": "https://localhost:8080/"
        },
        "id": "166s91PjRLj2",
        "outputId": "f4119229-7a54-4f93-fe79-7d091dc7ed8d"
      },
      "source": [
        "len(vocabulary)"
      ],
      "execution_count": 73,
      "outputs": [
        {
          "output_type": "execute_result",
          "data": {
            "text/plain": [
              "30996"
            ]
          },
          "metadata": {
            "tags": []
          },
          "execution_count": 73
        }
      ]
    },
    {
      "cell_type": "markdown",
      "metadata": {
        "id": "yRRsTbtk0Mhf"
      },
      "source": [
        "We could, but here we don't have to, turn this set into a list again. This way, we could order the vocabulary."
      ]
    },
    {
      "cell_type": "code",
      "metadata": {
        "colab": {
          "base_uri": "https://localhost:8080/"
        },
        "id": "Fby8RAt30MK0",
        "outputId": "f115af75-09a7-4c00-936a-6b4a04261888"
      },
      "source": [
        "ordered_vocabulary = list(vocabulary)\r\n",
        "ordered_vocabulary.sort()\r\n",
        "ordered_vocabulary[20000:20010] # Getting a slice of types from the middle of the vocabulary"
      ],
      "execution_count": 147,
      "outputs": [
        {
          "output_type": "execute_result",
          "data": {
            "text/plain": [
              "['brittan',\n",
              " 'brittanny',\n",
              " 'brittany',\n",
              " 'brittl',\n",
              " 'brittlit',\n",
              " 'brittney',\n",
              " 'britton',\n",
              " 'brity',\n",
              " 'brixton',\n",
              " 'brizm']"
            ]
          },
          "metadata": {
            "tags": []
          },
          "execution_count": 147
        }
      ]
    },
    {
      "cell_type": "code",
      "metadata": {
        "id": "h6JM3PEaQnaK"
      },
      "source": [
        "# Initialize the frequency tables\r\n",
        "frequency_table_abs = {}\r\n",
        "frequency_table_rel = {}"
      ],
      "execution_count": 75,
      "outputs": []
    },
    {
      "cell_type": "markdown",
      "metadata": {
        "id": "6V_XaFfcfBSJ"
      },
      "source": [
        "We are looping over the vocabulary (all types in the corpus) and are adding the frequencies (both absolute and relative) to lists. Finally, after finishing a document, we are adding these lists to the frequency tables defined above."
      ]
    },
    {
      "cell_type": "code",
      "metadata": {
        "id": "F7rjEp2XRSoR"
      },
      "source": [
        "for doc in hum19uk.get_aggregation():\r\n",
        "  doc_frequencies = get_frequencies(doc['transformed_text'])\r\n",
        "\r\n",
        "  doc_frequency_list_abs = []\r\n",
        "  doc_frequency_list_rel = []\r\n",
        "\r\n",
        "  for vocab in vocabulary:\r\n",
        "    doc_frequency_list_abs.append(doc_frequencies[vocab])\r\n",
        "    doc_frequency_list_rel.append(relative_frequency(doc_frequencies[vocab], doc['tokens']))\r\n",
        "\r\n",
        "  frequency_table_abs[doc['filename']] = doc_frequency_list_abs\r\n",
        "  frequency_table_rel[doc['filename']] = doc_frequency_list_rel\r\n"
      ],
      "execution_count": 76,
      "outputs": []
    },
    {
      "cell_type": "markdown",
      "metadata": {
        "id": "zy1m9dIYd0Zv"
      },
      "source": [
        "**Absolute Frequencies**"
      ]
    },
    {
      "cell_type": "code",
      "metadata": {
        "colab": {
          "base_uri": "https://localhost:8080/",
          "height": 201
        },
        "id": "XB4HcnGHSdOB",
        "outputId": "89478002-0271-433a-a46a-31690c8a9add"
      },
      "source": [
        "df_abs = pd.DataFrame(frequency_table_abs, index=vocabulary)\r\n",
        "df_abs.head()"
      ],
      "execution_count": 77,
      "outputs": [
        {
          "output_type": "execute_result",
          "data": {
            "text/html": [
              "<div>\n",
              "<style scoped>\n",
              "    .dataframe tbody tr th:only-of-type {\n",
              "        vertical-align: middle;\n",
              "    }\n",
              "\n",
              "    .dataframe tbody tr th {\n",
              "        vertical-align: top;\n",
              "    }\n",
              "\n",
              "    .dataframe thead th {\n",
              "        text-align: right;\n",
              "    }\n",
              "</style>\n",
              "<table border=\"1\" class=\"dataframe\">\n",
              "  <thead>\n",
              "    <tr style=\"text-align: right;\">\n",
              "      <th></th>\n",
              "      <th>1803.txt</th>\n",
              "      <th>1890.txt</th>\n",
              "      <th>1895.txt</th>\n",
              "      <th>1807.txt</th>\n",
              "      <th>1871.txt</th>\n",
              "      <th>1842.txt</th>\n",
              "      <th>1841.txt</th>\n",
              "      <th>1893.txt</th>\n",
              "      <th>1825.txt</th>\n",
              "      <th>1845.txt</th>\n",
              "    </tr>\n",
              "  </thead>\n",
              "  <tbody>\n",
              "    <tr>\n",
              "      <th>crimsoned</th>\n",
              "      <td>3</td>\n",
              "      <td>0</td>\n",
              "      <td>0</td>\n",
              "      <td>6</td>\n",
              "      <td>0</td>\n",
              "      <td>0</td>\n",
              "      <td>1</td>\n",
              "      <td>0</td>\n",
              "      <td>0</td>\n",
              "      <td>0</td>\n",
              "    </tr>\n",
              "    <tr>\n",
              "      <th>visions</th>\n",
              "      <td>6</td>\n",
              "      <td>0</td>\n",
              "      <td>2</td>\n",
              "      <td>0</td>\n",
              "      <td>3</td>\n",
              "      <td>2</td>\n",
              "      <td>3</td>\n",
              "      <td>0</td>\n",
              "      <td>2</td>\n",
              "      <td>9</td>\n",
              "    </tr>\n",
              "    <tr>\n",
              "      <th>town</th>\n",
              "      <td>53</td>\n",
              "      <td>2</td>\n",
              "      <td>67</td>\n",
              "      <td>27</td>\n",
              "      <td>16</td>\n",
              "      <td>17</td>\n",
              "      <td>52</td>\n",
              "      <td>6</td>\n",
              "      <td>5</td>\n",
              "      <td>63</td>\n",
              "    </tr>\n",
              "    <tr>\n",
              "      <th>bargain</th>\n",
              "      <td>1</td>\n",
              "      <td>2</td>\n",
              "      <td>2</td>\n",
              "      <td>0</td>\n",
              "      <td>3</td>\n",
              "      <td>2</td>\n",
              "      <td>2</td>\n",
              "      <td>1</td>\n",
              "      <td>1</td>\n",
              "      <td>2</td>\n",
              "    </tr>\n",
              "    <tr>\n",
              "      <th>indiscreetly</th>\n",
              "      <td>0</td>\n",
              "      <td>0</td>\n",
              "      <td>0</td>\n",
              "      <td>0</td>\n",
              "      <td>0</td>\n",
              "      <td>0</td>\n",
              "      <td>0</td>\n",
              "      <td>1</td>\n",
              "      <td>0</td>\n",
              "      <td>0</td>\n",
              "    </tr>\n",
              "  </tbody>\n",
              "</table>\n",
              "</div>"
            ],
            "text/plain": [
              "              1803.txt  1890.txt  1895.txt  ...  1893.txt  1825.txt  1845.txt\n",
              "crimsoned            3         0         0  ...         0         0         0\n",
              "visions              6         0         2  ...         0         2         9\n",
              "town                53         2        67  ...         6         5        63\n",
              "bargain              1         2         2  ...         1         1         2\n",
              "indiscreetly         0         0         0  ...         1         0         0\n",
              "\n",
              "[5 rows x 10 columns]"
            ]
          },
          "metadata": {
            "tags": []
          },
          "execution_count": 77
        }
      ]
    },
    {
      "cell_type": "code",
      "metadata": {
        "colab": {
          "base_uri": "https://localhost:8080/"
        },
        "id": "aNmjjN6STyoG",
        "outputId": "c036450e-81ab-4545-92a6-0a0bc61dd6c3"
      },
      "source": [
        "df_abs.loc['the'].std()"
      ],
      "execution_count": 78,
      "outputs": [
        {
          "output_type": "execute_result",
          "data": {
            "text/plain": [
              "2758.8979381871545"
            ]
          },
          "metadata": {
            "tags": []
          },
          "execution_count": 78
        }
      ]
    },
    {
      "cell_type": "markdown",
      "metadata": {
        "id": "3MoOT17Kd2S_"
      },
      "source": [
        "**Relative Frequencies**"
      ]
    },
    {
      "cell_type": "code",
      "metadata": {
        "id": "Fhmgvd1JUD5T"
      },
      "source": [
        "df_rel = pd.DataFrame(frequency_table_rel, index=vocabulary)"
      ],
      "execution_count": 79,
      "outputs": []
    },
    {
      "cell_type": "code",
      "metadata": {
        "colab": {
          "base_uri": "https://localhost:8080/",
          "height": 109
        },
        "id": "ljsOyt62UK7E",
        "outputId": "bdda5d76-47dd-4568-b6ab-d72e9b231752"
      },
      "source": [
        "df_rel.loc[['telegraph', 'the']]"
      ],
      "execution_count": 80,
      "outputs": [
        {
          "output_type": "execute_result",
          "data": {
            "text/html": [
              "<div>\n",
              "<style scoped>\n",
              "    .dataframe tbody tr th:only-of-type {\n",
              "        vertical-align: middle;\n",
              "    }\n",
              "\n",
              "    .dataframe tbody tr th {\n",
              "        vertical-align: top;\n",
              "    }\n",
              "\n",
              "    .dataframe thead th {\n",
              "        text-align: right;\n",
              "    }\n",
              "</style>\n",
              "<table border=\"1\" class=\"dataframe\">\n",
              "  <thead>\n",
              "    <tr style=\"text-align: right;\">\n",
              "      <th></th>\n",
              "      <th>1803.txt</th>\n",
              "      <th>1890.txt</th>\n",
              "      <th>1895.txt</th>\n",
              "      <th>1807.txt</th>\n",
              "      <th>1871.txt</th>\n",
              "      <th>1842.txt</th>\n",
              "      <th>1841.txt</th>\n",
              "      <th>1893.txt</th>\n",
              "      <th>1825.txt</th>\n",
              "      <th>1845.txt</th>\n",
              "    </tr>\n",
              "  </thead>\n",
              "  <tbody>\n",
              "    <tr>\n",
              "      <th>telegraph</th>\n",
              "      <td>0.000000</td>\n",
              "      <td>0.222035</td>\n",
              "      <td>0.064953</td>\n",
              "      <td>0.000000</td>\n",
              "      <td>0.000000</td>\n",
              "      <td>0.000000</td>\n",
              "      <td>0.000000</td>\n",
              "      <td>0.460142</td>\n",
              "      <td>0.00000</td>\n",
              "      <td>0.000000</td>\n",
              "    </tr>\n",
              "    <tr>\n",
              "      <th>the</th>\n",
              "      <td>575.339906</td>\n",
              "      <td>520.227364</td>\n",
              "      <td>460.969875</td>\n",
              "      <td>530.448652</td>\n",
              "      <td>459.718003</td>\n",
              "      <td>759.203613</td>\n",
              "      <td>564.453026</td>\n",
              "      <td>569.656366</td>\n",
              "      <td>670.74318</td>\n",
              "      <td>578.908623</td>\n",
              "    </tr>\n",
              "  </tbody>\n",
              "</table>\n",
              "</div>"
            ],
            "text/plain": [
              "             1803.txt    1890.txt  ...   1825.txt    1845.txt\n",
              "telegraph    0.000000    0.222035  ...    0.00000    0.000000\n",
              "the        575.339906  520.227364  ...  670.74318  578.908623\n",
              "\n",
              "[2 rows x 10 columns]"
            ]
          },
          "metadata": {
            "tags": []
          },
          "execution_count": 80
        }
      ]
    },
    {
      "cell_type": "markdown",
      "metadata": {
        "id": "bi088HxRd-En"
      },
      "source": [
        "We sort the DataFrame by its colums before plotting the frequencies for *telegraph*. Since in HUM19UK the files (and so the columns) have years as their names, this will provide us with a diachronic frequency plot.\r\n",
        "\r\n",
        "Of course, this is now based only on our sample of ten. Increase the sample size and run all cells above to get a fuller picture."
      ]
    },
    {
      "cell_type": "code",
      "metadata": {
        "colab": {
          "base_uri": "https://localhost:8080/",
          "height": 282
        },
        "id": "CP-4sUulURz7",
        "outputId": "f28298ae-af28-4cb0-e571-ea12654377c9"
      },
      "source": [
        "df_rel.reindex(sorted(df_rel.columns), axis=1).loc['telegraph'].plot()"
      ],
      "execution_count": 81,
      "outputs": [
        {
          "output_type": "execute_result",
          "data": {
            "text/plain": [
              "<matplotlib.axes._subplots.AxesSubplot at 0x7f91327b11d0>"
            ]
          },
          "metadata": {
            "tags": []
          },
          "execution_count": 81
        },
        {
          "output_type": "display_data",
          "data": {
            "image/png": "[encoded data removed]",
            "text/plain": [
              "<Figure size 432x288 with 1 Axes>"
            ]
          },
          "metadata": {
            "tags": [],
            "needs_background": "light"
          }
        }
      ]
    },
    {
      "cell_type": "markdown",
      "metadata": {
        "id": "8x2eW9EKeNyx"
      },
      "source": [
        "We can sum up the frequencies across texts for all words. Plotting these, sorted by the total, will result in a (more or less) Zipfian distribution."
      ]
    },
    {
      "cell_type": "code",
      "metadata": {
        "id": "TxoPQh6YU-ic"
      },
      "source": [
        "df_rel['total'] = df_rel.sum(axis=1)"
      ],
      "execution_count": 82,
      "outputs": []
    },
    {
      "cell_type": "code",
      "metadata": {
        "colab": {
          "base_uri": "https://localhost:8080/",
          "height": 282
        },
        "id": "WefXCriaVF1d",
        "outputId": "cbe89676-7ace-470f-bf4d-0a4e95b20ea1"
      },
      "source": [
        "df_rel.sort_values(by='total', ascending=False)['total'].plot()"
      ],
      "execution_count": 83,
      "outputs": [
        {
          "output_type": "execute_result",
          "data": {
            "text/plain": [
              "<matplotlib.axes._subplots.AxesSubplot at 0x7f91327bd780>"
            ]
          },
          "metadata": {
            "tags": []
          },
          "execution_count": 83
        },
        {
          "output_type": "display_data",
          "data": {
            "image/png": "[encoded data removed]",
            "text/plain": [
              "<Figure size 432x288 with 1 Axes>"
            ]
          },
          "metadata": {
            "tags": [],
            "needs_background": "light"
          }
        }
      ]
    },
    {
      "cell_type": "markdown",
      "metadata": {
        "id": "YDFk4KYuO5NP"
      },
      "source": [
        "### Exercise 12 – NLTK Stemming, Lemmatization, and WordNet"
      ]
    },
    {
      "cell_type": "markdown",
      "metadata": {
        "id": "RoyBJYtOf1TT"
      },
      "source": [
        "In order to be able to use [WordNet](https://wordnet.princeton.edu), we have to download the database using NLTK."
      ]
    },
    {
      "cell_type": "code",
      "metadata": {
        "colab": {
          "base_uri": "https://localhost:8080/"
        },
        "id": "zqnXcgsGV7yA",
        "outputId": "152ccf7c-199a-4f7f-9c28-4d8624b269a6"
      },
      "source": [
        "nltk.download('wordnet')"
      ],
      "execution_count": 84,
      "outputs": [
        {
          "output_type": "stream",
          "text": [
            "[nltk_data] Downloading package wordnet to /root/nltk_data...\n",
            "[nltk_data]   Package wordnet is already up-to-date!\n"
          ],
          "name": "stdout"
        },
        {
          "output_type": "execute_result",
          "data": {
            "text/plain": [
              "True"
            ]
          },
          "metadata": {
            "tags": []
          },
          "execution_count": 84
        }
      ]
    },
    {
      "cell_type": "markdown",
      "metadata": {
        "id": "BKAFiuWEf_L2"
      },
      "source": [
        "#### Stemming and Lemmatizing"
      ]
    },
    {
      "cell_type": "markdown",
      "metadata": {
        "id": "g5WfVYCxf-Px"
      },
      "source": [
        "Here, we are initializing two stemmers and one lemmatizer. The lemmatizer, as the name suggests, is based on underlying WordNet data."
      ]
    },
    {
      "cell_type": "code",
      "metadata": {
        "id": "zrLxT5XnVl87"
      },
      "source": [
        "porter_stemmer = PorterStemmer()\r\n",
        "lancaster_stemmer = LancasterStemmer()\r\n",
        "wordnet_lemmatizer = WordNetLemmatizer()"
      ],
      "execution_count": 85,
      "outputs": []
    },
    {
      "cell_type": "markdown",
      "metadata": {
        "id": "jP9fRqVN-K0q"
      },
      "source": [
        "Please note that there are more stemmers and lemmatizers in NLTK. An interesting one is, for example, the `SnowballStemmer`. *Snowball* is a stemming framework by Martin Porter. "
      ]
    },
    {
      "cell_type": "code",
      "metadata": {
        "colab": {
          "base_uri": "https://localhost:8080/",
          "height": 35
        },
        "id": "WrHJXJf7Vtx_",
        "outputId": "0ba48195-a71b-4c4e-b267-80e16af861c5"
      },
      "source": [
        "porter_stemmer.stem('connection')"
      ],
      "execution_count": 86,
      "outputs": [
        {
          "output_type": "execute_result",
          "data": {
            "application/vnd.google.colaboratory.intrinsic+json": {
              "type": "string"
            },
            "text/plain": [
              "'connect'"
            ]
          },
          "metadata": {
            "tags": []
          },
          "execution_count": 86
        }
      ]
    },
    {
      "cell_type": "code",
      "metadata": {
        "colab": {
          "base_uri": "https://localhost:8080/",
          "height": 35
        },
        "id": "3HaVo9n8WAGu",
        "outputId": "1c898580-24ec-440d-889c-0110d0b6d976"
      },
      "source": [
        "lancaster_stemmer.stem('connection')"
      ],
      "execution_count": 87,
      "outputs": [
        {
          "output_type": "execute_result",
          "data": {
            "application/vnd.google.colaboratory.intrinsic+json": {
              "type": "string"
            },
            "text/plain": [
              "'connect'"
            ]
          },
          "metadata": {
            "tags": []
          },
          "execution_count": 87
        }
      ]
    },
    {
      "cell_type": "code",
      "metadata": {
        "colab": {
          "base_uri": "https://localhost:8080/",
          "height": 35
        },
        "id": "U_XZTDFNVieM",
        "outputId": "7ae556e5-1ec1-408a-cd6e-d6b767c36447"
      },
      "source": [
        "wordnet_lemmatizer.lemmatize('connection')"
      ],
      "execution_count": 88,
      "outputs": [
        {
          "output_type": "execute_result",
          "data": {
            "application/vnd.google.colaboratory.intrinsic+json": {
              "type": "string"
            },
            "text/plain": [
              "'connection'"
            ]
          },
          "metadata": {
            "tags": []
          },
          "execution_count": 88
        }
      ]
    },
    {
      "cell_type": "markdown",
      "metadata": {
        "id": "L_4xoIpWh6Xr"
      },
      "source": [
        "We can also pass PoS tags to the `WordNetLemmatizer` to make it even better."
      ]
    },
    {
      "cell_type": "code",
      "metadata": {
        "colab": {
          "base_uri": "https://localhost:8080/",
          "height": 35
        },
        "id": "kfceMqYliWaj",
        "outputId": "86b841e6-a8e5-4291-e459-16963a4e30ba"
      },
      "source": [
        "wordnet_lemmatizer.lemmatize('driving')"
      ],
      "execution_count": 89,
      "outputs": [
        {
          "output_type": "execute_result",
          "data": {
            "application/vnd.google.colaboratory.intrinsic+json": {
              "type": "string"
            },
            "text/plain": [
              "'driving'"
            ]
          },
          "metadata": {
            "tags": []
          },
          "execution_count": 89
        }
      ]
    },
    {
      "cell_type": "code",
      "metadata": {
        "colab": {
          "base_uri": "https://localhost:8080/",
          "height": 35
        },
        "id": "WvblX_luh_HA",
        "outputId": "02b43cb7-d5c1-4ad4-c2de-4ea07aca0f2c"
      },
      "source": [
        "wordnet_lemmatizer.lemmatize('driving', 'v')"
      ],
      "execution_count": 90,
      "outputs": [
        {
          "output_type": "execute_result",
          "data": {
            "application/vnd.google.colaboratory.intrinsic+json": {
              "type": "string"
            },
            "text/plain": [
              "'drive'"
            ]
          },
          "metadata": {
            "tags": []
          },
          "execution_count": 90
        }
      ]
    },
    {
      "cell_type": "code",
      "metadata": {
        "id": "pCwM9SO6WMWs"
      },
      "source": [
        "words = ['connection', 'become', 'caring', 'are', 'women', 'driving']"
      ],
      "execution_count": 91,
      "outputs": []
    },
    {
      "cell_type": "code",
      "metadata": {
        "colab": {
          "base_uri": "https://localhost:8080/"
        },
        "id": "UEr_LR2JWN5J",
        "outputId": "fba9c648-5776-4ca4-f0b5-e1f02d8c39a9"
      },
      "source": [
        "for word in words:\r\n",
        "  ps = porter_stemmer.stem(word)\r\n",
        "  ls = lancaster_stemmer.stem(word)\r\n",
        "  wl = wordnet_lemmatizer.lemmatize(word) # We could provide the PoS\r\n",
        "\r\n",
        "  print(f'{word} -  {ps}  {ls}  {wl}')"
      ],
      "execution_count": 92,
      "outputs": [
        {
          "output_type": "stream",
          "text": [
            "connection -  connect  connect  connection\n",
            "become -  becom  becom  become\n",
            "caring -  care  car  caring\n",
            "are -  are  ar  are\n",
            "women -  women  wom  woman\n",
            "driving -  drive  driv  driving\n"
          ],
          "name": "stdout"
        }
      ]
    },
    {
      "cell_type": "markdown",
      "metadata": {
        "id": "YB-tCNGfgT83"
      },
      "source": [
        "As can be seen above, the three approaches lead to rather different results. The `LancasterStemmer` is the most aggressive but also the fastest of the three.\r\n",
        "\r\n",
        "We can use the magic `%%timeit` command to test how fast these stemmers/lemmatizers work."
      ]
    },
    {
      "cell_type": "code",
      "metadata": {
        "colab": {
          "base_uri": "https://localhost:8080/"
        },
        "id": "Ul5_Md6NWk8w",
        "outputId": "bf63a18a-eff2-4d0d-f836-ec5e479953d9"
      },
      "source": [
        "%%timeit\r\n",
        "porter_stemmer.stem('become')"
      ],
      "execution_count": 93,
      "outputs": [
        {
          "output_type": "stream",
          "text": [
            "The slowest run took 4.77 times longer than the fastest. This could mean that an intermediate result is being cached.\n",
            "10000 loops, best of 3: 21.6 µs per loop\n"
          ],
          "name": "stdout"
        }
      ]
    },
    {
      "cell_type": "code",
      "metadata": {
        "colab": {
          "base_uri": "https://localhost:8080/"
        },
        "id": "6u4ERoh-Wxwn",
        "outputId": "fa26b518-e524-4a7e-bf9e-9300673e83f6"
      },
      "source": [
        "%%timeit\r\n",
        "lancaster_stemmer.stem('become')"
      ],
      "execution_count": 94,
      "outputs": [
        {
          "output_type": "stream",
          "text": [
            "The slowest run took 4.64 times longer than the fastest. This could mean that an intermediate result is being cached.\n",
            "100000 loops, best of 3: 9.75 µs per loop\n"
          ],
          "name": "stdout"
        }
      ]
    },
    {
      "cell_type": "code",
      "metadata": {
        "colab": {
          "base_uri": "https://localhost:8080/"
        },
        "id": "STamfso4W49J",
        "outputId": "d50fca03-1288-4287-91f9-dbbaea63e03e"
      },
      "source": [
        "%%timeit\r\n",
        "wordnet_lemmatizer.lemmatize('become')"
      ],
      "execution_count": 95,
      "outputs": [
        {
          "output_type": "stream",
          "text": [
            "The slowest run took 8.54 times longer than the fastest. This could mean that an intermediate result is being cached.\n",
            "100000 loops, best of 3: 3.25 µs per loop\n"
          ],
          "name": "stdout"
        }
      ]
    },
    {
      "cell_type": "markdown",
      "metadata": {
        "id": "_MrKAxuzhV6M"
      },
      "source": [
        "If we take the \"best of 3\" metrics, we can clearly see that the, arguably, inferior `LancasterStemmer`can save us a lot of time if we had a very large corpus. \r\n",
        "\r\n",
        "Of course, the lemmatizer was even faster. However, the lemmatizer will only work well if we have data that works nicely with, in this case, *WordNet*."
      ]
    },
    {
      "cell_type": "code",
      "metadata": {
        "colab": {
          "base_uri": "https://localhost:8080/",
          "height": 35
        },
        "id": "LhHIkJhShsYJ",
        "outputId": "ac8dc21f-3e82-406a-dd57-0848ef350ca6"
      },
      "source": [
        "wordnet_lemmatizer.lemmatize('tweets')"
      ],
      "execution_count": 96,
      "outputs": [
        {
          "output_type": "execute_result",
          "data": {
            "application/vnd.google.colaboratory.intrinsic+json": {
              "type": "string"
            },
            "text/plain": [
              "'tweet'"
            ]
          },
          "metadata": {
            "tags": []
          },
          "execution_count": 96
        }
      ]
    },
    {
      "cell_type": "markdown",
      "metadata": {
        "id": "XE0N3oSSgq4z"
      },
      "source": [
        "#### WordNet Synsets"
      ]
    },
    {
      "cell_type": "code",
      "metadata": {
        "colab": {
          "base_uri": "https://localhost:8080/"
        },
        "id": "H-hEwU_zXJUd",
        "outputId": "1d1679ae-755c-4745-de51-ecf7e7a49ce0"
      },
      "source": [
        "search_term = 'fantastic'\r\n",
        "\r\n",
        "for synset in wordnet.synsets(search_term):\r\n",
        "  for name in synset.lemma_names():\r\n",
        "    print(name)"
      ],
      "execution_count": 97,
      "outputs": [
        {
          "output_type": "stream",
          "text": [
            "antic\n",
            "fantastic\n",
            "fantastical\n",
            "grotesque\n",
            "fantastic\n",
            "grand\n",
            "howling\n",
            "marvelous\n",
            "marvellous\n",
            "rattling\n",
            "terrific\n",
            "tremendous\n",
            "wonderful\n",
            "wondrous\n",
            "fantastic\n",
            "wild\n",
            "fantastic\n",
            "fantastical\n",
            "fantastic\n"
          ],
          "name": "stdout"
        }
      ]
    },
    {
      "cell_type": "markdown",
      "metadata": {
        "id": "l6a71ydw2Dea"
      },
      "source": [
        "### Exercise 13 – spaCy Tagging"
      ]
    },
    {
      "cell_type": "code",
      "metadata": {
        "id": "L6_0ijlGYGhl"
      },
      "source": [
        "wikipedia = textdirectory.TextDirectory(directory='python-programming-for-linguists/2020/data/wikipedia', autoload=True)"
      ],
      "execution_count": 98,
      "outputs": []
    },
    {
      "cell_type": "markdown",
      "metadata": {
        "id": "Bama5FSyjsVy"
      },
      "source": [
        "For this exercise we are using the smallest (pre-made) model for English available. If you need betters results, you might want to use a larger [model](https://spacy.io/usage/models)."
      ]
    },
    {
      "cell_type": "code",
      "metadata": {
        "id": "x2Ic9SF8YKDr"
      },
      "source": [
        "nlp = spacy.load('en_core_web_sm')\r\n",
        "doc = nlp(wikipedia.get_text(0))"
      ],
      "execution_count": 99,
      "outputs": []
    },
    {
      "cell_type": "markdown",
      "metadata": {
        "id": "dDmHiDSyj3zE"
      },
      "source": [
        "#### Sentence Segmentation"
      ]
    },
    {
      "cell_type": "code",
      "metadata": {
        "id": "bJgbbMOKYvUH",
        "colab": {
          "base_uri": "https://localhost:8080/"
        },
        "outputId": "d0ea3f4d-65d3-4853-8462-e24e380beb18"
      },
      "source": [
        "for sent in doc.sents:\r\n",
        "  print(f'{sent}\\n')"
      ],
      "execution_count": 149,
      "outputs": [
        {
          "output_type": "stream",
          "text": [
            "Cologne is the largest city of Germany's most populous federal state of North Rhine-Westphalia and the fourth-most populous city in Germany.\n",
            "\n",
            "With slightly over a million inhabitants (1.09 million) within its city boundaries, Cologne is the largest city on the Rhine and also the most populous city both of the Rhine-Ruhr Metropolitan Region, which is Germany's largest and one of Europe's major metropolitan areas, and of the Rhineland.\n",
            "\n",
            "Centered on the left bank of the Rhine, Cologne is about 45 kilometres (28 mi) southeast of North Rhine-Westphalia's capital of Düsseldorf and 25 kilometres (16 mi) northwest of Bonn.\n",
            "\n",
            "It is the largest city in the Central Franconian and Ripuarian dialect areas.\n",
            "\n",
            "\n",
            "The city's Cologne Cathedral (Kölner Dom) is the seat of the Catholic Archbishop of Cologne.\n",
            "\n",
            "There are many institutions of higher education in the city, most notably the University of Cologne (Universität zu Köln), one of Europe's oldest and largest universities, the Technical University of Cologne (Technische Hochschule Köln), Germany's largest university of applied sciences, and the German Sport University Cologne (Deutsche Sporthochschule Köln), Germany's only sport university.\n",
            "\n",
            "Cologne Bonn Airport (Flughafen Köln/Bonn) is Germany's seventh-largest airport and lies in the southeast of the city.\n",
            "\n",
            "The main airport for the Rhine-Ruhr region is Düsseldorf Airport.\n",
            "\n",
            "\n",
            "Cologne was founded and established in Ubii territory in the 1st century AD as the Roman Colonia Claudia Ara Agrippinensium, the first word of which is the origin of its name.\n",
            "\n",
            "An alternative Latin name of the settlement is Augusta Ubiorum, after the Ubii.\n",
            "\n",
            "\"Cologne\", the French version of the city's name, has become standard in English as well.\n",
            "\n",
            "Cologne functioned as the capital of the Roman province of Germania Inferior and as the headquarters of the Roman military in the region until occupied by the Franks in 462.\n",
            "\n",
            "During the Middle Ages the city flourished as being located on one of the most important major trade routes between east and western Europe.\n",
            "\n",
            "Cologne was one of the leading members of the Hanseatic League and one of the largest cities north of the Alps in medieval and Renaissance times.\n",
            "\n",
            "Prior to World War II, the city had undergone several occupations by the French and also by the British (1918–1926).\n",
            "\n",
            "Cologne was one of the most heavily bombed cities in Germany during World War II, with the Royal Air Force (RAF) dropping 34,711 long tons (35,268 tonnes) of bombs on the city.\n",
            "\n",
            "The bombing reduced the population by 95%, mainly due to evacuation, and destroyed almost the entire city centre.\n",
            "\n",
            "With the intention of restoring as many historic landmarks as possible, the postwar rebuilding has resulted in a very mixed and unique cityscape.\n",
            "\n",
            "\n",
            "Cologne is a major cultural centre for the Rhineland; it hosts more than 30 museums and hundreds of galleries.\n",
            "\n",
            "Exhibitions range from local ancient Roman archeological sites to contemporary graphics and sculpture.\n",
            "\n",
            "The Cologne Trade Fair hosts a number of trade shows such as Art Cologne, imm Cologne, Gamescom, and the Photokina.\n",
            "\n"
          ],
          "name": "stdout"
        }
      ]
    },
    {
      "cell_type": "markdown",
      "metadata": {
        "id": "OLRiRfShj9jP"
      },
      "source": [
        "#### Tagging / Annotation\r\n",
        "\r\n",
        "spaCy documents consist of tokens. Each token, given the default processing pipeline, also has a lemma, a PoS tag, and its dependencies attached to it. "
      ]
    },
    {
      "cell_type": "code",
      "metadata": {
        "colab": {
          "base_uri": "https://localhost:8080/"
        },
        "id": "LPiL6cbKY-Nb",
        "outputId": "ef2bd9e2-30f7-488d-bfb6-7e2e8e94323b"
      },
      "source": [
        "for token in doc[0:10]:\r\n",
        "  print(token.text, token.lemma_, token.tag_, token.dep_)"
      ],
      "execution_count": 101,
      "outputs": [
        {
          "output_type": "stream",
          "text": [
            "Cologne Cologne NNP nsubj\n",
            "is be VBZ ROOT\n",
            "the the DT det\n",
            "largest large JJS amod\n",
            "city city NN attr\n",
            "of of IN prep\n",
            "Germany Germany NNP poss\n",
            "'s 's POS case\n",
            "most most RBS advmod\n",
            "populous populous JJ amod\n"
          ],
          "name": "stdout"
        }
      ]
    },
    {
      "cell_type": "markdown",
      "metadata": {
        "id": "kOQZQHUylfiP"
      },
      "source": [
        "We can also loop over all of the named entities. The results here are not great, but this is due to the small model we are using."
      ]
    },
    {
      "cell_type": "code",
      "metadata": {
        "colab": {
          "base_uri": "https://localhost:8080/"
        },
        "id": "W8iYAEcXZQEz",
        "outputId": "8978e1b8-a3cb-4c7d-e6e2-3711972d859d"
      },
      "source": [
        "for ent in doc.ents[0:20]:\r\n",
        "  print(ent.text, ent.label_)"
      ],
      "execution_count": 102,
      "outputs": [
        {
          "output_type": "stream",
          "text": [
            "Germany GPE\n",
            "North Rhine-Westphalia GPE\n",
            "fourth ORDINAL\n",
            "Germany GPE\n",
            "slightly over a million CARDINAL\n",
            "1.09 million CARDINAL\n",
            "Cologne GPE\n",
            "Rhine GPE\n",
            "the Rhine-Ruhr Metropolitan Region ORG\n",
            "Germany GPE\n",
            "Europe LOC\n",
            "Rhineland ORG\n",
            "Cologne GPE\n",
            "about 45 kilometres QUANTITY\n",
            "28 CARDINAL\n",
            "North Rhine-Westphalia's GPE\n",
            "Düsseldorf LOC\n",
            "25 kilometres QUANTITY\n",
            "Bonn GPE\n",
            "the Central Franconian LOC\n"
          ],
          "name": "stdout"
        }
      ]
    },
    {
      "cell_type": "markdown",
      "metadata": {
        "id": "cn--IUYXlpHD"
      },
      "source": [
        "#### Dependency Graph\r\n",
        "\r\n",
        "`doc.sents` is a generator. The `next` function will simply provide us with the next available elements."
      ]
    },
    {
      "cell_type": "code",
      "metadata": {
        "colab": {
          "base_uri": "https://localhost:8080/",
          "height": 790
        },
        "id": "bUp9Qki9Z-te",
        "outputId": "07274f00-b1eb-4f3f-ee29-3696f36428bc"
      },
      "source": [
        "sentence = next(doc.sents)\r\n",
        "displacy.render(sentence, style='dep', jupyter=True)"
      ],
      "execution_count": 103,
      "outputs": [
        {
          "output_type": "display_data",
          "data": {
            "text/html": [
              "<span class=\"tex2jax_ignore\"><svg xmlns=\"http://www.w3.org/2000/svg\" xmlns:xlink=\"http://www.w3.org/1999/xlink\" xml:lang=\"en\" id=\"bf4ecdd67f6841febee436137951474d-0\" class=\"displacy\" width=\"4250\" height=\"749.5\" direction=\"ltr\" style=\"max-width: none; height: 749.5px; color: #000000; background: #ffffff; font-family: Arial; direction: ltr\">\n",
              "<text class=\"displacy-token\" fill=\"currentColor\" text-anchor=\"middle\" y=\"659.5\">\n",
              "    <tspan class=\"displacy-word\" fill=\"currentColor\" x=\"50\">Cologne</tspan>\n",
              "    <tspan class=\"displacy-tag\" dy=\"2em\" fill=\"currentColor\" x=\"50\">PROPN</tspan>\n",
              "</text>\n",
              "\n",
              "<text class=\"displacy-token\" fill=\"currentColor\" text-anchor=\"middle\" y=\"659.5\">\n",
              "    <tspan class=\"displacy-word\" fill=\"currentColor\" x=\"225\">is</tspan>\n",
              "    <tspan class=\"displacy-tag\" dy=\"2em\" fill=\"currentColor\" x=\"225\">AUX</tspan>\n",
              "</text>\n",
              "\n",
              "<text class=\"displacy-token\" fill=\"currentColor\" text-anchor=\"middle\" y=\"659.5\">\n",
              "    <tspan class=\"displacy-word\" fill=\"currentColor\" x=\"400\">the</tspan>\n",
              "    <tspan class=\"displacy-tag\" dy=\"2em\" fill=\"currentColor\" x=\"400\">DET</tspan>\n",
              "</text>\n",
              "\n",
              "<text class=\"displacy-token\" fill=\"currentColor\" text-anchor=\"middle\" y=\"659.5\">\n",
              "    <tspan class=\"displacy-word\" fill=\"currentColor\" x=\"575\">largest</tspan>\n",
              "    <tspan class=\"displacy-tag\" dy=\"2em\" fill=\"currentColor\" x=\"575\">ADJ</tspan>\n",
              "</text>\n",
              "\n",
              "<text class=\"displacy-token\" fill=\"currentColor\" text-anchor=\"middle\" y=\"659.5\">\n",
              "    <tspan class=\"displacy-word\" fill=\"currentColor\" x=\"750\">city</tspan>\n",
              "    <tspan class=\"displacy-tag\" dy=\"2em\" fill=\"currentColor\" x=\"750\">NOUN</tspan>\n",
              "</text>\n",
              "\n",
              "<text class=\"displacy-token\" fill=\"currentColor\" text-anchor=\"middle\" y=\"659.5\">\n",
              "    <tspan class=\"displacy-word\" fill=\"currentColor\" x=\"925\">of</tspan>\n",
              "    <tspan class=\"displacy-tag\" dy=\"2em\" fill=\"currentColor\" x=\"925\">ADP</tspan>\n",
              "</text>\n",
              "\n",
              "<text class=\"displacy-token\" fill=\"currentColor\" text-anchor=\"middle\" y=\"659.5\">\n",
              "    <tspan class=\"displacy-word\" fill=\"currentColor\" x=\"1100\">Germany</tspan>\n",
              "    <tspan class=\"displacy-tag\" dy=\"2em\" fill=\"currentColor\" x=\"1100\">PROPN</tspan>\n",
              "</text>\n",
              "\n",
              "<text class=\"displacy-token\" fill=\"currentColor\" text-anchor=\"middle\" y=\"659.5\">\n",
              "    <tspan class=\"displacy-word\" fill=\"currentColor\" x=\"1275\">'s</tspan>\n",
              "    <tspan class=\"displacy-tag\" dy=\"2em\" fill=\"currentColor\" x=\"1275\">PART</tspan>\n",
              "</text>\n",
              "\n",
              "<text class=\"displacy-token\" fill=\"currentColor\" text-anchor=\"middle\" y=\"659.5\">\n",
              "    <tspan class=\"displacy-word\" fill=\"currentColor\" x=\"1450\">most</tspan>\n",
              "    <tspan class=\"displacy-tag\" dy=\"2em\" fill=\"currentColor\" x=\"1450\">ADV</tspan>\n",
              "</text>\n",
              "\n",
              "<text class=\"displacy-token\" fill=\"currentColor\" text-anchor=\"middle\" y=\"659.5\">\n",
              "    <tspan class=\"displacy-word\" fill=\"currentColor\" x=\"1625\">populous</tspan>\n",
              "    <tspan class=\"displacy-tag\" dy=\"2em\" fill=\"currentColor\" x=\"1625\">ADJ</tspan>\n",
              "</text>\n",
              "\n",
              "<text class=\"displacy-token\" fill=\"currentColor\" text-anchor=\"middle\" y=\"659.5\">\n",
              "    <tspan class=\"displacy-word\" fill=\"currentColor\" x=\"1800\">federal</tspan>\n",
              "    <tspan class=\"displacy-tag\" dy=\"2em\" fill=\"currentColor\" x=\"1800\">ADJ</tspan>\n",
              "</text>\n",
              "\n",
              "<text class=\"displacy-token\" fill=\"currentColor\" text-anchor=\"middle\" y=\"659.5\">\n",
              "    <tspan class=\"displacy-word\" fill=\"currentColor\" x=\"1975\">state</tspan>\n",
              "    <tspan class=\"displacy-tag\" dy=\"2em\" fill=\"currentColor\" x=\"1975\">NOUN</tspan>\n",
              "</text>\n",
              "\n",
              "<text class=\"displacy-token\" fill=\"currentColor\" text-anchor=\"middle\" y=\"659.5\">\n",
              "    <tspan class=\"displacy-word\" fill=\"currentColor\" x=\"2150\">of</tspan>\n",
              "    <tspan class=\"displacy-tag\" dy=\"2em\" fill=\"currentColor\" x=\"2150\">ADP</tspan>\n",
              "</text>\n",
              "\n",
              "<text class=\"displacy-token\" fill=\"currentColor\" text-anchor=\"middle\" y=\"659.5\">\n",
              "    <tspan class=\"displacy-word\" fill=\"currentColor\" x=\"2325\">North</tspan>\n",
              "    <tspan class=\"displacy-tag\" dy=\"2em\" fill=\"currentColor\" x=\"2325\">PROPN</tspan>\n",
              "</text>\n",
              "\n",
              "<text class=\"displacy-token\" fill=\"currentColor\" text-anchor=\"middle\" y=\"659.5\">\n",
              "    <tspan class=\"displacy-word\" fill=\"currentColor\" x=\"2500\">Rhine-</tspan>\n",
              "    <tspan class=\"displacy-tag\" dy=\"2em\" fill=\"currentColor\" x=\"2500\">PROPN</tspan>\n",
              "</text>\n",
              "\n",
              "<text class=\"displacy-token\" fill=\"currentColor\" text-anchor=\"middle\" y=\"659.5\">\n",
              "    <tspan class=\"displacy-word\" fill=\"currentColor\" x=\"2675\">Westphalia</tspan>\n",
              "    <tspan class=\"displacy-tag\" dy=\"2em\" fill=\"currentColor\" x=\"2675\">PROPN</tspan>\n",
              "</text>\n",
              "\n",
              "<text class=\"displacy-token\" fill=\"currentColor\" text-anchor=\"middle\" y=\"659.5\">\n",
              "    <tspan class=\"displacy-word\" fill=\"currentColor\" x=\"2850\">and</tspan>\n",
              "    <tspan class=\"displacy-tag\" dy=\"2em\" fill=\"currentColor\" x=\"2850\">CCONJ</tspan>\n",
              "</text>\n",
              "\n",
              "<text class=\"displacy-token\" fill=\"currentColor\" text-anchor=\"middle\" y=\"659.5\">\n",
              "    <tspan class=\"displacy-word\" fill=\"currentColor\" x=\"3025\">the</tspan>\n",
              "    <tspan class=\"displacy-tag\" dy=\"2em\" fill=\"currentColor\" x=\"3025\">DET</tspan>\n",
              "</text>\n",
              "\n",
              "<text class=\"displacy-token\" fill=\"currentColor\" text-anchor=\"middle\" y=\"659.5\">\n",
              "    <tspan class=\"displacy-word\" fill=\"currentColor\" x=\"3200\">fourth-</tspan>\n",
              "    <tspan class=\"displacy-tag\" dy=\"2em\" fill=\"currentColor\" x=\"3200\">ADV</tspan>\n",
              "</text>\n",
              "\n",
              "<text class=\"displacy-token\" fill=\"currentColor\" text-anchor=\"middle\" y=\"659.5\">\n",
              "    <tspan class=\"displacy-word\" fill=\"currentColor\" x=\"3375\">most</tspan>\n",
              "    <tspan class=\"displacy-tag\" dy=\"2em\" fill=\"currentColor\" x=\"3375\">ADV</tspan>\n",
              "</text>\n",
              "\n",
              "<text class=\"displacy-token\" fill=\"currentColor\" text-anchor=\"middle\" y=\"659.5\">\n",
              "    <tspan class=\"displacy-word\" fill=\"currentColor\" x=\"3550\">populous</tspan>\n",
              "    <tspan class=\"displacy-tag\" dy=\"2em\" fill=\"currentColor\" x=\"3550\">ADJ</tspan>\n",
              "</text>\n",
              "\n",
              "<text class=\"displacy-token\" fill=\"currentColor\" text-anchor=\"middle\" y=\"659.5\">\n",
              "    <tspan class=\"displacy-word\" fill=\"currentColor\" x=\"3725\">city</tspan>\n",
              "    <tspan class=\"displacy-tag\" dy=\"2em\" fill=\"currentColor\" x=\"3725\">NOUN</tspan>\n",
              "</text>\n",
              "\n",
              "<text class=\"displacy-token\" fill=\"currentColor\" text-anchor=\"middle\" y=\"659.5\">\n",
              "    <tspan class=\"displacy-word\" fill=\"currentColor\" x=\"3900\">in</tspan>\n",
              "    <tspan class=\"displacy-tag\" dy=\"2em\" fill=\"currentColor\" x=\"3900\">ADP</tspan>\n",
              "</text>\n",
              "\n",
              "<text class=\"displacy-token\" fill=\"currentColor\" text-anchor=\"middle\" y=\"659.5\">\n",
              "    <tspan class=\"displacy-word\" fill=\"currentColor\" x=\"4075\">Germany.</tspan>\n",
              "    <tspan class=\"displacy-tag\" dy=\"2em\" fill=\"currentColor\" x=\"4075\">PROPN</tspan>\n",
              "</text>\n",
              "\n",
              "<g class=\"displacy-arrow\">\n",
              "    <path class=\"displacy-arc\" id=\"arrow-bf4ecdd67f6841febee436137951474d-0-0\" stroke-width=\"2px\" d=\"M70,614.5 C70,527.0 195.0,527.0 195.0,614.5\" fill=\"none\" stroke=\"currentColor\"/>\n",
              "    <text dy=\"1.25em\" style=\"font-size: 0.8em; letter-spacing: 1px\">\n",
              "        <textPath xlink:href=\"#arrow-bf4ecdd67f6841febee436137951474d-0-0\" class=\"displacy-label\" startOffset=\"50%\" side=\"left\" fill=\"currentColor\" text-anchor=\"middle\">nsubj</textPath>\n",
              "    </text>\n",
              "    <path class=\"displacy-arrowhead\" d=\"M70,616.5 L62,604.5 78,604.5\" fill=\"currentColor\"/>\n",
              "</g>\n",
              "\n",
              "<g class=\"displacy-arrow\">\n",
              "    <path class=\"displacy-arc\" id=\"arrow-bf4ecdd67f6841febee436137951474d-0-1\" stroke-width=\"2px\" d=\"M420,614.5 C420,439.5 725.0,439.5 725.0,614.5\" fill=\"none\" stroke=\"currentColor\"/>\n",
              "    <text dy=\"1.25em\" style=\"font-size: 0.8em; letter-spacing: 1px\">\n",
              "        <textPath xlink:href=\"#arrow-bf4ecdd67f6841febee436137951474d-0-1\" class=\"displacy-label\" startOffset=\"50%\" side=\"left\" fill=\"currentColor\" text-anchor=\"middle\">det</textPath>\n",
              "    </text>\n",
              "    <path class=\"displacy-arrowhead\" d=\"M420,616.5 L412,604.5 428,604.5\" fill=\"currentColor\"/>\n",
              "</g>\n",
              "\n",
              "<g class=\"displacy-arrow\">\n",
              "    <path class=\"displacy-arc\" id=\"arrow-bf4ecdd67f6841febee436137951474d-0-2\" stroke-width=\"2px\" d=\"M595,614.5 C595,527.0 720.0,527.0 720.0,614.5\" fill=\"none\" stroke=\"currentColor\"/>\n",
              "    <text dy=\"1.25em\" style=\"font-size: 0.8em; letter-spacing: 1px\">\n",
              "        <textPath xlink:href=\"#arrow-bf4ecdd67f6841febee436137951474d-0-2\" class=\"displacy-label\" startOffset=\"50%\" side=\"left\" fill=\"currentColor\" text-anchor=\"middle\">amod</textPath>\n",
              "    </text>\n",
              "    <path class=\"displacy-arrowhead\" d=\"M595,616.5 L587,604.5 603,604.5\" fill=\"currentColor\"/>\n",
              "</g>\n",
              "\n",
              "<g class=\"displacy-arrow\">\n",
              "    <path class=\"displacy-arc\" id=\"arrow-bf4ecdd67f6841febee436137951474d-0-3\" stroke-width=\"2px\" d=\"M245,614.5 C245,352.0 730.0,352.0 730.0,614.5\" fill=\"none\" stroke=\"currentColor\"/>\n",
              "    <text dy=\"1.25em\" style=\"font-size: 0.8em; letter-spacing: 1px\">\n",
              "        <textPath xlink:href=\"#arrow-bf4ecdd67f6841febee436137951474d-0-3\" class=\"displacy-label\" startOffset=\"50%\" side=\"left\" fill=\"currentColor\" text-anchor=\"middle\">attr</textPath>\n",
              "    </text>\n",
              "    <path class=\"displacy-arrowhead\" d=\"M730.0,616.5 L738.0,604.5 722.0,604.5\" fill=\"currentColor\"/>\n",
              "</g>\n",
              "\n",
              "<g class=\"displacy-arrow\">\n",
              "    <path class=\"displacy-arc\" id=\"arrow-bf4ecdd67f6841febee436137951474d-0-4\" stroke-width=\"2px\" d=\"M770,614.5 C770,527.0 895.0,527.0 895.0,614.5\" fill=\"none\" stroke=\"currentColor\"/>\n",
              "    <text dy=\"1.25em\" style=\"font-size: 0.8em; letter-spacing: 1px\">\n",
              "        <textPath xlink:href=\"#arrow-bf4ecdd67f6841febee436137951474d-0-4\" class=\"displacy-label\" startOffset=\"50%\" side=\"left\" fill=\"currentColor\" text-anchor=\"middle\">prep</textPath>\n",
              "    </text>\n",
              "    <path class=\"displacy-arrowhead\" d=\"M895.0,616.5 L903.0,604.5 887.0,604.5\" fill=\"currentColor\"/>\n",
              "</g>\n",
              "\n",
              "<g class=\"displacy-arrow\">\n",
              "    <path class=\"displacy-arc\" id=\"arrow-bf4ecdd67f6841febee436137951474d-0-5\" stroke-width=\"2px\" d=\"M1120,614.5 C1120,177.0 1965.0,177.0 1965.0,614.5\" fill=\"none\" stroke=\"currentColor\"/>\n",
              "    <text dy=\"1.25em\" style=\"font-size: 0.8em; letter-spacing: 1px\">\n",
              "        <textPath xlink:href=\"#arrow-bf4ecdd67f6841febee436137951474d-0-5\" class=\"displacy-label\" startOffset=\"50%\" side=\"left\" fill=\"currentColor\" text-anchor=\"middle\">poss</textPath>\n",
              "    </text>\n",
              "    <path class=\"displacy-arrowhead\" d=\"M1120,616.5 L1112,604.5 1128,604.5\" fill=\"currentColor\"/>\n",
              "</g>\n",
              "\n",
              "<g class=\"displacy-arrow\">\n",
              "    <path class=\"displacy-arc\" id=\"arrow-bf4ecdd67f6841febee436137951474d-0-6\" stroke-width=\"2px\" d=\"M1120,614.5 C1120,527.0 1245.0,527.0 1245.0,614.5\" fill=\"none\" stroke=\"currentColor\"/>\n",
              "    <text dy=\"1.25em\" style=\"font-size: 0.8em; letter-spacing: 1px\">\n",
              "        <textPath xlink:href=\"#arrow-bf4ecdd67f6841febee436137951474d-0-6\" class=\"displacy-label\" startOffset=\"50%\" side=\"left\" fill=\"currentColor\" text-anchor=\"middle\">case</textPath>\n",
              "    </text>\n",
              "    <path class=\"displacy-arrowhead\" d=\"M1245.0,616.5 L1253.0,604.5 1237.0,604.5\" fill=\"currentColor\"/>\n",
              "</g>\n",
              "\n",
              "<g class=\"displacy-arrow\">\n",
              "    <path class=\"displacy-arc\" id=\"arrow-bf4ecdd67f6841febee436137951474d-0-7\" stroke-width=\"2px\" d=\"M1470,614.5 C1470,527.0 1595.0,527.0 1595.0,614.5\" fill=\"none\" stroke=\"currentColor\"/>\n",
              "    <text dy=\"1.25em\" style=\"font-size: 0.8em; letter-spacing: 1px\">\n",
              "        <textPath xlink:href=\"#arrow-bf4ecdd67f6841febee436137951474d-0-7\" class=\"displacy-label\" startOffset=\"50%\" side=\"left\" fill=\"currentColor\" text-anchor=\"middle\">advmod</textPath>\n",
              "    </text>\n",
              "    <path class=\"displacy-arrowhead\" d=\"M1470,616.5 L1462,604.5 1478,604.5\" fill=\"currentColor\"/>\n",
              "</g>\n",
              "\n",
              "<g class=\"displacy-arrow\">\n",
              "    <path class=\"displacy-arc\" id=\"arrow-bf4ecdd67f6841febee436137951474d-0-8\" stroke-width=\"2px\" d=\"M1645,614.5 C1645,439.5 1950.0,439.5 1950.0,614.5\" fill=\"none\" stroke=\"currentColor\"/>\n",
              "    <text dy=\"1.25em\" style=\"font-size: 0.8em; letter-spacing: 1px\">\n",
              "        <textPath xlink:href=\"#arrow-bf4ecdd67f6841febee436137951474d-0-8\" class=\"displacy-label\" startOffset=\"50%\" side=\"left\" fill=\"currentColor\" text-anchor=\"middle\">amod</textPath>\n",
              "    </text>\n",
              "    <path class=\"displacy-arrowhead\" d=\"M1645,616.5 L1637,604.5 1653,604.5\" fill=\"currentColor\"/>\n",
              "</g>\n",
              "\n",
              "<g class=\"displacy-arrow\">\n",
              "    <path class=\"displacy-arc\" id=\"arrow-bf4ecdd67f6841febee436137951474d-0-9\" stroke-width=\"2px\" d=\"M1820,614.5 C1820,527.0 1945.0,527.0 1945.0,614.5\" fill=\"none\" stroke=\"currentColor\"/>\n",
              "    <text dy=\"1.25em\" style=\"font-size: 0.8em; letter-spacing: 1px\">\n",
              "        <textPath xlink:href=\"#arrow-bf4ecdd67f6841febee436137951474d-0-9\" class=\"displacy-label\" startOffset=\"50%\" side=\"left\" fill=\"currentColor\" text-anchor=\"middle\">amod</textPath>\n",
              "    </text>\n",
              "    <path class=\"displacy-arrowhead\" d=\"M1820,616.5 L1812,604.5 1828,604.5\" fill=\"currentColor\"/>\n",
              "</g>\n",
              "\n",
              "<g class=\"displacy-arrow\">\n",
              "    <path class=\"displacy-arc\" id=\"arrow-bf4ecdd67f6841febee436137951474d-0-10\" stroke-width=\"2px\" d=\"M945,614.5 C945,89.5 1970.0,89.5 1970.0,614.5\" fill=\"none\" stroke=\"currentColor\"/>\n",
              "    <text dy=\"1.25em\" style=\"font-size: 0.8em; letter-spacing: 1px\">\n",
              "        <textPath xlink:href=\"#arrow-bf4ecdd67f6841febee436137951474d-0-10\" class=\"displacy-label\" startOffset=\"50%\" side=\"left\" fill=\"currentColor\" text-anchor=\"middle\">pobj</textPath>\n",
              "    </text>\n",
              "    <path class=\"displacy-arrowhead\" d=\"M1970.0,616.5 L1978.0,604.5 1962.0,604.5\" fill=\"currentColor\"/>\n",
              "</g>\n",
              "\n",
              "<g class=\"displacy-arrow\">\n",
              "    <path class=\"displacy-arc\" id=\"arrow-bf4ecdd67f6841febee436137951474d-0-11\" stroke-width=\"2px\" d=\"M1995,614.5 C1995,527.0 2120.0,527.0 2120.0,614.5\" fill=\"none\" stroke=\"currentColor\"/>\n",
              "    <text dy=\"1.25em\" style=\"font-size: 0.8em; letter-spacing: 1px\">\n",
              "        <textPath xlink:href=\"#arrow-bf4ecdd67f6841febee436137951474d-0-11\" class=\"displacy-label\" startOffset=\"50%\" side=\"left\" fill=\"currentColor\" text-anchor=\"middle\">prep</textPath>\n",
              "    </text>\n",
              "    <path class=\"displacy-arrowhead\" d=\"M2120.0,616.5 L2128.0,604.5 2112.0,604.5\" fill=\"currentColor\"/>\n",
              "</g>\n",
              "\n",
              "<g class=\"displacy-arrow\">\n",
              "    <path class=\"displacy-arc\" id=\"arrow-bf4ecdd67f6841febee436137951474d-0-12\" stroke-width=\"2px\" d=\"M2345,614.5 C2345,527.0 2470.0,527.0 2470.0,614.5\" fill=\"none\" stroke=\"currentColor\"/>\n",
              "    <text dy=\"1.25em\" style=\"font-size: 0.8em; letter-spacing: 1px\">\n",
              "        <textPath xlink:href=\"#arrow-bf4ecdd67f6841febee436137951474d-0-12\" class=\"displacy-label\" startOffset=\"50%\" side=\"left\" fill=\"currentColor\" text-anchor=\"middle\">compound</textPath>\n",
              "    </text>\n",
              "    <path class=\"displacy-arrowhead\" d=\"M2345,616.5 L2337,604.5 2353,604.5\" fill=\"currentColor\"/>\n",
              "</g>\n",
              "\n",
              "<g class=\"displacy-arrow\">\n",
              "    <path class=\"displacy-arc\" id=\"arrow-bf4ecdd67f6841febee436137951474d-0-13\" stroke-width=\"2px\" d=\"M2170,614.5 C2170,439.5 2475.0,439.5 2475.0,614.5\" fill=\"none\" stroke=\"currentColor\"/>\n",
              "    <text dy=\"1.25em\" style=\"font-size: 0.8em; letter-spacing: 1px\">\n",
              "        <textPath xlink:href=\"#arrow-bf4ecdd67f6841febee436137951474d-0-13\" class=\"displacy-label\" startOffset=\"50%\" side=\"left\" fill=\"currentColor\" text-anchor=\"middle\">pobj</textPath>\n",
              "    </text>\n",
              "    <path class=\"displacy-arrowhead\" d=\"M2475.0,616.5 L2483.0,604.5 2467.0,604.5\" fill=\"currentColor\"/>\n",
              "</g>\n",
              "\n",
              "<g class=\"displacy-arrow\">\n",
              "    <path class=\"displacy-arc\" id=\"arrow-bf4ecdd67f6841febee436137951474d-0-14\" stroke-width=\"2px\" d=\"M770,614.5 C770,2.0 2675.0,2.0 2675.0,614.5\" fill=\"none\" stroke=\"currentColor\"/>\n",
              "    <text dy=\"1.25em\" style=\"font-size: 0.8em; letter-spacing: 1px\">\n",
              "        <textPath xlink:href=\"#arrow-bf4ecdd67f6841febee436137951474d-0-14\" class=\"displacy-label\" startOffset=\"50%\" side=\"left\" fill=\"currentColor\" text-anchor=\"middle\">appos</textPath>\n",
              "    </text>\n",
              "    <path class=\"displacy-arrowhead\" d=\"M2675.0,616.5 L2683.0,604.5 2667.0,604.5\" fill=\"currentColor\"/>\n",
              "</g>\n",
              "\n",
              "<g class=\"displacy-arrow\">\n",
              "    <path class=\"displacy-arc\" id=\"arrow-bf4ecdd67f6841febee436137951474d-0-15\" stroke-width=\"2px\" d=\"M2695,614.5 C2695,527.0 2820.0,527.0 2820.0,614.5\" fill=\"none\" stroke=\"currentColor\"/>\n",
              "    <text dy=\"1.25em\" style=\"font-size: 0.8em; letter-spacing: 1px\">\n",
              "        <textPath xlink:href=\"#arrow-bf4ecdd67f6841febee436137951474d-0-15\" class=\"displacy-label\" startOffset=\"50%\" side=\"left\" fill=\"currentColor\" text-anchor=\"middle\">cc</textPath>\n",
              "    </text>\n",
              "    <path class=\"displacy-arrowhead\" d=\"M2820.0,616.5 L2828.0,604.5 2812.0,604.5\" fill=\"currentColor\"/>\n",
              "</g>\n",
              "\n",
              "<g class=\"displacy-arrow\">\n",
              "    <path class=\"displacy-arc\" id=\"arrow-bf4ecdd67f6841febee436137951474d-0-16\" stroke-width=\"2px\" d=\"M3045,614.5 C3045,264.5 3710.0,264.5 3710.0,614.5\" fill=\"none\" stroke=\"currentColor\"/>\n",
              "    <text dy=\"1.25em\" style=\"font-size: 0.8em; letter-spacing: 1px\">\n",
              "        <textPath xlink:href=\"#arrow-bf4ecdd67f6841febee436137951474d-0-16\" class=\"displacy-label\" startOffset=\"50%\" side=\"left\" fill=\"currentColor\" text-anchor=\"middle\">det</textPath>\n",
              "    </text>\n",
              "    <path class=\"displacy-arrowhead\" d=\"M3045,616.5 L3037,604.5 3053,604.5\" fill=\"currentColor\"/>\n",
              "</g>\n",
              "\n",
              "<g class=\"displacy-arrow\">\n",
              "    <path class=\"displacy-arc\" id=\"arrow-bf4ecdd67f6841febee436137951474d-0-17\" stroke-width=\"2px\" d=\"M3220,614.5 C3220,527.0 3345.0,527.0 3345.0,614.5\" fill=\"none\" stroke=\"currentColor\"/>\n",
              "    <text dy=\"1.25em\" style=\"font-size: 0.8em; letter-spacing: 1px\">\n",
              "        <textPath xlink:href=\"#arrow-bf4ecdd67f6841febee436137951474d-0-17\" class=\"displacy-label\" startOffset=\"50%\" side=\"left\" fill=\"currentColor\" text-anchor=\"middle\">advmod</textPath>\n",
              "    </text>\n",
              "    <path class=\"displacy-arrowhead\" d=\"M3220,616.5 L3212,604.5 3228,604.5\" fill=\"currentColor\"/>\n",
              "</g>\n",
              "\n",
              "<g class=\"displacy-arrow\">\n",
              "    <path class=\"displacy-arc\" id=\"arrow-bf4ecdd67f6841febee436137951474d-0-18\" stroke-width=\"2px\" d=\"M3395,614.5 C3395,527.0 3520.0,527.0 3520.0,614.5\" fill=\"none\" stroke=\"currentColor\"/>\n",
              "    <text dy=\"1.25em\" style=\"font-size: 0.8em; letter-spacing: 1px\">\n",
              "        <textPath xlink:href=\"#arrow-bf4ecdd67f6841febee436137951474d-0-18\" class=\"displacy-label\" startOffset=\"50%\" side=\"left\" fill=\"currentColor\" text-anchor=\"middle\">advmod</textPath>\n",
              "    </text>\n",
              "    <path class=\"displacy-arrowhead\" d=\"M3395,616.5 L3387,604.5 3403,604.5\" fill=\"currentColor\"/>\n",
              "</g>\n",
              "\n",
              "<g class=\"displacy-arrow\">\n",
              "    <path class=\"displacy-arc\" id=\"arrow-bf4ecdd67f6841febee436137951474d-0-19\" stroke-width=\"2px\" d=\"M3570,614.5 C3570,527.0 3695.0,527.0 3695.0,614.5\" fill=\"none\" stroke=\"currentColor\"/>\n",
              "    <text dy=\"1.25em\" style=\"font-size: 0.8em; letter-spacing: 1px\">\n",
              "        <textPath xlink:href=\"#arrow-bf4ecdd67f6841febee436137951474d-0-19\" class=\"displacy-label\" startOffset=\"50%\" side=\"left\" fill=\"currentColor\" text-anchor=\"middle\">amod</textPath>\n",
              "    </text>\n",
              "    <path class=\"displacy-arrowhead\" d=\"M3570,616.5 L3562,604.5 3578,604.5\" fill=\"currentColor\"/>\n",
              "</g>\n",
              "\n",
              "<g class=\"displacy-arrow\">\n",
              "    <path class=\"displacy-arc\" id=\"arrow-bf4ecdd67f6841febee436137951474d-0-20\" stroke-width=\"2px\" d=\"M2695,614.5 C2695,89.5 3720.0,89.5 3720.0,614.5\" fill=\"none\" stroke=\"currentColor\"/>\n",
              "    <text dy=\"1.25em\" style=\"font-size: 0.8em; letter-spacing: 1px\">\n",
              "        <textPath xlink:href=\"#arrow-bf4ecdd67f6841febee436137951474d-0-20\" class=\"displacy-label\" startOffset=\"50%\" side=\"left\" fill=\"currentColor\" text-anchor=\"middle\">conj</textPath>\n",
              "    </text>\n",
              "    <path class=\"displacy-arrowhead\" d=\"M3720.0,616.5 L3728.0,604.5 3712.0,604.5\" fill=\"currentColor\"/>\n",
              "</g>\n",
              "\n",
              "<g class=\"displacy-arrow\">\n",
              "    <path class=\"displacy-arc\" id=\"arrow-bf4ecdd67f6841febee436137951474d-0-21\" stroke-width=\"2px\" d=\"M3745,614.5 C3745,527.0 3870.0,527.0 3870.0,614.5\" fill=\"none\" stroke=\"currentColor\"/>\n",
              "    <text dy=\"1.25em\" style=\"font-size: 0.8em; letter-spacing: 1px\">\n",
              "        <textPath xlink:href=\"#arrow-bf4ecdd67f6841febee436137951474d-0-21\" class=\"displacy-label\" startOffset=\"50%\" side=\"left\" fill=\"currentColor\" text-anchor=\"middle\">prep</textPath>\n",
              "    </text>\n",
              "    <path class=\"displacy-arrowhead\" d=\"M3870.0,616.5 L3878.0,604.5 3862.0,604.5\" fill=\"currentColor\"/>\n",
              "</g>\n",
              "\n",
              "<g class=\"displacy-arrow\">\n",
              "    <path class=\"displacy-arc\" id=\"arrow-bf4ecdd67f6841febee436137951474d-0-22\" stroke-width=\"2px\" d=\"M3920,614.5 C3920,527.0 4045.0,527.0 4045.0,614.5\" fill=\"none\" stroke=\"currentColor\"/>\n",
              "    <text dy=\"1.25em\" style=\"font-size: 0.8em; letter-spacing: 1px\">\n",
              "        <textPath xlink:href=\"#arrow-bf4ecdd67f6841febee436137951474d-0-22\" class=\"displacy-label\" startOffset=\"50%\" side=\"left\" fill=\"currentColor\" text-anchor=\"middle\">pobj</textPath>\n",
              "    </text>\n",
              "    <path class=\"displacy-arrowhead\" d=\"M4045.0,616.5 L4053.0,604.5 4037.0,604.5\" fill=\"currentColor\"/>\n",
              "</g>\n",
              "</svg></span>"
            ],
            "text/plain": [
              "<IPython.core.display.HTML object>"
            ]
          },
          "metadata": {
            "tags": []
          }
        }
      ]
    },
    {
      "cell_type": "markdown",
      "metadata": {
        "id": "ovBYK7RO2GU2"
      },
      "source": [
        "### Exercise 14 - Parsing XML"
      ]
    },
    {
      "cell_type": "code",
      "metadata": {
        "colab": {
          "base_uri": "https://localhost:8080/",
          "height": 52
        },
        "id": "WhBnWOHQbq8P",
        "outputId": "78472f76-6578-471f-db4b-f06c62ace7fa"
      },
      "source": [
        "with open('python-programming-for-linguists/2020/data/xml/bnc_style.xml', 'r') as f:\r\n",
        "  xml = f.read()\r\n",
        "\r\n",
        "xml"
      ],
      "execution_count": 104,
      "outputs": [
        {
          "output_type": "execute_result",
          "data": {
            "application/vnd.google.colaboratory.intrinsic+json": {
              "type": "string"
            },
            "text/plain": [
              "'<s n=\"1\">\\n    <w c5=\"PNP\" hw=\"i\" pos=\"PRON\">I </w>\\n    <w c5=\"VHB\" hw=\"have\" pos=\"VERB\">have </w>\\n    <w c5=\"VVN\" hw=\"buy\" pos=\"VERB\">bought </w>\\n    <w c5=\"AT0\" hw=\"a\" pos=\"ART\">a </w>\\n    <w c5=\"NN1\" hw=\"car\" pos=\"SUBST\">car</w>\\n    <c c5=\"PUN\">.</c>\\n</s>'"
            ]
          },
          "metadata": {
            "tags": []
          },
          "execution_count": 104
        }
      ]
    },
    {
      "cell_type": "markdown",
      "metadata": {
        "id": "tYHDFoKacAAW"
      },
      "source": [
        "#### RegEx-Based Approach"
      ]
    },
    {
      "cell_type": "code",
      "metadata": {
        "id": "8coXLZC9b_6j"
      },
      "source": [
        "def find_elements_re(xml, attribute, att_value):\r\n",
        "  regex = re.compile(f'(<.*{attribute}=\"{att_value}\".*?>(.*)<\\/.*?>)')\r\n",
        "\r\n",
        "  xml_elements = re.findall(regex, xml)\r\n",
        "\r\n",
        "  return [element[1].strip() for element in xml_elements]"
      ],
      "execution_count": 105,
      "outputs": []
    },
    {
      "cell_type": "code",
      "metadata": {
        "colab": {
          "base_uri": "https://localhost:8080/"
        },
        "id": "7cwFCgC_b-Zw",
        "outputId": "0b86c043-edc6-4f58-e8cb-440f7804c040"
      },
      "source": [
        "find_elements_re(xml, 'pos', 'VERB')"
      ],
      "execution_count": 106,
      "outputs": [
        {
          "output_type": "execute_result",
          "data": {
            "text/plain": [
              "['have', 'bought']"
            ]
          },
          "metadata": {
            "tags": []
          },
          "execution_count": 106
        }
      ]
    },
    {
      "cell_type": "markdown",
      "metadata": {
        "id": "Rb_Dlb6JddEv"
      },
      "source": [
        "#### Parsing Approach (using *LXML*)\r\n"
      ]
    },
    {
      "cell_type": "code",
      "metadata": {
        "id": "-VNYeCBedcMT"
      },
      "source": [
        "def find_elements_lxml(xml, attribute, att_value):\r\n",
        "  tree = lxml.etree.parse(StringIO(xml))\r\n",
        "  root = tree.getroot()\r\n",
        "\r\n",
        "  # findall support XPath (see below)\r\n",
        "  elements = root.findall(f\"w[@{attribute}='{att_value}']\")\r\n",
        "\r\n",
        "  for element in elements:\r\n",
        "    print(element.text)"
      ],
      "execution_count": 107,
      "outputs": []
    },
    {
      "cell_type": "code",
      "metadata": {
        "colab": {
          "base_uri": "https://localhost:8080/"
        },
        "id": "UfL5wCszfDbO",
        "outputId": "9019dbf6-46d0-4bd2-dffe-daa56ce11bf6"
      },
      "source": [
        "find_elements_lxml(xml, 'pos', 'VERB')"
      ],
      "execution_count": 108,
      "outputs": [
        {
          "output_type": "stream",
          "text": [
            "have \n",
            "bought \n"
          ],
          "name": "stdout"
        }
      ]
    },
    {
      "cell_type": "markdown",
      "metadata": {
        "id": "6u-N6EqgeFOL"
      },
      "source": [
        "##### XPath"
      ]
    },
    {
      "cell_type": "code",
      "metadata": {
        "id": "aS58s8MoeFBK"
      },
      "source": [
        "tree = lxml.etree.parse('python-programming-for-linguists/2020/data/xml/xpath_example.xml')"
      ],
      "execution_count": 109,
      "outputs": []
    },
    {
      "cell_type": "markdown",
      "metadata": {
        "id": "M919YiZsAsmD"
      },
      "source": [
        "Get *verbs* on page one."
      ]
    },
    {
      "cell_type": "code",
      "metadata": {
        "colab": {
          "base_uri": "https://localhost:8080/"
        },
        "id": "skbQgk__ePKz",
        "outputId": "70a4fb1f-807c-4fb6-d2dd-66525136a068"
      },
      "source": [
        "elements = tree.findall(f\"/page[@pg_nr='1']/s/w[@pos='verb']\")\r\n",
        "\r\n",
        "[element.text for element in elements]"
      ],
      "execution_count": 110,
      "outputs": [
        {
          "output_type": "execute_result",
          "data": {
            "text/plain": [
              "['was', 'smelled']"
            ]
          },
          "metadata": {
            "tags": []
          },
          "execution_count": 110
        }
      ]
    },
    {
      "cell_type": "markdown",
      "metadata": {
        "id": "-Bsw2xRBAxhF"
      },
      "source": [
        "Get the first word in the second sentence on page two."
      ]
    },
    {
      "cell_type": "code",
      "metadata": {
        "colab": {
          "base_uri": "https://localhost:8080/"
        },
        "id": "aQ534HeEenBp",
        "outputId": "daa768b3-e02e-4fd2-8650-9952d606d4c4"
      },
      "source": [
        "elements = tree.findall(f\"/page/[@pg_nr='2']/s[2]/w[1]\")\r\n",
        "[element.text for element in elements]"
      ],
      "execution_count": 111,
      "outputs": [
        {
          "output_type": "execute_result",
          "data": {
            "text/plain": [
              "['They']"
            ]
          },
          "metadata": {
            "tags": []
          },
          "execution_count": 111
        }
      ]
    },
    {
      "cell_type": "markdown",
      "metadata": {
        "id": "Id18_qZ52OyO"
      },
      "source": [
        "### Exercise 15 - Web Scraping"
      ]
    },
    {
      "cell_type": "markdown",
      "metadata": {
        "id": "a4OQJTbDfTJx"
      },
      "source": [
        "#### HTML and *BeautifulSoup* Parsing"
      ]
    },
    {
      "cell_type": "code",
      "metadata": {
        "id": "IuLml5O7fRLd"
      },
      "source": [
        "def scrape_wikipedia(url):\r\n",
        "  html = requests.get(url)\r\n",
        "  soup = BeautifulSoup(html.content)\r\n",
        "\r\n",
        "  content = soup.find('div', {'id': 'bodyContent'})\r\n",
        "\r\n",
        "  return content.text"
      ],
      "execution_count": 112,
      "outputs": []
    },
    {
      "cell_type": "code",
      "metadata": {
        "colab": {
          "base_uri": "https://localhost:8080/",
          "height": 104
        },
        "id": "4p8EWX3-ftQq",
        "outputId": "f5a645fe-e58a-4e7b-bdff-50b216c11806"
      },
      "source": [
        "scrape_wikipedia('https://en.wikipedia.org/wiki/COVID-19_pandemic')"
      ],
      "execution_count": 113,
      "outputs": [
        {
          "output_type": "execute_result",
          "data": {
            "application/vnd.google.colaboratory.intrinsic+json": {
              "type": "string"
            },
            "text/plain": [
              "'\\nFrom Wikipedia, the free encyclopedia\\n\\n\\n\\nJump to navigation\\nJump to search\\nOngoing pandemic of coronavirus disease 2019\\n\\n\\nCOVID‑19 pandemicConfirmed deaths per 1,000,000 populationas of 18 January 2021\\n\\nCases per capita\\n\\nConfirmed cases per 100,000 population as of 17 January 2021\\n.mw-parser-output .div-col{margin-top:0.3em;column-width:30em}.mw-parser-output .div-col-small{font-size:90%}.mw-parser-output .div-col-rules{column-rule:1px solid #aaa}.mw-parser-output .div-col dl,.mw-parser-output .div-col ol,.mw-parser-output .div-col ul{margin-top:0}.mw-parser-output .div-col li,.mw-parser-output .div-col dd{page-break-inside:avoid;break-inside:avoid-column}.mw-parser-output .legend{page-break-inside:avoid;break-inside:avoid-column}.mw-parser-output .legend-color{display:inline-block;min-width:1.25em;height:1.25em;line-height:1.25;margin:1px 0;text-align:center;border:1px solid black;background-color:transparent;color:black}.mw-parser-output .legend-text{}\\xa0\\xa0>10,000\\xa0\\xa03,000–10,000\\xa0\\xa01,000–3,000\\xa0\\xa0300–1,000\\xa0\\xa0100–300\\xa0\\xa030–100\\xa0\\xa00–30\\xa0\\xa0None or no data\\n\\n\\nDaily new cases\\n\\nDaily new cases as of 7 December 2020(7 day rolling average)\\n.mw-parser-output .tmulti .thumbinner{display:flex;flex-direction:column}.mw-parser-output .tmulti .trow{display:flex;flex-direction:row;clear:left;flex-wrap:wrap;width:100%;box-sizing:border-box}.mw-parser-output .tmulti .tsingle{margin:1px;float:left}.mw-parser-output .tmulti .theader{clear:both;font-weight:bold;text-align:center;align-self:center;background-color:transparent;width:100%}.mw-parser-output .tmulti .thumbcaption{background-color:transparent}.mw-parser-output .tmulti .text-align-left{text-align:left}.mw-parser-output .tmulti .text-align-right{text-align:right}.mw-parser-output .tmulti .text-align-center{text-align:center}@media all and (max-width:720px){.mw-parser-output .tmulti .thumbinner{width:100%!important;box-sizing:border-box;max-width:none!important;align-items:center}.mw-parser-output .tmulti .trow{justify-content:center}.mw-parser-output .tmulti .tsingle{float:none!important;max-width:100%!important;box-sizing:border-box;text-align:center}.mw-parser-output .tmulti .tsingle .thumbcaption{text-align:left}.mw-parser-output .tmulti .trow>.thumbcaption{text-align:center}}Clockwise from top:\\nNurse treating a COVID‑19 patient in an intensive care unit aboard USNS Comfort, a U.S. hospital ship\\nDisinfection of public spaces in Taiwan\\nDonated medical supplies received in the Philippines\\nBurial in Iran\\nItalian government task force\\nDiseaseCoronavirus disease 2019 (COVID‑19)Virus strainSevere acute respiratory syndromecoronavirus 2 (SARS‑CoV‑2)[a]SourcePossibly via bats, pangolins, or both[1][2]LocationWorldwideFirst outbreakWuhan, China[3]Index caseWuhan, Hubei, China.mw-parser-output .geo-default,.mw-parser-output .geo-dms,.mw-parser-output .geo-dec{display:inline}.mw-parser-output .geo-nondefault,.mw-parser-output .geo-multi-punct{display:none}.mw-parser-output .longitude,.mw-parser-output .latitude{white-space:nowrap}30°37′11″N 114°15′28″E\\ufeff / \\ufeff30.61972°N 114.25778°E\\ufeff / 30.61972; 114.25778DateDecember\\xa02019\\xa0(2019-12)[3] – present(1\\xa0year, 1\\xa0month, 2\\xa0weeks and 4\\xa0days)Confirmed cases95,606,103[4]Suspected cases‡Possibly 10% of the global population (WHO estimate as of early October 2020)[5]Deaths2,041,932[4]Territories191[4]‡Suspected cases have not been confirmed by laboratory tests as being due to this strain, although some other strains may have been ruled out.\\nThe COVID-19 pandemic, also known as the coronavirus pandemic, is an ongoing pandemic of coronavirus disease 2019 (COVID-19) caused by severe acute respiratory syndrome coronavirus 2 (SARS-CoV-2). It was first identified in December 2019 in Wuhan, China. The World Health Organization declared the outbreak a Public Health Emergency of International Concern in January 2020 and a pandemic in March 2020. As of 19 January 2021, more than 95.6\\xa0million cases have been confirmed, with more than 2.04\\xa0million deaths attributed to COVID-19, across 190 countries around the world.\\nSymptoms of COVID-19 are highly variable, ranging from none to severe illness. The virus spreads mainly through the air when people are near each other.[b] It leaves an infected person as they breathe, cough, sneeze, or speak and enters another person via their mouth, nose, or eyes. It may also spread via contaminated surfaces. People remain infectious for up to two weeks, and can spread the virus even if they do not show symptoms.[9]\\nRecommended preventive measures include social distancing, wearing face masks in public, ventilation and air-filtering, hand washing, covering one\\'s mouth when sneezing or coughing, disinfecting surfaces, and monitoring and self-isolation for people exposed or symptomatic. Several vaccines are being developed and distributed. Current treatments focus on addressing symptoms while work is underway to develop therapeutic drugs that inhibit the virus. Authorities worldwide have responded by implementing travel restrictions, lockdowns, workplace hazard controls, and facility closures. Many places have also worked to increase testing capacity and trace contacts of the infected.\\nThe responses to the pandemic have resulted in global social and economic disruption, including the largest global recession since the Great Depression.[10] It has led to the postponement or cancellation of events, widespread supply shortages exacerbated by panic buying, agricultural disruption and food shortages, and decreased emissions of pollutants and greenhouse gases. Many educational institutions have been partially or fully closed. Misinformation has circulated through social media and mass media. There have been incidents of xenophobia and discrimination against Chinese people and against those perceived as being Chinese or as being from areas with high infection rates.[11]\\n\\n.mw-parser-output .toclimit-2 .toclevel-1 ul,.mw-parser-output .toclimit-3 .toclevel-2 ul,.mw-parser-output .toclimit-4 .toclevel-3 ul,.mw-parser-output .toclimit-5 .toclevel-4 ul,.mw-parser-output .toclimit-6 .toclevel-5 ul,.mw-parser-output .toclimit-7 .toclevel-6 ul{display:none}Contents\\n\\n1 Epidemiology\\n\\n1.1 Background\\n1.2 Cases\\n1.3 Deaths\\n\\n1.3.1 Infection fatality ratio (IFR)\\n1.3.2 Case fatality ratio (CFR)\\n\\n\\n\\n\\n2 Disease\\n\\n2.1 Signs and symptoms\\n2.2 Transmission\\n2.3 Cause\\n2.4 Diagnosis\\n2.5 Prevention\\n2.6 Vaccines\\n2.7 Treatment\\n2.8 Prognosis\\n\\n\\n3 Mitigation\\n\\n3.1 Screening, containment and mitigation\\n\\n3.1.1 Contact tracing\\n\\n\\n3.2 Health care\\n\\n\\n4 History\\n\\n4.1 2019\\n4.2 2020\\n4.3 2021\\n\\n\\n5 National responses\\n\\n5.1 Asia\\n\\n5.1.1 China\\n5.1.2 India\\n5.1.3 Iran\\n5.1.4 South Korea\\n\\n\\n5.2 Europe\\n\\n5.2.1 France\\n5.2.2 Italy\\n5.2.3 Spain\\n5.2.4 Sweden\\n5.2.5 United Kingdom\\n\\n\\n5.3 North America\\n\\n5.3.1 United States\\n\\n\\n5.4 South America\\n\\n5.4.1 Brazil\\n\\n\\n5.5 Africa\\n5.6 Oceania\\n5.7 Antarctica\\n\\n\\n6 International responses\\n\\n6.1 Travel restrictions\\n6.2 Evacuation of foreign citizens\\n6.3 United Nations response measures\\n\\n6.3.1 WHO response measures\\n\\n\\n6.4 Protests against governmental measures\\n\\n\\n7 Impact\\n\\n7.1 Economics\\n\\n7.1.1 Supply shortages\\n7.1.2 Oil and other energy markets\\n\\n\\n7.2 Culture\\n7.3 Politics\\n\\n7.3.1 China\\n7.3.2 Italy\\n7.3.3 United States\\n7.3.4 Other countries\\n\\n\\n7.4 Agriculture and food systems\\n7.5 Education\\n7.6 Other health issues\\n7.7 Environment and climate\\n7.8 Xenophobia and racism\\n\\n\\n8 Information dissemination\\n\\n8.1 Misinformation\\n\\n\\n9 See also\\n10 Notes\\n11 References\\n12 Further reading\\n13 External links\\n\\n13.1 Health agencies\\n13.2 Directories\\n13.3 Data and graphs\\n13.4 Medical journals\\n\\n\\n\\n\\n\\n\\nEpidemiology\\nFor country-level data, see:COVID-19 pandemic by country and territory\\n\\nCases95,606,103\\nDeaths2,041,932\\n\\n\\nAs of 19 January 2021[4]Africa · Asia · Europe · North America  Oceania · South America\\nBackground\\nAlthough it is still unknown exactly where the outbreak first started, many early cases of COVID-19 have been attributed to people who have visited the Huanan Seafood Wholesale Market, located in Wuhan, Hubei, China.[12] On 11 February 2020, the World Health Organization (WHO) named the disease \"COVID-19\", which is short for coronavirus disease 2019.[13][14] The virus that caused the outbreak is known as severe acute respiratory syndrome coronavirus 2 (SARS-CoV-2), a newly discovered virus closely related to bat coronaviruses,[15] pangolin coronaviruses,[16][17] and SARS-CoV.[18] Scientific consensus is that COVID-19 likely originated naturally, probably from bats.[19][20]\\nThe earliest known person with symptoms was later discovered to have fallen ill on 1\\xa0December 2019, and that person did not have visible connections with the later wet market cluster.[21][22] However, an earlier case of infection could have occurred on 17 November.[23] Of the early cluster of cases reported that month, two thirds were found to have a link with the market.[24][25][26] There are several theories about when and where the very first case (the so-called patient zero) originated.[27] It is possible that the virus first emerged in October 2019.[28]\\n\\nCases\\nMain articles: COVID-19 pandemic by country and territory and COVID-19 pandemic cases\\n Total confirmed cases per country as of 17 January 2021. \\xa0\\xa010,000,000+\\xa0\\xa01,000,000–9,999,999\\xa0\\xa0100,000–999,999\\xa0\\xa010,000–99,999\\xa0\\xa01,000–9,999\\xa0\\xa0100–999\\xa0\\xa01–99\\xa0\\xa00\\nOfficial case counts refer to the number of people who have been tested for COVID-19 and whose test has been confirmed positive according to official protocols.[29][30] Many countries, early on, had official policies to not test those with only mild symptoms.[31][32] An analysis of the early phase of the outbreak up to 23 January estimated 86 percent of COVID-19 infections had not been detected, and that these undocumented infections were the source for 79 percent of documented cases.[33] Several other studies, using a variety of methods, have estimated that numbers of infections in many countries are likely to be considerably greater than the reported cases.[34][35]\\nOn 9 April 2020, preliminary results found that 15 percent of people tested in Gangelt, the centre of a major infection cluster in Germany, tested positive for antibodies.[36] Screening for COVID-19 in pregnant women in New York City, and blood donors in the Netherlands, has also found rates of positive antibody tests that may indicate more infections than reported.[37][38] Seroprevalence based estimates are conservative as some studies shown that persons with mild symptoms do not have detectable antibodies.[39] Some results (such as the Gangelt study) have received substantial press coverage without first passing through peer review.[40]\\nAnalysis by age in China indicates that a relatively low proportion of cases occur in individuals under 20.[41] It was not clear whether this was because young people were less likely to be infected, or less likely to develop serious symptoms and seek medical attention and be tested.[42] A retrospective cohort study in China found that children and adults were just as likely to be infected.[43]\\nInitial estimates of the basic reproduction number (R0) for COVID-19 in January were between 1.4 and 2.5,[44] but a subsequent analysis concluded that it may be about 5.7 (with a 95 percent confidence interval of 3.8 to 8.9).[45] R0 can vary across populations and is not to be confused with the effective reproduction number (commonly just called R), which takes into account effects such as social distancing and herd immunity. By mid-May 2020, the effective R was close to or below 1.0 in many countries, meaning the spread of the disease in these areas at that time was stable or decreasing.[46]\\n\\n\\n\\n\\n\\n\\nEpidemic curve of daily new cases of COVID-19 (7 day rolling average) by continent\\n\\n\\n\\n\\n\\n\\nSemi-log plot of weekly new cases of COVID-19 in the world and top five current countries (mean with deaths)\\n\\n\\n\\n\\n\\n\\nCOVID-19 total cases per 100 000 population from selected countries[47]\\n\\n\\n\\n\\n\\n\\nCOVID-19 active cases per 100 000 population from selected countries[47]\\n\\n\\n\\n\\nDeaths\\nMain articles: COVID-19 pandemic deaths and COVID-19 pandemic death rates by country\\nFurther information: List of deaths due to COVID-19\\n Deceased in a 16\\xa0m (53\\xa0ft) \"mobile morgue\" outside a hospital in Hackensack, New Jersey\\nOfficial deaths from COVID-19 generally refer to people who died after testing positive according to protocols. This may ignore deaths of people who die without having been tested.[48] Conversely, deaths of people who had underlying conditions may lead to over-counting.[49] Comparison of statistics for deaths for all causes versus the seasonal average indicates excess mortality in many countries.[50][51] This may include deaths due to strained healthcare systems and bans on elective surgery.[52] The first confirmed death was in Wuhan on 9 January 2020.[53] The first reported death outside of China occurred on\\xa01 February in the Philippines,[54] and the first reported death outside Asia was in the United States on 6 February.[55]\\nMore than 95 percent of the people who contract COVID-19 recover. Otherwise, the time between symptoms onset and death usually ranges from\\xa06 to 41 days, typically about 14 days.[56] As of 19 January 2021, more than 2.04\\xa0million[4] deaths had been attributed to COVID-19. People at the greatest risk from COVID-19 tend to be those with underlying conditions, such as a weakened immune system, serious heart or lung problems, severe obesity, or the elderly.[57]\\nOn 24 March 2020, the Centers for Disease Control and Prevention (CDC) of the United States, indicated the WHO had provided two codes for COVID-19: U07.1 when confirmed by laboratory testing and U07.2 for clinically or epidemiological diagnosis where laboratory confirmation is inconclusive or not available.[58][59] The CDC noted that \"Because laboratory test results are not typically reported on death certificates in the U.S., [the National Center for Health Statistics (NCHS)] is not planning to implement U07.2 for mortality statistics\" and that U07.1 would be used \"If the death certificate reports terms such as \\'probable COVID-19\\' or \\'likely COVID-19\\'.\" The CDC also noted \"It Is not likely that NCHS will follow up on these cases\" and while the \"underlying cause depends upon what and where conditions are reported on the death certificate, ... the rules for coding and selection of the ... cause of death are expected to result in COVID–19 being the underlying cause more often than not.\"[58]\\nOn 16 April 2020, the WHO, in its formal publication of the two codes, U07.1 and U07.2, \"recognized that in many countries detail as to the laboratory confirmation... will not be reported [and] recommended, for mortality purposes only, to code COVID-19 provisionally to code U07.1 unless it is stated as \\'probable\\' or \\'suspected\\'.\"[60][61] It was also noted that the WHO \"does not distinguish\" between infection by SARS-CoV-2 and COVID-19.[62]\\nMultiple measures are used to quantify mortality.[63] These numbers vary by region and over time, influenced by testing volume, healthcare system quality, treatment options, government response,[64][65][66] time since the initial outbreak, and population characteristics, such as age, sex, and overall health.[67] Countries like Belgium include deaths from suspected cases of COVID-19, regardless of whether the person was tested, resulting in higher numbers compared to countries that include only test-confirmed cases.[68]\\nThe death-to-case ratio reflects the number of deaths attributed to COVID-19 divided by the number of diagnosed cases within a given time interval. Based on Johns Hopkins University statistics, the global death-to-case ratio is 2.1\\xa0percent (2,041,932 deaths for 95,606,103 cases) as of 19 January 2021.[4] The number varies by region.[69]\\n\\n\\n\\n\\n\\nSemi-log plot of weekly deaths due to COVID-19 in the world and top five current countries (mean with cases)\\n\\n\\n\\n\\n\\n\\nCOVID-19 deaths per 100 000 population from selected countries[47]\\n\\n\\n\\n\\nInfection fatality ratio (IFR)\\nA crucial metric in assessing the severity of a disease is the infection fatality ratio (IFR), which is the cumulative number of deaths attributed to the disease divided by the cumulative number of infected individuals (including asymptomatic and undiagnosed infections) as measured or estimated as of a specific date.[70][71][72] Epidemiologists frequently refer to this metric as the \\'infection fatality rate\\' to clarify that it is expressed in percentage points (not as a decimal).[73][74][75] Other published studies refer to this metric as the \\'infection fatality risk\\'.[76][77]\\nIn March, a peer-reviewed analysis of pre-serology data from mainland China yielded an overall IFR of 0.66% (with age-bracketed values ranging from 0.00161% for 0–9 years to 0.595% for 50–59 years to 7.8% for > 80 years).[78]\\nIn April 2020, an IFR range of 0.12–1.08% was derived from non-peer-reviewed serology surveys, with the upper bound characterized as much more credible and the range indicated as from 3 to 27 times deadlier than influenza (0.04%).[79]\\nIn July 2020, the US CDC adopted the IFR as a \"more directly measurable parameter for disease severity for COVID-19\" and computed an overall \\'best estimate\\' for planning purposes for the U.S. of 0.65%.[80][81]\\nIn September, the CDC computed an age-bracketed \\'best estimate\\' for the U.S. of 0.003% for 0–19 years; 0.02% for 20–49 years; 0.5% for 50–69 years; and 5.4% for 70+ years.[82][c] The range of CDC estimates for each age group were as follows.[82]\\n\\n\\nCDC Planning Scenario IFR Range\\n\\n\\nAge group\\nIFR\\n\\n\\n0–19\\n0.002%–0.01%\\n\\n\\n20–49\\n0.007%–0.03%\\n\\n\\n50–69\\n0.25%–1.0%\\n\\n\\n70+\\n2.8%–9.3%\\n\\nIn August 2020, the WHO reported serology testing for three locations in Europe (with some data through 2 June) that showed IFR overall estimates converging at approximately 0.5–1%.[71] A systematic review article in The BMJ advised that \"caution is warranted ... using serological tests for ... epidemiological surveillance\" and called for higher quality studies assessing accuracy with reference to a standard of \"RT-PCR performed on at least two consecutive specimens, and, when feasible, includ[ing] viral cultures.\"[83][84] CEBM researchers have called for in-hospital \\'case definition\\' to record \"CT lung findings and associated blood tests\"[85] and for the WHO to produce a \"protocol to standardise the use and interpretation of PCR\" with continuous re-calibration.[86]\\n\\nCoronavirus\\nTypes\\nAlphacoronavirus\\nBetacoronavirus\\nGammacoronavirus\\nDeltacoronavirus\\n\\nDiseases\\nCommon cold\\nSARS\\nMERS\\nCOVID-19\\n\\nVaccines\\nCOVID-19 vaccine\\n\\nOutbreaks, epidemics,and pandemics\\nSARS outbreak (2002-2004)\\n2012 MERS outbreak\\n2015 MERS outbreak in South Korea\\n2018 MERS outbreak\\nCOVID-19 pandemic (2019-2021)\\n\\nSee also\\nCoronavirus recession\\nHistory of coronavirus\\nImpact of the COVID-19 pandemic\\n.mw-parser-output .navbar{display:inline;font-size:88%;font-weight:normal}.mw-parser-output .navbar-collapse{float:left;text-align:left}.mw-parser-output .navbar-boxtext{word-spacing:0}.mw-parser-output .navbar ul{display:inline-block;white-space:nowrap;line-height:inherit}.mw-parser-output .navbar-brackets::before{margin-right:-0.125em;content:\"[ \"}.mw-parser-output .navbar-brackets::after{margin-left:-0.125em;content:\" ]\"}.mw-parser-output .navbar li{word-spacing:-0.125em}.mw-parser-output .navbar-mini abbr{font-variant:small-caps;border-bottom:none;text-decoration:none;cursor:inherit}.mw-parser-output .navbar-ct-full{font-size:114%;margin:0 7em}.mw-parser-output .navbar-ct-mini{font-size:114%;margin:0 4em}.mw-parser-output .infobox .navbar{font-size:100%}.mw-parser-output .navbox .navbar{display:block;font-size:100%}.mw-parser-output .navbox-title .navbar{float:left;text-align:left;margin-right:0.5em}vte\\nIn September 2020, a Bulletin of the World Health Organization article by John Ioannidis estimated the median global IFR inferred from seroprevalence data at 0.23%[d] overall (with rates of 0.09% in areas with low mortality, and 0.57% in areas with high mortality) and 0.05% for people < 70 years (a range of 0.00–0.31%), much lower than estimates made earlier in the pandemic.[87]\\nOn 6 October 2020, Dr. Mike Ryan, director of the WHO\\'s Health Emergencies Programme announced \"Our current best estimates tell us that about 10% of the global population may have been infected by this virus.\"[88] Also in October, the Centre for Evidence-Based Medicine (CEBM) reported a \\'presumed estimate\\' of global IFR at between 0.10% to 0.35%, noting that this will vary between populations due to differences in demographics.[89] These researchers noted a decrease in IFR in England over time;[90][e] and, for the UK and Italy (the two Europeans nations worst hit by COVID-19), attribute the rise in daily cases, stability in daily deaths, and shift of cases to a younger population to waning viral circulation, misapplication of testing, and misinterpretation of test results rather than to prevention, treatment, or virus mutation.[91]\\nIn November 2020, a review article in Nature reported estimates of population-weighted IFRs for a number of countries, excluding deaths in elderly care facilities, and found a median range of 0.24% to 1.49%.[92]\\nIn December 2020, a systematic review and meta-analysis published in the European Journal of Epidemiology estimated that population-weighted IFR was 0.5% to 1% in some countries (France, Netherlands, New Zealand, and Portugal), 1% to 2% in several other countries (Australia, England, Lithuania, and Spain), and about 2.5% in Italy; these estimates included fatalities in elderly care facilities.[93] This study also found that most of the differences in IFR across locations reflected corresponding differences in the age composition of the population and the age-specific pattern of infection rates, due to very low IFRs for children and younger adults (e.g., 0.002% at age 10 and 0.01% at age 25) and progressively higher IFRs for older adults (0.4% at age 55, 1.4% at age 65, 4.6% at age 75, and 15% at age 85).[93] These results were also highlighted in a December 2020 report issued by the World Health Organization.[94]\\n\\nCase fatality ratio (CFR)\\nAnother metric in assessing death rate is the case fatality ratio (CFR),[f] which is deaths attributed to disease divided by individuals diagnosed to-date. This metric can be misleading because of the delay between symptom onset and death and because testing focuses on individuals with symptoms (and particularly on those manifesting more severe symptoms).[62] On 4 August, WHO indicated \"at this early stage of the pandemic, most estimates of fatality ratios have been based on cases detected through surveillance and calculated using crude methods, giving rise to widely variable estimates of CFR by country – from less than 0.1% to over 25%.\"[71]\\n\\nDisease\\nMain article: Coronavirus disease 2019\\nSigns and symptoms\\nMain article: Symptoms of COVID-19\\n.mw-parser-output .excerpt .selflink{font-weight:normal}.mw-parser-output .excerpt-indicator{border-left:3px solid #c8ccd1;margin:1em 0;padding-left:1em}\\n Symptoms of COVID-19\\nSymptoms of COVID-19 are variable, ranging from mild symptoms to severe illness.[95][96] Common symptoms include headache, loss of smell and taste, nasal congestion and rhinorrhea, cough, muscle pain, sore throat, fever and breathing difficulties.[97] People with the same infection may have different symptoms, and their symptoms may change over time. In people without prior ears, nose, and throat disorders, loss of taste combined with loss of smell is associated with COVID-19 with a specificity of 95%.[98]\\nMost people (81%) develop mild to moderate symptoms (up to mild pneumonia), while 14% develop severe symptoms (dyspnea, hypoxia, or more than 50% lung involvement on imaging) and 5% of patients suffer critical symptoms (respiratory failure, shock, or multiorgan dysfunction).[99] Around one in five people are infected with the virus but do not develop noticeable symptoms at any point in time.[100][101][102] A June 2020 review asserted that asymptomatic infections might be as high as 40 to 45 percent with the ability to transmit the virus for a period that extends beyond two weeks.[103] These asymptomatic carriers tend not to get tested, and they can spread the disease.[102][104][105] Other infected people will develop symptoms later (called pre-symptomatic) or have very mild symptoms, and can also spread the virus.[106]\\n\\nAs is common with infections, there is a delay, known as the incubation period, between the moment a person first becomes infected and the appearance of the first symptoms. The median incubation period for COVID-19 is four to five days.[107] Most symptomatic people experience symptoms within two to seven days after exposure, and almost all symptomatic people will experience one or more symptoms before day twelve.[107][108]\\nTransmission\\nMain article: Transmission of COVID-19\\n\\nCOVID-19 spreads from person to person mainly through the respiratory route after an infected person coughs, sneezes, sings, talks or breathes. A new infection occurs when virus-containing particles exhaled by an infected person, either respiratory droplets or aerosols, get into the mouth, nose, or eyes of other people who are in close contact with the infected person.[109][110] During human-to-human transmission, an average 1000 infectious SARS-CoV-2 virions are thought to initiate a new infection.\\nThe closer people interact, and the longer they interact, the more likely they are to transmit COVID-19. Closer distances can involve larger droplets (which fall to the ground) and aerosols, whereas longer distances only involve aerosols. The larger droplets may also evaporate into the aerosols (known as droplet nuclei). The relative importance of the larger droplets and the aerosols is not clear as of November 2020, however the virus is not known to transmit between rooms over long distances such as through air ducts. Airborne transmission is able to particularly occur indoors, in high risk locations, such as in restaurants, choirs, gyms, nightclubs, offices, and religious venues, often when they are crowded or less ventilated. It also occurs in healthcare settings, often when aerosol-generating medical procedures are performed on COVID-19 patients.\\n\\nThe number of people generally infected by one infected person varies; as of September 2020 it was estimated that one infected person will, on average, infect between two and three other people.[111] This is more infectious than influenza, but less so than measles.[112] It often spreads in clusters, where infections can be traced back to an index case or geographical location. There is a major role of \"super-spreading events\", where many people are infected by one person.\\nCause\\nMain article: Severe acute respiratory syndrome coronavirus 2\\n Illustration of SARSr-CoV virion\\n\\nSevere acute respiratory syndrome coronavirus 2 (SARS-CoV-2)[113][114] is the virus that causes coronavirus disease 2019 (COVID-19), the respiratory illness responsible for the COVID-19 pandemic. Colloquially known as simply the coronavirus, it was previously referred to by its provisional name, 2019 novel coronavirus (2019-nCoV),[115][116][117][118] and has also been called human coronavirus 2019 (HCoV-19 or hCoV-19).[119][120][121][122]\\n\\nEpidemiological studies estimate each infection results in 5.7 new ones when no members of the community are immune and no preventive measures taken.[123] The virus primarily spreads between people through close contact and via respiratory droplets produced from coughs or sneezes.[124][125] It mainly enters human cells by binding to the angiotensin converting enzyme 2 (ACE2).[126][127][128][129]\\nDiagnosis\\nMain article: Coronavirus disease 2019 §\\xa0Diagnosis\\nFurther information: COVID-19 testing\\n\\nThe standard method of testing for presence of SARS-CoV-2 is real-time reverse transcription polymerase chain reaction (rRT-PCR),[130] which detects the presence of viral RNA fragments.[131] As this test detects RNA but not infectious virus, its \"ability to determine duration of infectivity of patients is limited.\"[132] The test is typically done on respiratory samples obtained by a nasopharyngeal swab; however, a nasal swab or sputum sample may also be used.[133][134] Results are generally available within a few hours to two days.[135][136] Blood tests can be used, but these require two blood samples taken two weeks apart, and the results have little immediate value.[137] The WHO has published several testing protocols for the disease.[138]\\n\\nChest CT scans may be helpful to diagnose COVID-19 in individuals with a high clinical suspicion of infection but are not recommended for routine screening.[139][140] Bilateral multilobar ground-glass opacities with a peripheral, asymmetric, and posterior distribution are common in early infection.[139][141] Subpleural dominance, crazy paving (lobular septal thickening with variable alveolar filling), and consolidation may appear as the disease progresses.[139][142] Characteristic imaging features on chest radiographs and computed tomography (CT) of people who are symptomatic include asymmetric peripheral ground-glass opacities without pleural effusions.[143]\\nPrevention\\nFurther information: Coronavirus disease 2019 §\\xa0Prevention, Face masks during the COVID-19 pandemic, and Social distancing measures related to the COVID-19 pandemic\\n The CDC and WHO advise that masks reduce the spread of coronavirus. Taiwan President Tsai Ing-wen pictured.\\n\\n Infographic by the U.S. Centers for Disease Control and Prevention (CDC), describing how to stop the spread of germs\\nPreventive measures to reduce the chances of infection include staying at home, wearing a mask in public, avoiding crowded places, keeping distance from others, ventilating indoor spaces, washing hands with soap and water often and for at least 20 seconds, practising good respiratory hygiene, and avoiding touching the eyes, nose, or mouth with unwashed hands.[144][145][146][147][148] Those diagnosed with COVID-19 or who believe they may be infected are advised by the CDC to stay home except to get medical care, call ahead before visiting a healthcare provider, wear a face mask before entering the healthcare provider\\'s office and when in any room or vehicle with another person, cover coughs and sneezes with a tissue, regularly wash hands with soap and water and avoid sharing personal household items.[149][150]\\n\\nThe first COVID-19 vaccine was granted regulatory approval on 2 December by the UK medicines regulator MHRA.[151] It was evaluated for emergency use authorization (EUA) status by the US FDA, and in several other countries.[152] Initially, the US National Institutes of Health guidelines do not recommend any medication for prevention of COVID-19, before or after exposure to the SARS-CoV-2 virus, outside the setting of a clinical trial.[153][154] Without a vaccine, other prophylactic measures, or effective treatments, a key part of managing COVID-19 is trying to decrease and delay the epidemic peak, known as \"flattening the curve\".[155] This is done by slowing the infection rate to decrease the risk of health services being overwhelmed, allowing for better treatment of current cases, and delaying additional cases until effective treatments or a vaccine become available.[155][156]\\nVaccines\\nMain article: COVID-19 vaccine\\nSee also: Statistics of the COVID-19 vaccination\\n\\nBy January 2021, 69 vaccine candidates were in clinical research, including 43 in Phase I–II trials and 26 in Phase II–III trials.[157] In Phase III trials, several COVID‑19 vaccines demonstrated efficacy as high as 95% in preventing symptomatic COVID‑19 infections. As of January 2021, nine vaccines have been authorized by at least one national regulatory authority for public use: two RNA vaccines (the Pfizer-BioNTech vaccine and the Moderna vaccine), three conventional inactivated vaccines (BBIBP-CorV from Sinopharm, BBV152 from Bharat Biotech and CoronaVac from Sinovac), two viral vector vaccines (Sputnik V from the Gamaleya Research Institute and the Oxford–AstraZeneca vaccine), and one peptide vaccine (EpiVacCorona\\xa0[ru]).\\n\\nMany countries have implemented phased distribution plans that prioritize those at highest risk of complications, such as the elderly, and those at high risk of exposure and transmission, such as healthcare workers.[158] As of 14 January 2021, 32.64 million doses of COVID‑19 vaccine had been administered worldwide based on official reports from national health agencies.[159] Pfizer, Moderna, and AstraZeneca predicted a manufacturing capacity of 5.3\\xa0billion doses in 2021, which could be used to vaccinate about 3\\xa0billion people (as the vaccines require two doses for a protective effect against COVID‑19). By December, more than 10\\xa0billion vaccine doses had been preordered by countries,[160] with about half of the doses purchased by high-income countries comprising only 14% of the world\\'s population.[161]\\nOn 4 February 2020, US Secretary of Health and Human Services Alex Azar published a notice of declaration under the Public Readiness and Emergency Preparedness Act for medical countermeasures against COVID‑19, covering \"any vaccine, used to treat, diagnose, cure, prevent, or mitigate COVID‑19, or the transmission of SARS-CoV-2 or a virus mutating therefrom\", and stating that the declaration precludes \"liability claims alleging negligence by a manufacturer in creating a vaccine, or negligence by a health care provider in prescribing the wrong dose, absent willful misconduct\".[162] The declaration is effective in the United States through 1 October 2024.[163] On 8 December it was reported that the AstraZeneca vaccine is about 70% effective, according to a study.[164]\\n\\nTreatment\\nMain article: Treatment and management of COVID-19There is no specific, effective treatment or cure for coronavirus disease 2019 (COVID-19), the disease caused by the SARS-CoV-2 virus.[165][166] Thus, the cornerstone of management of COVID-19 is supportive care, which includes treatment to relieve symptoms, fluid therapy, oxygen support and prone positioning as needed, and medications or devices to support other affected vital organs.[167][168][169]\\nMost cases of COVID-19 are mild. In these, supportive care includes medication such as paracetamol or NSAIDs to relieve symptoms (fever, body aches, cough), proper intake of fluids, rest, and nasal breathing.[170][166][171][172] Good personal hygiene and a healthy diet are also recommended.[173] The U.S. Centers for Disease Control and Prevention (CDC) recommend that those who suspect they are carrying the virus isolate themselves at home and wear a face mask.[174]\\nPeople with more severe cases may need treatment in hospital. In those with low oxygen levels, use of the glucocorticoid dexamethasone is strongly recommended, as it can reduce the risk of death.[175][176][177] Noninvasive ventilation and, ultimately, admission to an intensive care unit for mechanical ventilation may be required to support breathing.[178] Extracorporeal membrane oxygenation (ECMO) has been used to address the issue of respiratory failure, but its benefits are still under consideration.[179][180]\\nSeveral experimental treatments are being actively studied in clinical trials.[165] Others were thought to be promising early in the pandemic, such as hydroxychloroquine and lopinavir/ritonavir, but later research found them to be ineffective or even harmful.[165][181][182] Despite ongoing research, there is still not enough high-quality evidence to recommend so-called early treatment.[181][182] Nevertheless, in the United States, two monoclonal antibody-based therapies are available for early use in cases thought to be at high risk of progression to severe disease.[182] The antiviral remdesivir is available in the U.S., Canada, Australia, and several other countries, with varying restrictions; however, it is not recommended for people needing mechanical ventilation, and is discouraged altogether by the World Health Organization (WHO),[183] due to limited evidence of its efficacy.[165]\\n\\nPrognosis\\nFurther information: Coronavirus disease 2019 §\\xa0Prognosis\\n\\nThe severity of COVID-19 varies. The disease may take a mild course with few or no symptoms, resembling other common upper respiratory diseases such as the common cold. In 3-4% of cases (7.4% for those over age 65) symptoms are severe enough to cause hospitalization.[184] Mild cases typically recover within two weeks, while those with severe or critical diseases may take three to six weeks to recover. Among those who have died, the time from symptom onset to death has ranged from two to eight weeks.[185] The Italian Istituto Superiore di Sanità reported that the median time between the onset of symptoms and death was twelve days, with seven being hospitalised. However, people transferred to an ICU had a median time of ten days between hospitalisation and death.[186] Prolonged prothrombin time and elevated C-reactive protein levels on admission to the hospital are associated with severe course of COVID-19 and with a transfer to ICU.[187][188]\\n\\nSome early studies suggest 10% to 20% of people with COVID-19 will experience symptoms lasting longer than a month.[189][190] A majority of those who were admitted to hospital with severe disease report long-term problems including fatigue and shortness of breath.[191] On 30 October 2020 WHO chief Tedros Adhanom has warned that \"to a significant number of people, the COVID virus poses a range of serious long-term effects\". He has described the vast spectrum of COVID-19 symptoms that fluctuate over time as \"really concerning.\" They range from fatigue, a cough and shortness of breath, to inflammation and injury of major organs – including the lungs and heart, and also neurological and psychologic effects. Symptoms often overlap and can affect any system in the body. Infected people have reported cyclical bouts of fatigue, headaches, months of complete exhaustion, mood swings, and other symptoms. Tedros has concluded that therefore herd immunity is \"morally unconscionable and unfeasible\".[192]\\nMitigation\\nMain article: Mitigation of COVID-19Speed and scale are key to mitigation, due to the fat-tailed nature of pandemic risk and the exponential growth of COVID-19 infections.[193][194] For mitigation to be effective, (a) chains of transmission must be broken as quickly as possible through screening and containment, (b) health care must be available to provide for the needs of those infected, and (c) contingencies must be in place to allow for effective rollout of (a) and (b).\\nScreening, containment and mitigation\\n Goals of mitigation include delaying and reducing peak burden on healthcare (flattening the curve) and lessening overall cases and health impact.[195][196] Moreover, progressively greater increases in healthcare capacity (raising the line) such as by increasing bed count, personnel, and equipment, help to meet increased demand.[197]\\n Mitigation attempts that are inadequate in strictness or duration—such as premature relaxation of distancing rules or stay-at-home orders—can allow a resurgence after the initial surge and mitigation.[195][198]\\nStrategies in the control of an outbreak are screening, containment (or suppression), and mitigation. Screening is done with a device such as a thermometer to detect the elevated body temperature associated with fevers caused by the coronavirus.[199] Containment is undertaken in the early stages of the outbreak and aims to trace and isolate those infected as well as introduce other measures to stop the disease from spreading. When it is no longer possible to contain the disease, efforts then move to the mitigation stage: measures are taken to slow the spread and mitigate its effects on the healthcare system and society. A combination of both containment and mitigation measures may be undertaken at the same time.[200] Suppression requires more extreme measures so as to reverse the pandemic by reducing the basic reproduction number to less than 1.[201]\\nPart of managing an infectious disease outbreak is trying to delay and decrease the epidemic peak, known as flattening the epidemic curve.[195] This decreases the risk of health services being overwhelmed and provides more time for vaccines and treatments to be developed.[195] Non-pharmaceutical interventions that may manage the outbreak include personal preventive measures such as hand hygiene, wearing face masks, and self-quarantine; community measures aimed at physical distancing such as closing schools and cancelling mass gathering events; community engagement to encourage acceptance and participation in such interventions; as well as environmental measures such surface cleaning.[202]\\nMore drastic actions aimed at containing the outbreak were taken in China once the severity of the outbreak became apparent, such as quarantining entire cities and imposing strict travel bans.[203] Other countries also adopted a variety of measures aimed at limiting the spread of the virus. South Korea introduced mass screening and localised quarantines and issued alerts on the movements of infected individuals. Singapore provided financial support for those infected who quarantined themselves and imposed large fines for those who failed to do so. Taiwan increased face mask production and penalised the hoarding of medical supplies.[204]\\nSimulations for Great Britain and the United States show that mitigation (slowing but not stopping epidemic spread) and suppression (reversing epidemic growth) have major challenges. Optimal mitigation policies might reduce peak healthcare demand by two-thirds and deaths by half, but still result in hundreds of thousands of deaths and overwhelmed health systems. Suppression can be preferred but needs to be maintained for as long as the virus is circulating in the human population (or until a vaccine becomes available), as transmission otherwise quickly rebounds when measures are relaxed. Long-term intervention to suppress the pandemic has considerable social and economic costs.[201]\\n\\nContact tracing\\nSee also: Management of COVID-19 §\\xa0Information technology\\nPlay media Mandatory traveller information collection for use in COVID-19 contact tracing at New York City\\'s LaGuardia Airport in August 2020\\nContact tracing is an important method for health authorities to determine the source of infection and to prevent further transmission.[205] The use of location data from mobile phones by governments for this purpose has prompted privacy concerns, with Amnesty International and more than a hundred other organisations issuing a statement calling for limits on this kind of surveillance.[206]\\nSeveral mobile apps have been implemented or proposed for voluntary use, and as of 7\\xa0April 2020 more than a dozen expert groups were working on privacy-friendly solutions such as using Bluetooth to log a user\\'s proximity to other cellphones.[206] (Users are alerted if they have been near someone who subsequently tests positive.)[206]\\nOn 10 April 2020, Google and Apple jointly announced an initiative for privacy-preserving contact tracing based on Bluetooth technology and cryptography.[207][208] The system is intended to allow governments to create official privacy-preserving coronavirus tracking apps, with the eventual goal of integration of this functionality directly into the iOS and Android mobile platforms.[209] In Europe and in the U.S., Palantir Technologies is also providing COVID-19 tracking services.[210]\\n\\nHealth care\\nFurther information: Flatten the curve, list of countries by hospital beds, and Shortages related to the COVID-19 pandemic\\n An army-constructed field hospital outside Östra sjukhuset (Eastern hospital) in Gothenburg, Sweden, contains temporary intensive care units for COVID-19 patients.\\nIncreasing capacity and adapting healthcare for the needs of COVID-19 patients is described by the WHO as a fundamental outbreak response measure.[211] The ECDC and the European regional office of the WHO have issued guidelines for hospitals and primary healthcare services for shifting of resources at multiple levels, including focusing laboratory services towards COVID-19 testing, cancelling elective procedures whenever possible, separating and isolating COVID-19 positive patients, and increasing intensive care capabilities by training personnel and increasing the number of available ventilators and beds.[211][212] In addition, in an attempt to maintain physical distancing, and to protect both patients and clinicians, in some areas non-emergency healthcare services are being provided virtually.[213][214][215]\\nDue to capacity limitations in the standard supply chains, some manufacturers are 3D printing healthcare material such as nasal swabs and ventilator parts.[216][217] In one example, when an Italian hospital urgently required a ventilator valve, and the supplier was unable to deliver in the timescale required, a local startup received legal threats due to alleged patent infringement after reverse-engineering and printing the required hundred valves overnight.[218][219][220] On 23 April 2020, NASA reported building, in 37 days, a ventilator which is currently undergoing further testing. NASA is seeking fast-track approval.[221][222]\\n\\nHistory\\nMain article: Timeline of the COVID-19 pandemic\\nFurther information: Pandemic prevention and Pandemic predictions and preparations prior to the COVID-19 pandemic\\n2019\\nMain article: Timeline of the COVID-19 pandemic in 2019\\n The Huanan Seafood Wholesale Market in March 2020, after it was closed down.\\n\\n\\nInteractive timeline map of confirmed cases per million people(drag circle to adjust; may not work on mobile devices)\\nBased on the retrospective analysis, starting from December 2019, the number of COVID-19 cases in Hubei gradually increased, reaching 60 by 20 December and at least 266 by 31 December.[223] That same day, the WHO received reports of a cluster of viral pneumonia cases of an unknown cause in Wuhan,[224] and an investigation was launched at the start of January 2020.[225]\\nAccording to official Chinese sources, these early cases were mostly linked to the Huanan Seafood Wholesale Market, which also sold live animals.[226] However, in May 2020, George Gao, the director of the Chinese Center for Disease Control and Prevention, said animal samples collected from the seafood market had tested negative for the virus, indicating the market was not the source of the initial outbreak.[227]\\nOn 24 December 2019, Wuhan Central Hospital sent a bronchoalveolar lavage fluid (BAL) sample from an unresolved clinical case to sequencing company Vision Medicals. On 27 and 28 December, Vision Medicals informed the Wuhan Central Hospital and the Chinese CDC of the results of the test, showing a new coronavirus.[228] A pneumonia cluster of unknown cause was observed on 26 December and treated by the doctor Zhang Jixian in Hubei Provincial Hospital, who informed the Wuhan Jianghan CDC on 27 December.[229]\\nOn 30 December 2019, a test report addressed to Wuhan Central Hospital, from company CapitalBio Medlab, stated that there was an erroneous positive result for SARS, causing a group of doctors at Wuhan Central Hospital to alert their colleagues and relevant hospital authorities of the result. Eight of those doctors, including Li Wenliang (who was also punished on 3\\xa0January),[230] were later admonished by the police for spreading false rumours; and another doctor, Ai Fen, was reprimanded by her superiors for raising the alarm.[231] That evening, the Wuhan Municipal Health Commission issued a notice to various medical institutions about \"the treatment of pneumonia of unknown cause\".[232] The next day, the Wuhan Municipal Health Commission made the first public announcement of a pneumonia outbreak of unknown cause, confirming 27 cases[224][233][234]—enough to trigger an investigation.[225]\\n\\n2020\\nTimelines of the COVID-19 pandemic in 2020 by month: January, February, March, April, May, June, July, August, September, October, November, December\\n Chinese medics in the city of Huanggang, Hubei on 20 March 2020\\nDuring the early stages of the outbreak, the number of cases doubled approximately every seven and a half days.[235] In early and mid-January 2020, the virus spread to other Chinese provinces, helped by the Chinese New Year migration and Wuhan being a transport hub and major rail interchange.[236] On 20 January, China reported nearly 140 new cases in one day, including two people in Beijing and one in Shenzhen.[237] A retrospective official study published in March found that 6,174 people had already developed symptoms by 20 January (most of them would be diagnosed later)[238] and more may have been infected.[239] A report in The Lancet on 24 January indicated human transmission, strongly recommended personal protective equipment for health workers, and said testing for the virus was essential due to its \"pandemic potential\".[24][240]\\nOn 30 January 2020, with 7,818 confirmed cases across 19 countries, the WHO declared the outbreak a Public Health Emergency of International Concern (PHEIC),[241][242] and then a pandemic on 11 March 2020[243][244] as Italy, Iran, South Korea, and Japan reported increasing numbers of cases.\\nOn 31 January 2020, Italy had its first confirmed cases, two tourists from China.[245] As of 13 March 2020, the WHO considered Europe the active centre of the pandemic.[246] On 19 March 2020, Italy overtook China as the country with the most reported deaths.[247] By 26 March, the United States had overtaken China and Italy with the highest number of confirmed cases in the world.[248] Research on coronavirus genomes indicates the majority of COVID-19 cases in New York came from European travellers, rather than directly from China or any other Asian country.[249] Retesting of prior samples found a person in France who had the virus on 27 December 2019[250][251] and a person in the United States who died from the disease on 6\\xa0February 2020.[252]\\nOn 11 June 2020, after 55 days without a locally transmitted case being officially reported,[253] the city of Beijing reported a single COVID-19 case, followed by two more cases on 12 June.[254] As of 15 June 2020, 79 cases were officially confirmed.[255] Most of these patients went to Xinfadi Wholesale Market.[253][256]\\nOn 29 June 2020, WHO warned that the spread of the virus is still accelerating as countries reopen their economies, although many countries have made progress in slowing down the spread.[257]\\nOn 15 July 2020, one COVID-19 case was officially reported in Dalian in more than three months. The patient did not travel outside the city in the 14 days before developing symptoms, nor did he have contact with people from \"areas of attention.\"[258]\\nIn October 2020, the WHO stated, at a special meeting of WHO leaders, that one in ten people around the world may have been infected with COVID-19. At the time, that translated to 780\\xa0million people being infected, while only 35\\xa0million infections had been confirmed.[259]\\nIn early November 2020, Denmark reported on an outbreak of a unique mutated variant being transmitted to humans from minks in its North Jutland Region. All twelve human cases of the mutated variant were identified in September 2020. The WHO released a report saying the variant \"had a combination of mutations or changes that have not been previously observed.\"[260] In response, Prime Minister Mette Frederiksen ordered for the country – the world\\'s largest producer of mink fur – to cull its mink population by as many as 17\\xa0million.[261]\\nOn 9 November 2020, Pfizer released their trial results for a candidate vaccine, showing that it is 90% effective against the virus.[262] Later that day, Novavax entered an FDA Fast Track application for their vaccine.[263]  Virologist and U.S. National Institute of Allergy and Infectious Diseases director Anthony Fauci indicated that the Pfizer vaccine targets the spike protein used to infect cells by the virus. Some issues left to be answered are how long the vaccine offers protection, and if it offers the same level of protection to all ages. Initial doses will likely go to healthcare workers on the front lines.[264]\\nOn 9 November 2020 the United States surpassed 10\\xa0million confirmed cases of COVID-19, making it the country with the most cases worldwide by a large margin.[265]\\nIt was reported on 27 November, that a publication released by the Centers for Disease Control and Prevention indicated that the current numbers of viral infection are via confirmed laboratory test only. However, the true number could be about eight times the reported number; the report further indicated that the true number of virus infected cases could be around 100\\xa0million in the U.S.[266][267]\\nOn 14 December 2020, Public Health England reported a new variant had been discovered in the South East of England, predominantly in Kent. The variant, named Variant of Concern 202012/01, showed changes to the spike protein which could make the virus more infectious. As of 13 December, there were 1,108 cases identified.[268] Many countries halted all flights from the UK;[269] France-bound Eurotunnel service was suspended and ferries carrying passengers and accompanied freight were cancelled as the French border closed to people on 20 December.[270]\\n\\n2021\\nMain article: Timeline of the COVID-19 pandemic in January 2021\\nOn 2 January, the UK variant of SARS-CoV-2 (VOC-202012/01) had been identified in 33 countries around the world, including: Pakistan, South Korea, Switzerland, Taiwan, Norway, Italy, Japan, Lebanon, India, Canada, Denmark, France, Germany, Iceland, and China.[271]\\nOn 12 January, it was reported that a team of scientists from the World Health Organization would arrive in Wuhan, China on the 14th of the month; this is to ascertain the origin of the COVID-19 pandemic and determine what were the intermediate hosts between the original reservoir and humans.[272] On the following day, two of the WHO members were barred from entering China, according to the country, antibodies for the virus were detected in both.[273]\\nAs of 19 January 2021, more than 95.6\\xa0million cases have been reported worldwide due to COVID-19; more than 2.04\\xa0million have died and more than 52.7\\xa0million have recovered.[4]\\n\\nNational responses\\nMain articles: COVID-19 pandemic lockdowns, COVID-19 pandemic by country and territory, and National responses to the COVID-19 pandemic\\n U.S. President Donald Trump signs the Coronavirus Preparedness and Response Supplemental Appropriations Act into law with Alex Azar on 6\\xa0March 2020.\\nA total of 191[4] countries and territories have had at least one case of COVID-19 so far. Due to the pandemic in Europe, many countries in the Schengen Area have restricted free movement and set up border controls.[274] National reactions have included containment measures such as quarantines and curfews (known as stay-at-home orders, shelter-in-place orders, or lockdowns).[275] The WHO\\'s recommendation on curfews and lockdowns is that they should be short-term measures to reorganize, regroup, rebalance resources, and protect health workers who are exhausted. To achieve a balance between restrictions and normal life, the long-term responses to the pandemic should consist of strict personal hygiene, effective contact tracing, and isolating when ill.[276]\\nBy 26 March 2020, 1.7\\xa0billion people worldwide were under some form of lockdown,[277] which increased to 3.9\\xa0billion people by the first week of April—more than half the world\\'s population.[278][279]\\nBy late April 2020, around 300\\xa0million people were under lockdown in nations of Europe, including but not limited to Italy, Spain, France, and the United Kingdom, while around 200\\xa0million people were under lockdown in Latin America.[280] Nearly 300\\xa0million people, or about 90 percent of the population, were under some form of lockdown in the United States,[281] around 100\\xa0million people in the Philippines,[280] about 59\\xa0million people in South Africa,[282] and 1.3\\xa0billion people have been under lockdown in India.[283][284] On 21 May 2020, 100,000 new infections occurred worldwide, the most since the start of the pandemic, while overall 5\\xa0million cases were surpassed.[285]\\n\\nAsia\\nMain article: COVID-19 pandemic in Asia\\nAs of 30\\xa0April\\xa02020[update],[286] cases have been reported in all Asian countries except for Turkmenistan and North Korea, although these countries likely also have cases.[287][288] Despite being the first area of the world hit by the outbreak, the early wide-scale response of some Asian states, particularly Mongolia,[289] Singapore,[290] South Korea,[291] Taiwan,[292] Vietnam,[293] has allowed them to fare comparatively well. China is criticized for initially minimizing the severity of the outbreak but the delayed wide-scale response has largely contained the disease since March 2020.[294][295][296][297] As of 9 December 2020, Singapore has the lowest case fatality rate in the world, at 0.51 deaths per 100,000.[298]\\nThe pandemic has had direct side effects, per a report on 28 November, in Japan. According to the report by the country\\'s National Police Agency, suicides had increased to 2,153 in October. Experts also state that the pandemic has worsened mental health issues due to lockdowns and isolation from family members, among other issues.[299]\\n\\nChina\\nMain article: COVID-19 pandemic in mainland China\\n A temporary hospital constructed in Wuhan in February 2020\\nAs of 14 July 2020, there are 83,545 cases confirmed in China— excluding 114 asymptomatic cases, 62 of which were imported, under medical observation; asymptomatic cases have not been reported prior to 31 March 2020—with 4,634 deaths and 78,509 recoveries,[300] meaning there are only 402 cases. Hubei has the most cases, followed by Xinjiang.[301] By March 2020, COVID-19 infections have largely been put under control in China,[294] with minor outbreaks since.[302] It was reported on 25 November, that some 1\\xa0million people in the country of China have been vaccinated according to China\\'s state council; the vaccines against COVID-19 come from Sinopharm which makes two and one produced by Sinovac.[303]\\n\\nIndia\\nMain article: COVID-19 pandemic in India\\n Indian officials conducting temperature checks at the Ratha Yatra Hindu festival on 23 June 2020\\nThe first case of COVID-19 in India was reported on 30 January 2020. India ordered a nationwide lockdown for the entire population starting 24 March 2020,[304] with a phased unlock beginning 1 June 2020. Six cities account for around half of all reported cases in the country—Mumbai, Delhi, Ahmedabad, Chennai, Pune and Kolkata.[305]\\nAs of September 2020, India had the largest number of confirmed cases in Asia;[306] and the second-highest number of confirmed cases in the world,[307] behind the United States,[308] with the number of total confirmed cases breaching the 100,000 mark on 19 May 2020,[309] 1,000,000 on 16 July 2020,[310] and 5,000,000 confirmed cases on 16 September 2020.[311] On 30 August 2020, India surpassed the US record for the most cases in a single day, with more than 78,000 cases,[312] and set a new record on 16 September 2020, with almost 98,000 cases reported that day.[313]\\nOn 10 June 2020, India\\'s recoveries exceeded active cases for the first time.[314] As of 30 August 2020, India\\'s case fatality rate is relatively low at 2.3%, against the global 4.7%.[315]\\n\\nIran\\nMain article: COVID-19 pandemic in Iran\\n Disinfection of Tehran Metro trains against coronavirus. Similar measures have also been taken in other countries.[316]\\nIran reported its first confirmed cases of SARS-CoV-2 infections on 19 February 2020 in Qom, where, according to the Ministry of Health and Medical Education, two people had died that day.[317][318] Early measures announced by the government included the cancellation of concerts and other cultural events,[319] sporting events,[320] Friday prayers,[321] and closures of universities, higher education institutions, and schools.[322] Iran allocated 5\\xa0trillion rials (equivalent to US$120,000,000) to combat the virus.[323] President Hassan Rouhani said on 26 February 2020 there were no plans to quarantine areas affected by the outbreak, and only individuals would be quarantined.[324] Plans to limit travel between cities were announced in March 2020,[325] although heavy traffic between cities ahead of the Persian New Year Nowruz continued.[326] Shia shrines in Qom remained open to pilgrims until 16 March.[327][328]\\nIran became a centre of the spread of the virus after China during February 2020.[329][330] More than ten countries had traced their cases back to Iran by 28 February, indicating the outbreak may have been more severe than the 388 cases reported by the Iranian government by that date.[330][331] The Iranian Parliament was shut down, with 23 of its 290 members reported to have had tested positive for the virus on 3\\xa0March 2020.[332] On 15 March 2020, the Iranian government reported a hundred deaths in a single day, the most recorded in the country since the outbreak began.[333] At least twelve sitting or former Iranian politicians and government officials had died from the disease by 17 March 2020.[334] By 23 March 2020, Iran was experiencing fifty new cases every hour and one new death every ten minutes due to coronavirus.[335] According to a WHO official, there may be five times more cases in Iran than what is being reported. It is also suggested that U.S. sanctions on Iran may be affecting the country\\'s financial ability to respond to the viral outbreak.[336] On 20 April 2020, Iran reopened shopping malls and other shopping areas across the country.[337] After reaching a low in new cases in early May, a new peak was reported on 4\\xa0June 2020, raising fear of a second wave.[338] On 18 July 2020, President Rouhani estimated that 25\\xa0million Iranians had already become infected, which is considerably higher than the official count.[339] Leaked data suggest that 42,000 people had died with COVID-19 symptoms by 20 July 2020, nearly tripling the 14,405 officially reported by that date.[340]\\n\\nSouth Korea\\nMain article: COVID-19 pandemic in South Korea\\n A drive-through test centre at the Gyeongju Public Health Centre\\nCOVID-19 was confirmed to have spread to South Korea on 20 January 2020 from China. The nation\\'s health agency reported a significant increase in confirmed cases on 20 February,[341] largely attributed to a gathering in Daegu of the Shincheonji Church of Jesus.[341][342] Shincheonji devotees visiting Daegu from Wuhan were suspected to be the origin of the outbreak.[343][344] By 22 February[update], among 9,336 followers of the church, 1,261 or about 13 percent reported symptoms.[345] South Korea declared the highest level of alert on 23 February 2020.[346] On 29 February, more than 3,150 confirmed cases were reported.[347] All South Korean military bases were quarantined after tests showed three soldiers had the virus.[343] Airline schedules were also changed.[348][349]\\nSouth Korea introduced what was considered the largest and best-organised programme in the world to screen the population for the virus, isolate any infected people, and trace and quarantine those who contacted them.[291][350] Screening methods included mandatory self-reporting of symptoms by new international arrivals through mobile application,[351] drive-through testing for the virus with the results available the next day,[352] and increasing testing capability to allow up to 20,000 people to be tested every day.[353] Despite some early criticisms of President Moon Jae-in\\'s response to the crisis,[354] South Korea\\'s programme is considered a success in controlling the outbreak without quarantining entire cities.[291][355][356]\\nOn 23 March, it was reported that South Korea had the lowest one-day case total in four weeks.[353] On 29 March it was reported that beginning 1\\xa0April all new overseas arrivals will be quarantined for two weeks.[357] Per media reports on 1\\xa0April, South Korea has received requests for virus testing assistance from 121 different countries.[358] Persistent local groups of infections in the greater Seoul area continued to be found, which led to Korea\\'s CDC director saying in June that the country had entered the second wave of infections,[359] although a WHO official disagreed with that assessment.[360]\\n\\nEurope\\nMain article: COVID-19 pandemic in Europe\\n Cases of COVID-19 per 100,000 residents in Europe. The numbers are not comparable, as the testing strategy differs among countries and time periods.\\n\\nThis article needs to be updated. Please update this article to reflect recent events or newly available information. (January 2021)\\nAs of 13\\xa0March\\xa02020,[update] when the number of new cases became greater  than those in China, the World Health Organization (WHO) began to consider Europe the active centre of the pandemic.[361][362] Cases by country across Europe had doubled over periods of typically 3 to 4 days, with some countries (mostly those at earlier stages of detection) showing doubling every 2 days.[363]\\nAs of 17 March,[update] all countries within Europe had a confirmed case of COVID-19, with Montenegro being the last European country to report at least one case.[364] At least one death has been reported in all European countries, apart from the Vatican City.\\nAs of 18 March,[update] more than 250\\xa0million people were in lockdown in Europe.[365]\\n\\nAs of 24 May, 68 days since its first recorded case, Montenegro became the first COVID-19-free country in Europe,[366][367] but this situation lasted only 44 days before a newly imported case was identified there.[368] European countries with the highest number of confirmed COVID-19 cases are Russia, France, Spain, the United Kingdom, and Italy.[369]\\nOn 21 August, it was reported the COVID-19 cases were climbing among younger individuals across Europe.[370] On 21 November, it was reported by the Voice of America that Europe is the worst hit area by the COVID-19 virus, with numbers exceeding 15\\xa0million cases[371]\\n\\nFrance\\nPlay media Empty streets in Paris, 2020\\nMain article: COVID-19 pandemic in France\\nAlthough it was originally thought the pandemic reached France on 24 January 2020, when the first COVID-19 case in Europe was confirmed in Bordeaux, it was later discovered that a person near Paris had tested positive for the virus on 27 December 2019 after retesting old samples.[250][251] A key event in the spread of the disease in the country was the annual assembly of the Christian Open Door Church between 17 and 24 February in Mulhouse, which was attended by about 2,500 people, at least half of whom are believed to have contracted the virus.[372][373]\\nOn 13 March, Prime Minister Édouard Philippe ordered the closure of all non-essential public places,[374] and on 16 March, French President Emmanuel Macron announced mandatory home confinement, a policy which was extended at least until 11 May.[375][376][377] As of 14 September[update], France has reported more than 402,000 confirmed cases, 30,000 deaths, and 90,000 recoveries,[378] ranking fourth in number of confirmed cases.[379] In April, there were riots in some Paris suburbs.[380] On 18 May, it was reported that schools in France had to close again after reopening, due to COVID-19 case flare-ups.[381]\\nOn 12 November it was reported that France had become the worst hit country by the COVID-19 pandemic, in all of Europe, in the process surpassing Russia. The new total of confirmed cases was more than 1.8\\xa0million and counting; additionally it was indicated by the French government that the current national lockdown would remain in place.[382]\\n\\nItaly\\nMain article: COVID-19 pandemic in Italy\\nThe outbreak was confirmed to have spread to Italy on 31 January, when two Chinese tourists tested positive for SARS-CoV-2 in Rome.[245] Cases began to rise sharply, which prompted the Italian government to suspend all flights to and from China and declare a state of emergency.[383] An unassociated cluster of COVID-19 cases was later detected, starting with 16 confirmed cases in Lombardy on 21 February.[384]\\n\\n Civil Protection volunteers conduct health checks at the Guglielmo Marconi Airport in Bologna on 5\\xa0February.\\nOn 22 February, the Council of Ministers announced a new decree-law to contain the outbreak, including quarantining more than 50,000 people from eleven different municipalities in northern Italy.[385] Prime Minister Giuseppe Conte said, \"In the outbreak areas, entry and exit will not be provided. Suspension of work activities and sports events has already been ordered in those areas.\"[386][387]\\nOn 4 March, the Italian government ordered the full closure of all schools and universities nationwide as Italy reached a hundred deaths. All major sporting events were to be held behind closed doors until April,[388] but on 9\\xa0March all sport was suspended completely for at least one month.[389] On 11 March, Prime Minister Conte ordered stoppage of nearly all commercial activity except supermarkets and pharmacies.[390][391]\\nOn 6 March, the Italian College of Anaesthesia, Analgesia, Resuscitation and Intensive Care (SIAARTI) published medical ethics recommendations regarding triage protocols.[392][393][394] On 19 March, Italy overtook China as the country with the most coronavirus-related deaths in the world after reporting 3,405 fatalities from the pandemic.[395][396] On 22 March, it was reported that Russia had sent nine military planes with medical equipment to Italy.[397] As of 14 September[update], there were 287,753 confirmed cases, 35,610 deaths, and 213,634 recoveries in Italy, with the majority of those cases occurring in the Lombardy region.[4] A CNN report indicated that the combination of Italy\\'s large elderly population and inability to test all who have the virus to date may be contributing to the high fatality rate.[398] On 19 April, it was reported that the country had its lowest deaths at 433 in seven days and some businesses are asking for a loosening of restrictions after six weeks of lockdown.[399]\\nOn 13 October 2020, the Italian government again issued restrictive rules to contain a rise in infections.[400]\\nOn 11 November, it was reported that Silvestro Scotti, president of the Italian Federation of General Practitioners indicated that all of Italy should come under restrictions due to the coronavirus. A couple of days prior Filippo Anelli, president of the National Federation of Doctor\\'s Guilds (FNOMCEO) asked for a complete lockdown of the peninsular nation due to the pandemic.[401] On the 10th, a day before, Italy surpassed 1\\xa0million confirmed COVID-19 cases.[402] On 23 November it was reported that the second wave of the virus has caused some hospitals in Italy to stop accepting patients.[403]\\n\\nSpain\\nMain article: COVID-19 pandemic in Spain\\n Residents of Valencia, Spain, maintaining social distancing while queueing\\n\\nThe virus was first confirmed to have spread to Spain on 31 January 2020, when a German tourist tested positive for SARS-CoV-2 in La Gomera, Canary Islands.[404] Post-hoc genetic analysis has shown that at least 15 strains of the virus had been imported, and community transmission began by mid-February.[405] By 13 March, cases had been confirmed in all 50 provinces of the country.\\nA lockdown was imposed on 14 March 2020.[406] On 29 March, it was announced that, beginning the following day, all non-essential workers were ordered to remain at home for the next 14 days.[407] By late March, the Community of Madrid has recorded the most cases and deaths in the country. Medical professionals and those who live in retirement homes have experienced especially high infection rates.[408] On 25 March, the official death toll in Spain surpassed that of mainland China.[409] On 2\\xa0April, 950 people died of the virus in a 24-hour period—at the time, the most by any country in a single day.[410] On 17 May, the daily death toll announced by the Spanish government fell below 100 for the first time,[411] and 1 June was the first day without deaths by coronavirus.[412] The state of alarm ended on 21 June.[413] However, the number of cases increased again in July in a number of cities including Barcelona, Zaragoza and Madrid, which led to reimposition of some restrictions but no national lockdown.[414][415][416][417]\\n\\nStudies have suggested that the number of infections and deaths may have been underestimated due to lack of testing and reporting, and many people with only mild or no symptoms were not tested.[418][419] Reports in May suggested that, based on a sample of more than 63,000 people, the number of infections may be ten times higher than the number of confirmed cases by that date, and Madrid and several provinces of Castilla–La Mancha and Castile and León were the most affected areas with a percentage of infection greater than 10%.[420][421] There may also be as many as 15,815 more deaths according to the Spanish Ministry of Health monitoring system on daily excess mortality (Sistema de Monitorización de la Mortalidad Diaria - MoMo).[422] On 6 July 2020, the results of a Government of Spain nationwide seroprevalence study showed that about two million people, or 5.2% of the population, could have been infected during the pandemic.[423][424] Spain was the second country in Europe (behind Russia) to record half a million cases.[425] On 21 October, Spain passed 1 million COVID-19 cases, with 1,005,295 infections and 34,366 deaths reported as of 21 October a third of which occurred in Madrid.[426]\\nSweden\\nMain article: COVID-19 pandemic in Sweden\\nSweden differed from most other European countries in that it mostly remained open.[427] Per the Swedish Constitution, the Public Health Agency of Sweden has autonomy which prevents political interference and the agency\\'s policy favoured forgoing a lockdown. The Swedish strategy focused on measures that could be put in place over a longer period of time, based on the assumption that the virus would start spreading again after a shorter lockdown.[428][429] The New York Times said that, as of May 2020, the outbreak had been far deadlier there but the economic impact had been reduced as Swedes have continued to go to work, restaurants, and shopping.[427][430] On 19 May, it was reported that the country had in the week of 12–19 May the highest per capita deaths in Europe, 6.25 deaths per million per day.[431] In the end of June, Sweden no longer had excess mortality.[432]\\n\\nUnited Kingdom\\nMain article: COVID-19 pandemic in the United Kingdom\\nSee also: COVID-19 pandemic in England, COVID-19 pandemic in Northern Ireland, COVID-19 pandemic in Scotland, and COVID-19 pandemic in Wales\\n The \"Wee Annie\" statue in Gourock, Scotland, was given a face mask during the pandemic.\\nDevolution in the United Kingdom meant that each of the four countries of the UK had its own different response to COVID-19, and the UK government, on behalf of England, moved quicker to lift restrictions.[433] The UK government started enforcing social distancing and quarantine measures on 18 March 2020[434][435] and was criticised for a perceived lack of intensity in its response to concerns faced by the public.[436][437] On 16 March, Prime Minister Boris Johnson advised against non-essential travel and social contact, suggesting people work from home and avoid venues such as pubs, restaurants, and theatres.[438][439] On 20 March, the government ordered all leisure establishments to close as soon as possible,[440] and promised to prevent unemployment.[441] On 23 March, Johnson banned gatherings of multiple people and restricting non-essential travel and outdoor activity. Unlike previous measures, these restrictions were enforceable by police through fines and dispersal of gatherings. Most non-essential businesses were ordered to close.[442]\\nOn 24 April it was reported that a promising vaccine trial had begun in England; the government pledged more than £50\\xa0million towards research.[443] A number of temporary critical care hospitals were built.[444] The first operating was the 4000-bed NHS Nightingale Hospital London, constructed for over nine days.[445] On 4\\xa0May, it was announced that it would be placed on standby and remaining patients transferred to other facilities;[446] 51 patients had been treated in the first three weeks.[447]\\nOn 16 April it was reported that the UK would have first access to the Oxford vaccine, due to a prior contract; should the trial be successful, some 30\\xa0million doses in the UK would be available.[448]\\nOn 2 December the UK became the first Western country to approve the Pfizer vaccine against the COVID-19 virus; 800,000 doses will be immediately available for use[449] It was reported on 5 December that the United Kingdom would begin vaccination against the virus on 8 December, less than a week after having been approved.[450] On 9 December, MHRA stated that any individual with a significant allergic reaction to a vaccine, such as an anaphylactoid reaction, should not take the Pfizer vaccine for COVID-19 protection.[451][452]\\n\\nNorth America\\nMain article: COVID-19 pandemic in North America\\n\\nThe first cases in North America were reported in the United States in January 2020. Cases were reported in all North American countries after Saint Kitts and Nevis confirmed a case on 25 March, and in all North American territories after Bonaire confirmed a case on 16 April.[453]\\n\\nCanada reported 665,496 cases and 17,030 deaths on 11 January 2021,[454] while Mexico reported 1,534,039 cases and 133,706 deaths.[455] The most cases by state is California with 2,621,277 confirmed cases and 29,233 deaths as of the 11th January 2021.[456]\\nUnited States\\nMain article: COVID-19 pandemic in the United States\\n The hospital ship USNS Comfort arrives in Manhattan on 30 March 2020\\n\\nMore than 24,000,000 confirmed cases have been reported in the United States since January 2020, resulting in more than 398,000 deaths, the most of any country and the eleventh-highest on a per capita basis.[457][458] The U.S. has nearly a quarter of the world\\'s cases and a fifth of all deaths. COVID-19 became the third leading cause of death in the U.S. in 2020, behind heart disease and cancer.[459]\\nThe first American case was reported on January 20, and President Donald Trump declared the U.S. outbreak a public health emergency on January 31. Restrictions were placed on flights arriving from China,[460][461] but the initial U.S. response to the pandemic was otherwise slow, in terms of preparing the healthcare system, stopping other travel, and testing.[462][463][464][g] Meanwhile, Trump downplayed the threat posed by the virus and claimed the outbreak was under control.[466]\\n\\nThe first known American deaths occurred in February.[467][h] On March 6, Trump signed the Coronavirus Preparedness and Response Supplemental Appropriations Act, which provided $8.3\\xa0billion in emergency funding for federal agencies to respond to the outbreak.[468] On March 13, President Trump declared a national emergency.[469] In mid-March, the Trump administration started to purchase large quantities of medical equipment,[470] and in late March, it invoked the Defense Production Act to direct industries to produce medical equipment.[471] By April 17, the federal government approved disaster declarations for all states and territories. By mid-April, cases had been confirmed in all fifty U.S. states, and by November in all inhabited U.S. territories. A second rise in infections began in June 2020, following relaxed restrictions in several states.[472]\\nSouth America\\nMain article: COVID-19 pandemic in South America\\n Argentina was among the Latin American countries that earned the best grades for their response to the pandemic.[473]\\n\\nThe pandemic was confirmed to have reached South America on 26 February 2020 when Brazil confirmed a case in São Paulo.[474] By 3 April, all countries and territories in South America had recorded at least one case.[475]\\nOn 13 May, it was reported that Latin America and the Caribbean had reported over 400,000 cases of infection with 23,091 deaths. On 22 May, citing especially the rapid increase of infections in Brazil, the WHO declared South America the epicentre of the pandemic.[476][477]\\n\\nAs of 20 September,[needs update] South America has about 7.5 million confirmed cases and 238,000 deaths. Due to a dearth of testing and medical facilities, it is believed that the outbreak is far larger than the official numbers show.[478]\\nBrazil\\nMain article: COVID-19 pandemic in Brazil\\n Doctors check on a patient on a ventilator at InCor in São Paulo\\nOn 20 May it was reported that Brazil had a record 1,179 deaths in a single day, for a total of almost 18,000 fatalities. With a total number of almost 272,000 cases, Brazil became the country with the third-highest number of cases, following Russia and the United States.[479] On 25 May, Brazil exceeded the number of reported cases in Russia when they reported that 11,687 new cases had been confirmed over the previous 24 hours, bringing the total number to over 374,800, with more than 23,400 deaths. President Jair Bolsonaro has created a great deal of controversy referring to the virus as a \"little flu\" and frequently speaking out against preventive measures such as lockdowns and quarantines. His attitude towards the outbreak has so closely matched that of President Trump he has been called the \"Trump of the Tropics\".[480] Bolsonaro later tested positive for the virus.[481]\\nIn June 2020, the government of Brazil attempted to conceal the actual figures of the COVID-19 active cases and deaths, as it stopped publishing the total number of infections and deaths. On 5\\xa0June, Brazil\\'s health ministry took down the official website reflecting the total numbers of infections and deaths. The website was live on 6\\xa0June, with only the number of infections of the previous 24 hours. The last official numbers reported about 615,000 infections and over 34,000 deaths.[482] On 15 June, it was reported that the worldwide cases had jumped from seven to eight million in one week, citing Latin America, specifically Brazil as one of the countries where cases are surging, in this case, towards 1\\xa0million cases.[483] Brazil briefly paused Phase III trials for the CoronavacCOVID-19 vaccine on 10 November after the suicide of a volunteer before resuming on 11 November.[484]\\n\\nAfrica\\nMain article: COVID-19 pandemic in Africa\\n U.S. Air Force personnel unload a C-17 aircraft carrying approximately 1,800\\xa0kg (4,000\\xa0lb) of medical supplies in Niamey, Niger.\\n\\nThe pandemic was confirmed to have spread to Africa on 14 February 2020, with the first confirmed case announced in Egypt.[485][486] The first confirmed case in sub-Saharan Africa was announced in Nigeria at the end of February.[487] Within three months, the virus had spread throughout the continent, as Lesotho, the last African sovereign state to have remained free of the virus, reported a case on 13 May.[488][489] By 26 May, it appeared that most African countries were experiencing community transmission, although testing capacity was limited.[490] Most of the identified imported cases arrived from Europe and the United States rather than from China where the virus originated.[491] It is believed that there is widespread under-reporting in many African countries with less developed healthcare systems.[492]\\nOceania\\nMain article: COVID-19 pandemic in Oceania\\n\\nThe pandemic was confirmed to have reached Oceania on 25 January 2020 with the first confirmed case reported in Melbourne, Victoria, Australia.[493] It has since spread elsewhere in the region,[494] although many small Pacific island nations have thus far avoided the outbreak by closing their international borders. Five Oceania sovereign states have yet to report a case: Kiribati, Nauru, Palau, Tonga, and Tuvalu. Australia and New Zealand have been praised for their handling of the pandemic compared to other western nations, with the latter wiping out all community transmission of the virus. The most recent country or territory to report its first confirmed case was the Federated States of Micronesia, on 8 January 2021.\\nAntarctica\\nMain article: COVID-19 pandemic in Antarctica\\n\\nDue to its remoteness and sparse population, Antarctica was the last continent to have confirmed cases of COVID-19 and was one of the last regions of the world affected directly by the pandemic.[495][496][497] The first cases were reported in December 2020, almost a year after the first cases of COVID-19 were detected in China. At least 36 people are confirmed to have been infected.[498] Even before the first cases on the continent were reported, human activity in Antarctica was indirectly impacted.\\nInternational responses\\nFurther information: Timeline of the COVID-19 pandemic and International aid related to the COVID-19 pandemic\\nTravel restrictions\\nMain article: Travel restrictions related to the COVID-19 pandemic\\nAs a result of the pandemic, many countries and regions imposed quarantines, entry bans, or other restrictions, either for citizens, recent travellers to affected areas,[499] or for all travellers.[500] Together with a decreased willingness to travel, this had a negative economic and social impact on the travel sector. Concerns have been raised over the effectiveness of travel restrictions to contain the spread of COVID-19.[501] A study in Science found that travel restrictions had only modestly affected the initial spread of COVID-19, unless combined with infection prevention and control measures to considerably reduce transmissions.[502] Researchers concluded that \"travel restrictions are most useful in the early and late phase of an epidemic\" and \"restrictions of travel from Wuhan unfortunately came too late\".[503]\\nThe European Union rejected the idea of suspending the Schengen free travel zone and introducing border controls with Italy,[504][505] a decision which has been criticised by some European politicians.[506][507]\\n\\nEvacuation of foreign citizens\\nMain article: Evacuations related to the COVID-19 pandemic\\n Ukraine evacuates Ukrainian and foreign citizens from Wuhan, China.\\nOwing to the effective lockdown of Wuhan and Hubei, several countries evacuated their citizens and diplomatic staff from the area, primarily through chartered flights of the home nation, with Chinese authorities providing clearance. Canada, the United States, Japan, India,[508] Sri Lanka, Australia, France, Argentina, Germany, and Thailand were among the first to plan the evacuation of their citizens.[509] Brazil and New Zealand also evacuated their own nationals and some other people.[510][511] On 14 March, South Africa repatriated 112 South Africans who tested negative for the virus from Wuhan, while four who showed symptoms were left behind to mitigate risk.[512] Pakistan said it would not evacuate citizens from China.[513]\\nOn 15 February, the U.S. announced it would evacuate Americans aboard the cruise ship Diamond Princess,[514] and on 21 February, Canada evacuated 129 Canadian passengers from the ship.[515] In early March, the Indian government began evacuating its citizens from Iran.[516][517] On 20 March, the United States began to partially withdraw its troops from Iraq due to the pandemic.[518]\\n\\nUnited Nations response measures\\nMain article: United Nations response to the COVID-19 pandemic\\nThe United Nations response to the pandemic has been led by its Secretary-General and can be divided into formal resolutions at the General Assembly and the Security Council (UNSC), and operations via its specialized agencies.[citation needed]\\nIn June 2020, the Secretary-General launched its \\'UN Comprehensive Response to COVID-19\\'.[519] The United Nations Conference on Trade and Development (UNSC) has been criticized for a slow coordinated response, especially regarding the UN\\'s global ceasefire, which aims to open up humanitarian access to the world\\'s most vulnerable in conflict zones.[520]\\n\\nWHO response measures\\nMain article: World Health Organization\\'s response to the COVID-19 pandemic\\n\\nThe WHO is a leading organisation involved in the global coordination for mitigating the pandemic. \\nThe WHO has spearheaded several initiatives like the COVID-19 Solidarity Response Fund to raise money for the pandemic response, the UN COVID-19 Supply Chain Task Force, and the solidarity trial for investigating potential treatment options for the disease.\\n\\nIn responding to the outbreak, the WHO has had to deal with political conflicts between member states, in particular between the United States and China.[521] On May 19, the WHO agreed to an independent investigation into its handling of the pandemic. On August 27, the WHO announced the setting up of an independent expert Review Committee to examine aspects of the international treaty that governs preparedness and response to health emergencies.\\nProtests against governmental measures\\nMain article: Protests over responses to the COVID-19 pandemic\\nIn several countries, protests have risen against governmental restrictive responses to the COVID-19 pandemic, such as lockdowns.\\n\\nImpact\\nMain article: Impact of the COVID-19 pandemic\\nFurther information: Social impact of the COVID-19 pandemic\\nEconomics\\nMain article: Economic impact of the COVID-19 pandemic\\nSee also: Impact of the COVID-19 pandemic on aviation, on science and technology, on financial markets, 2020 stock market crash, and Coronavirus recession\\n A stock index chart shows the 2020 stock market crash\\nThe outbreak is a major destabilising threat to the global economy. Agathe Demarais of the Economist Intelligence Unit has forecast that markets will remain volatile until a clearer image emerges on potential outcomes. One estimate from an expert at Washington University in St. Louis gave a $300+\\xa0billion impact on the world\\'s supply chain that could last up to two years.[522] Global stock markets fell on 24 February due to a significant rise in the number of COVID-19 cases outside China.[523][524] On 27 February, due to mounting worries about the coronavirus outbreak, U.S. stock indexes posted their sharpest falls since 2008, with the Dow falling 1,191 points (the largest one-day drop since the financial crisis of 2007–08)[525] and all three major indexes ending the week down more than 10 percent.[526] On 28 February, Scope Ratings GmbH affirmed China\\'s sovereign credit rating but maintained a Negative Outlook.[527] Stocks plunged again due to coronavirus fears, the largest fall being on 16 March.[528]\\nLloyd\\'s of London has estimated that the global insurance industry will absorb losses of US$204\\xa0billion, exceeding the losses from the 2017 Atlantic Hurricane season and 11 September attacks, suggesting the COVID-19 pandemic will likely go down in history as the costliest disaster ever in human history.[529]\\n\\n A highway sign in Toronto discouraging non-essential travel during the pandemic lockdown in March 2020\\nTourism is one of the worst affected sectors due to travel bans, closing of public places including travel attractions, and advice of governments against travel. Numerous airlines have cancelled flights due to lower demand, and British regional airline Flybe collapsed.[530] The cruise line industry was hard hit,[531] and several train stations and ferry ports have also been closed.[532] International mail between some countries stopped or was delayed due to reduced transportation between them or suspension of domestic service.[533]\\nThe retail sector has been impacted globally, with reductions in store hours or temporary closures.[534] Visits to retailers in Europe and Latin America declined by 40 percent. North America and Middle East retailers saw a 50–60 percent drop.[535] This also resulted in a 33–43 percent drop in foot traffic to shopping centres in March compared to February. Shopping mall operators around the world imposed additional measures, such as increased sanitation, installation of thermal scanners to check the temperature of shoppers, and cancellation of events.[536]\\n\\n \"Those who can, put something in; those who can\\'t, help yourself.\" Bologna, April 2020.\\nHundreds of millions of jobs could be lost globally.[537][538] More than 40\\xa0million Americans lost their jobs and filed unemployment insurance claims.[539] The economic impact and mass unemployment caused by the pandemic has raised fears of a mass eviction crisis,[540][541] with an analysis by the Aspen Institute indicating between 30\\xa0and\\xa040\\xa0million Americans are at risk for eviction by the end of 2020.[542][543] According to a report by the Yelp, about 60% of U.S. businesses that have closed since the start of the pandemic will stay shut permanently.[544]\\nAccording to a United Nations Economic Commission for Latin America estimate, the pandemic-induced recession could leave 14–22\\xa0million more people in extreme poverty in Latin America than would have been in that situation without the pandemic.[545] According to the World Bank, up to 100\\xa0million more people globally could fall into extreme poverty due to the shutdowns.[546][547] The International Labour Organization (ILO) informed that the income generated in first nine months of 2020 from work across the world dropped by 10.7 per cent, or $3.5\\xa0trillion, amidst the coronavirus outbreak.[548]\\n\\nSupply shortages\\nMain article: Shortages related to the COVID-19 pandemic\\n Coronavirus fears have led to panic buying of essentials across the world, including toilet paper, dried and instant noodles, bread, rice, vegetables, disinfectant, and rubbing alcohol.\\nThe outbreak has been blamed for several instances of supply shortages, stemming from globally increased usage of equipment to fight outbreaks, panic buying (which in several places led to shelves being cleared of grocery essentials such as food, toilet paper, and bottled water), and disruption to the factory and logistic operations.[549] The spread of panic buying has been found to stem from perceived threat, perceived scarcity, fear of the unknown, coping behaviour and social psychological factors (e.g. social influence and trust).[550] The technology industry, in particular, has warned of delays to shipments of electronic goods.[551] According to the WHO director-general Tedros Adhanom, demand for personal protection equipment has risen a hundredfold, leading to prices up to twenty times the normal price and also delays in the supply of medical items of four to six months.[552][553] It has also caused a shortage of personal protective equipment worldwide, with the WHO warning that this will endanger health workers.[554]\\nThe impact of the coronavirus outbreak was worldwide. The virus created a shortage of precursors (raw material) used in the manufacturing of fentanyl and methamphetamine. The Yuancheng Group, headquartered in Wuhan, is one of the leading suppliers.[555] Price increases and shortages in these illegal drugs have been noticed on the street of the UK.[556] U.S. law enforcement also told the New York Post Mexican drug cartels were having difficulty in obtaining precursors.[557]\\nThe pandemic has disrupted global food supplies and threatens to trigger a new food crisis.[558][559] David Beasley, head of the World Food Programme (WFP), said \"we could be facing multiple famines of biblical proportions within a short few months.\"[560] Senior officials at the United Nations estimated in April 2020 that an additional 130\\xa0million people could starve, for a total of 265\\xa0million by the end of 2020.[560][561][562]\\n\\nOil and other energy markets\\nIn early February 2020, Organization of the Petroleum Exporting Countries (OPEC) \"scrambled\" after a steep decline in oil prices due to lower demand from China.[563] On Monday, 20 April, the price of West Texas Intermediate (WTI) went negative and fell to a record low (minus $37.63 a barrel) due to traders\\' offloading holdings so as not to take delivery and incur storage costs.[564] June prices were down but in the positive range, with a barrel of West Texas trading above $20.[564]\\n\\nCulture\\nMain article: List of events affected by the COVID-19 pandemic\\n Closed entrance to the Shah Abdol-Azim Shrine in Ray, Iran\\nThe performing arts and cultural heritage sectors have been profoundly affected by the pandemic, impacting organisations\\' operations as well as individuals—both employed and independent—globally. Arts and culture sector organisations attempted to uphold their (often publicly funded) mission to provide access to cultural heritage to the community, maintain the safety of their employees and the public, and support artists where possible. By March 2020, across the world and to varying degrees, museums, libraries, performance venues, and other cultural institutions had been indefinitely closed with their exhibitions, events and performances cancelled or postponed.[565] In response there were intensive efforts to provide alternative services through digital platforms.[566][567][568]\\n\\n An American Catholic military chaplain prepares for a live-streamed Mass in an empty chapel at Offutt Air Force Base in March 2020.\\nHoly Week observances in Rome, which occur during the last week of the Christian penitential season of Lent, were cancelled.[567] Many dioceses have recommended older Christians stay home rather than attend Mass on Sundays; services have been made available via radio, online live streaming and television, though some congregations have made provisions for drive-in worship.[569][570][567] With the Roman Catholic Diocese of Rome closing its churches and chapels and St. Peter\\'s Square emptied of Christian pilgrims,[567] other religious bodies also cancelled in-person services and limited public gatherings in churches, mosques, synagogues, temples and gurdwaras.[567] Iran\\'s Health Ministry announced the cancellation of Friday prayers in areas affected by the outbreak and shrines were later closed,[321][328] while Saudi Arabia banned the entry of foreign pilgrims as well as its residents to holy sites in Mecca and Medina.[571][572] The 2020 Hajj was limited to around 1,000 selected pilgrims, in contrast to the usual number of over 2\\xa0million.[573]\\nThe pandemic has caused the most significant disruption to the worldwide sporting calendar since the Second World War. Most major sporting events have been cancelled or postponed, including the 2019–20 UEFA Champions League,[574] 2019–20 Premier League,[575] UEFA Euro 2020, 2019–20 NBA season,[576] and 2019–20 NHL season.[577] The outbreak disrupted plans for the 2020 Summer Olympics in Tokyo, Japan, which were originally scheduled to start at 24 July 2020, and were postponed by the International Olympic Committee to 23 July 2021.[578][579][580]\\nThe entertainment industry has also been affected, with many music groups suspending or cancelling concert tours.[581][582] The Eurovision Song Contest, which was due to be held in Rotterdam, the Netherlands in May, was cancelled; however, the Netherlands was retained as host for 2021.[583][584] Many large theatres such as those on Broadway also suspended all performances.[585] Some artists have explored ways to continue to produce and share work over the internet as an alternative to traditional live performance, such as live streaming concerts[586] or creating web-based \"festivals\" for artists to perform, distribute, and publicise their work.[587]\\nThe large number of people working or learning from home via videoconferencing software led to several new terms and trends, including \"zoom fatigue\",[588] a decline in demand for formal clothing, and increased fashion focus on masks and clothes for the upper body (the lower body generally not being visible on a videoconference).[589]\\nThe term \"doomscrolling\" became more widely used. Online, numerous COVID-19-themed Internet memes have spread as many turn to humour and distraction amid the uncertainty.[590] A popular Twitter account called \"Room Rater\" jokingly commented on and assigned numerical scores to the backgrounds of journalists and others appearing in mass media from home.[591]\\n\\nPolitics\\nMain article: Impact of the COVID-19 pandemic on politics\\nSee also: Impact of the COVID-19 pandemic on international relations\\nThe pandemic has affected the political systems of multiple countries, causing suspensions of legislative activities,[592] isolations or deaths of multiple politicians,[593] and rescheduling of elections due to fears of spreading the virus.[594] Starting in late May, large-scale protests against police brutality in at least 200 U.S. cities and later worldwide in response to the killing of George Floyd raised concerns of a resurgence of the virus.[595]\\nAlthough they have broad support among epidemiologists, social distancing measures have been politically controversial in many countries. Intellectual opposition to social distancing has come primarily from writers of other fields, although there are a few heterodox epidemiologists.[596]\\nOn 23 March 2020, United Nations Secretary-General António Manuel de Oliveira Guterres issued an appeal for a global ceasefire in response to the pandemic;[597][598] 172 UN Member States and Observers signed a non-binding statement in support of the appeal in June,[599] and the UN Security Council passed a resolution supporting it in July.[600][601]\\n\\nChina\\nFurther information: China–United States relations §\\xa0COVID-19\\nThe government of China has been criticised by the United States,[602] the UK Minister for the Cabinet Office Michael Gove,[603] and others[604] for its handling of the pandemic. A number of provincial-level administrators of the Communist Party of China were dismissed over their handling of the quarantine measures in China, a sign of discontent with their response to the outbreak. Some commentators believed this move was intended to protect CCP general secretary Xi Jinping from the controversy.[605] The U.S. intelligence community claims China intentionally under-reported its number of coronavirus cases.[606] The Chinese government maintains it has acted swiftly and transparently.[607][608]\\n\\nItaly\\nIn early March, the Italian government criticised the EU\\'s lack of solidarity with coronavirus-affected Italy[609][610]—Maurizio Massari, Italy\\'s ambassador to the EU, said \"only China responded bilaterally\", not the EU.[611] On 22 March, after a phone call with Italian Prime Minister Giuseppe Conte, Russian president Vladimir Putin had the Russian army send military medics, disinfection vehicles, and other medical equipment to Italy.[612] President of Lombardy Attilio Fontana and Italian Foreign Minister Luigi Di Maio expressed their gratitude for the aid.[613] Russia also sent a cargo plane with medical aid to the United States.[614] Kremlin spokesman Dmitry Peskov said \"when offering assistance to U.S. colleagues, [Putin] assumes that when U.S. manufacturers of medical equipment and materials gain momentum, they will also be able to reciprocate if necessary.\"[615]\\nIn early April, Norway and EU states like Romania and Austria started to offer help by sending medical personnel and disinfectant,[616] and Ursula von der Leyen offered an official apology to the country.[617]\\n\\nUnited States\\n Several hundred anti-lockdown protesters rallied at the Ohio Statehouse 20 April.[618]\\nThe outbreak prompted calls for the United States to adopt social policies common in other wealthy countries, including universal health care, universal child care, paid sick leave, and higher levels of funding for public health.[619][620][621] Political analysts believe it may have contributed to Donald Trump\\'s loss in the 2020 presidential election.[622][623] Beginning in mid-April 2020, there were protests in several U.S. states against government-imposed business closures and restricted personal movement and association.[624] Simultaneously, protests ensued by essential workers in the form of a general strike.[625] In early October 2020, Donald Trump, his family members, and many other government officials were diagnosed with COVID-19, further disrupting the country\\'s politics.[626]\\n\\nOther countries\\nThe planned NATO \"Defender 2020\" military exercise in Germany, Poland, and the Baltic states, the largest NATO war exercise since the end of the Cold War, was held on a reduced scale.[627][628] The Campaign for Nuclear Disarmament\\'s general secretary Kate Hudson criticised the exercise, saying \"it jeopardises the lives not only of the troops from the U.S. and the many European countries participating but the inhabitants of the countries in which they are operating.\"[629]\\nThe Iranian government has been heavily affected by the virus, with about two dozen parliament members and fifteen current or former political figures infected.[331][630] Iran\\'s President Hassan Rouhani wrote a public letter to world leaders asking for help on 14 March 2020, saying they were struggling to fight the outbreak due to a lack of access to international markets from the United States sanctions against Iran.[631] Saudi Arabia, which launched a military intervention in Yemen in March 2015, declared a ceasefire.[632]\\nDiplomatic relations between Japan and South Korea worsened due to the pandemic.[633] South Korea criticised Japan\\'s \"ambiguous and passive quarantine efforts\" after Japan announced anyone coming from South Korea would be placed in quarantine for two weeks at government-designated sites.[634] South Korean society was initially polarised on President Moon Jae-in\\'s response to the crisis; many Koreans signed petitions either calling for Moon\\'s impeachment or praising his response.[354]\\nSome countries have passed emergency legislation in response to the pandemic. Some commentators have expressed concern that it could allow governments to strengthen their grip on power.[635][636] In the Philippines, lawmakers granted president Rodrigo Duterte temporary emergency powers during the pandemic.[637] In Hungary, the parliament voted to allow the prime minister, Viktor Orbán, to rule by decree indefinitely, suspend parliament as well as elections, and punish those deemed to have spread false information about the virus and the government\\'s handling of the crisis.[638] In some countries, including Egypt,[639] Turkey,[640] and Thailand,[637] opposition activists and government critics have been arrested for allegedly spreading fake news about the COVID-19 pandemic.[641]\\n\\nAgriculture and food systems\\nFurther information: COVID-19 pandemic-related famines\\nThe COVID-19 pandemic has disrupted agricultural and food systems worldwide.[642] COVID-19 hit at a time when hunger or undernourishment was once again on the rise in the world, with an estimated 690\\xa0million people already going hungry in 2019.[643] Based on the latest UN estimates, the economic recession triggered by the pandemic may lead to another 83\\xa0million people, and possibly as many as 132\\xa0million, going hungry in 2020.[643][644][645][646] This is mainly due to a lack of access to food – linked to falling incomes, lost remittances and, in some cases, a rise in food prices. In countries that already suffer from high levels of acute food insecurity, it is no longer an issue of access to food alone, but increasingly also one of food production.[642][643]\\nThe pandemic, alongside lockdowns and travel restrictions, has prevented movement of aid and greatly impacted food production. As a result, several famines are forecast, which the UN called a crisis \"of biblical proportions,\"[647] or \"hunger pandemic.\"[648] It is estimated that without intervention 30\\xa0million people may die of hunger, with Oxfam reporting that \"12,000 people per day could die from COVID-19 linked hunger\" by the end of 2020.[649][647][650]\\nThis pandemic, in conjunction with the 2019–20 locust infestations and several ongoing armed conflicts, is predicted to form the worst series of famines since the Great Chinese Famine, affecting between 10 and 20 percent of the global population in some way.[651]\\n55 countries are reported to be at risk, with three dozen succumbing to crisis-level famines or above in the worst-case scenario.[652] 265\\xa0million people are forecast to be in famine conditions, an increase of 125\\xa0million due to the coronavirus pandemic.[649]\\n\\nEducation\\nMain article: Impact of the COVID-19 pandemic on educationThe pandemic has severely impacted educational systems globally. Most governments have temporarily closed educational institutions, with many switching to online education. As of 30 September 2020, approximately 1.077\\xa0billion learners are currently affected due to school closures in response to the pandemic. According to UNICEF monitoring, 53 countries are currently implementing nationwide closures and 27 are implementing local closures, impacting about 61.6 percent of the world\\'s student population. 72 countries\\' schools are currently open.[653]\\nSchool closures impact not only students, teachers, and families but have far-reaching economic and societal consequences. School closures in response to the pandemic have shed light on various social and economic issues, including student debt, digital learning, food insecurity, and homelessness, as well as access to childcare, health care, housing, internet, and disability services. The impact has been more severe for disadvantaged children and their families, causing interrupted learning, compromised nutrition, childcare problems, and consequent economic cost to families who cannot work.[citation needed]\\n\\n\\nOther health issues\\nMain article: Impact of the COVID-19 pandemic on other health issues\\n\\nThe pandemic has had many impacts on global health beyond those caused by the COVID-19 disease itself. It has led to a reduction in hospital visits for other reasons. There have been 38 per cent fewer hospital visits for heart attack symptoms in the United States and 40 per cent fewer in Spain.[654] The head of cardiology at the University of Arizona said, \"My worry is some of these people are dying at home because they\\'re too scared to go to the hospital.\"[655] There is also concern that people with strokes and appendicitis are not seeking timely treatment.[655] Shortages of medical supplies have impacted people with various conditions.[656]\\nIn several countries there has been a marked reduction of spread of sexually transmitted infections, including HIV/AIDS, attributable to COVID-19 quarantines, social distancing measures, and recommendations to not engage in casual sex.[657][658] Similarly, in some places, rates of transmission of influenza and other respiratory viruses significantly decreased during the pandemic.[659][660][661]\\n\\nThe pandemic has also negatively impacted mental health globally, including increased loneliness resulting from social distancing[662] and depression and domestic violence from lockdowns.[663] As of June 2020, 40% of U.S. adults were experiencing adverse mental health symptoms, with 11% having seriously considered trying to kill themselves in the past month.[664]\\nEnvironment and climate\\nMain article: Impact of the COVID-19 pandemic on the environment\\nImpact of coronavirus outbreak on environmental issues\\n\\n\\n Images from the NASA Earth Observatory show a stark drop in pollution in Wuhan, when comparing NO2 levels in early 2019 (top) and early 2020 (bottom).[665]\\nThe worldwide disruption caused by the pandemic has resulted in numerous effects on the environment and the climate. The global reduction in modern human activity such as the considerable decline in planned travel[666] was coined anthropause[667] and has caused a large drop in air pollution and water pollution in many regions.[668] In China, lockdowns and other measures resulted in a 25\\xa0percent reduction in carbon emissions[669] and\\xa050 percent reduction in nitrogen oxides emissions,[670] which one Earth systems scientist estimated may have saved at least 77,000 lives over two months.[671][672] Other positive effects on the environment include governance-system-controlled investments towards a sustainable energy transition and other goals related to environmental protection such as the European Union\\'s seven-year €1 trillion budget proposal and €750 billion recovery plan \"Next Generation EU\" which seeks to reserve 25% of EU spending for climate-friendly expenditure.[673][674][675]\\nHowever, the outbreak has also provided cover for illegal activities such as deforestation of the Amazon rainforest[676][677] and poaching in Africa,[678][679] hindered environmental diplomacy efforts,[680] and created economic fallout that some predict will slow investment in green energy technologies.[681]\\n\\n\\nXenophobia and racism\\nMain article: List of incidents of xenophobia and racism related to the COVID-19 pandemic\\nSince the start of the outbreak, heightened prejudice, xenophobia, and racism have been documented around the world toward people of Chinese and East Asian descent.[682][683][684] Reports from February (when most cases were confined to China) documented racist sentiments expressed in groups worldwide about Chinese people \\'deserving\\' the virus.[685][686][687] Chinese people and other Asian in the United Kingdom and United States have reported increasing levels of racist abuse and assaults.[688][689][690] U.S. President Donald Trump has been criticised for referring to the coronavirus as the \"Chinese Virus\" and \"Kung Flu\", which has been widely condemned as racist and xenophobic.[691][692][693] On 14 March, an Asian family, including a two-year-old girl, was attacked at knifepoint in Texas in what the FBI has called a COVID-19 related hate crime.[694]\\nFollowing the progression of the outbreak to new hotspot countries, people from Italy (the first country in Europe to experience a serious outbreak of COVID-19) were also subjected to suspicion and xenophobia,[695][696] as were people from hotspots in other countries. Discrimination against Muslims in India escalated after public health authorities identified an Islamic missionary (Tablighi Jamaat) group\\'s gathering in New Delhi in early March 2020 as a source of spread.[697] Paris has seen riots break out over police treatment of ethnic minorities during the coronavirus lockdown.[698] Racism and xenophobia towards southern and south east Asians increased in the Arab states of the Persian Gulf.[699][700][701] South Korea\\'s LGBTQ community was blamed by some for the spread of COVID-19 in Seoul.[702][703] In China, some people of African descent  were evicted from their homes and told to leave China within 24 hours, due to disinformation that they and other foreigners were spreading the virus.[704] This racism and xenophobia was criticised by foreign governments and diplomatic corps and the Chinese ambassador to Zimbabwe.[705]\\n\\nInformation dissemination\\nFurther information: Media coverage of the COVID-19 pandemic, Impact of the COVID-19 pandemic on social media, and Impact of the COVID-19 pandemic on journalism\\nOngoing COVID-19 research is indexed and searchable in the NIH COVID-19 Portfolio.[706] Some newspaper agencies removed their online paywalls for some or all of their coronavirus-related articles and posts,[707] while scientific publishers made scientific papers related to the outbreak available with open access.[708][709] Some scientists chose to share their results quickly on preprint servers such as bioRxiv.[710]\\n\\n Misinformation\\nMain article: Misinformation related to the COVID-19 pandemic\\n\\nThe pandemic has resulted in misinformation and conspiracy theories about the scale of the pandemic and the origin, prevention, diagnosis, and treatment of the disease. False information, including intentional disinformation, has been spread through social media, text messaging,[711] and mass media. Journalists have been arrested for allegedly spreading fake news about the pandemic. It has also been propagated by celebrities, politicians, and other prominent public figures. A Cornell University study found that US President Donald Trump was \"likely the largest driver\" of the COVID-19 misinformation infodemic in English-language media.[712]\\nCommercial scams have claimed to offer at-home tests, supposed preventives, and \"miracle\" cures.[713] Several religious groups have claimed their faith will protect them from the virus.[714]  Some people have claimed the virus is a bioweapon accidentally or purposefully leaked from a laboratory, a population control scheme, the result of a spy operation, or the side effect of 5G upgrades to cellular networks.[715]\\n\\nThe WHO has declared an \"infodemic\" of incorrect information about the virus, which poses risks to global health.[716]\\nSee also\\n\\nEmerging infectious disease\\nGlobalisation and disease\\nImmune system\\nList of epidemics and pandemics\\nTimeline of the COVID-19 pandemic\\nZoonosis\\nWuhan files\\nNotes\\n\\n^ In summary, this article is about the coronavirus pandemic, which is caused by the disease COVID‑19, which in turn is caused by the virus SARS‑CoV‑2.\\n\\n^ Known as \"close contact\" which is variously defined, including within ~1.8 metres (six feet) by the US Centers for Disease Control and Prevention (CDC), and being face to face for a cumulative total of 15 minutes,[6] or either 15 minutes of face to face proximity or sharing an enclosed space for a prolonged period such as two hours by the Australian Health Department.[7][8]\\n\\n^ This CDC best estimate (current as of 10 September) was derived from a paper in PLOS Medicine that estimated a range of IFR across several areas in Europe, from 0.5% (95% CrI 0.4%–0.6%) in Switzerland to 1.4% (95% CrI 1.1%–1.6%) in Lombardy, Italy (based on data through mid-to-late April).[62] Regarding the differences across the regions, the European researchers noted \"the importance of local factors ... including demographic characteristics\" and \"the lower degree of preparedness and health service capacity in northern Italy, which in Europe was affected first by the SARS-CoV-2 epidemic.\"[62]\\n\\n^ The overall value was corrected from 0.27% to account for \"the fact that only one or two types of antibodies (among IgG, IgM, IgA) might have been used\" in testing.\\n\\n^ One set of national statistics for England (ONS) shows a decrease in IFR from 2.63% to 0.49%; another (MRC) from 0.69% to 0.30%, both over eight weeks ending 4 August.\\n\\n^ Some refer to \\'fatality rate\\'; however \\'fatality ratio\\' is more accurate as this is not per unit time.[71]\\n\\n^ A lack of mass testing obscured the extent of the outbreak.[465]\\n\\n^ The earliest deaths were not known to be caused by COVID-19 until April.\\n\\n\\nReferences\\n\\n\\n^ .mw-parser-output cite.citation{font-style:inherit}.mw-parser-output .citation q{quotes:\"\\\\\"\"\"\\\\\"\"\"\\'\"\"\\'\"}.mw-parser-output .id-lock-free a,.mw-parser-output .citation .cs1-lock-free a{background:linear-gradient(transparent,transparent),url(\"//upload.wikimedia.org/wikipedia/commons/6/65/Lock-green.svg\")right 0.1em center/9px no-repeat}.mw-parser-output .id-lock-limited a,.mw-parser-output .id-lock-registration a,.mw-parser-output .citation .cs1-lock-limited a,.mw-parser-output .citation .cs1-lock-registration a{background:linear-gradient(transparent,transparent),url(\"//upload.wikimedia.org/wikipedia/commons/d/d6/Lock-gray-alt-2.svg\")right 0.1em center/9px no-repeat}.mw-parser-output .id-lock-subscription a,.mw-parser-output .citation .cs1-lock-subscription a{background:linear-gradient(transparent,transparent),url(\"//upload.wikimedia.org/wikipedia/commons/a/aa/Lock-red-alt-2.svg\")right 0.1em center/9px no-repeat}.mw-parser-output .cs1-subscription,.mw-parser-output .cs1-registration{color:#555}.mw-parser-output .cs1-subscription span,.mw-parser-output .cs1-registration span{border-bottom:1px dotted;cursor:help}.mw-parser-output .cs1-ws-icon a{background:linear-gradient(transparent,transparent),url(\"//upload.wikimedia.org/wikipedia/commons/4/4c/Wikisource-logo.svg\")right 0.1em center/12px no-repeat}.mw-parser-output code.cs1-code{color:inherit;background:inherit;border:none;padding:inherit}.mw-parser-output .cs1-hidden-error{display:none;font-size:100%}.mw-parser-output .cs1-visible-error{font-size:100%}.mw-parser-output .cs1-maint{display:none;color:#33aa33;margin-left:0.3em}.mw-parser-output .cs1-format{font-size:95%}.mw-parser-output .cs1-kern-left,.mw-parser-output .cs1-kern-wl-left{padding-left:0.2em}.mw-parser-output .cs1-kern-right,.mw-parser-output .cs1-kern-wl-right{padding-right:0.2em}.mw-parser-output .citation .mw-selflink{font-weight:inherit}\"Coronavirus very likely of animal origin, no sign of lab manipulation: WHO\". Reuters. 21 April 2020. Retrieved 23 April 2020.\\n\\n^ Lau SK, Luk HK, Wong AC, Li KS, Zhu L, He Z,  et\\xa0al. (April 2020). \"Possible Bat Origin of Severe Acute Respiratory Syndrome Coronavirus 2\". Emerging Infectious Diseases. U.S. Centers for Disease Control and Prevention (CDC). 26 (7): 1542–1547. doi:10.3201/eid2607.200092. ISSN\\xa01080-6059. OCLC\\xa01058036512. PMC\\xa07323513. PMID\\xa032315281. S2CID\\xa0216073459.\\n\\n^ a b \"Novel Coronavirus – China\". World Health Organization (WHO). Retrieved 9 April 2020.\\n\\n^ a b c d e f g h i \"COVID-19 Dashboard by the Center for Systems Science and Engineering (CSSE) at Johns Hopkins University (JHU)\". ArcGIS. Johns Hopkins University. Retrieved 19 January 2021.\\n\\n^ \"WHO: 10% of world\\'s people may have been infected with virus\". AP NEWS. 5 October 2020. Retrieved 12 November 2020.\\n\\n^ CDC. \"Coronavirus Disease 2019 (COVID-19)\". Centers for Disease Control and Prevention. Retrieved 22 October 2020.\\n\\n^ \"Quarantine for coronavirus (COVID-19)\". Australian Government Department of Health. Retrieved 25 September 2020.\\n\\n^ \"How COVID-19 Spreads\". U.S. Centers for Disease Control and Prevention (CDC). 18 September 2020. Archived from the original on 19 September 2020. Retrieved 20 September 2020.\\n\\n^ CDC (11 February 2020). \"Coronavirus Disease 2019 (COVID-19)\". Centers for Disease Control and Prevention. Retrieved 6 December 2020.\\n\\n^ \"The Great Lockdown: Worst Economic Downturn Since the Great Depression\". IMF Blog. Retrieved 23 April 2020.\\n\\n^ Lee J, Yadav M. \"The Rise of Anti-Asian Hate in the Wake of Covid-19\". Social Science Research Council. Social Science Research Council. Retrieved 3 July 2020.\\n\\n^ Sun J, He W, Wang L, Lai A, Ji X, Zhai X,  et\\xa0al. (2020). \"COVID-19: Epidemiology, Evolution, and Cross-Disciplinary Perspectives\". Trends in Molecular Medicine. 26 (5): 483–495. doi:10.1016/j.molmed.2020.02.008. PMC\\xa07118693. PMID\\xa032359479.\\n\\n^ Adhanom, Tedros. \"WHO Director-General\\'s remarks at the media briefing on 2019-nCoV on 11 February 2020\". World Health Organization (WHO). Retrieved 24 October 2020.\\n\\n^ Jr, Berkeley Lovelace (11 February 2020). \"World Health Organization names the new coronavirus: COVID-19\". CNBC. Retrieved 23 October 2020.\\n\\n^ Perlman S (February 2020). \"Another Decade, Another Coronavirus\". The New England Journal of Medicine. 382 (8): 760–762. doi:10.1056/NEJMe2001126. PMC\\xa07121143. PMID\\xa031978944.\\n\\n^ Cyranoski D (March 2020). \"Mystery deepens over animal source of coronavirus\". Nature. 579 (7797): 18–19. Bibcode:2020Natur.579...18C. doi:10.1038/d41586-020-00548-w. PMID\\xa032127703. S2CID\\xa0211836524.\\n\\n^ Zhang T, Wu Q, Zhang Z (April 2020). \"Probable Pangolin Origin of SARS‑CoV‑2 Associated with the COVID-19 Outbreak\". Current Biology. 30 (7): 1346–1351.e2. doi:10.1016/j.cub.2020.03.022. PMC\\xa07156161. PMID\\xa032197085.\\n\\n^ \"Outbreak of severe acute respiratory syndrome coronavirus 2 (SARS‑CoV‑2): increased transmission beyond China – fourth update\" (PDF). European Centre for Disease Prevention and Control. 14 February 2020. Retrieved 8 March 2020.\\n\\n^ \"The COVID-19 coronavirus epidemic has a natural origin, scientists say – Scripps Research\\'s analysis of public genome sequence data from SARS‑CoV‑2 and related viruses found no evidence that the virus was made in a laboratory or otherwise engineered\". EurekAlert!. Scripps Research Institute. 17 March 2020. Retrieved 15 April 2020.\\n\\n^ Andersen KG, Rambaut A, Lipkin WI, Holmes EC, Garry RF (April 2020). \"The proximal origin of SARS-CoV-2\". Nature Medicine. 26 (4): 450–452. doi:10.1038/s41591-020-0820-9. PMC\\xa07095063. PMID\\xa032284615.\\n\\n^ Cohen J (January 2020). \"Wuhan seafood market may not be source of novel virus spreading globally\". Science. doi:10.1126/science.abb0611.\\n\\n^ Wang C, Horby PW, Hayden FG, Gao GF (February 2020). \"A novel coronavirus outbreak of global health concern\". Lancet. 395 (10223): 470–473. doi:10.1016/S0140-6736(20)30185-9. PMC\\xa07135038. PMID\\xa031986257.\\n\\n^ Ma J (13 March 2020). \"Coronavirus: China\\'s first confirmed Covid-19 case traced back to November 17\". South China Morning Post. Archived from the original on 13 March 2020. Retrieved 16 March 2020.\\n\\n^ a b Huang C, Wang Y, Li X, Ren L, Zhao J, Hu Y,  et\\xa0al. (24 January 2020). \"Clinical features of patients infected with 2019 novel coronavirus in Wuhan, China\". Lancet. 395 (10223): 497–506. doi:10.1016/S0140-6736(20)30183-5. PMC\\xa07159299. PMID\\xa031986264.\\n\\n^ Joseph A (24 January 2020). \"New coronavirus can cause infections with no symptoms and sicken otherwise healthy people, studies show\". Stat. Archived from the original on 24 January 2020. Retrieved 27 January 2020.\\n\\n^ Chan JF, Yuan S, Kok KH, To KK, Chu H, Yang J,  et\\xa0al. (February 2020). \"A familial cluster of pneumonia associated with the 2019 novel coronavirus indicating person-to-person transmission: a study of a family cluster\". Lancet. 395 (10223): 514–523. doi:10.1016/S0140-6736(20)30154-9. PMC\\xa07159286. PMID\\xa031986261.\\n\\n^ Duarte F (24 February 2020). \"As the cases of coronavirus increase in China and around the world, the hunt is on to identify \"patient zero\"\". BBC News. Retrieved 22 March 2020.\\n\\n^ Kelland K (6 May 2020). \"New coronavirus spread swiftly around world from late 2019, study finds\". Reuters. Retrieved 10 September 2020.\\n\\n^ \"Laboratory testing for 2019 novel coronavirus (2019-nCoV) in suspected human cases\". World Health Organization (WHO). Retrieved 30 March 2020.\\n\\n^ \"Total tests for COVID-19 per 1,000 people\". Our World in Data. Retrieved 16 April 2020.\\n\\n^ Sevillano EG, Linde P, Vizoso S (23 March 2020). \"640,000 rapid coronavirus tests arrive in Spain\". EL PAÍS. Retrieved 2 April 2020.\\n\\n^ \"Special Report: Italy and South Korea virus outbreaks reveal disparity in deaths and tactics\". Reuters. 13 March 2020. Retrieved 30 March 2020.\\n\\n^ Li R, Pei S, Chen B, Song Y, Zhang T, Yang W, Shaman J (March 2020). \"Substantial undocumented infection facilitates the rapid dissemination of novel coronavirus (SARS-CoV2)\". Science. 368 (6490): 489–493. Bibcode:2020Sci...368..489L. doi:10.1126/science.abb3221. PMC\\xa07164387. PMID\\xa032179701.\\n\\n^ \"Report 13 – Estimating the number of infections and the impact of non-pharmaceutical interventions on COVID-19 in 11 European countries\". Imperial College London. Retrieved 7 April 2020.\\n\\n^ Lau H, Khosrawipour V, Kocbach P, Mikolajczyk A, Ichii H, Schubert J,  et\\xa0al. (March 2020). \"Internationally lost COVID-19 cases\". Journal of Microbiology, Immunology, and Infection = Wei Mian Yu Gan Ran Za Zhi. 53 (3): 454–458. doi:10.1016/j.jmii.2020.03.013. PMC\\xa07102572. PMID\\xa032205091.\\n\\n^ Streeck H (9 April 2020). \"Vorläufiges Ergebnis und Schlussfolgerungen der COVID-19 Case-Cluster-Study (Gemeinde Gangelt)\" (PDF). Land NRW – State of North Rhine-Westphalia. Retrieved 13 April 2020.\\n\\n^ Sutton D, Fuchs K, D\\'Alton M, Goffman D (April 2020). \"Universal Screening for SARS-CoV-2 in Women Admitted for Delivery\". The New England Journal of Medicine. 0 (22): 2163–2164. doi:10.1056/NEJMc2009316. PMC\\xa07175422. PMID\\xa032283004.\\n\\n^ \"Dutch study suggests 3% of population may have coronavirus antibodies\". Reuters. 16 April 2020. Retrieved 20 April 2020.\\n\\n^ \"Interactive Serology Dashboard for Commercial Laboratory Surveys\". cdc.gov. 21 July 2020. Retrieved 24 July 2020.\\n\\n^ Vogel G (21 April 2020). \"Antibody surveys suggesting vast undercount of coronavirus infections may be unreliable\". Science. doi:10.1126/science.abc3831. S2CID\\xa0218794298.\\n\\n^ \"China: age distribution of novel coronavirus patients 2020\". Statista. Retrieved 11 April 2020.\\n\\n^ Scott D (23 March 2020). \"The Covid-19 risks for different age groups, explained\". Vox. Retrieved 12 April 2020.\\n\\n^ Bi, Qifang; Wu, Yongsheng; Mei, Shujiang; Ye, Chenfei; Zou, Xuan; Zhang, Zhen; Liu, Xiaojian; Wei, Lan; Truelove, Shaun A; Zhang, Tong; Gao, Wei; Cheng, Cong; Tang, Xiujuan; Wu, Xiaoliang; Wu, Yu; Sun, Binbin; Huang, Suli; Sun, Yu; Zhang, Juncen; Ma, Ting; Lessler, Justin; Feng, Tiejian (August 2020). \"Epidemiology and transmission of COVID-19 in 391 cases and 1286 of their close contacts in Shenzhen, China: a retrospective cohort study\". The Lancet Infectious Diseases. 20 (8): 911–919. doi:10.1016/S1473-3099(20)30287-5. PMC\\xa07185944. PMID\\xa032353347.\\n\\n^ \"Statement on the meeting of the International Health Regulations (2005) Emergency Committee regarding the outbreak of novel coronavirus 2019 (n-CoV) on 23 January 2020\". World Health Organization (WHO). Retrieved 9 April 2020.\\n\\n^ Sanche S, Lin YT, Xu C, Romero-Severson E, Hengartner N, Ke R (April 2020). \"High Contagiousness and Rapid Spread of Severe Acute Respiratory Syndrome Coronavirus 2\". Emerging Infectious Diseases. 26 (7): 1470–1477. doi:10.3201/eid2607.200282. PMC\\xa07323562. PMID\\xa032255761. S2CID\\xa0215410037.\\n\\n^ Roberts L (8 May 2020). \"The importance of the coronavirus R rate in other countries across the globe\". The Telegraph. Retrieved 14 May 2020.\\n\\n^ a b c \"European Centre for Disease Prevention and Control\". Retrieved 31 December 2020.\\n\\n^ \"Italy\\'s coronavirus deaths could be underestimated in data: Official\". Reuters. 31 March 2020.\\n\\n^ \"Coronavirus: Is Covid-19 really the cause of all the fatalities in Italy?\". Stuff. Retrieved 16 April 2020.\\n\\n^ Wu J, McCann A, Katz J, Peltier E. \"28,000 Missing Deaths: Tracking the True Toll of the Coronavirus Crisis\". The New York Times. ISSN\\xa00362-4331. Retrieved 22 April 2020.\\n\\n^ \"Tracking covid-19 excess deaths across countries\". The Economist. ISSN\\xa00013-0613. Retrieved 22 April 2020.\\n\\n^ \"What \\'Excess Deaths\\' Do and Don\\'t Tell Us About COVID-19\". Reason. 29 April 2020. Retrieved 4 May 2020.\\n\\n^ \"Coronavirus Death Toll Climbs in China, and a Lockdown Widens\". The New York Times. 23 January 2020. Archived from the original on 6 February 2020. Retrieved 10 February 2020.\\n\\n^ Ramzy A, May T (2 February 2020). \"Philippines Reports First Coronavirus Death Outside China\". The New York Times. Archived from the original on 3 February 2020. Retrieved 4 February 2020.\\n\\n^ Fuller, Thomas; Baker, Mike (7 May 2020). \"Coronavirus Death in California Came Weeks Before First Known U.S. Death\". The New York Times. Retrieved 15 September 2020.\\n\\n^ Rothan HA, Byrareddy SN (May 2020). \"The epidemiology and pathogenesis of coronavirus disease (COVID-19) outbreak\". Journal of Autoimmunity. 109: 102433. doi:10.1016/j.jaut.2020.102433. PMC\\xa07127067. PMID\\xa032113704.\\n\\n^ \"Who\\'s at higher risk from coronavirus (COVID-19)\". nhs.uk. 2 June 2020. Retrieved 23 October 2020.\\n\\n^ a b \"COVID–19 Alert No. 2\" (PDF). CDC. 24 March 2020. Retrieved 30 September 2020.\\n\\n^ \"Emergency use ICD codes for COVID-19 disease outbreak\". www.who.int. Retrieved 23 November 2020.\\n\\n^ \"International Guidelines for Certification and Classification (Coding) of Covid-19 as Cause of Death\" (PDF). World Health Organization (WHO). 16 April 2020. Retrieved 3 October 2020.\\n\\n^ \"International Statistical Classification of Diseases and Related Health Problems 10th Revision\". World Health Organization (WHO). 16 April 2020. Retrieved 4 October 2020.\\n\\n^ a b c d Hauser, Anthony; Counotte, Michel J.; Margossian, Charles C.; Konstantinoudis, Garyfallos; Low, Nicola; Althaus, Christian L.; Riou, Julien (28 July 2020). \"Estimation of SARS-CoV-2 mortality during the early stages of an epidemic: A modeling study in Hubei, China, and six regions in Europe\". PLOS Medicine. 17 (7): e1003189. doi:10.1371/journal.pmed.1003189. PMC\\xa07386608. PMID\\xa032722715.\\n\\n^ \"Principles of Epidemiology | Lesson 3 – Section 3\". U.S. Centers for Disease Control and Prevention (CDC). 18 February 2019. Retrieved 28 March 2020.\\n\\n^ \"The Best Global Responses to the COVID-19 Pandemic\". Time. Retrieved 18 August 2020.\\n\\n^ Barrio PL (11 May 2020). \"Portugal and Spain: same peninsula, very different coronavirus impact\". EL PAÍS. Retrieved 25 May 2020.\\n\\n^ Johnson M (5 April 2020). \"Fewer deaths in Veneto offer clues for fight against virus\". Financial Times. Retrieved 25 May 2020.\\n\\n^ Ritchie H, Roser M (25 March 2020).  Chivers T (ed.). \"What do we know about the risk of dying from COVID-19?\". Our World in Data. Retrieved 28 March 2020.\\n\\n^ \"Why Belgium\\'s Death Rate Is So High: It Counts Lots Of Suspected COVID-19 Cases\". NPR. Retrieved 25 April 2020.\\n\\n^ Lazzerini M, Putoto G (March 2020). \"COVID-19 in Italy: momentous decisions and many uncertainties\". The Lancet. Global Health. 0 (5): e641–e642. doi:10.1016/S2214-109X(20)30110-8. PMC\\xa07104294. PMID\\xa032199072.\\n\\n^ Tate, Nick. \"What Changing Death Rates Tell Us About COVID-19\". WebMD. Retrieved 19 September 2020.\\n\\n^ a b c d \"Estimating mortality from COVID-19\". www.who.int. 4 August 2020. Retrieved 21 September 2020.\\n\\n^ CDC (11 February 2020). \"Coronavirus Disease 2019 (COVID-19)\". Centers for Disease Control and Prevention. Retrieved 19 September 2020.\\n\\n^ Mallapaty S (16 June 2020). \"How deadly is the coronavirus? Scientists are close to an answer\". Nature. 582 (7813): 467–468. Bibcode:2020Natur.582..467M. doi:10.1038/d41586-020-01738-2. PMID\\xa032546810. S2CID\\xa0219726496.\\n\\n^ Alwan N, Burgess R, Ashworth S, Beale R, Bhadelia N, Bogaert D, Dowd J, Eckerle I, Goldman L, Greenhalgh T, Gurdasani D, Hamdy A, Hanage W, Hodcroft E, Hyde Z, Kellam P, Kelly-Irving M, Krammer F, Lipsitch M, McNally A, McKee M, Nouri A, Pimenta D, Priesemann V, Rutter H, Silver J, Sridhar D, Swanton C, Walensky R, Yamey G, Ziauddeen H (31 October 2020). \"Scientific consensus on the COVID-19 pandemic: we need to act now\". The Lancet. 396 (10260): E71–E72. doi:10.1016/S0140-6736(20)32153-X. PMC\\xa07557300. PMID\\xa033069277.\\n\\n^ Meyerowitz-Katz G, Merone L (December 2020). \"A systematic review and meta-analysis of published research data on COVID-19 infection fatality rates\". International Journal of Infectious Diseases. 101: 138–148. doi:10.1016/j.ijid.2020.09.1464. PMC\\xa07524446. PMID\\xa033007452.\\n\\n^ Yang W, Kandula S, Huynh M, Greene S, Van Wye G, Li W, Chan H, McGibbon E, Yeung A, Olson D, Fine A, Shaman J (19 October 2020). \"Estimating the infection-fatality risk of SARS-CoV-2 in New York City during the spring 2020 pandemic wave: a model-based analysis\". Lancet Infectious Diseases. doi:10.1016/S1473-3099(20)30769-6. PMC\\xa07572090. PMID\\xa033091374.\\n\\n^ Pastor-Barriuso R, Pérez-Gómez B, Hernán M, Pérez-Olmeda M, Yotti R, Oteo-Iglesias J, Sanmartín J, León-Gómez I, Fernández-García A, Fernández-Navarro P, Cruz I, Martín M, Delgado-Sanz C, Fernández N, León J, Muñoz-Montalvo J, Blanco F, Larrauri A, Pollán M (27 November 2020). \"Infection fatality risk for SARS-CoV-2 in community dwelling population of Spain: nationwide seroepidemiological study\". British Medical Journal. 371: m4509. doi:10.1136/bmj.m4509. PMC\\xa07690290. PMID\\xa033246972.\\n\\n^ Verity, Robert; Okell, Lucy C; Dorigatti, Ilaria; Winskill, Peter; Whittaker, Charles; Imai, Natsuko; Cuomo-Dannenburg, Gina; Thompson, Hayley; Walker, Patrick G T; Fu, Han; Dighe, Amy; Griffin, Jamie T; Baguelin, Marc; Bhatia, Sangeeta; Boonyasiri, Adhiratha; Cori, Anne; Cucunubá, Zulma; FitzJohn, Rich; Gaythorpe, Katy; Green, Will; Hamlet, Arran; Hinsley, Wes; Laydon, Daniel; Nedjati-Gilani, Gemma; Riley, Steven; van Elsland, Sabine; Volz, Erik; Wang, Haowei; Wang, Yuanrong; Xi, Xiaoyue; Donnelly, Christl A; Ghani, Azra C; Ferguson, Neil M (June 2020). \"Estimates of the severity of coronavirus disease 2019: a model-based analysis\". The Lancet Infectious Diseases. 20 (6): 669–677. doi:10.1016/S1473-3099(20)30243-7. PMC\\xa07158570. PMID\\xa032240634.\\n\\n^ Fox, Justin (24 April 2020). \"The Coronavirus Isn\\'t Just the Flu\". Bloomberg.\\n\\n^ \"COVID-19 Pandemic Planning Scenarios\" (PDF). CDC. 10 July 2020. Retrieved 29 September 2020.\\n\\n^ Meyerowitz-Katz, Gideon; Merone, Lea (7 July 2020). \"A systematic review and meta-analysis of published research data on COVID-19 infection-fatality rates\". MedRxiv. 101: 138–148. doi:10.1101/2020.05.03.20089854. PMC\\xa07524446. PMID\\xa033007452.\\n\\n^ a b \"COVID-19 Pandemic Planning Scenarios | CDC\". 12 September 2020. Archived from the original on 12 September 2020. Retrieved 23 September 2020.\\n\\n^ Lisboa Bastos, Mayara; Tavaziva, Gamuchirai; Abidi, Syed Kunal; Campbell, Jonathon R; Haraoui, Louis-Patrick; Johnston, James C; Lan, Zhiyi; Law, Stephanie; MacLean, Emily; Trajman, Anete; Menzies, Dick; Benedetti, Andrea; Ahmad Khan, Faiz (1 July 2020). \"Diagnostic accuracy of serological tests for covid-19: systematic review and meta-analysis\". BMJ. 370: m2516. doi:10.1136/bmj.m2516. PMC\\xa07327913. PMID\\xa032611558.\\n\\n^ Spencer, Elizabeth; Henighan, Carl (1 September 2020). \"Overview of BMJ: Diagnostic accuracy of serological tests for covid-19: systematic review and meta-analysis\". CEBM. Retrieved 24 September 2020.\\n\\n^ Spencer, Elizabeth; Jefferson, Tom; Brassey, Jon; Heneghan, Carl (11 September 2020). \"When is Covid, Covid?\". CEBM. Retrieved 19 September 2020.\\n\\n^ Jefferson, Tom; Spencer, Elizabeth; Brassey, Jon; Heneghan, Carl (3 September 2020). \"Viral cultures for COVID-19 infectivity assessment. Systematic review\". MedRxiv: 2020.08.04.20167932. doi:10.1101/2020.08.04.20167932. S2CID\\xa0220962177.\\n\\n^ Ioannidis, John P A (14 October 2020). \"Infection fatality rate of COVID-19 inferred from seroprevalence data\" (PDF). WHO. Retrieved 14 October 2020.\\n\\n^ Keaten, Jamey (5 October 2020). \"WHO: 10% of world\\'s people may have been infected with virus\". AP NEWS. Retrieved 20 October 2020.\\n\\n^ Oke, Jason; Heneghan, Carl (7 October 2020). \"Global Covid-19 Case Fatality Rates\". Centre for Evidence-Based Medicine. Archived from the original on 8 October 2020. Retrieved 14 October 2020.\\n\\n^ Howdon, Daniel; Oke, Jason; Heneghan, Carl (21 August 2020). \"Estimating the infection fatality ratio in England\". CEBM. Retrieved 19 September 2020.\\n\\n^ Heneghan, Prof Carl; Jefferson, Tom (1 September 2020). \"Coronavirus cases are mounting but deaths remain stable. Why?\". spectator.co.uk. Retrieved 19 September 2020.\\n\\n^ O’Driscoll, Megan; Ribeiro Dos Santos, Gabriel; Wang, Lin; Cummings, Derek A. T.; Azman, Andrew S.; Paireau, Juliette; Fontanet, Arnaud; Cauchemez, Simon; Salje, Henrik (2 November 2020). \"Age-specific mortality and immunity patterns of SARS-CoV-2\". Nature: 1–6. doi:10.1038/s41586-020-2918-0. ISSN\\xa01476-4687. PMID\\xa033137809. S2CID\\xa0226244375.\\n\\n^ a b Levin A, Hanage W, Owusu-Boaitey N, Cochran K, Walsh S, Meyerowitz-Katz G (December 2020). \"Assessing the Age Specificity of Infection Fatality Rates for COVID-19: Systematic Review, Meta-Analysis, and Public Policy Implications\". European Journal of Epidemiology. 35 (12): 1123–1138. doi:10.1007/s10654-020-00698-1. PMC\\xa07721859. PMID\\xa033289900.\\n\\n^ \"Background paper on Covid-19 disease and vaccines: prepared by the Strategic Advisory Group of Experts (SAGE) on immunization working group on COVID-19 vaccines\". World Health Organization. 22 December 2020. hdl:10665/338095.\\n\\n^ \"Symptoms of Coronavirus\". U.S. Centers for Disease Control and Prevention (CDC). 13 May 2020. Archived from the original on 17 June 2020. Retrieved 18 June 2020.\\n\\n^ Grant MC, Geoghegan L, Arbyn M, Mohammed Z, McGuinness L, Clarke EL, Wade RG (23 June 2020). \"The prevalence of symptoms in 24,410 adults infected by the novel coronavirus (SARS-CoV-2; COVID-19): A systematic review and meta-analysis of 148 studies from 9 countries\". PLOS ONE. 15 (6): e0234765. Bibcode:2020PLoSO..1534765G. doi:10.1371/journal.pone.0234765. PMC\\xa07310678. PMID\\xa032574165. S2CID\\xa0220046286.\\n\\n^ \"Clinical characteristics of COVID-19\". European Centre for Disease Prevention and Control. Retrieved 29 December 2020.\\n\\n^ Bénézit, François; Le Turnier, Paul; Declerck, Charles; Paillé, Cécile; Revest, Matthieu; Dubée, Vincent; Tattevin, Pierre (2020). \"Utility of hyposmia and hypogeusia for the diagnosis of COVID-19\". The Lancet Infectious Diseases. 20 (9): 1014–1015. doi:10.1016/S1473-3099(20)30297-8. PMC\\xa07159866. PMID\\xa032304632. S2CID\\xa0215769604.\\n\\n^ \"Interim Clinical Guidance for Management of Patients with Confirmed Coronavirus Disease (COVID-19)\". U.S. Centers for Disease Control and Prevention (CDC). 6 April 2020. Archived from the original on 2 March 2020. Retrieved 19 April 2020.\\n\\n^ \"Transmission of COVID-19\". European Centre for Disease Prevention and Control. Retrieved 6 December 2020.\\n\\n^ Nogrady, Bianca (18 November 2020). \"What the data say about asymptomatic COVID infections\". Nature. 587 (7835): 534–535. doi:10.1038/d41586-020-03141-3. PMID\\xa033214725.\\n\\n^ a b Gao Z, Xu Y, Sun C, Wang X, Guo Y, Qiu S, Ma K (May 2020). \"A Systematic Review of Asymptomatic Infections with COVID-19\". Journal of Microbiology, Immunology, and Infection = Wei Mian Yu Gan Ran Za Zhi. doi:10.1016/j.jmii.2020.05.001. PMC\\xa07227597. PMID\\xa032425996.\\n\\n^ Oran, Daniel P., and Eric J. Topol. “Prevalence of Asymptomatic SARS-CoV-2 Infection\\xa0: A Narrative Review.” Annals of Internal Medicine. vol. 173,5 (2020): 362-367. doi:10.7326/M20-3012 PMID: 32491919 Retrieved 14 January 2021.\\n\\n^ Lai CC, Liu YH, Wang CY, Wang YH, Hsueh SC, Yen MY,  et\\xa0al. (June 2020). \"Asymptomatic carrier state, acute respiratory disease, and pneumonia due to severe acute respiratory syndrome coronavirus 2 (SARS-CoV-2): Facts and myths\". Journal of Microbiology, Immunology, and Infection = Wei Mian Yu Gan Ran Za Zhi. 53 (3): 404–412. doi:10.1016/j.jmii.2020.02.012. PMC\\xa07128959. PMID\\xa032173241.\\n\\n^ Furukawa NW, Brooks JT, Sobel J (July 2020). \"Evidence Supporting Transmission of Severe Acute Respiratory Syndrome Coronavirus 2 While Presymptomatic or Asymptomatic\". Emerging Infectious Diseases. 26 (7). doi:10.3201/eid2607.201595. PMC\\xa07323549. PMID\\xa032364890.\\n\\n^ Furukawa, Nathan W.; Brooks, John T.; Sobel, Jeremy (4 May 2020). \"Evidence Supporting Transmission of Severe Acute Respiratory Syndrome Coronavirus 2 While Presymptomatic or Asymptomatic\". Emerging Infectious Diseases. 26 (7). doi:10.3201/eid2607.201595. PMC\\xa07323549. PMID\\xa032364890. Retrieved 29 September 2020.\\n\\n^ a b Gandhi RT, Lynch JB, Del Rio C (April 2020). \"Mild or Moderate Covid-19\". The New England Journal of Medicine. 383 (18): 1757–1766. doi:10.1056/NEJMcp2009249. PMID\\xa032329974.\\n\\n^ Wiersinga WJ, Rhodes A, Cheng AC, Peacock SJ, Prescott HC (August 2020). \"Pathophysiology, Transmission, Diagnosis, and Treatment of Coronavirus Disease 2019 (COVID-19): A Review\". JAMA. 324 (8): 782–793. doi:10.1001/jama.2020.12839. PMID\\xa032648899. S2CID\\xa0220465311.\\n\\n^ \"Q&A: How is COVID-19 transmitted? (How is the virus that causes COVID-19 most commonly transmitted between people?)\". www.who.int. 9 July 2020. Retrieved 14 October 2020.\\n\\n^ \"Transmission of COVID-19\". www.ecdc.europa.eu. 7 September 2020. Retrieved 14 October 2020.\\n\\n^ \"Q & A on COVID-19: Basic facts\". www.ecdc.europa.eu. 25 September 2020. Retrieved 8 October 2020.\\n\\n^ \"How COVID-19 Spreads\". www.cdc.gov. 5 October 2020. Retrieved 7 October 2020.\\n\\n^ Gorbalenya AE, Baker SC, Baric RS, de Groot RJ, Drosten C, Gulyaeva AA,  et\\xa0al. (March 2020). \"The species Severe acute respiratory syndrome-related coronavirus: classifying 2019-nCoV and naming it SARS-CoV-2\". Nature Microbiology. 5 (4): 536–544. doi:10.1038/s41564-020-0695-z. PMC\\xa07095448. PMID\\xa032123347.\\n\\n^ \"Coronavirus disease named Covid-19\". BBC News Online. 11 February 2020. Archived from the original on 15 February 2020. Retrieved 15 February 2020.\\n\\n^ Surveillance case definitions for human infection with novel coronavirus (nCoV): interim guidance v1, January 2020 (Report). World Health Organization. January 2020. hdl:10665/330376. WHO/2019-nCoV/Surveillance/v2020.1.\\n\\n^ \"Healthcare Professionals: Frequently Asked Questions and Answers\". United States Centers for Disease Control and Prevention (CDC). 11 February 2020. Archived from the original on 14 February 2020. Retrieved 15 February 2020.\\n\\n^ \"About Novel Coronavirus (2019-nCoV)\". United States Centers for Disease Control and Prevention (CDC). 11 February 2020. Archived from the original on 11 February 2020. Retrieved 25 February 2020.\\n\\n^ Harmon A (4 March 2020). \"We Spoke to Six Americans with Coronavirus\". The New York Times. Archived from the original on 13 March 2020. Retrieved 16 March 2020.\\n\\n^ Wong, G.; Bi, Y. H.; Wang, Q. H.; Chen, X. W.; Zhang, Z. G.; Yao, Y. G. (2020). \"Zoonotic origins of human coronavirus 2019 (HCoV-19 / SARS-CoV-2): Why is this work important?\". Zoological Research. 41 (3): 213–219. doi:10.24272/j.issn.2095-8137.2020.031. PMC\\xa07231470. PMID\\xa032314559.\\n\\n^ Andersen KG, Rambaut A, Lipkin WI, Holmes EC, Garry RF (17 March 2020). \"Correspondence: The proximal origin of SARS-CoV-2\". Nature Medicine. 26 (4): 450–452. doi:10.1038/s41591-020-0820-9. PMC\\xa07095063. PMID\\xa032284615.\\n\\n^ van Doremalen N, Bushmaker T, Morris DH, Holbrook MG, Gamble A, Williamson BN,  et\\xa0al. (17 March 2020). \"Correspondence: Aerosol and Surface Stability of SARS-CoV-2 as Compared with SARS-CoV-1\". The New England Journal of Medicine. 382 (16): 1564–1567. doi:10.1056/NEJMc2004973. PMC\\xa07121658. PMID\\xa032182409.\\n\\n^ \"hCoV-19 Database\". China National GeneBank. Archived from the original on 17 June 2020. Retrieved 2 June 2020.\\n\\n^ Sanche, S.; Lin, Y. T.; Xu, C.; Romero-Severson, E.; Hengartner, E.; Ke, R. (July 2020). \"High Contagiousness and Rapid Spread of Severe Acute Respiratory Syndrome Coronavirus 2\". Emerging Infectious Diseases. 26 (7): 1470–1477. doi:10.3201/eid2607.200282. PMC\\xa07323562. PMID\\xa032255761.\\n\\n^ \"Q&A on coronaviruses (COVID-19)\". World Health Organization (WHO). 11 February 2020. Archived from the original on 20 January 2020. Retrieved 24 February 2020.\\n\\n^ \"How COVID-19 Spreads\". U.S. Centers for Disease Control and Prevention (CDC). 27 January 2020. Archived from the original on 28 January 2020. Retrieved 29 January 2020.\\n\\n^ Zhou P, Yang XL, Wang XG, Hu B, Zhang L, Zhang W,  et\\xa0al. (February 2020). \"A pneumonia outbreak associated with a new coronavirus of probable bat origin\". Nature. 579 (7798): 270–273. Bibcode:2020Natur.579..270Z. doi:10.1038/s41586-020-2012-7. PMC\\xa07095418. PMID\\xa032015507.\\n\\n^ Letko M, Marzi A, Munster V (February 2020). \"Functional assessment of cell entry and receptor usage for SARS-CoV-2 and other lineage B betacoronaviruses\". Nature Microbiology. 5 (4): 562–569. doi:10.1038/s41564-020-0688-y. PMC\\xa07095430. PMID\\xa032094589.\\n\\n^ Hoffman M, Kliene-Weber H, Krüger N, Herrler T, Erichsen S, Schiergens TS,  et\\xa0al. (16 April 2020). \"SARS-CoV-2 Cell Entry Depends on ACE2 and TMPRSS2 and Is Blocked by a Clinically Proven Protease Inhibitor\". Cell. 181 (2): 271–280.e8. doi:10.1016/j.cell.2020.02.052. PMC\\xa07102627. PMID\\xa032142651.\\n\\n^ Wu, Katherine J. (15 April 2020). \"There are more viruses than stars in the universe. Why do only some infect us? – More than a quadrillion quadrillion individual viruses exist on Earth, but most are not poised to hop into humans. Can we find the ones that are?\". National Geographic Society. Archived from the original on 23 April 2020. Retrieved 18 May 2020.\\n\\n^ \"2019 Novel Coronavirus (2019-nCoV) Situation Summary\". U.S. Centers for Disease Control and Prevention (CDC). 30 January 2020. Archived from the original on 26 January 2020. Retrieved 30 January 2020.\\n\\n^ \"Coronavirus disease (COVID-19) technical guidance: Laboratory testing for 2019-nCoV in humans\". World Health Organization (WHO). Archived from the original on 15 March 2020. Retrieved 14 March 2020.\\n\\n^ Bullard J, Dust K, Funk D, Strong JE, Alexander D, Garnett L,  et\\xa0al. (May 2020). \"Predicting infectious SARS-CoV-2 from diagnostic samples\". Clinical Infectious Diseases. doi:10.1093/cid/ciaa638. PMC\\xa07314198. PMID\\xa032442256.\\n\\n^ \"Interim Guidelines for Collecting, Handling, and Testing Clinical Specimens from Persons for Coronavirus Disease 2019 (COVID-19)\". U.S. Centers for Disease Control and Prevention (CDC). 11 February 2020. Archived from the original on 4 March 2020. Retrieved 26 March 2020.\\n\\n^ \"Real-Time RT-PCR Panel for Detection 2019-nCoV\". U.S. Centers for Disease Control and Prevention (CDC). 29 January 2020. Archived from the original on 30 January 2020. Retrieved 1 February 2020.\\n\\n^ \"Curetis Group Company Ares Genetics and BGI Group Collaborate to Offer Next-Generation Sequencing and PCR-based Coronavirus (2019-nCoV) Testing in Europe\". GlobeNewswire News Room. 30 January 2020. Archived from the original on 31 January 2020. Retrieved 1 February 2020.\\n\\n^ Brueck H (30 January 2020). \"There\\'s only one way to know if you have the coronavirus, and it involves machines full of spit and mucus\". Business Insider. Archived from the original on 1 February 2020. Retrieved 1 February 2020.\\n\\n^ \"Laboratory testing for 2019 novel coronavirus (2019-nCoV) in suspected human cases\". Archived from the original on 21 February 2020. Retrieved 26 February 2020.\\n\\n^ \"Laboratory testing for 2019 novel coronavirus (2019-nCoV) in suspected human cases\". World Health Organization (WHO). Archived from the original on 17 March 2020. Retrieved 13 March 2020.\\n\\n^ a b c Salehi S, Abedi A, Balakrishnan S, Gholamrezanezhad A (March 2020). \"Coronavirus Disease 2019 (COVID-19): A Systematic Review of Imaging Findings in 919 Patients\". AJR. American Journal of Roentgenology. 215 (1): 87–93. doi:10.2214/AJR.20.23034. PMID\\xa032174129.\\n\\n^ \"ACR Recommendations for the use of Chest Radiography and Computed Tomography (CT) for Suspected COVID-19 Infection\". American College of Radiology. 22 March 2020. Archived from the original on 28 March 2020.\\n\\n^ Pormohammad A, Ghorbani S, Khatami A, Razizadeh MH, Alborzi E, Zarei M,  et\\xa0al. (October 2020). \"Comparison of influenza type A and B with COVID-19: A global systematic review and meta-analysis on clinical, laboratory and radiographic findings\". Reviews in Medical Virology: e2179. doi:10.1002/rmv.2179. PMC\\xa07646051. PMID\\xa033035373. S2CID\\xa0222255245.\\n\\n^ Lee EY, Ng MY, Khong PL (April 2020). \"COVID-19 pneumonia: what has CT taught us?\". The Lancet. Infectious Diseases. 20 (4): 384–385. doi:10.1016/S1473-3099(20)30134-1. PMC\\xa07128449. PMID\\xa032105641.\\n\\n^ Li Y, Xia L (March 2020). \"Coronavirus Disease 2019 (COVID-19): Role of Chest CT in Diagnosis and Management\". AJR. American Journal of Roentgenology. 214 (6): 1280–1286. doi:10.2214/AJR.20.22954. PMID\\xa032130038. S2CID\\xa0212416282.\\n\\n^ \"Recommendation Regarding the Use of Cloth Face Coverings, Especially in Areas of Significant Community-Based Transmission\". U.S. Centers for Disease Control and Prevention (CDC). 28 June 2020.\\n\\n^ Centers for Disease Control and Prevention (3 February 2020). \"Coronavirus Disease 2019 (COVID-19): Prevention & Treatment\". Archived from the original on 15 December 2019. Retrieved 10 February 2020.\\n\\n^ World Health Organization. \"Advice for Public\". Archived from the original on 26 January 2020. Retrieved 10 February 2020.\\n\\n^ \"My Hand-Washing Song: Readers Offer Lyrics For A 20-Second Scrub\". NPR.org. Archived from the original on 20 March 2020. Retrieved 20 March 2020.\\n\\n^ \"Scientific Brief: SARS-CoV-2 and Potential Airborne Transmission\". COVID-19 Published Science and Research. U.S. Centers for Disease Control and Prevention (CDC). Retrieved 30 October 2020.\\n\\n^ Centers for Disease Control and Prevention (5 April 2020). \"What to Do if You Are Sick\". U.S. Centers for Disease Control and Prevention (CDC). Archived from the original on 14 February 2020. Retrieved 24 April 2020.\\n\\n^ \"Coronavirus Disease 2019 (COVID-19)\\xa0– Prevention & Treatment\". U.S. Centers for Disease Control and Prevention (CDC). 10 March 2020. Archived from the original on 11 March 2020. Retrieved 11 March 2020.\\n\\n^ \"UK medicines regulator gives approval for first UK COVID-19 vaccine\". Medicines and Healthcare Products Regulatory Agency, Government of the UK. 2 December 2020. Retrieved 2 December 2020.\\n\\n^ Benjamin Mueller (2 December 2020). \"U.K. Approves Pfizer Coronavirus Vaccine, a First in the West\". The New York Times. Retrieved 2 December 2020.\\n\\n^ \"COVID-19 Treatment Guidelines\". www.nih.gov. National Institutes of Health. Retrieved 21 April 2020.\\n\\n^ Sanders JM, Monogue ML, Jodlowski TZ, Cutrell JB (April 2020). \"Pharmacologic Treatments for Coronavirus Disease 2019 (COVID-19): A Review\". JAMA. 323 (18): 1824–1836. doi:10.1001/jama.2020.6019. PMID\\xa032282022.\\n\\n^ a b Anderson RM, Heesterbeek H, Klinkenberg D, Hollingsworth TD (March 2020). \"How will country-based mitigation measures influence the course of the COVID-19 epidemic?\". Lancet. 395 (10228): 931–934. doi:10.1016/S0140-6736(20)30567-5. PMC\\xa07158572. PMID\\xa032164834. A key issue for epidemiologists is helping policy makers decide the main objectives of mitigation—e.g. minimising morbidity and associated mortality, avoiding an epidemic peak that overwhelms health-care services, keeping the effects on the economy within manageable levels, and flattening the epidemic curve to wait for vaccine development and manufacture on scale and antiviral drug therapies.\\n\\n^ Wiles S (14 March 2020). \"After \\'Flatten the Curve\\', we must now \\'Stop the Spread\\'. Here\\'s what that means\". The Spinoff. Archived from the original on 26 March 2020. Retrieved 13 March 2020.\\n\\n^ \"COVID-19 vaccine development pipeline (Refresh URL to update)\". Vaccine Centre, London School of Hygiene and Tropical Medicine. 18 January 2021. Retrieved 18 January 2021.\\n\\n^ Beaumont, Peter (18 November 2020). \"Covid-19 vaccine: who are countries prioritising for first doses?\". The Guardian. ISSN\\xa00261-3077. Retrieved 26 December 2020.\\n\\n^ \"Coronavirus (COVID-19) Vaccinations\". Our World in Data. Retrieved 1 January 2021.\\n\\n^ Mullard, Asher (30 November 2020). \"How COVID vaccines are being divvied up around the world Canada leads the pack in terms of doses secured per capita\". Nature. doi:10.1038/d41586-020-03370-6. PMID\\xa033257891. S2CID\\xa0227246811. Retrieved 11 December 2020.\\n\\n^ So AD, Woo J (December 2020). \"Reserving coronavirus disease 2019 vaccines for global access: cross sectional analysis\". BMJ. 371: m4750. doi:10.1136/bmj.m4750. ISSN\\xa01756-1833. PMC\\xa07735431. PMID\\xa033323376.\\n\\n^ Azar A (4 February 2020). \"Notice of Declaration under the Public Readiness and Emergency Preparedness Act for medical countermeasures against COVID-19\". Archived from the original on 25 April 2020. Retrieved 22 April 2020.\\n\\n^ \"Fourth Amendment to the Declaration Under the Public Readiness and Emergency Preparedness Act for Medical Countermeasures Against COVID–19 and Republication of the Declaration\". www.phe.gov. Retrieved 12 December 2020.\\n\\n^ \"AstraZeneca coronavirus vaccine safe, 70% effective, study suggests\". Associated Press. 8 December 2020. Retrieved 8 December 2020.\\n\\n^ a b c d Siemieniuk, Reed AC; Bartoszko, Jessica J; Ge, Long; Zeraatkar, Dena; Izcovich, Ariel; Kum, Elena; Pardo-Hernandez, Hector; Rochwerg, Bram; Lamontagne, Francois; Han, Mi Ah; Liu, Qin; Agarwal, Arnav; Agoritsas, Thomas; Chu, Derek K; Couban, Rachel; Darzi, Andrea; Devji, Tahira; Fang, Bo; Fang, Carmen; Flottorp, Signe Agnes; Foroutan, Farid; Ghadimi, Maryam; Heels-Ansdell, Diane; Honarmand, Kimia; Hou, Liangying; Hou, Xiaorong; Ibrahim, Quazi; Khamis, Assem; Lam, Bonnie; Loeb, Mark; Marcucci, Maura; McLeod, Shelley L; Motaghi, Sharhzad; Murthy, Srinivas; Mustafa, Reem A; Neary, John D; Qasim, Anila; Rada, Gabriel; Riaz, Irbaz Bin; Sadeghirad, Behnam; Sekercioglu, Nigar; Sheng, Lulu; Sreekanta, Ashwini; Switzer, Charlotte; Tendal, Britta; Thabane, Lehana; Tomlinson, George; Turner, Tari; Vandvik, Per O; Vernooij, Robin WM; Viteri-García, Andrés; Wang, Ying; Yao, Liang; Ye, Zhikang; Guyatt, Gordon H; Brignardello-Petersen, Romina (30 July 2020). \"Drug treatments for covid-19: living systematic review and network meta-analysis\". BMJ. 370: m2980. doi:10.1136/bmj.m2980. ISSN\\xa01756-1833. PMC\\xa07390912. PMID\\xa032732190.\\n\\n^ a b \"Coronavirus\". WebMD. Archived from the original on 1 February 2020. Retrieved 1 February 2020.\\n\\n^ Fisher D, Heymann D (February 2020). \"Q&A: The novel coronavirus outbreak causing COVID-19\". BMC Medicine. 18 (1): 57. doi:10.1186/s12916-020-01533-w. PMC\\xa07047369. PMID\\xa032106852.\\n\\n^ Liu K, Fang YY, Deng Y, Liu W, Wang MF, Ma JP,  et\\xa0al. (May 2020). \"Clinical characteristics of novel coronavirus cases in tertiary hospitals in Hubei Province\". Chinese Medical Journal. 133 (9): 1025–1031. doi:10.1097/CM9.0000000000000744. PMC\\xa07147277. PMID\\xa032044814.\\n\\n^ Wang T, Du Z, Zhu F, Cao Z, An Y, Gao Y, Jiang B (March 2020). \"Comorbidities and multi-organ injuries in the treatment of COVID-19\". Lancet. Elsevier BV. 395 (10228): e52. doi:10.1016/s0140-6736(20)30558-4. PMC\\xa07270177. PMID\\xa032171074.\\n\\n^ Wang Y, Wang Y, Chen Y, Qin Q (March 2020). \"Unique epidemiological and clinical features of the emerging 2019 novel coronavirus pneumonia (COVID-19) implicate special control measures\". Journal of Medical Virology. n/a (n/a): 568–576. doi:10.1002/jmv.25748. PMC\\xa07228347. PMID\\xa032134116.\\n\\n^ Martel J, Ko YF, Young JD, Ojcius DM (May 2020). \"Could nasal breathing help to mitigate the severity of COVID-19\". Microbes and Infection. 22 (4–5): 168–171. doi:10.1016/j.micinf.2020.05.002. PMC\\xa07200356. PMID\\xa032387333.\\n\\n^ \"Coronavirus recovery: breathing exercises\". www.hopkinsmedicine.org. Johns Hopkins Medicine. Retrieved 30 July 2020.\\n\\n^ Wang L, Wang Y, Ye D, Liu Q (March 2020). \"Review of the 2019 novel coronavirus (SARS-CoV-2) based on current evidence\". International Journal of Antimicrobial Agents. 55 (6): 105948. doi:10.1016/j.ijantimicag.2020.105948. PMC\\xa07156162. PMID\\xa032201353. Archived from the original on 27 March 2020. Retrieved 27 March 2020.\\n\\n^ Centers for Disease Control and Prevention (5 April 2020). \"What to Do if You Are Sick\". Centers for Disease Control and Prevention (CDC). Archived from the original on 14 February 2020. Retrieved 24 April 2020.\\n\\n^ \"Update to living WHO guideline on drugs for covid-19\". BMJ (Clinical Research Ed.). 371: m4475. 19 November 2020. doi:10.1136/bmj.m4475. ISSN\\xa01756-1833. PMID\\xa033214213. S2CID\\xa0227059995.\\n\\n^ \"Q&A: Dexamethasone and COVID-19\". www.who.int. Retrieved 11 July 2020.\\n\\n^ \"Home\". National COVID-19 Clinical Evidence Taskforce. Retrieved 11 July 2020.\\n\\n^ \"COVID-19 Treatment Guidelines\". www.nih.gov. National Institutes of Health. Retrieved 18 January 2021.\\n\\n^ Guan WJ, Ni ZY, Hu Y, Liang WH, Ou CQ, He JX,  et\\xa0al. (April 2020). \"Clinical Characteristics of Coronavirus Disease 2019 in China\". The New England Journal of Medicine. Massachusetts Medical Society. 382 (18): 1708–1720. doi:10.1056/nejmoa2002032. PMC\\xa07092819. PMID\\xa032109013.\\n\\n^ Henry BM (April 2020). \"COVID-19, ECMO, and lymphopenia: a word of caution\". The Lancet. Respiratory Medicine. Elsevier BV. 8 (4): e24. doi:10.1016/s2213-2600(20)30119-3. PMC\\xa07118650. PMID\\xa032178774.\\n\\n^ a b Kim, Peter S.; Read, Sarah W.; Fauci, Anthony S. (1 December 2020). \"Therapy for Early COVID-19\". JAMA. American Medical Association (AMA). 324 (21): 2149–2150. doi:10.1001/jama.2020.22813. ISSN\\xa00098-7484. PMID\\xa033175121. S2CID\\xa0226301949.\\n\\n^ a b c \"COVID-19 Treatment Guidelines\". www.nih.gov. National Institutes of Health. Retrieved 18 January 2021./\\n\\n^ Hsu, Jeremy (19 November 2020). \"Covid-19: What now for remdesivir?\". BMJ. 371: m4457. doi:10.1136/bmj.m4457. ISSN\\xa01756-1833. PMID\\xa033214186. S2CID\\xa0227060756.\\n\\n^ Doshi P (2020). \"Will covid-19 vaccines save lives? Current trials aren\\'t designed to tell us\" (PDF). The BMJ. 371: m4037. doi:10.1136/bmj.m4037. PMID\\xa033087398.\\n\\n^ Report of the WHO-China Joint Mission on Coronavirus Disease 2019 (COVID-19) (PDF) (Report). World Health Organization (WHO). February 2020. Archived (PDF) from the original on 29 February 2020. Retrieved 21 March 2020. Lay summary.\\n\\n^ Palmieri L, Andrianou X, Barbariol P, Bella A, Bellino S, Benelli E,  et\\xa0al. (22 July 2020). Characteristics of SARS-CoV-2 patients dying in Italy Report based on available data on July 22nd, 2020 (PDF) (Report). Istituto Superiore di Sanità. Retrieved 4 October 2020.\\n\\n^ Baranovskii, D. S.; Klabukov, I. D.; Krasilnikova, O. A.; Nikogosov, D. A.; Polekhina, N. V.; Baranovskaia, D. R.; Laberko, L. A. (November 2020). \"Prolonged prothrombin time as an early prognostic indicator of severe acute respiratory distress syndrome in patients with COVID-19 related pneumonia\". Current Medical Research and Opinion: 1–8. doi:10.1080/03007995.2020.1853510. ISSN\\xa01473-4877. PMC\\xa07738209. PMID\\xa033210948. S2CID\\xa0227065216.\\n\\n^ Christensen, Bianca; Favaloro, Emmanuel J.; Lippi, Giuseppe; Van Cott, Elizabeth M. (October 2020). \"Hematology Laboratory Abnormalities in Patients with Coronavirus Disease 2019 (COVID-19)\". Seminars in Thrombosis and Hemostasis. 46 (7): 845–849. doi:10.1055/s-0040-1715458. ISSN\\xa01098-9064. PMC\\xa07645834. PMID\\xa032877961.\\n\\n^ \"Living with Covid19\". NIHR Themed Reviews. National Institute for Health Research. 15 October 2020. doi:10.3310/themedreview_41169.\\n\\n^ \"How long does COVID-19 last?\". UK COVID Symptom Study. 6 June 2020. Retrieved 15 October 2020.\\n\\n^ \"Summary of COVID-19 Long Term Health Effects: Emerging evidence and Ongoing Investigation\" (PDF). University of Washington. 1 September 2020. Retrieved 15 October 2020.\\n\\n^ news.UN.org 30. Oktober 2020: Long-term symptoms of COVID-19 \\'really concerning\\', says WHO chief\\n\\n^ Cirillo, Pasquale and Nassim Nicholas Taleb (2020). \"Tail Risk of Contagious Diseases\". Nature Physics. 16 (6): 606–613. arXiv:2004.08658. Bibcode:2020NatPh..16..606C. doi:10.1038/s41567-020-0921-x. S2CID\\xa0215828381.\\n\\n^ Flyvbjerg, Bent (2020). \"The Law of Regression to the Tail: How to Survive COVID-19, the Climate Crisis, and Other Disasters\". Environmental Science and Policy. 114: 614–618. doi:10.1016/j.envsci.2020.08.013. PMC\\xa07533687. PMID\\xa033041651 – via Elsevier Science Direct.\\n\\n^ a b c d Anderson RM, Heesterbeek H, Klinkenberg D, Hollingsworth TD (March 2020). \"How will country-based mitigation measures influence the course of the COVID-19 epidemic?\". Lancet. 395 (10228): 931–934. doi:10.1016/S0140-6736(20)30567-5. PMC\\xa07158572. PMID\\xa032164834. A key issue for epidemiologists is helping policy makers decide the main objectives of mitigation—e.g. minimising morbidity and associated mortality, avoiding an epidemic peak that overwhelms health-care services, keeping the effects on the economy within manageable levels, and flattening the epidemic curve to wait for vaccine development and manufacture on scale and antiviral drug therapies.\\n\\n^ Qualls N, Levitt A, Kanade N, Wright-Jegede N, Dopson S, Biggerstaff M,  et\\xa0al. (April 2017). \"Community Mitigation Guidelines to Prevent Pandemic Influenza – United States, 2017\". MMWR. Recommendations and Reports. 66 (1): 1–34. doi:10.15585/mmwr.rr6601a1. PMC\\xa05837128. PMID\\xa028426646.\\n\\n^ Barclay E, Scott D, Animashaun A (7 April 2020). \"The US doesn\\'t just need to flatten the curve. It needs to \"raise the line.\"\". Vox. Archived from the original on 7 April 2020.\\n\\n^ Wiles S (14 March 2020). \"After \\'Flatten the Curve\\', we must now \\'Stop the Spread\\'. Here\\'s what that means\". The Spinoff. Archived from the original on 26 March 2020. Retrieved 13 March 2020.\\n\\n^ \"Fever Screening | IntelliSEC | Durban, Johannesburg, Cape Town\". IntelliSEC.\\n\\n^ Baird RP (11 March 2020). \"What It Means to Contain and Mitigate the Coronavirus\". The New Yorker.\\n\\n^ a b \"Impact of non-pharmaceutical interventions (NPIs) to reduce COVID19 mortality and healthcare demand\" (PDF). Imperial College COVID-19 Response Team. 16 March 2020.\\n\\n^ \"Community Mitigation Guidelines to Prevent Pandemic Influenza – United States, 2017\". Recommendations and Reports. 66 (1). 12 April 2017.\\n\\n^ Qin, Amy (7 March 2020). \"China May Be Beating the Coronavirus, at a Painful Cost\". The New York Times.\\n\\n^ McCurry J, Ratcliffe R, Davidson H (11 March 2020). \"Mass testing, alerts and big fines: the strategies used in Asia to slow coronavirus\". The Guardian.\\n\\n^ \"Expert interview: What is contact tracing?\". Blog: Public Health Matters. Public Health England, Government of the United Kingdom. Retrieved 28 February 2020.\\n\\n^ a b c Ingram D, Ward J (7 April 2020). \"Behind the global efforts to make a privacy-first coronavirus tracking app\". NBC News. Retrieved 10 April 2020.\\n\\n^ \"Apple and Google are launching a joint COVID-19 tracing tool for iOS and Android\". TechCrunch. Retrieved 10 April 2020.\\n\\n^ \"Privacy-Preserving Contact Tracing\". Apple. 10 April 2020.\\n\\n^ \"Apple and Google partner on COVID-19 contact tracing technology\". 10 April 2020. Retrieved 10 April 2020.\\n\\n^ \"Palantir provides COVID-19 tracking software to CDC and NHS, pitches European health agencies\". TechCrunch. Retrieved 22 April 2020.\\n\\n^ a b \"Hospital readiness checklist for COVID-19\". euro.who.int. 25 March 2020. Retrieved 27 March 2020.\\n\\n^ Checklist for hospitals preparing for the reception and care of coronavirus 2019 (COVID-19) patients (Report). European Centre for Disease Prevention and Control. 26 February 2020. Retrieved 27 March 2020.\\n\\n^ Smith, Anthony C; Thomas, Emma; Snoswell, Centaine L; Haydon, Helen; Mehrotra, Ateev; Clemensen, Jane; Caffery, Liam J (20 March 2020). \"Telehealth for global emergencies: Implications for coronavirus disease 2019 (COVID-19)\". Journal of Telemedicine and Telecare. 26 (5): 309–313. doi:10.1177/1357633x20916567. PMC\\xa07140977. PMID\\xa032196391.\\n\\n^ Ohannessian, R; Duong, TA; Odone, A (2 April 2020). \"Global Telemedicine Implementation and Integration Within Health Systems to Fight the COVID-19 Pandemic: A Call to Action\". JMIR Public Health and Surveillance. 6 (2): e18810. doi:10.2196/18810. PMC\\xa07124951. PMID\\xa032238336.\\n\\n^ Keshvardoost, Sareh; Bahaadinbeigy, Kambiz; Fatehi, Farhad (23 April 2020). \"Role of Telehealth in the Management of COVID-19: Lessons Learned from Previous SARS, MERS, and Ebola Outbreaks\". Telemedicine and E-Health. 26 (7): 850–852. doi:10.1089/tmj.2020.0105. PMID\\xa032329659. S2CID\\xa0216111135.\\n\\n^ Temple J. \"How 3D printing could save lives in the coronavirus outbreak\". MIT Technology Review. Retrieved 5 April 2020.\\n\\n^ Tibken S. \"3D printing may help supply more essential coronavirus medical gear\". CNET. Retrieved 5 April 2020.\\n\\n^ \"[Updating] Italian hospital saves Covid-19 patients lives by 3D printing valves for reanimation devices\". 3D Printing Media Network. 14 March 2020. Retrieved 20 March 2020.\\n\\n^ Peters J (17 March 2020). \"Volunteers produce 3D-printed valves for life-saving coronavirus treatments\". The Verge. Retrieved 20 March 2020.\\n\\n^ \"Engineers 3D-print patented valves for free to save coronavirus patients in Italy\". Global News.\\n\\n^ Good A, Greicius T (23 April 2020). \"NASA Develops COVID-19 Prototype Ventilator in 37 Days\". NASA. Retrieved 24 April 2020.\\n\\n^ Wall M (24 April 2020). \"NASA engineers build new COVID-19 ventilator in 37 days\". Space.com. Retrieved 24 April 2020.\\n\\n^ Ma J (13 March 2020). \"China\\'s first confirmed Covid-19 case traced back to November 17\". South China Morning Post. Archived from the original on 13 March 2020.\\n\\n^ a b \"Novel Coronavirus\". World Health Organization (WHO). Archived from the original on 22 January 2020. Retrieved 6 February 2020.\"COVID-19 timeline in the Western Pacific\". WHO. 18 May 2020. Archived from the original on 23 May 2020. Retrieved 6 July 2020.\\n\\n^ a b \"Mystery pneumonia virus probed in China\". BBC News. 3 January 2020. Archived from the original on 5 January 2020. Retrieved 29 January 2020.\\n\\n^ Novel Coronavirus Pneumonia Emergency Response Epidemiology Team (February 2020). \"[The epidemiological characteristics of an outbreak of 2019 novel coronavirus diseases (COVID-19) in China]\". Zhonghua Liu Xing Bing Xue Za Zhi – Zhonghua Liuxingbingxue Zazhi (in Chinese). 41 (2): 145–151. doi:10.3760/cma.j.issn.0254-6450.2020.02.003. PMID\\xa032064853. S2CID\\xa0211133882.\\n\\n^ Areddy, James T. (26 May 2020). \"China Rules Out Animal Market and Lab as Coronavirus Origin\". The Wall Street Journal. Retrieved 29 May 2020.\\n\\n^ Gao, Yu (高昱) (26 February 2020). 独家 | 新冠病毒基因测序溯源：警报是何时拉响的 [Exclusive | Tracing the New Coronavirus gene sequencing: when did the alarm sound]. Caixin (in Chinese). Archived from the original on 27 February 2020. Retrieved 1 March 2020.\\n\\n^ Lu, Zikang (路子康). 最早上报疫情的她，怎样发现这种不一样的肺炎.  中国网新闻 (in Chinese). Beijing. Archived from the original on 2 March 2020. Retrieved 11 February 2020.\\n\\n^ \"\\'Hero who told the truth\\': Chinese rage over coronavirus death of whistleblower doctor\". The Guardian. 7 February 2020.\\n\\n^ Kuo L (11 March 2020). \"Coronavirus: Wuhan doctor speaks out against authorities\". The Guardian. London.\\n\\n^ \"Undiagnosed pneumonia – China (HU): RFI\". ProMED Mail. ProMED. Retrieved 7 May 2020.\\n\\n^ 武汉现不明原因肺炎 官方确认属实：已经做好隔离. Xinhua News. 31 December 2019. Retrieved 31 March 2020 – via 163.com.\\n\\n^ \"Archived copy\" 武汉市卫健委关于当前我市肺炎疫情的情况通报. WJW.Wuhan.gov.cn (in Chinese). Wuhan Municipal Health Commission. 31 December 2019. Archived from the original on 9 January 2020. Retrieved 8 February 2020.CS1 maint: archived copy as title (link)\\n\\n^ Li Q, Guan X, Wu P, Wang X, Zhou L, Tong Y,  et\\xa0al. (March 2020). \"Early Transmission Dynamics in Wuhan, China, of Novel Coronavirus-Infected Pneumonia\". The New England Journal of Medicine. 382 (13): 1199–1207. doi:10.1056/NEJMoa2001316. PMC\\xa07121484. PMID\\xa031995857.\\n\\n^ WHO–China Joint Mission (24 February 2020). \"Report of the WHO-China Joint Mission on Coronavirus Disease 2019 (COVID-19)\" (PDF). World Health Organization (WHO). Retrieved 8 March 2020.\\n\\n^ \"China confirms sharp rise in cases of SARS-like virus across the country\". 20 January 2020. Archived from the original on 20 January 2020. Retrieved 20 January 2020.\\n\\n^ The Novel Coronavirus Pneumonia Emergency Response Epidemiology Team (17 February 2020). \"The Epidemiological Characteristics of an Outbreak of 2019 Novel Coronavirus Diseases (COVID-19) – China, 2020\". China CDC Weekly. 2 (8): 113–122. doi:10.46234/ccdcw2020.032. Retrieved 18 March 2020.\\n\\n^ \"Flattery and foot dragging: China\\'s influence over the WHO under scrutiny\". The Globe and Mail Inc. 25 April 2020.\\n\\n^ Horton, Richard (18 March 2020). \"Scientists have been sounding the alarm on coronavirus for months. Why did Britain fail to act?\". The Guardian. Retrieved 23 April 2020.\\n\\n^ \"Novel Coronavirus(2019-nCoV): Situation Report – 10\" (PDF). World Health Organization (WHO). 30 January 2020. Retrieved 14 October 2020.\\n\\n^ \"Statement on the second meeting of the International Health Regulations (2005) Emergency Committee regarding the outbreak of novel coronavirus (2019-nCoV)\". World Health Organization (WHO). 30 January 2020. Archived from the original on 31 January 2020. Retrieved 30 January 2020.\\n\\n^ \"Coronavirus disease 2019 (COVID-19): Situation Report – 51\" (PDF). World Health Organization (WHO). 11 March 2020. Retrieved 14 October 2020.\\n\\n^ \"WHO Director-General\\'s opening remarks at the media briefing on COVID-19\". World Health Organization (WHO). 11 March 2020. Retrieved 11 March 2020.\\n\\n^ a b \"Coronavirus: Primi due casi in Italia\" [Coronavirus: First two cases in Italy]. Corriere della sera (in Italian). 31 January 2020. Retrieved 31 January 2020.\\n\\n^ Fredericks B (13 March 2020). \"WHO says Europe is new epicenter of coronavirus pandemic\". New York Post. Retrieved 9 May 2020.\\n\\n^ \"Coronavirus: Number of COVID-19 deaths in Italy surpasses China as total reaches 3,405\". Sky News. Retrieved 7 May 2020.\\n\\n^ McNeil Jr DG (26 March 2020). \"The U.S. Now Leads the World in Confirmed Coronavirus Cases\". The New York Times. Retrieved 27 March 2020.\\n\\n^ \"Studies Show N.Y. Outbreak Originated in Europe\". The New York Times. 8 April 2020.\\n\\n^ a b Irish J (4 May 2020).  Lough R, Graff P (eds.). \"After retesting samples, French hospital discovers COVID-19 case from December\". Reuters. Retrieved 4 May 2020.\\n\\n^ a b Deslandes A, Berti V, Tandjaoui-Lambotte Y, Alloui C, Carbonnelle E, Zahar JR, Brichler S, Cohen Y (3 May 2020). \"SARS-COV-2 was already spreading in France in late December 2019\". International Journal of Antimicrobial Agents. 55 (6): 106006. doi:10.1016/j.ijantimicag.2020.106006. PMC\\xa07196402. PMID\\xa032371096.\\n\\n^ \"2 died with coronavirus weeks before 1st U.S. virus death\". PBS NewsHour. 22 April 2020. Retrieved 23 April 2020.\\n\\n^ a b \"Beijing Covid-19 outbreak puts food markets back in infection focus\". South China Morning Post. 16 June 2020. Archived from the original on 16 June 2020. Retrieved 17 June 2020.\\n\\n^ \"北京连续确诊3例新冠患者 新发地批发市场暂停营业\". Caixin. Archived from the original on 13 June 2020. Retrieved 17 June 2020.\\n\\n^ Gan, Nectar. \"China\\'s new coronavirus outbreak sees Beijing adopt \\'wartime\\' measures\". CNN. Archived from the original on 16 June 2020. Retrieved 17 June 2020.\\n\\n^ \"Beijing logs record 36 COVID-19 cases, linked to market cluster\". CNA. Retrieved 17 June 2020.\\n\\n^ Kim, Will Feuer, Jasmine (29 June 2020). \"WHO warns coronavirus pandemic is speeding up as countries ease lockdown rules: \\'The worst is yet to come\\'\". CNBC. Retrieved 5 July 2020.\\n\\n^ \"More cases of COVID-19 linked to employee at Dalian seafood processor\". Undercurrent News. Retrieved 4 August 2020.\\n\\n^ \"One in 10 worldwide may have had Covid – WHO\". www.bbc.com. 5 October 2020. Retrieved 14 October 2020.\\n\\n^ \"WHO | SARS-CoV-2 mink-associated variant strain – Denmark\". WHO.\\n\\n^ \"Denmark to cull up to 17 million mink amid coronavirus fears\". BBC News. 5 November 2020.\\n\\n^ Boseley, Sarah; Oltermann, and Philip (9 November 2020). \"Covid-19 vaccine candidate is 90% effective, says Pfizer\". The Guardian. ISSN\\xa00261-3077. Retrieved 9 November 2020.\\n\\n^ Linnane, Ciara. \"Novavax wins FDA fast track designation for COVID-19 vaccine candidate\". MarketWatch. Retrieved 9 November 2020.\\n\\n^ \"Pfizer says COVID-19 vaccine is looking 90% effective\". AP NEWS. 9 November 2020. Retrieved 9 November 2020.\\n\\n^ Rosenberg, Benjamin (8 November 2020). \"50 million world Covid-19 cases: The biggest outbreaks, explained\". Vox. Retrieved 11 November 2020.\\n\\n^ Reese, Heather; Iuliano, A. Danielle; Patel, Neha N.; Garg, Shikha; Kim, Lindsay; Silk, Benjamin J.; Hall, Aron J.; Fry, Alicia; Reed, Carrie (2020). \"Estimated incidence of COVID-19 illness and hospitalization — United States, February–September, 2020\". Clinical Infectious Diseases. doi:10.1093/cid/ciaa1780. PMC\\xa07717219. PMID\\xa033237993. S2CID\\xa0227176624. Retrieved 27 November 2020.\\n\\n^ \"Government Model Suggests U.S. COVID-19 Cases Could Be Approaching 100 Million\". NPR.org. Retrieved 27 November 2020.\\n\\n^ \"PHE investigating a novel strain of COVID-19\". GOV.UK. 14 December 2020. Retrieved 15 December 2020.\\n\\n^ \"Covid: Flights shut down as EU discusses UK virus threat\". 21 December 2020 – via www.bbc.com.\\n\\n^ \"Covid-19: Drivers urged to avoid ports as France shuts border\". 21 December 2020 – via www.bbc.com.\\n\\n^ Hauck, Grace. \"More contagious COVID-19 strain identified in 3 states and 33 countries: What to know\". USA TODAY. Retrieved 2 January 2021.\\n\\n^ \"WHO\\'s Covid mission to Wuhan: \\'It\\'s not about finding China guilty\\'\". the Guardian. 12 January 2021. Retrieved 14 January 2021.\\n\\n^ Kuo, Lily. \"China bars two members of WHO coronavirus mission as depleted team reaches Wuhan\". Washington Post. Retrieved 15 January 2021.\\n\\n^ \"Schengen Area Crisis: EU States Close Borders as Coronavirus Outbreak Grips Bloc\". Schengen Visa Information. 13 March 2020. Retrieved 16 March 2020.\\n\\n^ \"Coronavirus: 7 dead, 229 infected in Italy as Europe braces for COVID-19\". NBC News. Retrieved 29 February 2020.\\n\\n^ Doyle, Michael (11 October 2020). \"WHO doctor says lockdowns should not be main coronavirus defence\". ABC. Retrieved 25 October 2020.\\n\\n^ Jones S, Kassam A (26 March 2020). \"Spain defends response to coronavirus as global cases exceed 500,000\". The Guardian. Retrieved 29 March 2020.\\n\\n^ \"Coronavirus: Half of humanity now on lockdown as 90 countries call for confinement\". Euronews. 3 April 2020.\\n\\n^ \"A third of the global population is on coronavirus lockdown – here\\'s our constantly updated list of countries and restrictions\". Business Insider. 28 March 2020.\\n\\n^ a b \"What Share of the World Population Is Already on COVID-19 Lockdown?\". Statista. 23 April 2020. Retrieved 26 April 2020.\\n\\n^ \"About 90% of Americans have been ordered to stay at home. This map shows which cities and states are under lockdown\". Business Insider. 2 April 2020.\\n\\n^ Chutel L, Dahir AL (27 March 2020). \"With Most Coronavirus Cases in Africa, South Africa Locks Down\". The New York Times. Retrieved 2 April 2020.\\n\\n^ Nair S (29 March 2020). \"For a billion Indians, lockdown has not prevented tragedy\". The Guardian.\\n\\n^ \"Chaos and hunger amid India coronavirus lockdown\". Al Jazeera. 27 March 2020.\\n\\n^ \"Live updates: Global cases top 5 million as WHO reports worst day yet for new infections\". The Washington Post. Retrieved 21 May 2020.\\n\\n^ Pirnazarov, Nazarali (30 April 2020). \"UPDATE 1-Tajikistan confirms first coronavirus cases\". www.reuters.com. Retrieved 29 October 2020.\\n\\n^ Abdurasulov A (7 April 2020). \"Coronavirus: Why has Turkmenistan reported no cases?\". BBC News.\\n\\n^ Tan Y (3 April 2020). \"Scepticism over N Korea\\'s claim to be virus free\". BBC News.\\n\\n^ Erkhembayar, Ryenchindorj; Dickinson, Emma; Badarch, Darmaa; Narula, Indermohan; Thomas, Graham Neil; Ochir, Chimedsuren; Manaseki-Holland, Semira (23 July 2020). \"Early policy actions and emergency response to the COVID-19 pandemic in Mongolia: experiences and challenges\". The Lancet Global Health. 0 (9): e1234–e1241. doi:10.1016/S2214-109X(20)30295-3. PMC\\xa07377809. PMID\\xa032711684. Retrieved 18 August 2020 – via www.thelancet.com.\\n\\n^ \"Why is Singapore\\'s COVID-19 death rate the world\\'s lowest\". Reuters. Archived from the original on 3 October 2020. Retrieved 17 September 2020.\\n\\n^ a b c Normile D (17 March 2020). \"Coronavirus cases have dropped sharply in South Korea. What\\'s the secret to its success?\". Science. doi:10.1126/science.abb7566. S2CID\\xa0216427938.\\n\\n^ Chan, Wilfred (3 April 2020). \"The WHO Ignores Taiwan. The World Pays the Price\". The Nation. Retrieved 24 May 2020.\\n\\n^ Humphrey, Chris; Pham, Bac (14 April 2020). \"Vietnam\\'s response to coronavirus crisis earns praise from WHO\". 7News. Retrieved 17 April 2020.\\n\\n^ a b Burki, Talha (1 November 2020). \"China\\'s successful control of COVID-19\". The Lancet Infectious Diseases. 20 (11): 1240–1241. doi:10.1016/S1473-3099(20)30800-8. ISSN\\xa01473-3099. PMC\\xa07544475. PMID\\xa033038941.\\n\\n^ Hessler, Peter. \"How China Controlled the Coronavirus\". The New Yorker. Retrieved 4 January 2021.\\n\\n^ \"China\\'s response shows how bold decision-making can contain coronavirus\". World Economic Forum. Retrieved 4 January 2021.\\n\\n^ Kupferschmidt, Kai; CohenMar. 2, Jon; 2020; Pm, 4:50 (2 March 2020). \"China\\'s aggressive measures have slowed the coronavirus. They may not work in other countries\". Science | AAAS. Retrieved 4 January 2021.CS1 maint: numeric names: authors list (link)\\n\\n^ \"Mortality Analyses\". Johns Hopkins School of Medicine. 8 December 2020. Retrieved 8 December 2020.\\n\\n^ Rambaran, Vandana (28 November 2020). \"More people died of suicide in Japan in one month than the entire coronavirus pandemic\". Fox News. Retrieved 29 November 2020.\\n\\n^ 截至6月14日24时新型冠状病毒肺炎疫情最新情况 (in Chinese). National Health Commission. 26 June 2020. Retrieved 5 September 2020. 31个省（自治区、直辖市）和新疆生产建设兵团报告新增无症状感染者18例（境外输入11例）；当日无转为确诊病例；当日解除医学观察9例（境外输入2例）；尚在医学观察无症状感染者112例（境外输入62例）。\\n\\n^ 新型肺炎疫情地圖 實時更新 [New pneumonia epidemic map updated in real time]. 163.com news (in Chinese). 29 January 2020. Archived from the original on 30 January 2020. Retrieved 2 February 2020.\\n\\n^ migration (13 October 2020). \"Minor outbreak sparks mass testing in city\". The Straits Times. Retrieved 4 January 2021.\\n\\n^ Pike, Lili (25 November 2020). \"In China, nearly 1 million people have reportedly already gotten a coronavirus vaccine\". Vox. Retrieved 26 November 2020.\\n\\n^ Gettleman, Jeffrey; Schultz, Kai (24 March 2020). \"Modi Orders 3-Week Total Lockdown for All 1.3 Billion Indians\". The New York Times. ISSN\\xa00362-4331. Retrieved 2 August 2020.\\n\\n^ \"Infections over 1 lakh, five cities with half the cases: India\\'s coronavirus story so far\". The Week. Retrieved 20 May 2020.\\n\\n^ \"India most infected by Covid-19 among Asian countries, leaves Turkey behind\". Hindustan Times. 29 May 2020. Retrieved 30 May 2020.\\n\\n^ \"One in four Indians could have been infected with the coronavirus, lab head says\". MSN. 19 August 2020. Retrieved 19 August 2020.\\n\\n^ Kashyap, Simran (6 September 2020). \"COVID-19: With over 4 million cases, India overtakes Brazil to become second worst-hit nation\". Oneindia. Retrieved 23 September 2020.\\n\\n^ \"India\\'s case count crosses 100,000, Delhi eases restrictions: Covid-19 news today\". Hindustan Times. 19 May 2020. Retrieved 20 May 2020.\\n\\n^ \"India Coronavirus Cases Surge Past One Million\". The New York Times. 16 July 2020. Retrieved 29 September 2020.\\n\\n^ \"India\\'s coronavirus infections top five million mark\". BBC News. 16 September 2020. Retrieved 29 September 2020.\\n\\n^ \"Coronavirus: India surpasses US for highest single-day rise in Covid-19 cases\". BBC News. 30 August 2020. Retrieved 29 September 2020.\\n\\n^ Hollingsworth, Julia; Renton, Adam; Wagner, Meg; Rahim, Zamira; Upright, Ed (17 September 2020). \"India reports nearly 98,000 new Covid-19 cases in highest worldwide daily spike\". CNN. Retrieved 12 December 2020.\\n\\n^ \"Covid-19: Number of recoveries exceed active cases for first time\". Hindustan Times. 10 June 2020. Retrieved 2 August 2020.\\n\\n^ \"Another grim milestone: India No.3 in total coronavirus cases\". Hindustan Times. 6 July 2020. Retrieved 6 July 2020.\\n\\n^ \"Realizan jornada de limpieza en vagones del Metro de Panamá\". Tvn-2.com. Retrieved 23 April 2020.\\n\\n^ \"Coronavirus Arrives in Iran: Two People Test Positive in Qom\". IranGov.ir. Government of Iran. 19 February 2020. Retrieved 6 March 2020.\\n\\n^ \"Iran Confirms 3 New Coronavirus Cases\". IranGov.ir. Government of Iran. 20 February 2020. Retrieved 6 March 2020.\\n\\n^ \"Iranian Doctors Call For \\'Long Holiday\\' To Contain Coronavirus, As Sixth Victim Dies\". Radio Farda. Radio Free Europe/Radio Liberty. 22 February 2020. Retrieved 8 March 2020.\\n\\n^ لغو همه مسابقات ورزشی به مدت ۱۰ روز. Varzesh3.com (in Persian). Retrieved 23 February 2020.\\n\\n^ a b Gambrell J. \"Iran news agencies report Friday prayers canceled in Tehran\". The Washington Post. Associated Press.\\n\\n^ \"Iran Announces Closure Of Universities, Schools As Coronavirus Death Toll Rises\". Radio Farda. Radio Free Europe/Radio Liberty. 23 February 2020. Retrieved 8 March 2020.\\n\\n^ اختصاص 530 میلیارد تومان به وزارت بهداشت برای مقابله با کرونا.  پایگاه خبری جماران—امام خمینی—انقلاب اسلامی (in Persian). Retrieved 23 February 2020.\\n\\n^ \"Coronavirus: Iran has no plans to quarantine cities, Rouhani says\". BBC News. 26 February 2020.\\n\\n^ Jones S, Wintour P (6 March 2020). \"Iran threatens use of force to restrict spread of coronavirus\". The Guardian.\\n\\n^ \"Coronavirus: Iran is facing a major challenge controlling the outbreak\". BBC News. 24 March 2020.\\n\\n^ Mostaghim R, Salem M, Qiblawi T (26 February 2020). \"Iran was already struggling with one crisis. Now it has the worst coronavirus outbreak in the Middle East\". CNN.\\n\\n^ a b Gambrell A J (17 March 2020). \"Shiite Hardliners in Iran Storm 2 Shrines That Were Closed to Stop Coronavirus Spread\". Time. Associated Press.\\n\\n^ Kirkpatrick, David D.; Fassihi, Farnaz; Mashal, Mujib (24 February 2020). \"\\'Recipe for a Massive Viral Outbreak\\': Iran Emerges as a Worldwide Threat\". The New York Times.\\n\\n^ a b Wright R (24 February 2020). \"How Iran Became A New Epicenter of the Coronavirus Outbreak\". The New Yorker.\\n\\n^ a b Cunningham E, Bennett D (4 March 2020). \"Coronavirus pummels Iran leadership as data show spread is far worse than reported\". The Washington Post.\\n\\n^ Haltiwanger J (3 March 2020). \"8% of Iran\\'s parliament has the coronavirus, and it released 54,000 prisoners as the country descends into chaos\". Business Insider. Retrieved 4 March 2020.\\n\\n^ Sorace S (15 March 2020). \"Iran reports biggest single-day jump of coronavirus deaths as president rules out quarantine\". Fox News Channel. Retrieved 16 March 2020.\\n\\n^ \"Coronavirus pandemic \\'could kill millions\\' in Iran\". Al Jazeera. 17 March 2020.\\n\\n^ Lauras, Didier (23 March 2020). \"How serious is the coronavirus crisis in Iran?\". Yahoo! News. Agence France-Presse. Retrieved 23 March 2020.\\n\\n^ \"As coronavirus cases explode in Iran, U.S. sanctions hinder its access to drugs and medical equipment\". The Washington Post. Retrieved 29 March 2020.\\n\\n^ \"Iran opens up as economic woes trump virus infection fears\". Yahoo! News. Retrieved 21 April 2020.\\n\\n^ \"Coronavirus: Iran fears the second wave after surge in cases\". BBC. 4 June 2020.\\n\\n^ \"Rouhani warns 25 million infected as Iran reimposes restrictions\". Reuters. 18 July 2020.\\n\\n^ \"Coronavirus: Iran cover-up of deaths revealed by data leak\". BBC. 3 August 2020.\\n\\n^ a b Shin H, Cha S (20 February 2020). \"\\'Like a zombie apocalypse\\': Residents on edge as coronavirus cases surge in South Korea\". Thomson Reuters. Archived from the original on 20 February 2020. Retrieved 20 February 2020.\\n\\n^ 신천지 관련 확진자 76명으로 늘어 ... 대구 교인 의심자만 544명 [The number of Shincheonji related doctors will increase to 74 ... Daegu members only 544]. Chosun.com (in Korean). 21 February 2020.\\n\\n^ a b \"42 Shincheonji followers came to S. Korea from virus-hit Wuhan over 8 months: gov\\'t\". Yonhap News Agency. 29 February 2020.\\n\\n^ Lee H (21 February 2020). \"COVID-19 patients soar to 204 in Korea\". Korea Biomedical Review. Retrieved 21 February 2020.\\n\\n^ 코로나바이러스감염증-19 국내 발생 현황 (2월 22일 09시). 22 February 2020.\\n\\n^ \"Coronavirus: South Korea declares highest alert as infections surge\". BBC News. 23 February 2020.\\n\\n^ Hoffmann E (29 February 2020). \"South Korea reports a record jump in coronavirus cases\". SeekingAlpha.com. Retrieved 1 March 2020.\\n\\n^ \"Airlines to suspend more flights over coronavirus\". The Korea Herald. Yonhap. 21 February 2020. Retrieved 21 February 2020.\\n\\n^ Song S (21 February 2020). \"Foreign artists delay concerts in Korea due to spread of COVID-19\". The Korea Herald. Retrieved 21 February 2020.\\n\\n^ Bicker L (12 March 2020). \"Coronavirus in South Korea: How \\'trace, test and treat\\' may be saving lives\". BBC News.\\n\\n^ Moon G. \"This is how South Korea flattened its coronavirus curve\". NBC News. Retrieved 31 March 2020.\\n\\n^ \"South Korea\\'s Drive-Through Testing For Coronavirus Is Fast – And Free\". NPR. Retrieved 16 March 2020.\\n\\n^ a b \"South Korea reports lowest number of new cases\". BBC News Online. 23 March 2020. Retrieved 23 March 2020.\\n\\n^ a b Kim S (4 March 2020). \"How South Korea Lost Control of Its Coronavirus Outbreak\". The New Yorker.\\n\\n^ Kasulis K (19 March 2020). \"South Korea\\'s coronavirus lessons: Quick, easy tests; monitoring\". Al Jazeera.\\n\\n^ \\'K방역 극찬\\' 빌 게이츠, KT 손잡고 제2 코로나 막을 연구에 60억 투자.  중앙일보 (in Korean). 17 May 2020. Retrieved 17 May 2020.\\n\\n^ \"South Korea to impose mandatory coronavirus quarantine on all arrivals\". Yahoo! News. Retrieved 29 March 2020.\\n\\n^ \"Over 100 Countries Ask South Korea for Coronavirus Testing Help\". US News and World Report. Retrieved 1 April 2020.\\n\\n^ \"Coronavirus: South Korea confirms second wave of infections\". BBC. 22 June 2020.\\n\\n^ \"South Korea says it is in the middle of a coronavirus second wave – and it arrived earlier than predicted\". ABC News. 22 June 2020.\\n\\n^ Fredericks B (13 March 2020). \"WHO says Europe is new epicenter of coronavirus pandemic\". New York Post. Retrieved 9 May 2020.\\n\\n^ \"WHO declares South America as new Covid-19 epicenter\". The Brazilian Report. 22 May 2020. Retrieved 1 June 2020.\\n\\n^ Max Roser, Hannah Ritchie and Esteban Ortiz-Ospina (2020) – \"Coronavirus Disease (COVID-19) – Research and Statistics\" Archived 19 March 2020 at the Wayback Machine 13 March 2020, ourworldindata.org/coronavirus, accessed 14 March 2020\\n\\n^ Two COVID-19 cases confirmed in Montenegro Archived 17 March 2020 at the Wayback Machine twitter.com/MeGovernment accessed 17 March 2020\\n\\n^ Henley, Jon (18 March 2020). \"More than 250m in lockdown in EU as Belgium and Germany adopt measures\". The Guardian. ISSN\\xa00261-3077. Archived from the original on 1 April 2020. Retrieved 4 April 2020.\\n\\n^ Institute for Public Health of Montenegro. \"IT\\'S OFFICIAL: CURRENTLY THERE ARE NO ACTIVE CASES OF #COVID19 IN MONTENEGRO\". Twitter. Retrieved 24 May 2020.\\n\\n^ Government of Montenegro. \"Montenegro is Corona-Free\". Twitter. Retrieved 24 May 2020.\\n\\n^ \"New imported case discovered\". Twitter. Institute of Public Health of Montenegro IJZCG. Retrieved 21 June 2020.\\n\\n^ \"COVID-19 CORONAVIRUS PANDEMIC\". worldometer. Retrieved 2 December 2020.\\n\\n^ Farzan, Antonia Noori; Hassan, Jennifer; Noack, Rick; Beachum, Lateshia; Hawkins, Derek; Bellware, Kim; O\\'Grady, Siobhán; Shaban, Hamza. \"Live updates: Coronavirus cases rise in young people in Europe as U.S. colleges try to crack down on parties\". Washington Post. Retrieved 21 August 2020.\\n\\n^ \"Europe Coronavirus Cases Exceed 15 Million | Voice of America - English\". www.voanews.com. Retrieved 25 November 2020.\\n\\n^ \"Coronavirus\\xa0: la \" bombe atomique \" du rassemblement évangélique de Mulhouse\". Le Point. 28 March 2020.\\n\\n^ \"Enquette Franceinfo. \"La majorité des personnes étaient contaminées\"\\xa0: de la Corse à l\\'outre-mer, comment le rassemblement évangélique de Mulhouse a diffusé le coronavirus dans toute la France\". Franceinfo. 28 March 2020.\\n\\n^ \"Coronavirus: Spain and France announce sweeping restrictions\". BBC News. 15 March 2020. Retrieved 15 March 2020.\\n\\n^ \"France imposes 15-day lockdown as part of emergency coronavirus response\". The Independent. 16 March 2020.\\n\\n^ \"Coronavirus\\xa0: prolongation du confinement jusqu\\'au 11 mai\". France Info. 13 April 2020. Retrieved 13 April 2020.\\n\\n^ Macron: coronavirus is Europe\\'s \\'moment of truth\\' 16 April 2020, Financial Times. Retrieved 18 April 2020\\n\\n^ \"COVID-19 en France\" (in French). Santé Publique France. Retrieved 9 April 2020.\\n\\n^ \"Coronavirus Map: Tracking the Global Outbreak\". The New York Times. Retrieved 4 April 2020.\\n\\n^ \"Violent protests in Paris suburbs reflect tensions under lockdown\". The Washington Post. Retrieved 25 April 2020.\\n\\n^ \"Coronavirus flare-ups force France to re-close some schools\". CBS News. Retrieved 18 May 2020.\\n\\n^ Welle (www.dw.com), Deutsche. \"Coronavirus digest: WHO says best way to protest lockdowns is to take other measures seriously | DW | 12 November 2020\". DW.COM. Retrieved 13 November 2020.\\n\\n^ \"Italy suspends all China flights as coronavirus cases confirmed in Rome\". TheLocal.it. 31 January 2020. Retrieved 26 February 2020.\\n\\n^ Anzolin E, Amante A (21 February 2020). \"Coronavirus outbreak grows in northern Italy, 16 cases reported in one day\". Thomson Reuters. Archived from the original on 21 February 2020. Retrieved 21 February 2020.\\n\\n^ \"Coronavirus, in dieci comuni lombardi: 50 mila persone costrette a restare in casa. Quarantena all\\'ospedale milanese di Baggio\". La Repubblica (in Italian). 21 February 2020. Retrieved 23 February 2020.\\n\\n^ \"Coronavirus, decreto del governo: nei comuni focolaio stop ad ingressi ed uscite. Conte: \"Non trasformeremo l\\'Italia in un lazzaretto\"\". la Repubblica (in Italian). 22 February 2020. Retrieved 22 February 2020.\\n\\n^ \"Coronavirus: Inter Milan v Sampdoria among Serie A games postponed\". BBC Sport. 22 February 2020. Retrieved 23 February 2020.\\n\\n^ Giuffrida A, Tondo L, Beaumont P (4 March 2020). \"Italy orders closure of all schools and universities due to coronavirus\". The Guardian. Retrieved 4 March 2020.\\n\\n^ \"Coronavirus: All sport in Italy suspended because of outbreak\". BBC Sport. 9 March 2020.\\n\\n^ Harlan C, Morris L. \"Italy ramps up coronavirus lockdown, Merkel warns virus could infect two-thirds of Germany\". The Washington Post. Retrieved 12 March 2020.\\n\\n^ Sylvers E, Legorano G (11 March 2020). \"Italy Hardens Nationwide Quarantine\". The Wall Street Journal. ISSN\\xa00099-9660. Retrieved 12 March 2020.\\n\\n^ Raccomandazioni di etica clinica per l\\'ammissione a trattamenti intensivi e per la loro sospensione, in condizioni eccezionali di squilibrio tra necessità e risorse disponibili (PDF) (Technical report) (in Italian). Italian College of Anesthesia, Analgesia, Resuscitation and Intensive Care (SIAARTI). 6 March 2020. Archived (PDF) from the original on 12 March 2020. Retrieved 12 March 2020.\\n\\n^ Mounk Y (11 March 2020). \"The Extraordinary Decisions Facing Italian Doctors\". The Atlantic. Archived from the original on 12 March 2020. Retrieved 12 March 2020. Now the Italian College of Anesthesia, Analgesia, Resuscitation and Intensive Care (SIAARTI) has published guidelines for the criteria doctors and nurses should follow in these extraordinary circumstances. The document begins by likening the moral choices facing Italian doctors to the wartime triage of \\'catastrophe medicine\\'.\\n\\n^ Privitera G (11 March 2020). \"Italian doctors on coronavirus frontline face tough calls on whom to save\". Politico. Archived from the original on 12 March 2020. Retrieved 12 March 2020. ...\\xa0the Italian Society of Anesthesia, Analgesia, Resuscitation and Intensive Care, who co-authored new guidelines on how to prioritize treatment of coronavirus cases in hospitals\\xa0...\\n\\n^ \"Italy coronavirus death toll overtakes China\". The Independent. 19 March 2020.\\n\\n^ \"Coronavirus: sono 33.190 i positivi – Comunicato Stampa\". Dipartimento della Protezione Civile.\\n\\n^ \"\\'From Russia with Love\\': Putin sends aid to Italy to fight virus\". 23 March 2020.\\n\\n^ \"Italy\\'s coronavirus death toll passes 10,000. Many are asking why the fatality rate is so high\". CNN. Retrieved 29 March 2020.\\n\\n^ Coleman J (19 April 2020). \"Italy sees fewest coronavirus deaths in a week\". The Hill. Retrieved 20 April 2020.\\n\\n^ \"Conte firma il dpcm: stop a movida e gite, niente didattica a distanza\". ansa.it. ansa.it. 13 October 2020. Retrieved 13 October 2020.\\n\\n^ Rome, Wanted in (11 November 2020). \"Covid-19: Doctors call for red zone across Italy\". Wanted in Rome. Retrieved 13 November 2020.\\n\\n^ \"Italy passes 1 million Covid-19 cases, France overtakes Russia\". South China Morning Post. 12 November 2020. Retrieved 13 November 2020.\\n\\n^ Welle (www.dw.com), Deutsche. \"Coronavirus: Clinics in Naples, Italy, on the brink of collapse | DW | 23 November 2020\". DW.COM. Retrieved 25 November 2020.\\n\\n^ \"Sanidad confirma en La Gomera el primer caso de coronavirus en España\". El Pais (in Spanish). 31 January 2020. Archived from the original on 31 January 2020. Retrieved 31 January 2020.\\n\\n^ Ansede, Manuel (22 April 2020). \"El análisis genético sugiere que el coronavirus ya circulaba por España a mediados de febrero\". EL PAÍS (in Spanish). Retrieved 23 April 2020.\\n\\n^ \"Estado de alarma por crisis sanitaria COVID-19—Atención e informacion—Punto de Acceso General\". administracion.gob.es.\\n\\n^ \"Spain poised to tighten coronavirus lockdown after record daily toll\". www.msn.com. Retrieved 29 March 2020.\\n\\n^ Hedgecoe, Guy (26 March 2020). \"\\'Top of the curve\\'? Spain hopes Covid-19 peak reached as deaths pass 4,000\". The Irish Times. Retrieved 28 March 2020.\\n\\n^ \"Coronavirus latest: Britain\\'s Prince Charles tests positive for Covid-19\". South China Morning Post. 25 March 2020. Retrieved 25 March 2020. \\'Spain\\'s coronavirus death toll overtook that of China on Wednesday, rising to 3,434 after 738 people died over the past 24 hours,\\' the government said.\\n\\n^ Collman, Ashley. \"Spain recorded 950 coronavirus deaths in a day, the highest single-day toll of any country\". Business Insider. Retrieved 2 April 2020.\\n\\n^ White House: CDC \\'let country down\\' on testing - COVID-19 updates 17 May 2020 www.aljazeera.com, accessed 30 May 2020\\n\\n^ \"Por qué nadie celebra el primer día sin muertos por coronavirus en España\". El Español (in Spanish). 2 June 2020. Retrieved 22 June 2020.\\n\\n^ \"Así fue el día 1 de la nueva normalidad\". EL PAIS (in Spanish). 22 June 2020. Retrieved 22 June 2020.\\n\\n^ \"Coronavirus: Spain drives fears of European \\'second wave\\'\". BBC. 25 July 2020.\\n\\n^ \"Spain\\'s Basque region admits to second wave of Covid-19\". El País. 6 August 2020.\\n\\n^ Badcock, James (14 August 2020). \"Spain shuts down nightlife amid fears of major second wave of coronavirus\". The Telegraph.\\n\\n^ \"Spain won\\'t declare another national state of alarm, allows regions to lockdown if necessary\". Euroactiv. 26 August 2020.\\n\\n^ Lau H, Khosrawipour V, Kocbach P, Mikolajczyk A, Ichii H, Schubert J,  et\\xa0al. (March 2020). \"Internationally lost COVID-19 cases\". Journal of Microbiology, Immunology, and Infection = Wei Mian Yu Gan Ran Za Zhi. 53 (3): 454–458. doi:10.1016/j.jmii.2020.03.013. PMC\\xa07102572. PMID\\xa032205091.\\n\\n^ Linde, Oriol Güell, Elena Sevillano, Pablo (18 March 2020). \"Lack of testing hampering Spain\\'s efforts to slow coronavirus outbreak\". EL PAÍS. Retrieved 31 March 2020.\\n\\n^ \"El 5% de la población española ha superado el Covid-19\". Europa Press (in Spanish). 13 May 2020. Retrieved 13 May 2020.\\n\\n^ \"Estudio de seroprevalencia: sólo el 5% de los españoles tiene anticuerpos frente al coronavirus\". El Mundo (in Spanish). 13 May 2020. Retrieved 13 May 2020.\\n\\n^ \"Afloran 12.000 nuevas muertes en los registros civiles: el exceso en la crisis del coronavirus se eleva hasta los 43.000 muertos\". El País (in Spanish). 3 June 2020. Retrieved 4 June 2020.\\n\\n^ \"El estudio nacional de seroprevalencia concluye que solo un 5,2% de la población española tiene anticuerposs\". RTVE (in Spanish). 6 July 2020. Retrieved 15 July 2020.\\n\\n^ Vardar, Serdar (13 May 2020). \"Dos millones de españoles han estado en contacto con el nuevo coronavirus\". ABC (in Spanish). Retrieved 13 May 2020.\\n\\n^ Sam Jones; Kim Willsher; Natalie Grover (7 September 2020). \"Spain is first country in western Europe to record half a million Covid cases\". The Guardian.\\n\\n^ \"ARCHIVED - Spain passes the 1 million coronavirus cases mark on October 21st\". murciatoday.com. Retrieved 11 December 2020.\\n\\n^ a b Leatherby, Lauren (15 May 2020). \"Sweden Stayed Open. A Deadly Month Shows the Risks\". The New York Times. Retrieved 18 May 2020.\\n\\n^ Milne, Richard (8 May 2020). \"Architect of Sweden\\'s no-lockdown strategy insists it will pay off\". ft.com. Retrieved 16 August 2020.\\n\\n^ \"Sverige diskuterar inte exitstrategier: \"Vår strategi är hållbar, vi kan ligga kvar med den en väldigt lång tid\"\". svenska.yle.fi (in Swedish). Retrieved 16 August 2020.\\n\\n^ Coy, Peter (14 May 2020). \"The Swedish Model Trades More Disease for Less Economic Damage\". Bloomberg. Retrieved 18 May 2020.\\n\\n^ \"Coronavirus: Sweden records highest weekly deaths per capita in Europe\". Yahoo!. Retrieved 19 May 2020.\\n\\n^ \"Inte längre någon överdödlighet i Sverige\". Dagens Medicin (in Swedish). Retrieved 16 August 2020.\\n\\n^ \"Ignore the squabbling Devolution has become less dysfunctional during the pandemic\". The Economist. 6 June 2020. Retrieved 22 July 2020.\\n\\n^ \"The U.K. is aiming for deliberate \\'herd immunity\\'\". Fortune. Retrieved 14 March 2020.\\n\\n^ \"60% of UK population need to get coronavirus so country can build \\'herd immunity\\', chief scientist says\". The Independent. 13 March 2020. Retrieved 14 March 2020.\\n\\n^ McGee L (17 March 2020). \"Boris Johnson ramps up UK\\'s coronavirus response after criticism\". CNN.\\n\\n^ \"Scottish health secretary criticises virus messaging\". BBC News Online. 15 March 2020.\\n\\n^ Triggle N (16 March 2020). \"What is the UK advice on coronavirus?\". BBC News Online. Retrieved 17 March 2020.\\n\\n^ Boseley S (16 March 2020). \"New data, new policy: why UK\\'s coronavirus strategy changed\". The Guardian. Retrieved 17 March 2020.\\n\\n^ Meredith S (20 March 2020). \"UK PM Boris Johnson announces nationwide lockdown measures, telling cafes, pubs and restaurants to close\". CNBC. Retrieved 20 March 2020.\\n\\n^ \"Coronavirus: Government to pay up to 80% of workers\\' wages\". BBC News Online. Retrieved 20 March 2020.\\n\\n^ \"Coronavirus: Strict new curbs on life in UK announced by PM\". BBC News. 24 March 2020. Retrieved 24 March 2020.\\n\\n^ \"Large-scale human trial of potential COVID-19 vaccine kicks off at Oxford\". CBS News. Retrieved 24 April 2020.\\n\\n^ Gilror R (30 March 2020). \"More temporary hospitals announced ready for coronavirus peak\". Nursing Times.\\n\\n^ Davies C (3 April 2020). \"Prince Charles to open NHS Nightingale to treat Covid-19 patients\". The Guardian.\\n\\n^ \"Nightingale Hospital in London placed on standby\". BBC News. 4 May 2020.\\n\\n^ \"Coronavirus: London\\'s NHS Nightingale \\'treated 51 patients\\'\". BBC News. 27 April 2020.\\n\\n^ \"Coronavirus updates: Texas reports single highest daily rate increase of infections\". MSN. Retrieved 17 May 2020.\\n\\n^ Mueller, Benjamin (2 December 2020). \"U.K. Approves Pfizer Coronavirus Vaccine, a First in the West\". The New York Times. Retrieved 2 December 2020.\\n\\n^ \"U.K. Will Start Immunizing People Against COVID-19 On Tuesday, Officials Say\". NPR.org. Retrieved 5 December 2020.\\n\\n^ Clarke, Devin Scillian, Kayla (9 December 2020). \"UK issues new guidance after 2 health care workers have allergic reaction to Pfizer\\'s COVID-19 vaccine\". WDIV. Retrieved 9 December 2020.\\n\\n^ Reynolds, Emma; Braithwaite, Sharon; Cassidy, Amy. \"Allergy warning for Pfizer/BioNTech vaccine after UK health workers with allergy history suffer reaction\". CNN. Retrieved 9 December 2020.\\n\\n^ \"Update on Coronavirus (COVID-19) by Bonaire\\'s Lt. Governor InfoBonaire\". The Bonaire Information Site. 16 April 2020. Retrieved 17 April 2020.\\n\\n^ \"COVID-19 Cases/Deaths Mexico 11/01/2021\". Retrieved 11 January 2021.\\n\\n^ \"COVID-19 Cases/Deaths Mexico 11/01/2021\". Retrieved 11 January 2021.\\n\\n^ \"COVID-19 CDC Cases/Deaths California 11/01/2021\". Retrieved 11 January 2021.\\n\\n^ \"Coronavirus COVID-19 (2019-nCoV)\" (ArcGIS). Johns Hopkins CSSE. Frequently updated.\\n\\n^ \"Mortality Analyses\". Johns Hopkins University. Retrieved 17 December 2020.\\n\\n^ Stobbe, Mike (21 December 2020). \"US deaths in 2020 top 3 million, by far most ever counted\". Associated Press. Retrieved 22 December 2020.\\n\\n^ Aubrey, Allison (31 January 2020). \"Trump Declares Coronavirus A Public Health Emergency And Restricts Travel From China\". NPR. Retrieved 18 March 2020. \\'Foreign nationals other than immediate family of U.S. citizens and permanent residents who have traveled in China in the last 14 days will be denied entry into United States,\\' Azar said.\\n\\n^ Robertson, Lori (15 April 2020). \"Trump\\'s Snowballing China Travel Claim\". FactCheck.org. Retrieved 29 April 2020. ...\\xa0effective February\\xa02.\\n\\n^ Lemire, Jonathan; Miller, Zeke; Colvin, Jill; Alonso-Zaldivar, Ricardo (12 April 2020). \"Signs missed and steps slowed in Trump\\'s pandemic response\". Associated Press. Retrieved 28 April 2020.\\n\\n^ Pilkington, Ed; McCarthy, Tom (28 March 2020). \"The missing six weeks: how Trump failed the biggest test of his life\". The Guardian. ISSN\\xa00261-3077. Retrieved 28 March 2020.\\n\\n^ Ollstein, Alice Miranda (14 April 2020). \"Trump halts funding to World Health Organization\". Politico. ISSN\\xa02381-1595. Wikidata\\xa0Q104180080. Retrieved 28 April 2020.\\n\\n^ Whoriskey, Peter; Satija, Neena (16 March 2020). \"How U.S. coronavirus testing stalled: Flawed tests, red tape and resistance to using the millions of tests produced by the WHO\". The Washington Post. Retrieved 18 March 2020.\\n\\n^ Blake, Aaron (24 June 2020). \"A timeline of Trump playing down the coronavirus threat\". The Washington Post. Archived from the original on 11 August 2020. Retrieved 14 August 2020.\\n\\n^ Moon, Sarah (24 April 2020). \"A seemingly healthy woman\\'s sudden death is now the first known US coronavirus-related fatality\". CNN. Retrieved 25 May 2020.\\n\\n^ \"Trump signs emergency coronavirus package, injecting $8.3 billion into efforts to fight the outbreak\". Business Insider. 6 March 2020.\\n\\n^ Liptak, Kevin (13 March 2020). \"Trump declares national emergency—and denies responsibility for coronavirus testing failures\". CNN. Retrieved 18 April 2020.\\n\\n^ Biesecker, Michael (7 April 2020). \"US \\'wasted\\' months before preparing for coronavirus pandemic\". Associated Press. Retrieved 24 April 2020.\\n\\n^ Watson, Kathryn (27 March 2020). \"Trump invokes Defense Production Act to require GM to produce ventilators\". CBS News. Retrieved 24 April 2020.\\n\\n^ Paige Winfield Cunningham; Paulina Firozi. \"The Health 202: The Trump administration is eyeing a new testing strategy for coronavirus, Anthony Fauci says\". The Washington Post.\\n\\n^ Misculin, Nicolás (3 July 2020). \"Uruguay, Paraguay, Argentina get best marks in Latin America for pandemic response – poll\". Reuters.\\n\\n^ Horwitz L, Nagovitch P, Sonnel HK, Zissis C. \"Where Is the Coronavirus in Latin America?\". AS/COA. Archived from the original on 22 March 2020. Retrieved 22 March 2020.\\n\\n^ \"Uncollected bodies lie for days in the streets of Ecuador the emerging epicentre of the coronavirus in Latin America\". Stuff/Fairfax. 4 April 2020.\\n\\n^ \"WHO declares that South America is the new coronavirus epicenter\". The Washington Post. Retrieved 23 May 2020.\\n\\n^ Ward, Alex. \"How South America became a coronavirus epicenter\". Vox. Retrieved 28 May 2020.\\n\\n^ \"How Brazil went from carnival floats to mass graves. Photos show what it\\'s like in the world\\'s latest coronavirus hotspot\". Business Insider. Retrieved 28 May 2020.\\n\\n^ \"Brazil suffers record coronavirus deaths, Trump mulls travel ban\". Reuters. 20 May 2020. Retrieved 20 May 2020.\\n\\n^ \"Brazil faces dark week as Covid-19 toll rises\". CNN. Retrieved 26 May 2020.\\n\\n^ \"Brazilian President Jair Bolsonaro Tests Positive For Coronavirus\". NPR. Retrieved 30 July 2020.\\n\\n^ \"Global report: Bolsonaro hides Brazil\\'s coronavirus death toll and case totals\". The Guardian. Retrieved 7 June 2020.\\n\\n^ \"Coronavirus cases jump by a million in 1 week to reach 8 million worldwide\". Global News. Retrieved 16 June 2020.\\n\\n^ \"Brazil Clears Sinovac Trial to Resume Two Days After Halting It\". Bloomberg.com. 11 November 2020. Retrieved 11 November 2020.\\n\\n^ \"Beijing orders 14-day quarantine for all returnees\". BBC News. 15 February 2020. Archived from the original on 14 February 2020. Retrieved 24 March 2020.\\n\\n^ \"Egypt announces first Coronavirus infection\". Egypt Today. Archived from the original on 15 February 2020. Retrieved 24 March 2020.\\n\\n^ \"Nigeria confirms first coronavirus case\". BBC News. 28 February 2020. Archived from the original on 2 March 2020. Retrieved 24 March 2020.\\n\\n^ \"Remote Lesotho becomes last country in Africa to record COVID-19 case\". Reuters. 13 May 2020. Archived from the original on 14 May 2020. Retrieved 13 May 2020.\\n\\n^ \"Coronavirus live updates: Lesotho becomes last African nation to report a coronavirus case\". Los Angeles Times. Archived from the original on 13 May 2020. Retrieved 13 May 2020.\\n\\n^ Akinwotu, Emmanuel (26 May 2020). \"Experts sound alarm over lack of Covid-19 test kits in Africa\". The Guardian. Archived from the original on 29 May 2020. Retrieved 29 May 2020.\\n\\n^ Maclean, Ruth (17 March 2020). \"Africa Braces for Coronavirus, but Slowly\". The New York Times. Archived from the original on 25 March 2020. Retrieved 25 March 2020.\\n\\n^ Jason Burke; Abdalle Ahmed Mumin (2 May 2020). \"Somali medics report rapid rise in deaths as Covid-19 fears grow\". The Guardian. Archived from the original on 19 May 2020. Retrieved 2 May 2020.\\n\\n^ \"First confirmed case of novel coronavirus in Australia\". Australian Government Department of Health. 25 January 2020. Archived from the original on 15 February 2020. Retrieved 3 March 2020.\\n\\n^ \"WHO COVID-19 Dashboard\". 24 April 2020. Archived from the original on 16 April 2020. Retrieved 24 April 2020.\\n\\n^ Taylor, Adam; Pitrelli, Stefano (24 March 2020). \"One continent remains untouched by the coronavirus: Antarctica\". Washington Post. Archived from the original on 1 April 2020. Retrieved 3 April 2020.\\n\\n^ Torres, Elle (20 March 2020). \"What life is like on Antarctica, the only continent without a case of coronavirus\". ABC News. Archived from the original on 1 April 2020. Retrieved 3 April 2020.\\n\\n^ Agence France-Presse (31 March 2020). \"Pacific islands, Antarctic bases: coronavirus-free living in some of Earth\\'s most isolated places\". South China Morning Post. Archived from the original on 3 April 2020. Retrieved 3 April 2020.\\n\\n^ \"Reportan brote de coronavirus en base chilena en la Antártida\". infobae (in Spanish). 21 December 2020. Archived from the original on 23 December 2020. Retrieved 21 December 2020.\\n\\n^ \"Coronavirus Travel Restrictions, Across the Globe\". The New York Times. 26 March 2020.\\n\\n^ \"Coronavirus (COVID-19) – information for Australian travellers\". Australian Government. 9 April 2020.\\n\\n^ Nsikan, Akpan (24 February 2020). \"Coronavirus spikes outside China show travel bans aren\\'t working\". National Geographic. Retrieved 2 April 2020.\\n\\n^ Chinazzi M, Davis JT, Ajelli M, Gioannini C, Litvinova M, Merler S,  et\\xa0al. (April 2020). \"The effect of travel restrictions on the spread of the 2019 novel coronavirus (COVID-19) outbreak\". Science. 368 (6489): 395–400. Bibcode:2020Sci...368..395C. doi:10.1126/science.aba9757. PMC\\xa07164386. PMID\\xa032144116.\\n\\n^ \"COVID-19: Study shows that travel restrictions are most useful in the early and late phase of an epidemic\". Oxford Martin School, University of Oxford. 25 March 2020.\\n\\n^ \"Coronavirus: EU rules out Schengen border closures amid Italy outbreak\". Deutsche Welle. 24 February 2020.\\n\\n^ \"Commission chief warns against unilateral virus travel bans\". EURACTIV. 13 March 2020.\\n\\n^ \"Coronavirus: European borders likely to remain open despite crisis in Italy, observers say\". South China Morning Post. 7 March 2020.\\n\\n^ \"Coronavirus Nightmare Could Be the End for Europe\\'s Borderless Dream\". The New York Times. 26 February 2020.\\n\\n^ \"Coronavirus in India: Latest Map and Case Count\". covid19india.org. Retrieved 11 June 2020.\\n\\n^ \"Countries Evaluate Evacuation of Citizens Amid Wuhan Coronavirus Panic\". Associated Press. Retrieved 31 January 2020 – via The Diplomat. * Press, ANI. \"Coronavirus: Second plane carrying 323 Indians from Wuhan to reach Delhi today\". India Today. Retrieved 2 February 2020. * NWS, VRT (27 January 2020). \"België haalt landgenoten terug uit Chinese provincie Hubei na uitbraak coronavirus\". VRT Nws. Vlaamse Radio- en Televisieomroeporganisatie. * Nathalia T (30 January 2020). \"Last-Minute Preparations Underway to Evacuate Indonesian Citizens From Coronavirus-Ravaged Wuhan\". Jakarta Globe. * \"C130 aircraft on standby for Wuhan evacuation\". Bangkok Post. 26 January 2020. Retrieved 26 January 2020. * Jiang S, Stracqualursi V (25 January 2020). \"US arranging charter flight to evacuate American diplomats and citizens out of China amid coronavirus outbreak, official says\". CNN. Archived from the original on 26 January 2020. Retrieved 27 January 2020. * \"PH sending special flights to get Pinoys from Wuhan, Hubei in China\". Tempo: News in a Flash. Manila, Philippines. 29 January 2020. Retrieved 29 January 2020.\\n\\n^ \"Aviões decolam de Wuhan, na China, com 40 passageiros repatriados ao Brasil e à Polônia\". G1 (in Portuguese). 7 February 2020. Retrieved 9 February 2020.\\n\\n^ \"Air New Zealand flight with kiwi evacuees departs Wuhan\". Stuff (company). 5 February 2020.\\n\\n^ \"Repatriated citizens to be reunited with families\". SANews.gov.zanews24.com. 29 March 2020. Retrieved 31 March 2020.\\n\\n^ \"Pakistan cancels flights to China as fears of coronavirus spread\". Dialogue Pakistan. 31 January 2020. Retrieved 5 April 2020.\\n\\n^ Wang V, Rich M, Bradsher K (15 February 2020). \"Shifting Ground in Coronavirus Fight: U.S. Will Evacuate Americans From Cruise Ship\". The New York Times. Retrieved 15 February 2020.\\n\\n^ \"Cruise ship passengers begin 14-day quarantine in Cornwall, Ont\". CBC News. 21 February 2020.\\n\\n^ Roche E (9 March 2020). \"Coronavirus: India sending IAF aircraft to evacuate its nationals from Iran\". LiveMint.com. Retrieved 9 March 2020.\\n\\n^ \"4th batch of 53 Indians evacuated from Iran: S Jaishankar\". The Economic Times. 16 March 2020. Retrieved 28 March 2020.\\n\\n^ Kheel, Rebecca (20 March 2020). \"US-led coalition in Iraq drawing down over coronavirus concerns\". The Hill. Retrieved 7 April 2020.\\n\\n^ \"UN tallies action so far to fight COVID-19, and roadmap out of the pandemic\". UN News. 25 June 2020. Retrieved 4 August 2020.\\n\\n^ \"Global Ceasefire Call Deserves UN Security Council\\'s Full Support\". Crisis Group. 9 April 2020. Retrieved 1 August 2020.\\n\\n^ Borger, Julian (18 April 2020). \"Caught in a superpower struggle: the inside story of the WHO\\'s response to coronavirus\". The Guardian. Retrieved 19 April 2020.\\n\\n^ Miller JY (7 February 2020). \"WashU Expert: Coronavirus far greater threat than SARS to global supply chain\". The Source. Retrieved 13 February 2020.\\n\\n^ McLean R, He L, Tappe A (24 February 2020). \"Dow plunges 1,000 points as coronavirus cases surge in South Korea and Italy\". CNN.\\n\\n^ \"FTSE 100 plunges 3.7 per cent as Italy confirms sixth coronavirus death\". City A.M. London. 24 February 2020.\\n\\n^ Tappe A. \"Dow falls 1,191 points – the most in history\". CNN. Retrieved 28 February 2020.\\n\\n^ Oh S (28 February 2020). \"Stocks record worst week since financial crisis as coronavirus concerns heat up\". Market Watch. Retrieved 28 February 2020.\\n\\n^ \"Scope affirms China\\'s sovereign rating at A+ and maintains the Outlook at Negative\". Scope Ratings GmbH. 28 February 2020. Retrieved 11 March 2020.\\n\\n^ \"Stocks Plummet as Grim Economic Outlook Grips Markets: Live Updates\". The New York Times. 16 March 2020. Retrieved 16 March 2020.\\n\\n^ Keown, Callum (14 May 2020). \"Global insurers face losses of $204 billion from Coronavirus, more than 9/11 and 2017 hurricanes, says Lloyd\\'s of London\". MarketWatch. Retrieved 28 May 2020.\\n\\n^ \"Collapsed Flybe: \\'Do not travel to the airport\\'\". BBC News. 5 March 2020.\\n\\n^ Turner B (4 April 2020). \"\\'Most significant crisis in the history of travel\\': where to now for tourism?\". The Sydney Morning Herald. Retrieved 5 April 2020.\\n\\n^ \"Coronavirus scare: Complete list of airlines suspending flights\". India Today. Reuters. 27 February 2020. Retrieved 7 March 2020.\\n\\n^ Cherney, Mike; Craymer, Lucy (5 May 2020). \"You\\'ve Got Mail ... Finally: The Pandemic Is Jamming Up the World\\'s Post\". Retrieved 15 May 2020.\\n\\n^ National Retail Federation (21 March 2020), Coronavirus Resources for Retailers, retrieved 23 March 2020\\n\\n^ Inc, Aislelabs (2 April 2020), How Retailers Globally are Responding to Coronavirus by Aislelabs, retrieved 3 April 2020\\n\\n^ Aislelabs (23 March 2020), How Shopping Centres Globally are Responding to Coronavirus by Aislelabs, retrieved 23 March 2020\\n\\n^ \"Half the world\\'s workers face losing their jobs, says ILO\". Al Jazeera. 29 April 2020.\\n\\n^ \"No jobs, so what future? Half the world\\'s workforce on the edge\". The Monitor. 6 May 2020.\\n\\n^ Romm, Tony (28 May 2020). \"Americans have filed more than 40 million jobless claims in past 10 weeks, as another 2.1 million filed for benefits last week\". The Washington Post.\\n\\n^ \"43 million Americans at risk of eviction as relief programs and moratorium expire: \"It\\'s a nightmare\"\". CBS News. 31 July 2020.\\n\\n^ \"32% of Americans had outstanding housing payments at the beginning of August\". CNBC. 6 August 2020.\\n\\n^ \"Millions of Americans at risk of eviction after moratorium expired\". Fox News. 12 August 2020.\\n\\n^ \"As Stimulus Talks Stalemate, New Report Finds 40 Million Americans Could Be At Risk Of Eviction\". Forbes. 7 August 2020.\\n\\n^ \"Yelp data shows 60% of business closures due to the coronavirus pandemic are now permanent\". CNBC. 16 September 2020.\\n\\n^ Fariza I (3 April 2020). \"La pandemia amenaza con dejar entre 14 y 22 millones de personas más en pobreza extrema en Latinoamérica\". EL PAÍS (in Spanish). Retrieved 3 April 2020.\\n\\n^ \"Updated estimates of the impact of COVID-19 on global poverty\". World Bank. 8 June 2020.\\n\\n^ \"Extreme poverty rises and a generation sees future slip away\". AP News. 10 August 2020.\\n\\n^ \"Pandemic slashes worldwide income from work by a tenth: ILO\". Reuters. Retrieved 23 September 2020.\\n\\n^ Tkyo K (29 February 2020). \"Coronavirus fears empty store shelves of toilet paper, bottled water, masks as shoppers stock up\". USA Today.\\n\\n^ Yuen, Kum Fai; Wang, Xueqin; Ma, Fei; Li, Kevin X. (2020). \"The psychological causes of panic buying following a health crisis\". International Journal of Environmental Research and Public Health. 17 (10): 3513. doi:10.3390/ijerph17103513. PMC\\xa07277661. PMID\\xa032443427. S2CID\\xa0218856048.\\n\\n^ Strumpf D (31 January 2020). \"Tech Sector Fears Supply Delays as Effects of Virus Ripple Through China\". The Wall Street Journal. ISSN\\xa00099-9660. Retrieved 26 February 2020.\\n\\n^ Nebehay S (7 February 2020). \"Procura por máscaras aumenta 100 vezes e prejudica luta contra o coronavírus\". Reuters Brasil (in Portuguese). Retrieved 7 March 2020.\\n\\n^ Boseley S (7 February 2020). \"WHO warns of global shortage of face masks and protective suits\". The Guardian. ISSN\\xa00261-3077. Retrieved 12 February 2020.\\n\\n^ \"Shortage of personal protective equipment endangering health workers worldwide\". World Health Organization (WHO). Retrieved 5 March 2020.\\n\\n^ \"Corona snijdt ook in het vlees van de drugsmaffia\". DS Standaard. 11 April 2020. Retrieved 20 April 2020.\\n\\n^ Grierson, Jamie (12 April 2020). \"Coronavirus triggers UK shortage of illicit drugs\". The Guardian. Retrieved 20 April 2020.\\n\\n^ Vincent, Isabel (28 March 2020). \"Coronavirus pandemic drives up price of heroin, meth and fentanyl\". New York Post. Retrieved 20 April 2020.\\n\\n^ Torero, Maximo (14 April 2020). \"How to Stop a Looming Food Crisis\". Foreign Policy.\\n\\n^ \"Global hunger could double due to coronavirus pandemic: UN\". Al Jazeera. 21 April 2020.\\n\\n^ a b \"Coronavirus: World risks \\'biblical\\' famines due to pandemic – UN\". BBC News. 21 April 2020.\\n\\n^ \"Senior Officials Sound Alarm over Food Insecurity, Warning of Potentially \\'Biblical\\' Famine, in Briefings to Security Council\". United Nations. 21 April 2020.\\n\\n^ \"\\'Instead of Coronavirus, the Hunger Will Kill Us.\\' A Global Food Crisis Looms\". The New York Times. 22 April 2020.\\n\\n^ Reed S (3 February 2020). \"OPEC Scrambles to React to Falling Oil Demand From China\". The New York Times. ISSN\\xa00362-4331. Retrieved 14 February 2020.\\n\\n^ a b US oil prices turn negative as demand dries up, BBC, 21 April 2020.\\n\\n^ \"Here are the museums that have closed (so far) due to coronavirus\". theartnewspaper.com. Retrieved 29 March 2020.\\n\\n^ \"The Ultimate Guide to Virtual Museum Resources\". MCN. 15 March 2020. Retrieved 29 March 2020.\\n\\n^ a b c d e Burke D (14 March 2020). \"What churches, mosques and temples are doing to fight the spread of coronavirus\". CNN. Retrieved 16 March 2020.\\n\\n^ Hadden J (2 March 2020). \"Over 20,000 people have signed a petition to cancel SXSW over coronavirus worries. Here\\'s a list of all the major event cancellations due to the outbreak so far\". Business Insider. Retrieved 3 March 2020.\\n\\n^ Parke, Caleb (13 March 2020). \"Churches cancel Sunday service, move online amid coronavirus outbreak\". Fox News Channel. Retrieved 16 March 2020.\\n\\n^ \"Westerville church offering \\'drive in\\' service\". WBNS-TV. 22 March 2020. Archived from the original on 22 March 2020. Retrieved 22 March 2020.\\n\\n^ Al Omran A, Kerr S (27 February 2020). \"Saudi Arabia bans Mecca pilgrimages over coronavirus fears\". Financial Times.\\n\\n^ \"Coronavirus: Saudi Arabia bans all Umrah pilgrimage to Mecca\". Middle East Eyes. 4 March 2020.\\n\\n^ \"\\'Unprecedented\\' Hajj begins – with 1,000 pilgrims, rather than the usual 2 million\". CNN. 29 July 2020.\\n\\n^ \"All of next week\\'s UEFA matches postponed\". UEFA. 13 March 2020.\\n\\n^ Edwards, Harry (13 March 2020). \"Premier League 2019/20 season suspended after coronavirus cases at Chelsea, Arsenal and more\". squawka.com.\\n\\n^ Close D, Jackson A. \"NBA suspends its season after player tests positive for coronavirus\". CNN. Archived from the original on 12 March 2020. Retrieved 12 March 2020.\\n\\n^ \"NHL statement on coronavirus\". National Hockey League. 12 March 2020. Archived from the original on 14 March 2020. Retrieved 13 March 2020.\\n\\n^ \"Tokyo 2020: Olympic Games organisers \\'agree postponement\\'\". BBC Sport. 24 March 2020. Retrieved 24 March 2020.\\n\\n^ McCurry, Justin; Ingle, Sean (24 March 2020). \"Tokyo Olympics postponed to 2021 due to coronavirus pandemic\". The Guardian. ISSN\\xa00261-3077. Retrieved 24 March 2020.\\n\\n^ \"IOC, IPC, Tokyo 2020 Organising Committee and Tokyo Metropolitan Government Announce New Dates for the Olympic and Paralympic Games Tokyo 2020\". olympic.org. 30 March 2020. Archived from the original on 30 March 2020. Retrieved 30 March 2020.\\n\\n^ \"How the coronavirus outbreak is roiling the film and entertainment industries\". Vox. 13 March 2020.\\n\\n^ \"Coronavirus brings entertainment world to a standstill\". Associated Press. 13 March 2020.\\n\\n^ Savage, Mark (18 March 2020). \"Eurovision Song Contest cancelled over coronavirus\". BBC News. Retrieved 25 May 2020.\\n\\n^ \"Rotterdam returns as Eurovision Song Contest Host City in 2021\". European Broadcasting Union. 16 May 2020. Retrieved 15 June 2020.\\n\\n^ \"Broadway theaters to suspend all performances because of coronavirus\". CNN. 12 March 2020. Archived from the original on 13 March 2020. Retrieved 13 March 2020.\\n\\n^ Fadroski KS (15 March 2020). \"Coronavirus canceled their concerts, so artists like Yungblud are looking to live stream shows to fans\". Daily Breeze.\\n\\n^ Brenner, Wayne Alan (15 March 2020). \"The Social Distancing Festival Is Live Online\". Austin Chronicle.\\n\\n^ \"How to Combat Zoom Fatigue\". 29 April 2020 – via hbr.org.\\n\\n^ \"Walmart Reports Increased Sales In Tops, Not Bottoms, As More People Telework\". NPR.org.\\n\\n^ Harris M. \"Coronavirus memes are spreading as the disease travels across the world – here\\'s what they look like and why creators say they\\'re important\". Insider. Retrieved 8 April 2020.\\n\\n^ Andrews, Travis M. \"Room Rater was a beloved pandemic distraction. But the backlash has arrived, courtesy of Jeb Bush\" – via www.washingtonpost.com.\\n\\n^ Tumilty, Ryan (13 March 2020). \"Federal government announces aggressive measures to battle COVID-19 as parliament suspended until April\". National Post. Retrieved 30 April 2020.\\n\\n^ Mackinnon A, Palder D (18 March 2020). \"Coronavirus in the Corridors of Power\". Foreign Policy. Retrieved 30 April 2020.\\n\\n^ Corasaniti N, Saul S (27 April 2020). \"15 States Have Postponed Primaries During the Pandemic. One Has Canceled\". The New York Times. ISSN\\xa00362-4331. Retrieved 30 April 2020.\\n\\n^ \"Protests could cause catastrophic setback for controlling coronavirus, experts say\". NBC News. Retrieved 1 June 2020.\\n\\n^ The Economist, 4 April 2020, page 14.\\n\\n^ \"Transcript of the Secretary-General\\'s virtual press encounter on the appeal for global ceasefire\". United Nations Secretary-General. 23 March 2020. Retrieved 1 August 2020.\\n\\n^ \"COVID-19: UN chief calls for global ceasefire to focus on \\'the true fight of our lives\\'\". UN News. 23 March 2020. Retrieved 1 August 2020.\\n\\n^ \"170 signatories endorse UN ceasefire appeal during COVID crisis\". UN News. 24 June 2020. Retrieved 1 August 2020.\\n\\n^ \"S/RES/2532(2020) – E – S/RES/2532(2020)\". undocs.org. Retrieved 1 August 2020.\\n\\n^ \"Stalled Security Council resolution adopted, backing UN\\'s global humanitarian ceasefire call\". UN News. 1 July 2020. Retrieved 1 August 2020.\\n\\n^ \"U.S. and China Turn Coronavirus into a Geopolitical Football\". Foreign policy. 11 March 2020.\\n\\n^ \"Michael Gove appears to blame China over lack of UK coronavirus testing\". The Guardian. 29 March 2020.\\n\\n^ \"China Outraged as Bolsonaro\\'s Son Blames Virus on Beijing\". Bloomberg. 19 March 2020.\\n\\n^ Bostock B (13 February 2020). \"China sacked a brace of top officials in Hubei province, likely in a move to protect Xi Jinping from people\\'s anger over the coronavirus outbreak\". Business Insider. Retrieved 26 February 2020.\\n\\n^ \"C.I.A. Hunts for Authentic Virus Totals in China, Dismissing Government Tallies\". The New York Times. 2 April 2020.\\n\\n^ \"China Denies Cover-Up, Rejects \\'Politicization\\' of Coronavirus\". Bloomberg. Retrieved 7 June 2020.\\n\\n^ \"China CDC informs U.S. of COVID-19 on Jan. 4: white paper\". Xinhua News Agency. Retrieved 7 June 2020.\\n\\n^ \"Italy criticises EU for being slow to help over coronavirus epidemic\". The Guardian. 11 March 2020.\\n\\n^ \"The EU Is Abandoning Italy in Its Hour of Need\". Foreign Policy. 14 March 2020.\\n\\n^ \"China is winning the coronavirus propaganda war\". Politico. 18 March 2020.\\n\\n^ \"Russian army to send coronavirus help to Italy after Putin phone call\". Reuters. 22 March 2020.\\n\\n^ Vivaldelli R (28 March 2020). \"Quelle polemiche infondate sugli aiuti russi all\\'Italia\". Il Giornale.\\n\\n^ \"Where Has Russia Sent Coronavirus Aid Around the World?\". The Moscow Times. 1 April 2020.\\n\\n^ \"Russian plane takes off for US with coronavirus help on board\". Al Jazeera. 1 April 2020.\\n\\n^ \"Coronavirus: EU Medical Teams deployed to Italy\". Europa.eu. 1 July 2020.\\n\\n^ \"EU offers \\'heartfelt apology\\' to Italy over coronavirus response\". The Guardian. 1 July 2020.\\n\\n^ Rouan, Rick (20 April 2020). \"Protesters at Statehouse demand state reopen as DeWine announces schools to remain closed\". The Columbus Dispatch. Retrieved 3 May 2020.\\n\\n^ Miller, Claire Cain (10 April 2020). \"Could the Pandemic Wind Up Fixing What\\'s Broken About Work in America?\". The New York Times. Retrieved 3 May 2020.\\n\\n^ Swanson, Ian (2 May 2020). \"Five ways the coronavirus could change American politics\". The Hill. Retrieved 3 May 2020.\\n\\n^ \"America\\'s botched response to the coronavirus is a problem bigger than Donald Trump\". Boston Globe.\\n\\n^ Haberman M, Martin J (12 March 2020). \"Trump\\'s Re-election Chances Suddenly Look Shakier\". The New York Times. ISSN\\xa00362-4331. Retrieved 15 March 2020.\\n\\n^ Lowrey, Annie (3 April 2020). \"The Economy Is Collapsing. So Are Trump\\'s Reelection Chances\". The Atlantic. Retrieved 3 May 2020.\\n\\n^ \"Coronavirus: Anti-Lockdown Protests Grow Across US\". BBC News. 17 April 2020. Archived from the original on 17 April 2020. Retrieved 17 April 2020.\\n\\n^ Russ, Hilary (30 March 2020). \"Instacart, Amazon workers strike as labor unrest grows during coronavirus crisis\". Reuters. Retrieved 24 July 2020.\\n\\n^ Baker, Peter; Haberman, Maggie (3 October 2020). \"Trump Tests Positive for the Coronavirus\". The New York Times. ISSN\\xa00362-4331. Retrieved 3 October 2020.\\n\\n^ \"How coronavirus derailed the largest Nato exercise in 25 years\". The Spectator. 20 March 2020.\\n\\n^ Emmott, Robin (19 March 2020). \"NATO scales down exercises due to coronavirus\". Reuters. Retrieved 21 October 2020.\\n\\n^ \"Nato must end \\'dangerous and irresponsible\\' military exercise on Russia\\'s border, campaigners say\". Morning Star. 18 March 2020.\\n\\n^ \"Will Iran\\'s Regime Survive Coronavirus?\". National Review. 12 March 2020. Retrieved 15 March 2020.\\n\\n^ \"U.S. sanctions \\'severely hamper\\' Iran coronavirus fight, Rouhani says\". Reuters. 14 March 2020.\\n\\n^ Haverty, Dan; Gramer, Robbie; Detsch, Jack (9 April 2020). \"Coronavirus Pandemic Forces a Cease-Fire in Yemen\". Foreign Policy. Retrieved 21 October 2020.\\n\\n^ \"Japan and Korea Won\\'t Let A Pandemic Stop Them Fighting\". Foreign Policy. 12 March 2020.\\n\\n^ Farrer, Justin; McCurry, Martin (6 March 2020). \"Coronavirus quarantine plans ignite row between South Korea and Japan\". The Guardian. Retrieved 21 October 2020.\\n\\n^ \"Authoritarian leaders may use Covid-19 crisis to tighten their grip\". The Guardian. 31 March 2020.\\n\\n^ \"For Autocrats, and Others, Coronavirus Is a Chance to Grab Even More Power\". The New York Times. 30 March 2020.\\n\\n^ a b \"Some leaders use pandemic to sharpen tools against critics\". ABC News. 16 April 2020.\\n\\n^ \"Hungarian parliament votes to let Viktor Orban rule by decree in wake of coronavirus pandemic\". CNN. 30 March 2020.\\n\\n^ \"Reporting on the coronavirus: Egypt muzzles critical journalists\". Deutsche Welle. 3 April 2020.\\n\\n^ \"Coronavirus Has Started a Censorship Pandemic\". The Foreign Policy. 1 April 2020.\\n\\n^ \"Asia cracks down on coronavirus \\'fake news\\'\". The Straits Times. 10 April 2020.\\n\\n^ a b \"Q&A: COVID-19 pandemic – impact on food and agriculture\". Food and Agriculture Organization of the United Nations. Retrieved 16 October 2020.\\n\\n^ a b c \"The State of Food Security and Nutrition in the World 2020 | FAO | Food and Agriculture Organization of the United Nations\". www.fao.org. Retrieved 16 October 2020.\\n\\n^ Daventry, Michael (14 July 2020). \"World hunger rising and COVID-19 threatens to make it worse, says UN\". euronews. Retrieved 16 October 2020.\\n\\n^ \"Coronavirus crisis could double number of people suffering acute hunger – UN\". the Guardian. 21 April 2020. Retrieved 16 October 2020.\\n\\n^ \"2020 Global report on food crises: Joint analysis for better decisions\". www.ifpri.org. FOOD SECURITY INFORMATION NETWORK (FSIN). Retrieved 16 October 2020.\\n\\n^ a b correspondent, Fiona Harvey Environment (21 April 2020). \"Coronavirus pandemic \\'will cause famine of biblical proportions\\'\". The Guardian. ISSN\\xa00261-3077. Retrieved 19 June 2020.\\n\\n^ \"UN food agency chief: World on brink of \\'a hunger pandemic\\'\". ABC News. Retrieved 19 June 2020.\\n\\n^ a b \"12,000 people per day could die from Covid-19 linked hunger by end of year, potentially more than the disease, warns Oxfam\". Oxfam International. 9 July 2020. Retrieved 9 July 2020.\\n\\n^ correspondent, Fiona Harvey Environment (21 April 2020). \"Coronavirus crisis could double number of people suffering acute hunger – UN\". The Guardian. ISSN\\xa00261-3077. Retrieved 19 June 2020.\\n\\n^ \"COVID 19 Today and China\\'s Great Famine\". The Globalist. 16 May 2020. Retrieved 19 June 2020.\\n\\n^ \"2020 GLOBAL REPORT ON FOOD CRISES\". WFP. 22 April 2020.\\n\\n^ \"Education: From disruption to recovery\". UNESCO. 4 March 2020. Retrieved 12 October 2020.\\n\\n^ Garcia S, Albaghdadi MS, Meraj PM, Schmidt C, Garberich R, Jaffer FA,  et\\xa0al. (June 2020). \"Reduction in ST-Segment Elevation Cardiac Catheterization Laboratory Activations in the United States During COVID-19 Pandemic\". Journal of the American College of Cardiology. 75 (22): 2871–2872. doi:10.1016/j.jacc.2020.04.011. PMC\\xa07151384. PMID\\xa032283124.\\n\\n^ a b \\'Where are all our patients?\\': Covid phobia is keeping people with serious heart symptoms away from ERs, Stat News, Usha Lee McFarling, 23 April 2020.\\n\\n^ Faust JS (28 April 2020). \"Medication Shortages Are the Next Crisis\". The Atlantic. Retrieved 17 May 2020.\\n\\n^ \"Sexually transmitted infections surveillance reports - Reports\". www.health.nsw.gov.au. Retrieved 9 May 2020.\\n\\n^ Wareham J. \"U.K. Lockdown Has \\'Broken HIV Chain\\' With Huge Reduction In New STI Cases\". Forbes. Retrieved 9 May 2020.\\n\\n^ Cowling BJ, Ali ST, Ng TW, Tsang TK, Li JC, Fong MW,  et\\xa0al. (May 2020). \"Impact assessment of non-pharmaceutical interventions against coronavirus disease 2019 and influenza in Hong Kong: an observational study\". The Lancet. Public Health. 5 (5): e279–e288. doi:10.1016/S2468-2667(20)30090-6. PMC\\xa07164922. PMID\\xa032311320.\\n\\n^ Klein A. \"Australia sees huge decrease in flu cases due to coronavirus measures\". New Scientist. Retrieved 9 May 2020.\\n\\n^ \"Weekly U.S. Influenza Surveillance Report (FluView)\". U.S. Centers for Disease Control and Prevention (CDC). 8 May 2020. Retrieved 9 May 2020.\\n\\n^ Brooks SK, Webster RK, Smith LE, Woodland L, Wessely S, Greenberg N, Rubin GJ (March 2020). \"The psychological impact of quarantine and how to reduce it: rapid review of the evidence\". Lancet. 395 (10227): 912–920. doi:10.1016/S0140-6736(20)30460-8. PMC\\xa07158942. PMID\\xa032112714. Archived from the original on 13 March 2020. Retrieved 20 March 2020.\\n\\n^ Surkova E, Nikolayevskyy V, Drobniewski F (September 2020). \"False-positive COVID-19 results: hidden problems and costs\". The Lancet. Respiratory Medicine: S2213260020304537. doi:10.1016/S2213-2600(20)30453-7. PMC\\xa07524437. PMID\\xa033007240.\\n\\n^ Czeisler MÉ, Lane RI, Petrosky E, Wiley JF, Christensen A, Njai R,  et\\xa0al. (August 2020). \"Mental Health, Substance Use, and Suicidal Ideation During the COVID-19 Pandemic - United States, June 24-30, 2020\". MMWR. Morbidity and Mortality Weekly Report. 69 (32): 1049–1057. doi:10.15585/mmwr.mm6932a1. PMC\\xa07440121. PMID\\xa032790653.\\n\\n^ \"Earth Observatory\". Archived from the original on 2 April 2020. Retrieved 9 April 2020.\\n\\n^ Team, The Visual and Data Journalism (28 March 2020). \"Coronavirus: A visual guide to the pandemic\". BBC News. Archived from the original on 27 March 2020.\\n\\n^ Rutz, Christian; Loretto, Matthias-Claudio; Bates, Amanda E.; Davidson, Sarah C.; Duarte, Carlos M.; Jetz, Walter; Johnson, Mark; Kato, Akiko; Kays, Roland; Mueller, Thomas; Primack, Richard B. (September 2020). \"COVID-19 lockdown allows researchers to quantify the effects of human activity on wildlife\". Nature Ecology & Evolution. 4 (9): 1156–1159. doi:10.1038/s41559-020-1237-z. ISSN\\xa02397-334X.\\n\\n^ Venter, Zander S.; Aunan, Kristin; Chowdhury, Sourangsu; Lelieveld, Jos (11 August 2020). \"COVID-19 lockdowns cause global air pollution declines\". Proceedings of the National Academy of Sciences. 117 (32): 18984–18990. doi:10.1073/pnas.2006853117. ISSN\\xa00027-8424. PMID\\xa032723816. S2CID\\xa0220850924.\\n\\n^ Myllyvirta, Lauri (19 February 2020). \"Analysis: Coronavirus has temporarily reduced China\\'s CO2 emissions by a quarter\". CarbonBrief. Archived from the original on 4 March 2020. Retrieved 16 March 2020.\\n\\n^ Zhang, Ruixiong; Zhang, Yuzhong; Lin, Haipeng; Feng, Xu; Fu, Tzung-May; Wang, Yuhang (April 2020). \"NOx Emission Reduction and Recovery during COVID-19 in East China\". Atmosphere. 11 (4): 433. Bibcode:2020Atmos..11..433Z. doi:10.3390/atmos11040433. S2CID\\xa0219002558. Retrieved 6 May 2020.\\n\\n^ Burke, Marshall. \"COVID-19 reduces economic activity, which reduces pollution, which saves lives\". Global Food, Environment and Economic Dynamics. Retrieved 16 May 2020.\\n\\n^ McMahon, Jeff (16 March 2020). \"Study: Coronavirus Lockdown Likely Saved 77,000 Lives In China Just By Reducing Pollution\". Forbes. Archived from the original on 17 March 2020. Retrieved 16 March 2020.\\n\\n^ Simon, Frédéric (27 May 2020). \"\\'Do no harm\\': EU recovery fund has green strings attached\". www.euractiv.com. Retrieved 4 June 2020.\\n\\n^ Carpenter, Scott. \"As Europe Unveils \\'Green\\' Recovery Package, Trans-Atlantic Rift On Climate Policy Widens\". Forbes. Retrieved 4 June 2020.\\n\\n^ \"France and Germany Bring European Recovery Fund Proposal to Table\". South EU Summit. 4 June 2020. Retrieved 4 June 2020.\\n\\n^ \"Deforestation of Amazon rainforest accelerates amid COVID-19 pandemic\". ABC News. 6 May 2020.\\n\\n^ \"Deforestation of the Amazon has soared under cover of the coronavirus\". NBC News. 11 May 2020.\\n\\n^ \"Conservationists fear African animal poaching will increase during COVID-19 pandemic\". ABC News. 14 April 2020.\\n\\n^ \"\\'Filthy bloody business:\\' Poachers kill more animals as coronavirus crushes tourism to Africa\". CNBC. 24 April 2020.\\n\\n^ \"Cop26 climate talks postponed to 2021 amid coronavirus pandemic\". Climate Home News. 1 April 2020. Archived from the original on 4 April 2020. Retrieved 2 April 2020.\\n\\n^ Newburger, Emma (13 March 2020). \"Coronavirus could weaken climate change action and hit clean energy investment, researchers warn\". CNBC. Archived from the original on 15 March 2020. Retrieved 16 March 2020.\\n\\n^ Burton N (7 February 2020). \"The coronavirus exposes the history of racism and \"cleanliness\"\". Vox. Archived from the original on 7 February 2020. Retrieved 9 February 2020.\\n\\n^ \"Fears of new virus trigger anti-China sentiment worldwide\". The Korea Times. 2 February 2020.\\n\\n^ \"Coronavirus fuels anti-Chinese discrimination in Africa\". Deutsche Welle. 19 February 2020.\\n\\n^ Wangkiat, Paritta (10 February 2020). \"Virus-induced racism does no one any good\". Bangkok Post.\\n\\n^ Bartholomew, Robert (6 February 2020). \"The Coronavirus and the Search for Scapegoats\". Psychology Today.\\n\\n^ Smith N (1 February 2020). \"Anti-Chinese racism spikes as virus spreads globally\". The Telegraph. \\'Some Muslims were claiming the disease was \"divine retribution\" for China\\'s oppression of the Uighur minority. The problem lay in confusing the Chinese population with the actions of an authoritarian government known for its lack of transparency,\\' he said.\\n\\n^ Tavernise S, Oppel Jr RA (23 March 2020). \"Spit On, Yelled At, Attacked: Chinese-Americans Fear for Their Safety\". The New York Times. Retrieved 23 March 2020.\\n\\n^ \"London Racially Motivated Assault due to Coronavirus\". ITV News. Retrieved 4 March 2020.\\n\\n^ La Gorce, Tammy (5 April 2020). \"Chinese-Americans, Facing Abuse, Unite to Aid Hospitals in Coronavirus Battle\". The New York Times. Retrieved 29 April 2020.\\n\\n^ Rogers K, Jakes L, Swanson A (18 March 2020). \"Trump Defends Using \\'Chinese Virus\\' Label, Ignoring Growing Criticism\". The New York Times. Archived from the original on 20 March 2020. Retrieved 20 March 2020.\\n\\n^ \"Republicans are using racism against China to try to distract from Trump\\'s disastrous coronavirus response\". Business Insider. 20 March 2020.\\n\\n^ Lee, Bruce Y. \"Trump Once Again Calls Covid-19 Coronavirus The \\'Kung Flu\\'\". Forbes. Retrieved 9 July 2020.\\n\\n^ Wray, Meaghan. \"Stabbing attack on Asian family deemed coronavirus hate crime, FBI says\". Global News. Retrieved 7 September 2020.\\n\\n^ \"Italy Shows Just How Crazy Coronavirus Panic Can Get\". The Daily Beast. 29 February 2020.\\n\\n^ \"Italians Are Being Treated as a Risk Abroad Over Coronavirus\". The Wall Street Journal. 28 February 2020.\\n\\n^ Kolachalam N (9 April 2020). \"Indian Muslims Are Being Scapegoated for the Coronavirus\". Slate. Retrieved 10 April 2020.\\n\\n^ \"Violence flares in tense Paris suburbs as heavy-handed lockdown stirs \\'explosive cocktail\\'\". France 24. 21 April 2020.\\n\\n^ \"Covid-19 Fueling Anti-Asian Racism and Xenophobia Worldwide\". Human Rights Watch. 12 May 2020.\\n\\n^ \"Gulf coronavirus racism scandals shine light on conditions for migrants\". TRT World. 17 April 2020. Retrieved 17 May 2020.\\n\\n^ \"The COVID-19 crisis is fueling more racist discourse towards migrant workers in the Gulf\". Migrant Rights. 5 April 2020.\\n\\n^ Thoreson, Ryan (13 May 2020). \"Covid-19 Backlash Targets LGBT People in South Korea\". Human Rights Watch.\\n\\n^ Banka, Neha (21 May 2020). \"Explained: Why South Korea\\'s new Covid-19 outbreak has the LGBTQ community worried\". The Indian Express.\\n\\n^ Asiedu KG. \"After enduring months of lockdown, Africans in China are being targeted and evicted from apartments\". Quartz Africa. Retrieved 13 April 2020.\\n\\n^ Marsh J. \"Beijing faces a diplomatic crisis after reports of mistreatment of Africans in China causes outrage\". CNN. Retrieved 14 April 2020.\\n\\n^ \"NIH COVID-19 Portfolio\". Retrieved 9 August 2020.\\n\\n^ Jerde S (12 March 2020). \"Major Publishers Take Down Paywalls for Coronavirus Coverage\". Adweek. Retrieved 25 March 2020.\\n\\n^ \"Sharing research data and findings relevant to the novel coronavirus (COVID-19) outbreak\". wellcome.ac.uk (Press release). 31 January 2020. Retrieved 13 February 2020.\\n\\n^ Aristovnik A, Ravšelj D, Umek L (November 2020). \"A Bibliometric Analysis of COVID-19 across Science and Social Science Research Landscape\". Sustainability. 12 (21): 9132. doi:10.3390/su12219132.\\n\\n^ Rogers A (31 January 2020). \"Coronavirus Research Is Moving at Top Speed – With a Catch\". Wired. ISSN\\xa01059-1028. Retrieved 13 February 2020.\\n\\n^ Hannah Murphy, Mark Di Stefano & Katrina Manson (20 March 2020). \"Huge text message campaigns spread coronavirus fake news\". Financial Times.\\n\\n^ Stolberg, Sheryl Gay; Weiland, Noah (22 October 2020). \"Study Finds \\'Single Largest Driver\\' of Coronavirus Misinformation: Trump\" – via NYTimes.com.(Study)\\n\\n^ Affairs, Office of Regulatory (4 January 2021). \"Fraudulent Coronavirus Disease 2019 (COVID-19) Products\". FDA.\\n\\n^ Kowalczyk, Oliwia; Roszkowski, Krzysztof; Montane, Xavier; Pawliszak, Wojciech; Tylkowski, Bartosz; Bajek, Anna (1 December 2020). \"Religion and Faith Perception in a Pandemic of COVID-19\". Journal of Religion and Health. 59 (6): 2671–2677. doi:10.1007/s10943-020-01088-3. ISSN\\xa01573-6571. PMC\\xa07549332. PMID\\xa033044598.\\n\\n^ \"COVID: Top 10 current conspiracy theories\". Alliance for Science. Retrieved 5 January 2021.\\n\\n^ Kassam N (25 March 2020). \"Disinformation and coronavirus\". The Interpreter. Lowy Institute.\\n\\n\\nFurther reading\\n\"Progress report on the coronavirus pandemic\". Nature. 584 (7821): 325. 20 August 2020. doi:10.1038/d41586-020-02414-1. PMID\\xa032814893.\\nTay MZ, Poh CM, Rénia L, MacAry PA, Ng LF (June 2020). \"The trinity of COVID-19: immunity, inflammation and intervention\". Nat. Rev. Immunol. 20 (6): 363–374. doi:10.1038/s41577-020-0311-8. PMC\\xa07187672. PMID\\xa032346093.\\nCOVID-19 infection prevention and control measures for primary care, including general practitioner practices, dental clinics and pharmacy settings: first update. European Centre for Disease Prevention and Control (ECDC) (Report). October 2020.\\n.mw-parser-output .refbegin{font-size:90%;margin-bottom:0.5em}.mw-parser-output .refbegin-hanging-indents>ul{list-style-type:none;margin-left:0}.mw-parser-output .refbegin-hanging-indents>ul>li,.mw-parser-output .refbegin-hanging-indents>dl>dd{margin-left:0;padding-left:3.2em;text-indent:-3.2em;list-style:none}.mw-parser-output .refbegin-100{font-size:100%}.mw-parser-output .refbegin-columns{margin-top:0.3em}.mw-parser-output .refbegin-columns dl,.mw-parser-output .refbegin-columns ol,.mw-parser-output .refbegin-columns ul{margin-top:0}.mw-parser-output .refbegin-columns li,.mw-parser-output .refbegin-columns dd{page-break-inside:avoid;break-inside:avoid-column}\\nBar-On YM, Flamholz A, Phillips R, Milo R (31 March 2020). \"SARS-CoV-2 (COVID-19) by the numbers\". eLife. 9. arXiv:2003.12886. Bibcode:2020arXiv200312886B. doi:10.7554/eLife.57309. PMC\\xa07224694. PMID\\xa032228860.\\nBrüssow H (March 2020). \"The Novel Coronavirus – A Snapshot of Current Knowledge\". Microbial Biotechnology. 2020 (3): 607–612. doi:10.1111/1751-7915.13557. PMC\\xa07111068. PMID\\xa032144890.\\nCascella M, Rajnik M, Cuomo A, Dulebohn SC, Di Napoli R (January 2020). \"Features, Evaluation and Treatment Coronavirus (COVID-19)\". StatPearls. PMID\\xa032150360. Archived from the original on 6 April 2020. Retrieved 4 April 2020.\\nHabibzadeh P, Stoneman EK (February 2020). \"The Novel Coronavirus: A Bird\\'s Eye View\". The International Journal of Occupational and Environmental Medicine. 11 (2): 65–71. doi:10.15171/ijoem.2020.1921. PMC\\xa07205509. PMID\\xa032020915.\\nFunk CD, Laferrière C, Ardakani A (2020). \"A Snapshot of the Global Race for Vaccines Targeting SARS-CoV-2 and the COVID-19 Pandemic\". Front Pharmacol. 11: 937. doi:10.3389/fphar.2020.00937. PMC\\xa07317023. PMID\\xa032636754.\\n\"Development and Licensure of Vaccines to Prevent COVID-19\" (PDF). U.S. Food and Drug Administration (FDA). June 2020. Lay summary.\\n\\nExternal links\\n\\n\\n\\nScholia has a profile for COVID-19 pandemic (Q81068910).\\n\\nHealth agencies\\nCOVID-19 (Questions & Answers, instructional videos; Facts/MythBusters) by the World Health Organization\\nCOVID-19 by the Government of Canada\\nCOVID-19 by the National Health Commission, China\\nCOVID-19 (Q&A) by the European Centre for Disease Prevention and Control\\nCOVID-19 (Q&A) by the Ministry of Health, Singapore\\nCOVID-19 (Q&A) by the U.S. Centers for Disease Control\\nNIH COVID-19 Portfolio by the U.S. National Institutes of Health\\nCoronavirus Disease 2019 (Q&A) by the U.S. National Institute for Occupational Safety and Health\\nDirectories\\nCOVID-19 Directory on Curlie\\nCOVID-19 Resource Directory on OpenMD\\nCoronavirus Resource Center at the Center for Inquiry\\nData and graphs\\nCoronavirus disease (COVID-2019) situation reports and map by the World Health Organization\\nCoronavirus Resource Center, map, and historical data by Johns Hopkins University\\nHistorical data about COVID-19 cases published by the European Centre for Disease Prevention and Control (ECDC)\\nWorld Travel Restrictions based on WFP data\\nCoronavirus Observer based on Johns Hopkins University data\\nCOVID-19 coronavirus pandemic published by Worldometer\\nCoronavirus Disease (COVID-19) Statistics and Research published by Our World in Data\\nCOVID-19 Projections for many countries published by Institute for Health Metrics and Evaluation\\nSpreadsheets: Country comparisons\\nSpreadsheets: Historical data with additional computations\\nEpidemic Calculator\\nStat News COVID-19 Tracker\\nMedical journals\\nCoronavirus: News and Resources by BMJ Publishing Group\\nNovel Coronavirus Information Center by Elsevier\\nCoronavirus Disease 2019 (COVID-19) by JAMA\\nCOVID-19 Resource Centre by The Lancet\\nSARS-CoV-2 and COVID-19 by Nature\\nCoronavirus (COVID-19) by The New England Journal of Medicine\\nCOVID-19 pandemic (2019–20) Collection by PLOS\\nCOVID-19: Novel Coronavirus by Wiley Publishing\\nvteCOVID-19 pandemic\\nSARS-CoV-2 (virus)\\nCOVID-19 (disease)\\nTimeline\\nPre-pandemic\\nCrimson Contagion\\nDisease X\\nEvent 201\\nExercise Cygnus\\n2019\\n2020\\nJanuary\\nFebruary\\nresponses\\nMarch\\nresponses\\nApril\\nresponses\\nMay\\nresponses\\nJune\\nresponses\\nJuly\\nresponses\\nAugust\\nresponses\\nSeptember\\nresponses\\nOctober\\nresponses\\nNovember\\nresponses\\nDecember\\nresponses\\n2021\\nJanuary\\nLocationsAfricaNorthern\\nAlgeria\\nCanary Islands\\nCeuta\\nEgypt\\nLibya\\nMauritania\\nMelilla\\nMorocco\\nSudan\\nTunisia\\nWestern Sahara\\nSahrawi Arab Democratic Republic\\nEastern\\nBurundi\\nComoros\\nDjibouti\\nEritrea\\nEthiopia\\nKenya\\nMadagascar\\nMauritius\\nMayotte\\nRéunion\\nRwanda\\nSeychelles\\nSomalia\\nPuntland\\nSomaliland\\nSouth Sudan\\nTanzania\\nUganda\\nSouthern\\nAngola\\nBotswana\\nEswatini\\nLesotho\\nMalawi\\nMozambique\\nNamibia\\nSouth Africa\\nZambia\\nZimbabwe\\nCentral\\nCameroon\\nCentral African Republic\\nChad\\nDemocratic Republic of the Congo\\nRepublic of the Congo\\nGabon\\nSão Tomé and Príncipe\\nWestern\\nBenin\\nBurkina Faso\\nCape Verde\\nEquatorial Guinea\\nGambia\\nGhana\\ntimeline\\nGuinea\\nGuinea-Bissau\\nIvory Coast\\nLiberia\\nMali\\nNiger\\nNigeria\\nSenegal\\nSierra Leone\\nTogo\\nAsiaCentral / North\\nKazakhstan\\nKyrgyzstan\\nRussia\\ntimeline\\nTajikistan\\nTurkmenistan\\nUzbekistan\\nEast\\nHong Kong\\nJapan\\ntimeline\\nNorth Korea\\nSouth Korea\\nMacau\\nMongolia\\nTaiwan\\nChina\\nBeijing\\nHeilongjiang\\nHenan\\nHubei\\nlockdown\\nInner Mongolia\\nLiaoning\\nShanghai\\nSichuan\\nTibet\\n Xinjiang\\n\\nSouth\\nAfghanistan\\ntimeline\\nBangladesh\\nBhutan\\nMaldives\\nNepal\\ntimeline\\nPakistan\\ntimeline\\nSri Lanka\\nIndia\\ntimeline\\nJanuary–May 2020\\nJune–December 2020\\neconomic impact\\nevacuations\\nlockdown\\nmigrant workers\\' crisis\\nunion government response\\nOperation Namaste\\nstate government responses\\nvaccination)\\nAndaman and Nicobar Islands\\nAndhra Pradesh\\nArunachal Pradesh\\nAssam\\nBihar\\nChandigarh\\nChhattisgarh\\nDadra and Nagar Haveli and Daman and Diu\\nDelhi\\nTablighi Jamaat hotspot\\nGoa\\nGujarat\\nHaryana\\nHimachal Pradesh\\nJammu and Kashmir\\nJharkhand\\nKarnataka\\nKerala\\nLadakh\\nMadhya Pradesh\\nMaharashtra\\nManipur\\nMeghalaya\\nMizoram\\nNagaland\\nOdisha\\nPuducherry\\nPunjab\\nRajasthan\\nSikkim\\nTamil Nadu\\nTelangana\\nTripura\\nUttar Pradesh\\nUttarakhand\\nWest Bengal\\n\\nSoutheast\\nBrunei\\nCambodia\\nEast Timor\\nIndonesia\\ntimeline\\nsocial restrictions\\nLaos\\nMalaysia\\ntimeline\\nmovement control order\\nJohor\\nKuala Lumpur\\nSabah\\nSarawak\\nSelangor\\nMyanmar\\nSingapore\\ntimeline\\ncircuit breaker response\\nThailand\\ntimeline\\nVietnam\\ntimeline\\nPhilippines\\n(timeline\\ngovernment response\\ncommunity quarantines\\nLuzon\\nevacuations\\ntesting controversy)\\nBangsamoro\\nBicol Region\\nCagayan Valley\\nCalabarzon\\nCaraga\\nCentral Luzon\\nCentral Visayas\\nCordillera\\nDavao Region\\nEastern Visayas\\nIlocos Region\\nMetro Manila\\nMimaropa\\nNorthern Mindanao\\nSoccsksargen\\nWestern Visayas\\nZamboanga Peninsula\\nOverseas Filipinos\\n\\nWest\\nArmenia\\nAzerbaijan\\nArtsakh\\nBahrain\\nGeorgia\\nAbkhazia\\nSouth Ossetia\\nIran\\nIraq\\nKurdistan\\nIsrael\\nJordan\\nKuwait\\nLebanon\\nOman\\nPalestine\\nQatar\\nSaudi Arabia\\nSyria\\nTurkey\\ntimeline\\nUnited Arab Emirates\\nYemen\\nEuropeUnited Kingdom\\n\\ntimeline\\nJanuary–June 2020\\nJuly–December 2020\\n2021\\ngovernment response\\nsocial impact\\neconomic impact\\neducation impact\\nOperation Rescript\\nEngland\\n2020 timeline\\n2021 timeline\\nLondon\\nNorthern Ireland\\n2020 timeline\\n2021 timeline\\nScotland\\n2020 timeline\\n2021 timeline\\nWales\\n2020 timeline\\n2021 timeline\\nCrown dependencies\\nIsle of Man\\nJersey\\nGuernsey\\nOverseas territories\\nAkrotiri and Dhekelia\\nGibraltar\\nresponse\\nEastern\\nArmenia\\nAzerbaijan\\nBelarus\\nGeorgia\\nKazakhstan\\nMoldova\\nGagauzia\\nTransnistria\\nRussia\\ntimeline\\ngovernment responses\\nCrimea\\nSevastopol\\nUkraine\\nCrimea\\nSevastopol\\nDonetsk\\nLuhansk\\nBalkans\\nAlbania\\nBosnia and Herzegovina\\nKosovo\\nMontenegro\\nNorth Macedonia\\nSerbia\\nTurkey\\ntimeline\\nMicrostates\\nAndorra\\nSan Marino\\nVatican City\\nMonaco\\nEuropean UnionEFTA countries\\nAustria\\nBelgium\\nBulgaria\\nCroatia\\ntimeline\\nCyprus\\nNorthern Cyprus\\nCzech Republic\\nDenmark\\nFaroe Islands\\nEstonia\\nFinland\\nÅland Islands\\nFrance\\nGuadeloupe\\nFrench Guiana\\nRéunion\\nMartinique\\nMayotte\\nSaint Martin\\nGermany\\nNorth Rhine-Westphalia\\nGreece\\nHungary\\nIceland\\nIreland\\ntimeline\\nJanuary–June 2020\\nJuly–December 2020\\neconomic impact\\nsocial impact\\nItaly\\nlockdown\\nLatvia\\nLiechtenstein\\nLithuania\\nLuxembourg\\nMalta\\nNetherlands\\nNorway\\nPoland\\nPortugal\\nRomania\\ntimeline\\nPiatra Neamț hospital fire\\nSlovakia\\nSlovenia\\nSpain\\ntimeline\\nAsturias\\nCanary Islands\\nCeuta\\nCommunity of Madrid\\nMelilla\\nSweden\\ntimeline\\ngovernment response\\nSwitzerland\\nNorth AmericaMexico\\ntimeline\\nCentral America\\nBelize\\nCosta Rica\\nEl Salvador\\nGuatemala\\nHonduras\\nNicaragua\\nPanama\\nCanada\\ntimeline\\neconomic impact\\nAlberta\\nBritish Columbia\\nManitoba\\nNew Brunswick\\nNewfoundland and Labrador\\nNorthwest Territories\\nNova Scotia\\nNunavut\\nOntario\\ntimeline\\nPeel Region\\nToronto\\nPrince Edward Island\\nQuebec\\nMontreal\\nSaskatchewan\\nYukon\\nCaribbean\\nAntigua and Barbuda\\nBahamas\\nBarbados\\nBritish Overseas Territories\\nAnguilla\\nBritish Virgin Islands\\nCayman Islands\\nMontserrat\\nTurks and Caicos Islands\\nresponse\\nCuba\\nGuantanamo Bay Naval Base\\nDominica\\nDominican Republic\\nDutch Caribbean\\nAruba\\nCuraçao\\nSint Maarten\\nCaribbean Netherlands\\nBonaire\\nSaba\\nSint Eustatius\\nFrench West Indies\\nGuadeloupe\\nMartinique\\nSaint Barthélemy\\nSaint Martin\\nGrenada\\nHaiti\\nJamaica\\nSaint Kitts and Nevis\\nSaint Lucia\\nSaint Vincent and the Grenadines\\nTrinidad and Tobago\\nUS insular areas\\nPuerto Rico\\nU.S. Virgin Islands\\nUnited States\\ntimeline\\nsocial impact\\neconomic impact\\nfederal government response\\nstate and local government responses\\nRegional responses\\nEastern States Multi-state Council\\nMidwest Governors Regional Pact\\nWestern States Pact\\nTrump administration communication\\nAlabama\\nAlaska\\nAmerican Samoa\\nArizona\\nNavajo Nation\\nArkansas\\nCalifornia\\ntimeline\\nS.F. Bay Area\\nColorado\\nConnecticut\\nDelaware\\nFlorida\\nGeorgia\\nGuam\\nHawaii\\nIdaho\\nIllinois\\nIndiana\\nIowa\\nKansas\\nKentucky\\nLouisiana\\nMaine\\nMaryland\\nMassachusetts\\ntimeline\\nBoston\\ntimeline\\nMichigan\\nMinnesota\\nMississippi\\nMissouri\\nMontana\\nNebraska\\nNevada\\nNew Hampshire\\nNew Jersey\\nNew Mexico\\nNew York\\nNew York City\\nNorth Carolina\\nNorth Dakota\\nNorthern Mariana Islands\\nOhio\\nimpact\\nColumbus\\nOklahoma\\nOregon\\nPortland\\nPennsylvania\\nPhiladelphia\\nPuerto Rico\\nRhode Island\\nSouth Carolina\\nSouth Dakota\\nTennessee\\nTexas\\ntimeline\\nU.S. Virgin Islands\\nUtah\\nVermont\\nVirginia\\nWashington\\nWashington, D.C.\\nWhite House\\nWest Virginia\\nWisconsin\\nstatistics\\nWyoming\\nAtlantic\\nBermuda\\nGreenland\\nSaint Pierre and Miquelon\\nOceania\\nAmerican Samoa\\nAustralia\\nEaster Island\\nFederated States of Micronesia\\nFiji\\nFrench Polynesia\\nGuam\\nHawaii\\nMarshall Islands\\nNew Caledonia\\nNew Zealand\\ntimeline\\ngovernment response\\nNorthern Mariana Islands\\nPapua New Guinea\\nBougainville\\nSamoa\\nSolomon Islands\\nVanuatu\\nWallis and Futuna\\nSouth America\\nArgentina\\ntimeline\\nhuman rights\\nBolivia\\nBrazil\\nSão Paulo\\nChile\\nEaster Island\\nColombia\\nEcuador\\nFalkland Islands\\nFrench Guiana\\nGuyana\\nParaguay\\nPeru\\nSuriname\\nUruguay\\ntimeline\\nVenezuela\\nOther\\nAntarctica\\nCruise ships\\nDiamond Princess\\nGrand Princess\\nNaval ships\\nCharles de Gaulle\\nUSS Theodore Roosevelt\\nImpactsCulture andentertainment\\nArts and cultural heritage\\nCinema\\nfilms affected\\nDisney\\nEducation\\nIreland\\nUnited Kingdom\\nEvents affected\\nFashion industry\\nMusic industry\\nPerforming arts\\nSports\\nBy country\\nIreland\\nPhilippines\\nBy sport\\nassociation football\\ncricket\\ndisc golf\\nGaelic games\\nmotorsport\\nNBA\\nrugby league\\nTelevision\\nU.S.\\nprograms affected\\nVideo games\\nSociety and rights\\nSocial\\nsocial media\\nstigma\\nCOVID-19 parties\\nChildren\\nfoster care in the United States\\nGender\\nHealthcare workers\\nHospitals\\nHuman rights\\nLegal\\nabortion in the U.S.\\ncrime\\ncrime in Ireland\\ndomestic violence\\nprisons\\nU.S. immigration detention\\nLGBT community\\nLong-term care facilities\\nPublic transport\\nReligion\\nCatholic Church\\nHajj\\nStrikes\\nXenophobia and racism\\nEconomic\\nAviation\\nAirlines\\nCannabis industry\\nCharitable activity\\nCOVID-19 recession\\nFinancial markets\\nFood industry\\nmeat industry in Canada\\nmeat industry in the U.S.\\nrestaurant industry in the U.S.\\nGlobal stock market crash\\nHospitals\\nMink farming\\nOil price war\\nRetail\\nTourism\\nTravel restrictions\\nInformation\\nJournalism\\nMedia coverage\\nMisinformation\\nWikipedia\\'s response\\nPolitics\\nNational responses\\nLegislation\\nProtests\\nNew Zealand\\nSerbia\\nUnited Kingdom\\nUnited States\\nInternational relations\\nAid\\nEuropean Union\\nIreland\\nLanguage\\nDoomscrolling\\nFlattening the curve\\nLong-hauler\\nQuarantini\\nSocial distancing\\nSuperspreader\\nZoom\\nOthers\\nAnthropause\\nEnvironment\\nMilitary\\nScience and technology\\nFood security\\nHealth issuesProblems andrestrictions\\nTransmission\\nDeath rates by country\\nCancer\\nEvacuations\\nFalsified medical methods\\nManagement\\nMental health\\nShortages\\nmedical oxygen\\nventilator\\nopen-source ventilator\\nextracorporeal membrane oxygenation\\nRaise the line\\nCOVID fatigue\\nNon-COVID-19-related health issues\\nVariants of SARS-CoV-2\\nPrevention\\nPandemic Severity Assessment Framework\\nPublic Health Emergency of International Concern\\nNon-pharmaceutical intervention\\nGreat Barrington Declaration\\nSocial distancing\\nMeasures\\nFace masks\\nUnited States\\nN95\\nFlattening the curve\\nDisease testing\\nbreathalyzer\\nDatasets\\nCoronavirus apps\\ncareFIJI\\nCOVID Alert\\nCOVIDSafe\\nCOVID Tracker Ireland\\nCoronavirus Australia\\nAarogya Setu\\nNZ COVID Tracer\\nTraceTogether\\nBlueTrace\\nDecentralized Privacy-Preserving Proximity Tracing\\nNHS COVID-19\\nNearby Spot\\nTCN Protocol\\nExposure Notification\\nWorkplace hazard controls\\nSurveillance\\nLockdowns\\nImmunity passports\\nInternational aid\\nSafe Hands Challenge\\nWastewater surveillance\\nTreatmentsand research\\nPregnancy\\nTreatment research\\nDrug repurposing research\\nDexamethasone\\nDrug development\\nVaccine research\\nAd5-nCoV\\nBBIBP-CorV\\nCoronaVac\\nCovaxin\\nModerna\\nOxford–AstraZeneca\\nPfizer-BioNTech\\nRBD-Dimer\\nSputnik V\\nV451\\nOperation Warp Speed (U.S.)\\nRECOVERY Trial (UK)\\nSolidarity trial (WHO)\\nInstitutionsHospitals andrelated\\nHospital ships\\nCentral Hospital of Wuhan\\nDabie Mountain Regional Medical Centre\\nFangcang Hospitals\\nHuoshenshan Hospital\\nWuhan Jinyintan Hospital\\nLeishenshan Hospital\\nXinjia Express Hotel\\nCOVID-19 Hospital in Mumbai\\nKemayoran Athletes Village\\nMalaysia Agro Exposition Park Serdang\\nCOVID-19 hospitals in the United Kingdom\\nCanberra Coronavirus Field Hospital\\nHospital El Salvador\\nPyongyang General Hospital\\nSancaktepe Prof. Dr. Feriha Öz Emergency Hospital\\nYeşilköy Prof. Dr. Murat Dilmener Emergency Hospital\\nWe Heal As One Center\\nDragon\\'s Heart Hospital\\nNHS Nightingale Hospitals\\nNHS Nightingale Hospital Birmingham\\nNHS Nightingale Hospital London\\nNHS Nightingale Hospital North East\\nNHS Nightingale Hospital North West\\nNHS Nightingale Hospital Yorkshire and the Humber\\nNHS Louisa Jordan Hospital\\nKandakadu Treatment and Rehabilitation Centre\\nOrganizations\\nCoalition for Epidemic Preparedness Innovations\\nWorld Health Organization\\nUnited Nations\\nresolutions\\nInternational Committee on Taxonomy of Viruses\\nWuhan Institute of Virology (China)\\nCentral Epidemic Command Center (Taiwan)\\nTaiwan Centers for Disease Control (Taiwan)\\nCOVID-19 Response Acceleration Task Force (Indonesia)\\nWhite House Coronavirus Task Force (United States)\\nGreat American Economic Revival Industry Groups (United States)\\nCoronavirus Tech Handbook\\nInter-Agency Task Force on Emerging Infectious Diseases (Philippines)\\nPM CARES Fund (India)\\nArtist Relief (United States)\\nCovid Watch\\nSAARC COVID-19 Emergency Fund (India)\\nOutbreak Management Team (Netherlands)\\nCOVID-19 Solidarity Response Fund\\nMusiCares COVID-19 Relief Fund\\nImperial College COVID-19 Response Team (UK)\\nSAGE (UK)\\nIndependent SAGE (UK)\\nNational Cabinet (Australia)\\nNational COVID-19 Coordination Commission (Australia)\\nUN COVID-19 Supply Chain Task Force (WHO)\\nCOVID-19 Supply Council (Canada)\\nPREPARE (European Union)\\nNational Public Health Emergency Team (Ireland)\\nAfrica Centres for Disease Control and Prevention (African Union)\\nGhana Infectious Disease Centre (Ghana)\\nCOVID-19 Immunity Task Force (Canada)\\nNovel Coronavirus Expert Meeting (Japan)\\nCoronavirus Scientific Advisory Board (Turkey)\\nCrisis Preparedness and Response Centre (Malaysia)\\nKorea Disease Control and Prevention Agency (Korea)\\nPeopleMedical professionals\\nAi Fen\\nLi Wenliang\\nLiu Wen\\nCorona Rintawan\\nXie Linka\\nZhang Wenhong\\nResearchers\\nRoberto Burioni\\nAwang Bulgiba Awang Mahmud\\nChen Wei\\nAndrea Crisanti\\nChristian Drosten\\nNeil Ferguson\\nGeorge F. Gao\\nAzra Ghani\\nSarah Gilbert\\nGuan Yi\\nKentaro Iwata\\nTrudie Lang\\nLi Lanjuan\\nW. Ian Lipkin\\nMa Xiaowei\\nAllison McGeer\\nLuc Montagnier\\nShi Zhengli\\nMoncef Slaoui\\nJohn Todd\\nWang Chen\\nWang Guangfa\\nYuen Kwok-yung\\nZeng Guang\\nZhong Nanshan\\nOfficialsWHO\\nTedros Adhanom (Director-General of the WHO)\\nBruce Aylward (Team lead of WHO-China COVID-19 mission)\\nMaria Van Kerkhove (Technical Lead for COVID-19 response)\\nMichael J. Ryan (Executive Director of the WHO Health Emergencies Programme)\\nCountries\\nAlma Möller (Iceland)\\nDomenico Arcuri (Italy)\\nFrank Atherton (Wales)\\nScott Atlas (United States)\\nDeborah Birx (United States)\\nAshley Bloomfield (New Zealand)\\nAngelo Borrelli (Italy)\\nCatherine Calderwood (Scotland)\\nCarmen Deseda (Puerto Rico)\\nJaap van Dissel (the Netherlands)\\nShan-chwen Chang (Taiwan)\\nChen Shih-chung (Taiwan)\\nChuang Yin-ching (Taiwan)\\nFrancisco Duque (Philippines)\\nAnthony Fauci (United States)\\nGraça Freitas (Portugal)\\nHamad Hasan (Lebanon)\\nTony Holohan (Ireland)\\nJeong Eun-kyeong (South Korea)\\nFahrettin Koca (Turkey)\\nLi Keqiang (China)\\nMichael McBride (Northern Ireland)\\nOriol Mitjà (Andorra)\\nDoni Monardo (Indonesia)\\nNoor Hisham Abdullah (Malaysia)\\nAli Pilli (Northern Cyprus)\\nJérôme Salomon (France)\\nFernando Simón (Spain)\\nGregor Smith (Scotland)\\nIh-Jen Su (Taiwan)\\nŁukasz Szumowski (Poland)\\nTheresa Tam (Canada)\\nNelu Tătaru (Romania)\\nAnders Tegnell (Sweden)\\nSotiris Tsiodras (Greece)\\nVíðir Reynisson (Iceland)\\nCarla Vizzotti (Argentina)\\nChris Whitty (United Kingdom)\\nLawrence Wong (Singapore)\\nÞórólfur Guðnason (Iceland)\\nOthers\\nChen Qiushi\\nBrett Crozier\\nFang Bin\\nFang Fang\\nLi Zehua\\nQiu Menghuang\\nRen Zhiqiang\\nCaptain Tom\\nDeathsListData (templates)Global\\nCases, deaths, recoveries by country\\nTests, cases, tests per capita, cases per capita by country\\nTests, cases, tests per capita, cases per capita by country subdivision\\nWHO situation reports\\ncases\\ndeaths\\nWorld map by countries: confirmed per capita\\nChina\\nHospital beds by country\\nLockdowns\\nMainland China\\nAfrica\\nAlgeria\\nchart\\nAngola\\nchart\\nBurkina Faso\\nchart\\nBurundi\\nchart\\nCameroon\\nchart\\nEgypt\\nchart\\nEswatini\\nchart\\nEthiopia\\nchart\\nGhana\\nchart\\nIvory Coast\\nchart\\nKenya\\nchart\\nLibya\\nchart\\nMalawi\\nchart\\nMali\\nchart\\nMauritania\\nchart\\nMauritius\\nchart\\nMorocco\\nchart\\nNigeria\\nchart\\nSenegal\\nchart\\nSierra Leone\\nchart\\nSouth Africa\\nchart\\nSouth Sudan\\nchart\\nSudan\\nchart\\nTanzania\\nchart\\nTogo\\nchart\\nTunisia\\nchart\\nAmericas\\nArgentina\\nchart\\nBolivia\\nchart\\nBrazil\\nchart\\nCanada\\nby province\\nchart\\nChile\\nby commune\\nchart\\nColombia\\nchart\\nCosta Rica\\nchart\\nCuba\\nchart\\nDominican Republic\\nchart\\nEcuador\\nchart\\nEl Salvador\\nchart\\nGuatemala\\nchart\\nHaiti\\nchart\\nHonduras\\nchart\\nMexico\\nchart\\nNicaragua\\nchart\\nPanama\\nchart\\nParaguay\\nchart\\nPeru\\nchart\\nUnited States\\nby state\\nchart\\nUruguay\\nchart\\nVenezuela\\nchart\\nAsia\\nAfghanistan\\nchart\\nArmenia\\nchart\\nAzerbaijan\\nchart\\nBahrain\\nchart\\nBangladesh\\nchart\\nBhutan\\nchart\\nsummary\\nBrunei\\nchart\\nCambodia\\nchart\\nsummary\\nMainland China\\naggregate\\nchart\\nGeorgia\\nchart\\nHong Kong\\nchart\\nIndia\\nchart\\nsummary\\nIndonesia\\nchart\\nIran\\nchart\\nIraq\\nchart\\nIsrael\\nchart\\nJapan\\nchart\\nJordan\\nchart\\nKazakhstan\\nchart\\nSouth Korea\\nchart\\nKuwait\\ngraph\\nchart\\nKyrgyzstan\\nchart\\nLaos\\nchart\\nLebanon\\nchart\\nMalaysia\\nchart\\nMyanmar\\nchart\\nNepal\\nchart\\nby district\\nPCR tests\\nOman\\nchart\\nPakistan\\nchart\\nPalestine\\nchart\\nPhilippines\\nchart\\nareas of quarantine\\nQatar\\nchart\\nRussia/North Asia\\nby federal subject\\nchart\\nSaudi Arabia\\nchart\\nSingapore\\nchart\\nSri Lanka\\nchart\\nSyria\\nchart\\nTaiwan\\nchart\\nTajikistan\\nchart\\nThailand\\nchart\\nsummary\\nTurkey\\nby province\\nchart\\nUnited Arab Emirates\\nchart\\nUzbekistan\\nchart\\nVietnam\\nchart\\nYemen\\nchart\\nEurope(chart)\\nAlbania\\nchart\\nAustria\\nchart\\nBelarus\\nchart\\nBelgium\\nchart\\nBosnia and Herzegovina\\nchart\\nBulgaria\\nchart\\nCroatia\\nchart\\nCyprus\\nchart\\nCzech Republic\\nchart\\nDenmark\\nchart\\nEstonia\\nchart\\nFaroe Islands\\nchart\\nFinland\\nchart\\nFrance\\nchart\\nGermany\\nchart\\nGreece\\nchart\\nHungary\\nchart\\nIceland\\nchart\\nIreland\\nchart\\nItaly\\nchart\\nKosovo\\nchart\\nLatvia\\nchart\\nLithuania\\nchart\\nLuxembourg\\nchart\\nMalta\\nchart\\nMoldova\\nchart\\nMonaco\\nchart\\nMontenegro\\nchart\\nNetherlands\\nchart\\nNorth Macedonia\\nchart\\nNorway\\nchart\\nPoland\\nchart\\nPortugal\\nchart\\nRomania\\nchart\\nRussia\\nby federal subject\\nchart\\nSan Marino\\nchart\\nSerbia\\nchart\\nSlovakia\\nby region\\nchart\\nSlovenia\\nchart\\nSpain\\nchart\\nAsturias\\nCommunity of Madrid\\nSweden\\nchart\\nSwitzerland\\nchart\\nTurkey\\nby province\\nchart\\nUkraine\\nchart\\nDonetsk People\\'s Republic\\nLuhansk People\\'s Republic\\nUnited Kingdom\\nScotland\\nchart\\nVatican City\\nchart\\nOceania\\nAustralia\\nchart\\nby state/territory\\nFiji\\nchart\\nFrench Polynesia\\nchart\\nNew Caledonia\\nchart\\nNew Zealand\\nchart\\nPapua New Guinea\\nchart\\nSolomon Islands\\nSolomon Islands\\nOthers\\nCruise ships\\nDiamond Princess\\n\\n Category\\n Portal\\n\\nvtePandemics, epidemics and notable disease outbreaks\\nList of epidemics\\nLocalAncient\\nHittite plague (c.\\u20091320–1300 BC)\\nPlague of Athens (429–426 BC)\\nAntonine Plague (165–180 AD)\\nPlague of Cyprian (250–266)\\nPost-classical\\nFirst plague pandemic (541–767)\\nPlague of Justinian (541–542)\\nRoman Plague (590)\\nPlague of Sheroe (627–628)\\nPlague of Amwas (638–639)\\nPlague of 664 (664–689)\\nJapanese smallpox (735–737)\\nBlack Death (1347–1351)\\nSweating sickness (1485–1551)\\nEarly modern16th century\\nInfluenza pandemic (1510)\\nMexican smallpox (1520)\\nInfluenza pandemic (1557–1559)\\nLondon plague (1563–1564)\\nMaltese plague (1592–1593)\\nLondon plague (1592–1593)\\n\\n17th century\\nMaltese plague (1623)\\nItalian plague (1629–1631)\\nMassachusetts smallpox (1633)\\nGreat Plague of Seville (1647–1652)\\nMaltese plague (1655)\\nNaples Plague (1656)\\nGreat Plague of London (1665–1666)\\nMaltese plague (1675–1676)\\nGreat Plague of Vienna (1679)\\n\\n18th century\\nGreat Northern War plague (1710–1712)\\nGreat Plague of Marseille (1720–1722)\\nGreat Plague of 1738 (1738)\\nRussian plague (1770–1772)\\nPersian Plague (1772)\\nNorth American smallpox (1780–1782)\\nPhiladelphia yellow fever (1793–1798)\\nModern19th century\\nOttoman plague (1812–1819)\\nMaltese plague (1813–1814)\\nCaragea\\'s plague (1813)\\nGroningen epidemic (1829)\\nGreat Plains smallpox (1837–1838)\\nTyphus (1847–1848)\\nCopenhagen cholera (1853)\\nStockholm cholera (1853)\\nBroad Street cholera (1854)\\nBuenos Aires yellow fever (1871)\\n\\n20th century\\nSan Francisco plague (1900–1904)\\nManchurian plague (1910–1911)\\nLA pneumonic plague (1924)\\nCroydon typhoid (1937)\\nNYC smallpox (1947)\\nYugoslav smallpox (1972)\\nLondon flu (1972–1973)\\nIndian smallpox (1974)\\nSurat plague (1994)\\nMalaysian Nipah virus (1998–1999)\\n\\n21st century\\nSingaporean dengue (2005)\\nIndian dengue (2006)\\nChikungunya outbreaks (2006)\\nPakistani dengue (2006)\\nIraqi cholera (2007)\\nZimbabwean cholera (2008–2009)\\nBolivian dengue (2009)\\nGujarat hepatitis (2009)\\nWestern African meningitis (2009–2010)\\nHaiti cholera (2010–2019)\\nPakistani dengue (2011)\\nDarfur yellow fever (2012)\\nSwansea measles (2013)\\nWestern African Ebola (2013–2016)\\nDR Congo Ebola (2014)\\nMadagascar plague (2014)\\nOdisha jaundice (2014)\\nPolio declaration (2014)\\nIndian swine flu (2015)\\nSouth Korean MERS (2015)\\nAngolan yellow fever (2016)\\nYemeni cholera (2016–present)\\nGorakhpur Japanese encephalitis (2017)\\nSaudi Arabian MERS (2018)\\nKerala Nipah virus (2018)\\nÉquateur province Ebola (2018)\\nKivu Ebola (2018–2020)\\nMadagascar measles (2018)\\nSamoa measles (2019–present)\\nPhilippine measles (2019–present)\\nPacific NW measles (2019)\\nNew York measles (2019)\\nKuala Koh measles (2019)\\nTonga measles (2019)\\nDRC measles (2019–2020)\\nNew Zealand measles (2019–present)\\nGlobal\\nInfluenza pandemic (1510)\\nInfluenza pandemic (1557–1559)\\nSecond plague pandemic (1348–19th century)\\nFirst cholera pandemic (1816–1826)\\nSecond cholera pandemic (1829–1851)\\nThird cholera pandemic (1852–1860)\\nThird plague pandemic (1855–1960)\\nFourth cholera pandemic (1863–1879)\\nFifth cholera pandemic (1881–1896)\\n1889 flu (1889–1890)\\nSixth cholera pandemic (1899–1923)\\nSpanish flu (1918–1920)\\nAsian flu (1957–1958)\\nSeventh cholera pandemic (1961–1975)\\nHong Kong flu (1968–1970)\\nHIV/AIDS (1981–present)\\nSARS (2002–2004)\\nBird flu (2003–2005)\\nMumps (2009)\\nMadagascar plague (2008–2017)\\nSwine flu (2009–2010)\\nMERS (2012–present)\\nChikungunya (2013–2014)\\nZika (2015–2016)\\nCOVID-19 (2019–present)\\n\\nvteHistory of infectious diseaseIndividual diseases\\nHIV/AIDS\\nMalaria\\nPolio\\nSmallpox\\nSyphilis\\nTuberculosis\\nYellow fever\\nPeople\\nAlexander Fleming\\nMaurice Hilleman\\nEdward Jenner\\nRobert Koch\\nLouis Pasteur\\nJonas Salk\\nIgnaz Semmelweis\\nJohn Snow\\nMajor epidemics\\nBlack Death (1346–1353)\\nSpanish flu (1918–1920)\\nHIV/AIDS pandemic (1981–present)\\nCOVID-19 pandemic (2019–present)\\nOther\\nDiscovery of disease-causing pathogens\\nSmallpox eradication\\nSocial history of viruses\\n\\n.mw-parser-output .subjectbar{background-color:#f9f9f9;border:1px solid #aaa;clear:both;margin-bottom:0.5em;margin-top:0.5em;width:100%;box-sizing:border-box;font-size:88%}PortalsAccess related topicsCoronavirus disease 2019 portalCurrent events portalViruses portalFind out more onWikipedia\\'sSister projectsMediafrom CommonsSpecies directoriesfrom WikispeciesTravel guidesfrom WikivoyageNews storiesfrom WikinewsDefinitionsfrom WiktionaryTextbooksfrom WikibooksQuotationsfrom WikiquoteSource textsfrom WikisourceLearning resourcesfrom WikiversityDatafrom Wikidata\\n\\n\\n\\n\\nRetrieved from \"https://en.wikipedia.org/w/index.php?title=COVID-19_pandemic&oldid=1001319635\"\\nCategories: Current eventsCOVID-19 pandemicPandemics2010s disease outbreaks2020s disease outbreaks2020s economic history21st-century epidemics21st-century health disasters21st century in health2019 disasters2019 disasters in China2019 health disasters2019 in international relations2020 disasters2020 health disasters2020 in international relations2021 disasters2021 health disasters2021 in international relationsDecember 2019 events in ChinaJanuary 2020 events in ChinaFebruary 2020 events in ChinaMarch 2020 events in ChinaAtypical pneumoniasHealth disasters in ChinaHistory of WuhanOccupational safety and healthPublic Health Emergency of International ConcernHidden categories: CS1 Chinese-language sources (zh)CS1 uses Chinese-language script (zh)CS1 maint: archived copy as titleCS1 Italian-language sources (it)CS1 maint: numeric names: authors listArticles containing Chinese-language textCS1 uses Persian-language script (fa)CS1 Persian-language sources (fa)CS1 uses Korean-language script (ko)CS1 Korean-language sources (ko)Webarchive template wayback linksCS1 French-language sources (fr)CS1 Spanish-language sources (es)CS1 Swedish-language sources (sv)CS1 Portuguese-language sources (pt)Articles with short descriptionShort description is different from WikidataWikipedia indefinitely semi-protected pagesWikipedia indefinitely move-protected pagesUse British English from April 2020Use dmy dates from January 2021Pages using multiple image with auto scaled imagesArticles which use infobox templates with no data rowsArticles with excerptsArticles containing potentially dated statements from April 2020All articles containing potentially dated statementsArticles containing potentially dated statements from February 2020Articles containing potentially dated statements from September 2020All articles with unsourced statementsArticles with unsourced statements from November 2020Use British English from June 2020Use dmy dates from June 2020Articles containing video clipsPages using the Graph extension\\n'"
            ]
          },
          "metadata": {
            "tags": []
          },
          "execution_count": 113
        }
      ]
    },
    {
      "cell_type": "markdown",
      "metadata": {
        "id": "ozSrHO97GTcP"
      },
      "source": [
        "Since we are parsing the HTML (similarly to how we used `LXML`), we could also, for example, get all *H2* headlines:"
      ]
    },
    {
      "cell_type": "code",
      "metadata": {
        "colab": {
          "base_uri": "https://localhost:8080/"
        },
        "id": "F1aBcvtrGYz-",
        "outputId": "e4993e86-fa29-4d6f-a8ce-979296a02fc9"
      },
      "source": [
        "html = requests.get('https://en.wikipedia.org/wiki/COVID-19_pandemic')\r\n",
        "soup = BeautifulSoup(html.content)\r\n",
        "h2_headlines = soup.find_all('h2') # This will get all H2 HTML elements\r\n",
        "\r\n",
        "[h2_headline.text for h2_headline in h2_headlines]"
      ],
      "execution_count": 114,
      "outputs": [
        {
          "output_type": "execute_result",
          "data": {
            "text/plain": [
              "['Contents',\n",
              " 'Epidemiology',\n",
              " 'Disease',\n",
              " 'Mitigation',\n",
              " 'History',\n",
              " 'National responses',\n",
              " 'International responses',\n",
              " 'Impact',\n",
              " 'Information dissemination',\n",
              " 'See also',\n",
              " 'Notes',\n",
              " 'References',\n",
              " 'Further reading',\n",
              " 'External links',\n",
              " 'Navigation menu']"
            ]
          },
          "metadata": {
            "tags": []
          },
          "execution_count": 114
        }
      ]
    },
    {
      "cell_type": "markdown",
      "metadata": {
        "id": "F5aseJ4JgVn2"
      },
      "source": [
        "#### jusText Approach\r\n",
        "\r\n",
        "In the jusText repository you can find a [description of the boilerplate cleaning algorithm](https://github.com/miso-belica/jusText/blob/dev/doc/algorithm.rst)."
      ]
    },
    {
      "cell_type": "code",
      "metadata": {
        "id": "zzcpMxXIgXX1"
      },
      "source": [
        "def scrape_wikipedia_jt(url):\r\n",
        "  html = requests.get(url)\r\n",
        "  paragraphs = justext.justext(html.content, justext.get_stoplist('English'))\r\n",
        "\r\n",
        "  text = []\r\n",
        "\r\n",
        "  for paragraph in paragraphs:\r\n",
        "    if not paragraph.is_boilerplate:\r\n",
        "      text.append(paragraph.text)\r\n",
        "\r\n",
        "  # Combine the paragraphs into one string\r\n",
        "  text = ' '.join(text)\r\n",
        "\r\n",
        "  return text"
      ],
      "execution_count": 115,
      "outputs": []
    },
    {
      "cell_type": "code",
      "metadata": {
        "colab": {
          "base_uri": "https://localhost:8080/",
          "height": 104
        },
        "id": "Tw3CkSdng7tF",
        "outputId": "d21953cc-c8dc-413c-cf2b-3368bff07353"
      },
      "source": [
        "scrape_wikipedia_jt('https://en.wikipedia.org/wiki/COVID-19_pandemic')"
      ],
      "execution_count": 116,
      "outputs": [
        {
          "output_type": "execute_result",
          "data": {
            "application/vnd.google.colaboratory.intrinsic+json": {
              "type": "string"
            },
            "text/plain": [
              "'Symptoms of COVID-19 are highly variable, ranging from none to severe illness. The virus spreads mainly through the air when people are near each other.[b] It leaves an infected person as they breathe, cough, sneeze, or speak and enters another person via their mouth, nose, or eyes. It may also spread via contaminated surfaces. People remain infectious for up to two weeks, and can spread the virus even if they do not show symptoms.[9] The earliest known person with symptoms was later discovered to have fallen ill on 1December 2019, and that person did not have visible connections with the later wet market cluster.[21][22] However, an earlier case of infection could have occurred on 17 November.[23] Of the early cluster of cases reported that month, two thirds were found to have a link with the market.[24][25][26] There are several theories about when and where the very first case (the so-called patient zero) originated.[27] It is possible that the virus first emerged in October 2019.[28] Official case counts refer to the number of people who have been tested for COVID-19 and whose test has been confirmed positive according to official protocols.[29][30] Many countries, early on, had official policies to not test those with only mild symptoms.[31][32] An analysis of the early phase of the outbreak up to 23 January estimated 86 percent of COVID-19 infections had not been detected, and that these undocumented infections were the source for 79 percent of documented cases.[33] Several other studies, using a variety of methods, have estimated that numbers of infections in many countries are likely to be considerably greater than the reported cases.[34][35] On 9 April 2020, preliminary results found that 15 percent of people tested in Gangelt, the centre of a major infection cluster in Germany, tested positive for antibodies.[36] Screening for COVID-19 in pregnant women in New York City, and blood donors in the Netherlands, has also found rates of positive antibody tests that may indicate more infections than reported.[37][38] Seroprevalence based estimates are conservative as some studies shown that persons with mild symptoms do not have detectable antibodies.[39] Some results (such as the Gangelt study) have received substantial press coverage without first passing through peer review.[40] Analysis by age in China indicates that a relatively low proportion of cases occur in individuals under 20.[41] It was not clear whether this was because young people were less likely to be infected, or less likely to develop serious symptoms and seek medical attention and be tested.[42] A retrospective cohort study in China found that children and adults were just as likely to be infected.[43] Initial estimates of the basic reproduction number (R0) for COVID-19 in January were between 1.4 and 2.5,[44] but a subsequent analysis concluded that it may be about 5.7 (with a 95 percent confidence interval of 3.8 to 8.9).[45] R0 can vary across populations and is not to be confused with the effective reproduction number (commonly just called R), which takes into account effects such as social distancing and herd immunity. By mid-May 2020, the effective R was close to or below 1.0 in many countries, meaning the spread of the disease in these areas at that time was stable or decreasing.[46] Epidemic curve of daily new cases of COVID-19 (7 day rolling average) by continent Semi-log plot of weekly new cases of COVID-19 in the world and top five current countries (mean with deaths) COVID-19 total cases per 100 000 population from selected countries[47] COVID-19 active cases per 100 000 population from selected countries[47] Official deaths from COVID-19 generally refer to people who died after testing positive according to protocols. This may ignore deaths of people who die without having been tested.[48] Conversely, deaths of people who had underlying conditions may lead to over-counting.[49] Comparison of statistics for deaths for all causes versus the seasonal average indicates excess mortality in many countries.[50][51] This may include deaths due to strained healthcare systems and bans on elective surgery.[52] The first confirmed death was in Wuhan on 9 January 2020.[53] The first reported death outside of China occurred on1 February in the Philippines,[54] and the first reported death outside Asia was in the United States on 6 February.[55] More than 95 percent of the people who contract COVID-19 recover. Otherwise, the time between symptoms onset and death usually ranges from6 to 41 days, typically about 14 days.[56] As of 19 January 2021, more than 2.04million[4] deaths had been attributed to COVID-19. People at the greatest risk from COVID-19 tend to be those with underlying conditions, such as a weakened immune system, serious heart or lung problems, severe obesity, or the elderly.[57] On 24 March 2020, the Centers for Disease Control and Prevention (CDC) of the United States, indicated the WHO had provided two codes for COVID-19: U07.1 when confirmed by laboratory testing and U07.2 for clinically or epidemiological diagnosis where laboratory confirmation is inconclusive or not available.[58][59] The CDC noted that \"Because laboratory test results are not typically reported on death certificates in the U.S., [the National Center for Health Statistics (NCHS)] is not planning to implement U07.2 for mortality statistics\" and that U07.1 would be used \"If the death certificate reports terms such as \\'probable COVID-19\\' or \\'likely COVID-19\\'.\" The CDC also noted \"It Is not likely that NCHS will follow up on these cases\" and while the \"underlying cause depends upon what and where conditions are reported on the death certificate, ... the rules for coding and selection of the ... cause of death are expected to result in COVID–19 being the underlying cause more often than not.\"[58] On 16 April 2020, the WHO, in its formal publication of the two codes, U07.1 and U07.2, \"recognized that in many countries detail as to the laboratory confirmation... will not be reported [and] recommended, for mortality purposes only, to code COVID-19 provisionally to code U07.1 unless it is stated as \\'probable\\' or \\'suspected\\'.\"[60][61] It was also noted that the WHO \"does not distinguish\" between infection by SARS-CoV-2 and COVID-19.[62] Multiple measures are used to quantify mortality.[63] These numbers vary by region and over time, influenced by testing volume, healthcare system quality, treatment options, government response,[64][65][66] time since the initial outbreak, and population characteristics, such as age, sex, and overall health.[67] Countries like Belgium include deaths from suspected cases of COVID-19, regardless of whether the person was tested, resulting in higher numbers compared to countries that include only test-confirmed cases.[68] The death-to-case ratio reflects the number of deaths attributed to COVID-19 divided by the number of diagnosed cases within a given time interval. Based on Johns Hopkins University statistics, the global death-to-case ratio is 2.1 percent (2,041,932 deaths for 95,606,103 cases) as of 19 January 2021.[4] The number varies by region.[69] Semi-log plot of weekly deaths due to COVID-19 in the world and top five current countries (mean with cases) Infection fatality ratio (IFR) A crucial metric in assessing the severity of a disease is the infection fatality ratio (IFR), which is the cumulative number of deaths attributed to the disease divided by the cumulative number of infected individuals (including asymptomatic and undiagnosed infections) as measured or estimated as of a specific date.[70][71][72] Epidemiologists frequently refer to this metric as the \\'infection fatality rate\\' to clarify that it is expressed in percentage points (not as a decimal).[73][74][75] Other published studies refer to this metric as the \\'infection fatality risk\\'.[76][77] In March, a peer-reviewed analysis of pre-serology data from mainland China yielded an overall IFR of 0.66% (with age-bracketed values ranging from 0.00161% for 0–9 years to 0.595% for 50–59 years to 7.8% for > 80 years).[78] In April 2020, an IFR range of 0.12–1.08% was derived from non-peer-reviewed serology surveys, with the upper bound characterized as much more credible and the range indicated as from 3 to 27 times deadlier than influenza (0.04%).[79] In July 2020, the US CDC adopted the IFR as a \"more directly measurable parameter for disease severity for COVID-19\" and computed an overall \\'best estimate\\' for planning purposes for the U.S. of 0.65%.[80][81] In September, the CDC computed an age-bracketed \\'best estimate\\' for the U.S. of 0.003% for 0–19 years; 0.02% for 20–49 years; 0.5% for 50–69 years; and 5.4% for 70+ years.[82][c] The range of CDC estimates for each age group were as follows.[82] CDC Planning Scenario IFR Range Age group IFR 0–19 0.002%–0.01% 20–49 0.007%–0.03% 50–69 0.25%–1.0% 70+ 2.8%–9.3% In August 2020, the WHO reported serology testing for three locations in Europe (with some data through 2 June) that showed IFR overall estimates converging at approximately 0.5–1%.[71] A systematic review article in The BMJ advised that \"caution is warranted ... using serological tests for ... epidemiological surveillance\" and called for higher quality studies assessing accuracy with reference to a standard of \"RT-PCR performed on at least two consecutive specimens, and, when feasible, includ[ing] viral cultures.\"[83][84] CEBM researchers have called for in-hospital \\'case definition\\' to record \"CT lung findings and associated blood tests\"[85] and for the WHO to produce a \"protocol to standardise the use and interpretation of PCR\" with continuous re-calibration.[86] In September 2020, a Bulletin of the World Health Organization article by John Ioannidis estimated the median global IFR inferred from seroprevalence data at 0.23%[d] overall (with rates of 0.09% in areas with low mortality, and 0.57% in areas with high mortality) and 0.05% for people < 70 years (a range of 0.00–0.31%), much lower than estimates made earlier in the pandemic.[87] On 6 October 2020, Dr. Mike Ryan, director of the WHO\\'s Health Emergencies Programme announced \"Our current best estimates tell us that about 10% of the global population may have been infected by this virus.\"[88] Also in October, the Centre for Evidence-Based Medicine (CEBM) reported a \\'presumed estimate\\' of global IFR at between 0.10% to 0.35%, noting that this will vary between populations due to differences in demographics.[89] These researchers noted a decrease in IFR in England over time;[90][e] and, for the UK and Italy (the two Europeans nations worst hit by COVID-19), attribute the rise in daily cases, stability in daily deaths, and shift of cases to a younger population to waning viral circulation, misapplication of testing, and misinterpretation of test results rather than to prevention, treatment, or virus mutation.[91] In November 2020, a review article in Nature reported estimates of population-weighted IFRs for a number of countries, excluding deaths in elderly care facilities, and found a median range of 0.24% to 1.49%.[92] In December 2020, a systematic review and meta-analysis published in the European Journal of Epidemiology estimated that population-weighted IFR was 0.5% to 1% in some countries (France, Netherlands, New Zealand, and Portugal), 1% to 2% in several other countries (Australia, England, Lithuania, and Spain), and about 2.5% in Italy; these estimates included fatalities in elderly care facilities.[93] This study also found that most of the differences in IFR across locations reflected corresponding differences in the age composition of the population and the age-specific pattern of infection rates, due to very low IFRs for children and younger adults (e.g., 0.002% at age 10 and 0.01% at age 25) and progressively higher IFRs for older adults (0.4% at age 55, 1.4% at age 65, 4.6% at age 75, and 15% at age 85).[93] These results were also highlighted in a December 2020 report issued by the World Health Organization.[94] Case fatality ratio (CFR) Another metric in assessing death rate is the case fatality ratio (CFR),[f] which is deaths attributed to disease divided by individuals diagnosed to-date. This metric can be misleading because of the delay between symptom onset and death and because testing focuses on individuals with symptoms (and particularly on those manifesting more severe symptoms).[62] On 4 August, WHO indicated \"at this early stage of the pandemic, most estimates of fatality ratios have been based on cases detected through surveillance and calculated using crude methods, giving rise to widely variable estimates of CFR by country – from less than 0.1% to over 25%.\"[71] Most people (81%) develop mild to moderate symptoms (up to mild pneumonia), while 14% develop severe symptoms (dyspnea, hypoxia, or more than 50% lung involvement on imaging) and 5% of patients suffer critical symptoms (respiratory failure, shock, or multiorgan dysfunction).[99] Around one in five people are infected with the virus but do not develop noticeable symptoms at any point in time.[100][101][102] A June 2020 review asserted that asymptomatic infections might be as high as 40 to 45 percent with the ability to transmit the virus for a period that extends beyond two weeks.[103] These asymptomatic carriers tend not to get tested, and they can spread the disease.[102][104][105] Other infected people will develop symptoms later (called pre-symptomatic) or have very mild symptoms, and can also spread the virus.[106] As is common with infections, there is a delay, known as the incubation period, between the moment a person first becomes infected and the appearance of the first symptoms. The median incubation period for COVID-19 is four to five days.[107] Most symptomatic people experience symptoms within two to seven days after exposure, and almost all symptomatic people will experience one or more symptoms before day twelve.[107][108] Transmission COVID-19 spreads from person to person mainly through the respiratory route after an infected person coughs, sneezes, sings, talks or breathes. A new infection occurs when virus-containing particles exhaled by an infected person, either respiratory droplets or aerosols, get into the mouth, nose, or eyes of other people who are in close contact with the infected person.[109][110] During human-to-human transmission, an average 1000 infectious SARS-CoV-2 virions are thought to initiate a new infection. The closer people interact, and the longer they interact, the more likely they are to transmit COVID-19. Closer distances can involve larger droplets (which fall to the ground) and aerosols, whereas longer distances only involve aerosols. The larger droplets may also evaporate into the aerosols (known as droplet nuclei). The relative importance of the larger droplets and the aerosols is not clear as of November 2020, however the virus is not known to transmit between rooms over long distances such as through air ducts. Airborne transmission is able to particularly occur indoors, in high risk locations, such as in restaurants, choirs, gyms, nightclubs, offices, and religious venues, often when they are crowded or less ventilated. It also occurs in healthcare settings, often when aerosol-generating medical procedures are performed on COVID-19 patients. The number of people generally infected by one infected person varies; as of September 2020 it was estimated that one infected person will, on average, infect between two and three other people.[111] This is more infectious than influenza, but less so than measles.[112] It often spreads in clusters, where infections can be traced back to an index case or geographical location. There is a major role of \"super-spreading events\", where many people are infected by one person. Diagnosis The standard method of testing for presence of SARS-CoV-2 is real-time reverse transcription polymerase chain reaction (rRT-PCR),[130] which detects the presence of viral RNA fragments.[131] As this test detects RNA but not infectious virus, its \"ability to determine duration of infectivity of patients is limited.\"[132] The test is typically done on respiratory samples obtained by a nasopharyngeal swab; however, a nasal swab or sputum sample may also be used.[133][134] Results are generally available within a few hours to two days.[135][136] Blood tests can be used, but these require two blood samples taken two weeks apart, and the results have little immediate value.[137] The WHO has published several testing protocols for the disease.[138] Chest CT scans may be helpful to diagnose COVID-19 in individuals with a high clinical suspicion of infection but are not recommended for routine screening.[139][140] Bilateral multilobar ground-glass opacities with a peripheral, asymmetric, and posterior distribution are common in early infection.[139][141] Subpleural dominance, crazy paving (lobular septal thickening with variable alveolar filling), and consolidation may appear as the disease progresses.[139][142] Characteristic imaging features on chest radiographs and computed tomography (CT) of people who are symptomatic include asymmetric peripheral ground-glass opacities without pleural effusions.[143] Preventive measures to reduce the chances of infection include staying at home, wearing a mask in public, avoiding crowded places, keeping distance from others, ventilating indoor spaces, washing hands with soap and water often and for at least 20 seconds, practising good respiratory hygiene, and avoiding touching the eyes, nose, or mouth with unwashed hands.[144][145][146][147][148] Those diagnosed with COVID-19 or who believe they may be infected are advised by the CDC to stay home except to get medical care, call ahead before visiting a healthcare provider, wear a face mask before entering the healthcare provider\\'s office and when in any room or vehicle with another person, cover coughs and sneezes with a tissue, regularly wash hands with soap and water and avoid sharing personal household items.[149][150] The first COVID-19 vaccine was granted regulatory approval on 2 December by the UK medicines regulator MHRA.[151] It was evaluated for emergency use authorization (EUA) status by the US FDA, and in several other countries.[152] Initially, the US National Institutes of Health guidelines do not recommend any medication for prevention of COVID-19, before or after exposure to the SARS-CoV-2 virus, outside the setting of a clinical trial.[153][154] Without a vaccine, other prophylactic measures, or effective treatments, a key part of managing COVID-19 is trying to decrease and delay the epidemic peak, known as \"flattening the curve\".[155] This is done by slowing the infection rate to decrease the risk of health services being overwhelmed, allowing for better treatment of current cases, and delaying additional cases until effective treatments or a vaccine become available.[155][156] Many countries have implemented phased distribution plans that prioritize those at highest risk of complications, such as the elderly, and those at high risk of exposure and transmission, such as healthcare workers.[158] As of 14 January 2021, 32.64 million doses of COVID‑19 vaccine had been administered worldwide based on official reports from national health agencies.[159] Pfizer, Moderna, and AstraZeneca predicted a manufacturing capacity of 5.3 billion doses in 2021, which could be used to vaccinate about 3 billion people (as the vaccines require two doses for a protective effect against COVID‑19). By December, more than 10 billion vaccine doses had been preordered by countries,[160] with about half of the doses purchased by high-income countries comprising only 14% of the world\\'s population.[161] On 4 February 2020, US Secretary of Health and Human Services Alex Azar published a notice of declaration under the Public Readiness and Emergency Preparedness Act for medical countermeasures against COVID‑19, covering \"any vaccine, used to treat, diagnose, cure, prevent, or mitigate COVID‑19, or the transmission of SARS-CoV-2 or a virus mutating therefrom\", and stating that the declaration precludes \"liability claims alleging negligence by a manufacturer in creating a vaccine, or negligence by a health care provider in prescribing the wrong dose, absent willful misconduct\".[162] The declaration is effective in the United States through 1 October 2024.[163] On 8 December it was reported that the AstraZeneca vaccine is about 70% effective, according to a study.[164] Most cases of COVID-19 are mild. In these, supportive care includes medication such as paracetamol or NSAIDs to relieve symptoms (fever, body aches, cough), proper intake of fluids, rest, and nasal breathing.[170][166][171][172] Good personal hygiene and a healthy diet are also recommended.[173] The U.S. Centers for Disease Control and Prevention (CDC) recommend that those who suspect they are carrying the virus isolate themselves at home and wear a face mask.[174] Several experimental treatments are being actively studied in clinical trials.[165] Others were thought to be promising early in the pandemic, such as hydroxychloroquine and lopinavir/ritonavir, but later research found them to be ineffective or even harmful.[165][181][182] Despite ongoing research, there is still not enough high-quality evidence to recommend so-called early treatment.[181][182] Nevertheless, in the United States, two monoclonal antibody-based therapies are available for early use in cases thought to be at high risk of progression to severe disease.[182] The antiviral remdesivir is available in the U.S., Canada, Australia, and several other countries, with varying restrictions; however, it is not recommended for people needing mechanical ventilation, and is discouraged altogether by the World Health Organization (WHO),[183] due to limited evidence of its efficacy.[165] Prognosis The severity of COVID-19 varies. The disease may take a mild course with few or no symptoms, resembling other common upper respiratory diseases such as the common cold. In 3-4% of cases (7.4% for those over age 65) symptoms are severe enough to cause hospitalization.[184] Mild cases typically recover within two weeks, while those with severe or critical diseases may take three to six weeks to recover. Among those who have died, the time from symptom onset to death has ranged from two to eight weeks.[185] The Italian Istituto Superiore di Sanità reported that the median time between the onset of symptoms and death was twelve days, with seven being hospitalised. However, people transferred to an ICU had a median time of ten days between hospitalisation and death.[186] Prolonged prothrombin time and elevated C-reactive protein levels on admission to the hospital are associated with severe course of COVID-19 and with a transfer to ICU.[187][188] Some early studies suggest 10% to 20% of people with COVID-19 will experience symptoms lasting longer than a month.[189][190] A majority of those who were admitted to hospital with severe disease report long-term problems including fatigue and shortness of breath.[191] On 30 October 2020 WHO chief Tedros Adhanom has warned that \"to a significant number of people, the COVID virus poses a range of serious long-term effects\". He has described the vast spectrum of COVID-19 symptoms that fluctuate over time as \"really concerning.\" They range from fatigue, a cough and shortness of breath, to inflammation and injury of major organs – including the lungs and heart, and also neurological and psychologic effects. Symptoms often overlap and can affect any system in the body. Infected people have reported cyclical bouts of fatigue, headaches, months of complete exhaustion, mood swings, and other symptoms. Tedros has concluded that therefore herd immunity is \"morally unconscionable and unfeasible\".[192] Mitigation Speed and scale are key to mitigation, due to the fat-tailed nature of pandemic risk and the exponential growth of COVID-19 infections.[193][194] For mitigation to be effective, (a) chains of transmission must be broken as quickly as possible through screening and containment, (b) health care must be available to provide for the needs of those infected, and (c) contingencies must be in place to allow for effective rollout of (a) and (b). Screening, containment and mitigation Goals of mitigation include delaying and reducing peak burden on healthcare (flattening the curve) and lessening overall cases and health impact.[195][196] Moreover, progressively greater increases in healthcare capacity (raising the line) such as by increasing bed count, personnel, and equipment, help to meet increased demand.[197] Mitigation attempts that are inadequate in strictness or duration—such as premature relaxation of distancing rules or stay-at-home orders—can allow a resurgence after the initial surge and mitigation.[195][198] Strategies in the control of an outbreak are screening, containment (or suppression), and mitigation. Screening is done with a device such as a thermometer to detect the elevated body temperature associated with fevers caused by the coronavirus.[199] Containment is undertaken in the early stages of the outbreak and aims to trace and isolate those infected as well as introduce other measures to stop the disease from spreading. When it is no longer possible to contain the disease, efforts then move to the mitigation stage: measures are taken to slow the spread and mitigate its effects on the healthcare system and society. A combination of both containment and mitigation measures may be undertaken at the same time.[200] Suppression requires more extreme measures so as to reverse the pandemic by reducing the basic reproduction number to less than 1.[201] Part of managing an infectious disease outbreak is trying to delay and decrease the epidemic peak, known as flattening the epidemic curve.[195] This decreases the risk of health services being overwhelmed and provides more time for vaccines and treatments to be developed.[195] Non-pharmaceutical interventions that may manage the outbreak include personal preventive measures such as hand hygiene, wearing face masks, and self-quarantine; community measures aimed at physical distancing such as closing schools and cancelling mass gathering events; community engagement to encourage acceptance and participation in such interventions; as well as environmental measures such surface cleaning.[202] More drastic actions aimed at containing the outbreak were taken in China once the severity of the outbreak became apparent, such as quarantining entire cities and imposing strict travel bans.[203] Other countries also adopted a variety of measures aimed at limiting the spread of the virus. South Korea introduced mass screening and localised quarantines and issued alerts on the movements of infected individuals. Singapore provided financial support for those infected who quarantined themselves and imposed large fines for those who failed to do so. Taiwan increased face mask production and penalised the hoarding of medical supplies.[204] Simulations for Great Britain and the United States show that mitigation (slowing but not stopping epidemic spread) and suppression (reversing epidemic growth) have major challenges. Optimal mitigation policies might reduce peak healthcare demand by two-thirds and deaths by half, but still result in hundreds of thousands of deaths and overwhelmed health systems. Suppression can be preferred but needs to be maintained for as long as the virus is circulating in the human population (or until a vaccine becomes available), as transmission otherwise quickly rebounds when measures are relaxed. Long-term intervention to suppress the pandemic has considerable social and economic costs.[201] Contact tracing Contact tracing is an important method for health authorities to determine the source of infection and to prevent further transmission.[205] The use of location data from mobile phones by governments for this purpose has prompted privacy concerns, with Amnesty International and more than a hundred other organisations issuing a statement calling for limits on this kind of surveillance.[206] Several mobile apps have been implemented or proposed for voluntary use, and as of 7April 2020 more than a dozen expert groups were working on privacy-friendly solutions such as using Bluetooth to log a user\\'s proximity to other cellphones.[206] (Users are alerted if they have been near someone who subsequently tests positive.)[206] On 10 April 2020, Google and Apple jointly announced an initiative for privacy-preserving contact tracing based on Bluetooth technology and cryptography.[207][208] The system is intended to allow governments to create official privacy-preserving coronavirus tracking apps, with the eventual goal of integration of this functionality directly into the iOS and Android mobile platforms.[209] In Europe and in the U.S., Palantir Technologies is also providing COVID-19 tracking services.[210] Increasing capacity and adapting healthcare for the needs of COVID-19 patients is described by the WHO as a fundamental outbreak response measure.[211] The ECDC and the European regional office of the WHO have issued guidelines for hospitals and primary healthcare services for shifting of resources at multiple levels, including focusing laboratory services towards COVID-19 testing, cancelling elective procedures whenever possible, separating and isolating COVID-19 positive patients, and increasing intensive care capabilities by training personnel and increasing the number of available ventilators and beds.[211][212] In addition, in an attempt to maintain physical distancing, and to protect both patients and clinicians, in some areas non-emergency healthcare services are being provided virtually.[213][214][215] Due to capacity limitations in the standard supply chains, some manufacturers are 3D printing healthcare material such as nasal swabs and ventilator parts.[216][217] In one example, when an Italian hospital urgently required a ventilator valve, and the supplier was unable to deliver in the timescale required, a local startup received legal threats due to alleged patent infringement after reverse-engineering and printing the required hundred valves overnight.[218][219][220] On 23 April 2020, NASA reported building, in 37 days, a ventilator which is currently undergoing further testing. NASA is seeking fast-track approval.[221][222] 2019 Interactive timeline map of confirmed cases per million people(drag circle to adjust; may not work on mobile devices) Based on the retrospective analysis, starting from December 2019, the number of COVID-19 cases in Hubei gradually increased, reaching 60 by 20 December and at least 266 by 31 December.[223] That same day, the WHO received reports of a cluster of viral pneumonia cases of an unknown cause in Wuhan,[224] and an investigation was launched at the start of January 2020.[225] According to official Chinese sources, these early cases were mostly linked to the Huanan Seafood Wholesale Market, which also sold live animals.[226] However, in May 2020, George Gao, the director of the Chinese Center for Disease Control and Prevention, said animal samples collected from the seafood market had tested negative for the virus, indicating the market was not the source of the initial outbreak.[227] On 24 December 2019, Wuhan Central Hospital sent a bronchoalveolar lavage fluid (BAL) sample from an unresolved clinical case to sequencing company Vision Medicals. On 27 and 28 December, Vision Medicals informed the Wuhan Central Hospital and the Chinese CDC of the results of the test, showing a new coronavirus.[228] A pneumonia cluster of unknown cause was observed on 26 December and treated by the doctor Zhang Jixian in Hubei Provincial Hospital, who informed the Wuhan Jianghan CDC on 27 December.[229] On 30 December 2019, a test report addressed to Wuhan Central Hospital, from company CapitalBio Medlab, stated that there was an erroneous positive result for SARS, causing a group of doctors at Wuhan Central Hospital to alert their colleagues and relevant hospital authorities of the result. Eight of those doctors, including Li Wenliang (who was also punished on 3January),[230] were later admonished by the police for spreading false rumours; and another doctor, Ai Fen, was reprimanded by her superiors for raising the alarm.[231] That evening, the Wuhan Municipal Health Commission issued a notice to various medical institutions about \"the treatment of pneumonia of unknown cause\".[232] The next day, the Wuhan Municipal Health Commission made the first public announcement of a pneumonia outbreak of unknown cause, confirming 27 cases[224][233][234]—enough to trigger an investigation.[225] During the early stages of the outbreak, the number of cases doubled approximately every seven and a half days.[235] In early and mid-January 2020, the virus spread to other Chinese provinces, helped by the Chinese New Year migration and Wuhan being a transport hub and major rail interchange.[236] On 20 January, China reported nearly 140 new cases in one day, including two people in Beijing and one in Shenzhen.[237] A retrospective official study published in March found that 6,174 people had already developed symptoms by 20 January (most of them would be diagnosed later)[238] and more may have been infected.[239] A report in The Lancet on 24 January indicated human transmission, strongly recommended personal protective equipment for health workers, and said testing for the virus was essential due to its \"pandemic potential\".[24][240] On 31 January 2020, Italy had its first confirmed cases, two tourists from China.[245] As of 13 March 2020, the WHO considered Europe the active centre of the pandemic.[246] On 19 March 2020, Italy overtook China as the country with the most reported deaths.[247] By 26 March, the United States had overtaken China and Italy with the highest number of confirmed cases in the world.[248] Research on coronavirus genomes indicates the majority of COVID-19 cases in New York came from European travellers, rather than directly from China or any other Asian country.[249] Retesting of prior samples found a person in France who had the virus on 27 December 2019[250][251] and a person in the United States who died from the disease on 6February 2020.[252] On 11 June 2020, after 55 days without a locally transmitted case being officially reported,[253] the city of Beijing reported a single COVID-19 case, followed by two more cases on 12 June.[254] As of 15 June 2020, 79 cases were officially confirmed.[255] Most of these patients went to Xinfadi Wholesale Market.[253][256] On 29 June 2020, WHO warned that the spread of the virus is still accelerating as countries reopen their economies, although many countries have made progress in slowing down the spread.[257] On 15 July 2020, one COVID-19 case was officially reported in Dalian in more than three months. The patient did not travel outside the city in the 14 days before developing symptoms, nor did he have contact with people from \"areas of attention.\"[258] In October 2020, the WHO stated, at a special meeting of WHO leaders, that one in ten people around the world may have been infected with COVID-19. At the time, that translated to 780 million people being infected, while only 35 million infections had been confirmed.[259] In early November 2020, Denmark reported on an outbreak of a unique mutated variant being transmitted to humans from minks in its North Jutland Region. All twelve human cases of the mutated variant were identified in September 2020. The WHO released a report saying the variant \"had a combination of mutations or changes that have not been previously observed.\"[260] In response, Prime Minister Mette Frederiksen ordered for the country – the world\\'s largest producer of mink fur – to cull its mink population by as many as 17 million.[261] On 9 November 2020, Pfizer released their trial results for a candidate vaccine, showing that it is 90% effective against the virus.[262] Later that day, Novavax entered an FDA Fast Track application for their vaccine.[263] Virologist and U.S. National Institute of Allergy and Infectious Diseases director Anthony Fauci indicated that the Pfizer vaccine targets the spike protein used to infect cells by the virus. Some issues left to be answered are how long the vaccine offers protection, and if it offers the same level of protection to all ages. Initial doses will likely go to healthcare workers on the front lines.[264] On 9 November 2020 the United States surpassed 10 million confirmed cases of COVID-19, making it the country with the most cases worldwide by a large margin.[265] It was reported on 27 November, that a publication released by the Centers for Disease Control and Prevention indicated that the current numbers of viral infection are via confirmed laboratory test only. However, the true number could be about eight times the reported number; the report further indicated that the true number of virus infected cases could be around 100 million in the U.S.[266][267] On 14 December 2020, Public Health England reported a new variant had been discovered in the South East of England, predominantly in Kent. The variant, named Variant of Concern 202012/01, showed changes to the spike protein which could make the virus more infectious. As of 13 December, there were 1,108 cases identified.[268] Many countries halted all flights from the UK;[269] France-bound Eurotunnel service was suspended and ferries carrying passengers and accompanied freight were cancelled as the French border closed to people on 20 December.[270] On 12 January, it was reported that a team of scientists from the World Health Organization would arrive in Wuhan, China on the 14th of the month; this is to ascertain the origin of the COVID-19 pandemic and determine what were the intermediate hosts between the original reservoir and humans.[272] On the following day, two of the WHO members were barred from entering China, according to the country, antibodies for the virus were detected in both.[273] As of 19 January 2021, more than 95.6million cases have been reported worldwide due to COVID-19; more than 2.04million have died and more than 52.7million have recovered.[4] A total of 191[4] countries and territories have had at least one case of COVID-19 so far. Due to the pandemic in Europe, many countries in the Schengen Area have restricted free movement and set up border controls.[274] National reactions have included containment measures such as quarantines and curfews (known as stay-at-home orders, shelter-in-place orders, or lockdowns).[275] The WHO\\'s recommendation on curfews and lockdowns is that they should be short-term measures to reorganize, regroup, rebalance resources, and protect health workers who are exhausted. To achieve a balance between restrictions and normal life, the long-term responses to the pandemic should consist of strict personal hygiene, effective contact tracing, and isolating when ill.[276] By 26 March 2020, 1.7 billion people worldwide were under some form of lockdown,[277] which increased to 3.9 billion people by the first week of April—more than half the world\\'s population.[278][279] By late April 2020, around 300 million people were under lockdown in nations of Europe, including but not limited to Italy, Spain, France, and the United Kingdom, while around 200 million people were under lockdown in Latin America.[280] Nearly 300 million people, or about 90 percent of the population, were under some form of lockdown in the United States,[281] around 100 million people in the Philippines,[280] about 59 million people in South Africa,[282] and 1.3 billion people have been under lockdown in India.[283][284] On 21 May 2020, 100,000 new infections occurred worldwide, the most since the start of the pandemic, while overall 5million cases were surpassed.[285] Asia As of 30 April 2020[update],[286] cases have been reported in all Asian countries except for Turkmenistan and North Korea, although these countries likely also have cases.[287][288] Despite being the first area of the world hit by the outbreak, the early wide-scale response of some Asian states, particularly Mongolia,[289]Singapore,[290]South Korea,[291]Taiwan,[292]Vietnam,[293] has allowed them to fare comparatively well. China is criticized for initially minimizing the severity of the outbreak but the delayed wide-scale response has largely contained the disease since March 2020.[294][295][296][297] As of 9 December 2020, Singapore has the lowest case fatality rate in the world, at 0.51 deaths per 100,000.[298] The pandemic has had direct side effects, per a report on 28 November, in Japan. According to the report by the country\\'s National Police Agency, suicides had increased to 2,153 in October. Experts also state that the pandemic has worsened mental health issues due to lockdowns and isolation from family members, among other issues.[299] China As of 14 July 2020, there are 83,545 cases confirmed in China— excluding 114 asymptomatic cases, 62 of which were imported, under medical observation; asymptomatic cases have not been reported prior to 31 March 2020—with 4,634 deaths and 78,509 recoveries,[300] meaning there are only 402 cases. Hubei has the most cases, followed by Xinjiang.[301] By March 2020, COVID-19 infections have largely been put under control in China,[294] with minor outbreaks since.[302] It was reported on 25 November, that some 1 million people in the country of China have been vaccinated according to China\\'s state council; the vaccines against COVID-19 come from Sinopharm which makes two and one produced by Sinovac.[303] India Indian officials conducting temperature checks at the Ratha Yatra Hindu festival on 23 June 2020 The first case of COVID-19 in India was reported on 30 January 2020. India ordered a nationwide lockdown for the entire population starting 24 March 2020,[304] with a phased unlock beginning 1 June 2020. Six cities account for around half of all reported cases in the country—Mumbai, Delhi, Ahmedabad, Chennai, Pune and Kolkata.[305] As of September 2020, India had the largest number of confirmed cases in Asia;[306] and the second-highest number of confirmed cases in the world,[307] behind the United States,[308] with the number of total confirmed cases breaching the 100,000 mark on 19 May 2020,[309] 1,000,000 on 16 July 2020,[310] and 5,000,000 confirmed cases on 16 September 2020.[311] On 30 August 2020, India surpassed the US record for the most cases in a single day, with more than 78,000 cases,[312] and set a new record on 16 September 2020, with almost 98,000 cases reported that day.[313] On 10 June 2020, India\\'s recoveries exceeded active cases for the first time.[314] As of 30 August 2020, India\\'s case fatality rate is relatively low at 2.3%, against the global 4.7%.[315] Iran Disinfection of Tehran Metro trains against coronavirus. Similar measures have also been taken in other countries.[316] Iran reported its first confirmed cases of SARS-CoV-2 infections on 19 February 2020 in Qom, where, according to the Ministry of Health and Medical Education, two people had died that day.[317][318] Early measures announced by the government included the cancellation of concerts and other cultural events,[319] sporting events,[320] Friday prayers,[321] and closures of universities, higher education institutions, and schools.[322] Iran allocated 5trillion rials (equivalent to US$120,000,000) to combat the virus.[323] President Hassan Rouhani said on 26 February 2020 there were no plans to quarantine areas affected by the outbreak, and only individuals would be quarantined.[324] Plans to limit travel between cities were announced in March 2020,[325] although heavy traffic between cities ahead of the Persian New Year Nowruz continued.[326]Shia shrines in Qom remained open to pilgrims until 16 March.[327][328] Iran became a centre of the spread of the virus after China during February 2020.[329][330] More than ten countries had traced their cases back to Iran by 28 February, indicating the outbreak may have been more severe than the 388 cases reported by the Iranian government by that date.[330][331] The Iranian Parliament was shut down, with 23 of its 290 members reported to have had tested positive for the virus on 3March 2020.[332] On 15 March 2020, the Iranian government reported a hundred deaths in a single day, the most recorded in the country since the outbreak began.[333] At least twelve sitting or former Iranian politicians and government officials had died from the disease by 17 March 2020.[334] By 23 March 2020, Iran was experiencing fifty new cases every hour and one new death every ten minutes due to coronavirus.[335] According to a WHO official, there may be five times more cases in Iran than what is being reported. It is also suggested that U.S. sanctions on Iran may be affecting the country\\'s financial ability to respond to the viral outbreak.[336] On 20 April 2020, Iran reopened shopping malls and other shopping areas across the country.[337] After reaching a low in new cases in early May, a new peak was reported on 4June 2020, raising fear of a second wave.[338] On 18 July 2020, President Rouhani estimated that 25 million Iranians had already become infected, which is considerably higher than the official count.[339] Leaked data suggest that 42,000 people had died with COVID-19 symptoms by 20 July 2020, nearly tripling the 14,405 officially reported by that date.[340] South Korea COVID-19 was confirmed to have spread to South Korea on 20 January 2020 from China. The nation\\'s health agency reported a significant increase in confirmed cases on 20 February,[341] largely attributed to a gathering in Daegu of the Shincheonji Church of Jesus.[341][342] Shincheonji devotees visiting Daegu from Wuhan were suspected to be the origin of the outbreak.[343][344] By 22 February[update], among 9,336 followers of the church, 1,261 or about 13 percent reported symptoms.[345] South Korea declared the highest level of alert on 23 February 2020.[346] On 29 February, more than 3,150 confirmed cases were reported.[347] All South Korean military bases were quarantined after tests showed three soldiers had the virus.[343] Airline schedules were also changed.[348][349] South Korea introduced what was considered the largest and best-organised programme in the world to screen the population for the virus, isolate any infected people, and trace and quarantine those who contacted them.[291][350] Screening methods included mandatory self-reporting of symptoms by new international arrivals through mobile application,[351]drive-through testing for the virus with the results available the next day,[352] and increasing testing capability to allow up to 20,000 people to be tested every day.[353] Despite some early criticisms of President Moon Jae-in\\'s response to the crisis,[354] South Korea\\'s programme is considered a success in controlling the outbreak without quarantining entire cities.[291][355][356] On 23 March, it was reported that South Korea had the lowest one-day case total in four weeks.[353] On 29 March it was reported that beginning 1April all new overseas arrivals will be quarantined for two weeks.[357] Per media reports on 1April, South Korea has received requests for virus testing assistance from 121 different countries.[358] Persistent local groups of infections in the greater Seoul area continued to be found, which led to Korea\\'s CDC director saying in June that the country had entered the second wave of infections,[359] although a WHO official disagreed with that assessment.[360] Europe Cases of COVID-19 per 100,000 residents in Europe. The numbers are not comparable, as the testing strategy differs among countries and time periods. This article needs to be updated. Please update this article to reflect recent events or newly available information.(January 2021) As of 13 March 2020,[update] when the number of new cases became greater than those in China, the World Health Organization (WHO) began to consider Europe the active centre of the pandemic.[361][362] Cases by country across Europe had doubled over periods of typically 3 to 4 days, with some countries (mostly those at earlier stages of detection) showing doubling every 2 days.[363] As of 17 March,[update] all countries within Europe had a confirmed case of COVID-19, with Montenegro being the last European country to report at least one case.[364] At least one death has been reported in all European countries, apart from the Vatican City. As of 24 May, 68 days since its first recorded case, Montenegro became the first COVID-19-free country in Europe,[366][367] but this situation lasted only 44 days before a newly imported case was identified there.[368] European countries with the highest number of confirmed COVID-19 cases are Russia, France, Spain, the United Kingdom, and Italy.[369] On 21 August, it was reported the COVID-19 cases were climbing among younger individuals across Europe.[370] On 21 November, it was reported by the Voice of America that Europe is the worst hit area by the COVID-19 virus, with numbers exceeding 15 million cases[371] France Although it was originally thought the pandemic reached France on 24 January 2020, when the first COVID-19 case in Europe was confirmed in Bordeaux, it was later discovered that a person near Paris had tested positive for the virus on 27 December 2019 after retesting old samples.[250][251] A key event in the spread of the disease in the country was the annual assembly of the Christian Open Door Church between 17 and 24 February in Mulhouse, which was attended by about 2,500 people, at least half of whom are believed to have contracted the virus.[372][373] On 13 March, Prime Minister Édouard Philippe ordered the closure of all non-essential public places,[374] and on 16 March, French President Emmanuel Macron announced mandatory home confinement, a policy which was extended at least until 11 May.[375][376][377] As of 14 September[update], France has reported more than 402,000 confirmed cases, 30,000 deaths, and 90,000 recoveries,[378] ranking fourth in number of confirmed cases.[379] In April, there were riots in some Paris suburbs.[380] On 18 May, it was reported that schools in France had to close again after reopening, due to COVID-19 case flare-ups.[381] On 12 November it was reported that France had become the worst hit country by the COVID-19 pandemic, in all of Europe, in the process surpassing Russia. The new total of confirmed cases was more than 1.8 million and counting; additionally it was indicated by the French government that the current national lockdown would remain in place.[382] Italy The outbreak was confirmed to have spread to Italy on 31 January, when two Chinese tourists tested positive for SARS-CoV-2 in Rome.[245] Cases began to rise sharply, which prompted the Italian government to suspend all flights to and from China and declare a state of emergency.[383] An unassociated cluster of COVID-19 cases was later detected, starting with 16 confirmed cases in Lombardy on 21 February.[384] On 22 February, the Council of Ministers announced a new decree-law to contain the outbreak, including quarantining more than 50,000 people from eleven different municipalities in northern Italy.[385] Prime Minister Giuseppe Conte said, \"In the outbreak areas, entry and exit will not be provided. Suspension of work activities and sports events has already been ordered in those areas.\"[386][387] On 4 March, the Italian government ordered the full closure of all schools and universities nationwide as Italy reached a hundred deaths. All major sporting events were to be held behind closed doors until April,[388] but on 9March all sport was suspended completely for at least one month.[389] On 11 March, Prime Minister Conte ordered stoppage of nearly all commercial activity except supermarkets and pharmacies.[390][391] On 6 March, the Italian College of Anaesthesia, Analgesia, Resuscitation and Intensive Care (SIAARTI) published medical ethics recommendations regarding triage protocols.[392][393][394] On 19 March, Italy overtook China as the country with the most coronavirus-related deaths in the world after reporting 3,405 fatalities from the pandemic.[395][396] On 22 March, it was reported that Russia had sent nine military planes with medical equipment to Italy.[397] As of 14 September[update], there were 287,753 confirmed cases, 35,610 deaths, and 213,634 recoveries in Italy, with the majority of those cases occurring in the Lombardy region.[4] A CNN report indicated that the combination of Italy\\'s large elderly population and inability to test all who have the virus to date may be contributing to the high fatality rate.[398] On 19 April, it was reported that the country had its lowest deaths at 433 in seven days and some businesses are asking for a loosening of restrictions after six weeks of lockdown.[399]\\nOn 13 October 2020, the Italian government again issued restrictive rules to contain a rise in infections.[400] On 11 November, it was reported that Silvestro Scotti, president of the Italian Federation of General Practitioners indicated that all of Italy should come under restrictions due to the coronavirus. A couple of days prior Filippo Anelli, president of the National Federation of Doctor\\'s Guilds (FNOMCEO) asked for a complete lockdown of the peninsular nation due to the pandemic.[401] On the 10th, a day before, Italy surpassed 1 million confirmed COVID-19 cases.[402] On 23 November it was reported that the second wave of the virus has caused some hospitals in Italy to stop accepting patients.[403] Spain Residents of Valencia, Spain, maintaining social distancing while queueing The virus was first confirmed to have spread to Spain on 31 January 2020, when a German tourist tested positive for SARS-CoV-2 in La Gomera, Canary Islands.[404] Post-hoc genetic analysis has shown that at least 15 strains of the virus had been imported, and community transmission began by mid-February.[405] By 13 March, cases had been confirmed in all 50 provinces of the country. A lockdown was imposed on 14 March 2020.[406] On 29 March, it was announced that, beginning the following day, all non-essential workers were ordered to remain at home for the next 14 days.[407] By late March, the Community of Madrid has recorded the most cases and deaths in the country. Medical professionals and those who live in retirement homes have experienced especially high infection rates.[408] On 25 March, the official death toll in Spain surpassed that of mainland China.[409] On 2April, 950 people died of the virus in a 24-hour period—at the time, the most by any country in a single day.[410] On 17 May, the daily death toll announced by the Spanish government fell below 100 for the first time,[411] and 1 June was the first day without deaths by coronavirus.[412] The state of alarm ended on 21 June.[413] However, the number of cases increased again in July in a number of cities including Barcelona, Zaragoza and Madrid, which led to reimposition of some restrictions but no national lockdown.[414][415][416][417] Studies have suggested that the number of infections and deaths may have been underestimated due to lack of testing and reporting, and many people with only mild or no symptoms were not tested.[418][419] Reports in May suggested that, based on a sample of more than 63,000 people, the number of infections may be ten times higher than the number of confirmed cases by that date, and Madrid and several provinces of Castilla–La Mancha and Castile and León were the most affected areas with a percentage of infection greater than 10%.[420][421] There may also be as many as 15,815 more deaths according to the Spanish Ministry of Health monitoring system on daily excess mortality (Sistema de Monitorización de la Mortalidad Diaria - MoMo).[422] On 6 July 2020, the results of a Government of Spain nationwide seroprevalence study showed that about two million people, or 5.2% of the population, could have been infected during the pandemic.[423][424] Spain was the second country in Europe (behind Russia) to record half a million cases.[425] On 21 October, Spain passed 1 million COVID-19 cases, with 1,005,295 infections and 34,366 deaths reported as of 21 October a third of which occurred in Madrid.[426] Sweden Sweden differed from most other European countries in that it mostly remained open.[427] Per the Swedish Constitution, the Public Health Agency of Sweden has autonomy which prevents political interference and the agency\\'s policy favoured forgoing a lockdown. The Swedish strategy focused on measures that could be put in place over a longer period of time, based on the assumption that the virus would start spreading again after a shorter lockdown.[428][429]The New York Times said that, as of May 2020, the outbreak had been far deadlier there but the economic impact had been reduced as Swedes have continued to go to work, restaurants, and shopping.[427][430] On 19 May, it was reported that the country had in the week of 12–19 May the highest per capita deaths in Europe, 6.25 deaths per million per day.[431] In the end of June, Sweden no longer had excess mortality.[432] United Kingdom The \"Wee Annie\" statue in Gourock, Scotland, was given a face mask during the pandemic. Devolution in the United Kingdom meant that each of the four countries of the UK had its own different response to COVID-19, and the UK government, on behalf of England, moved quicker to lift restrictions.[433] The UK government started enforcing social distancing and quarantine measures on 18 March 2020[434][435] and was criticised for a perceived lack of intensity in its response to concerns faced by the public.[436][437] On 16 March, Prime Minister Boris Johnson advised against non-essential travel and social contact, suggesting people work from home and avoid venues such as pubs, restaurants, and theatres.[438][439] On 20 March, the government ordered all leisure establishments to close as soon as possible,[440] and promised to prevent unemployment.[441] On 23 March, Johnson banned gatherings of multiple people and restricting non-essential travel and outdoor activity. Unlike previous measures, these restrictions were enforceable by police through fines and dispersal of gatherings. Most non-essential businesses were ordered to close.[442] On 24 April it was reported that a promising vaccine trial had begun in England; the government pledged more than £50 million towards research.[443] A number of temporary critical care hospitals were built.[444] The first operating was the 4000-bed NHS Nightingale Hospital London, constructed for over nine days.[445] On 4May, it was announced that it would be placed on standby and remaining patients transferred to other facilities;[446] 51 patients had been treated in the first three weeks.[447] On 16 April it was reported that the UK would have first access to the Oxford vaccine, due to a prior contract; should the trial be successful, some 30 million doses in the UK would be available.[448] On 2 December the UK became the first Western country to approve the Pfizer vaccine against the COVID-19 virus; 800,000 doses will be immediately available for use[449] It was reported on 5 December that the United Kingdom would begin vaccination against the virus on 8 December, less than a week after having been approved.[450] On 9 December, MHRA stated that any individual with a significant allergic reaction to a vaccine, such as an anaphylactoid reaction, should not take the Pfizer vaccine for COVID-19 protection.[451][452] North America The first cases in North America were reported in the United States in January 2020. Cases were reported in all North American countries after Saint Kitts and Nevis confirmed a case on 25 March, and in all North American territories after Bonaire confirmed a case on 16 April.[453] Canada reported 665,496 cases and 17,030 deaths on 11 January 2021,[454] while Mexico reported 1,534,039 cases and 133,706 deaths.[455] The most cases by state is California with 2,621,277 confirmed cases and 29,233 deaths as of the 11th January 2021.[456] United States More than 24,000,000 confirmed cases have been reported in the United States since January 2020, resulting in more than 398,000 deaths, the most of any country and the eleventh-highest on a per capita basis.[457][458] The U.S. has nearly a quarter of the world\\'s cases and a fifth of all deaths. COVID-19 became the third leading cause of death in the U.S. in 2020, behind heart disease and cancer.[459] The first American case was reported on January 20, and President Donald Trump declared the U.S. outbreak a public health emergency on January 31. Restrictions were placed on flights arriving from China,[460][461] but the initial U.S. response to the pandemic was otherwise slow, in terms of preparing the healthcare system, stopping other travel, and testing.[462][463][464][g] Meanwhile, Trump downplayed the threat posed by the virus and claimed the outbreak was under control.[466] The first known American deaths occurred in February.[467][h] On March 6, Trump signed the Coronavirus Preparedness and Response Supplemental Appropriations Act, which provided $8.3 billion in emergency funding for federal agencies to respond to the outbreak.[468] On March 13, President Trump declared a national emergency.[469] In mid-March, the Trump administration started to purchase large quantities of medical equipment,[470] and in late March, it invoked the Defense Production Act to direct industries to produce medical equipment.[471] By April 17, the federal government approved disaster declarations for all states and territories. By mid-April, cases had been confirmed in all fifty U.S. states, and by November in all inhabited U.S. territories. A second rise in infections began in June 2020, following relaxed restrictions in several states.[472] South America Argentina was among the Latin American countries that earned the best grades for their response to the pandemic.[473] The pandemic was confirmed to have reached South America on 26 February 2020 when Brazil confirmed a case in São Paulo.[474] By 3 April, all countries and territories in South America had recorded at least one case.[475] On 13 May, it was reported that Latin America and the Caribbean had reported over 400,000 cases of infection with 23,091 deaths. On 22 May, citing especially the rapid increase of infections in Brazil, the WHO declared South America the epicentre of the pandemic.[476][477] As of 20 September,[needs update] South America has about 7.5 million confirmed cases and 238,000 deaths. Due to a dearth of testing and medical facilities, it is believed that the outbreak is far larger than the official numbers show.[478] Brazil On 20 May it was reported that Brazil had a record 1,179 deaths in a single day, for a total of almost 18,000 fatalities. With a total number of almost 272,000 cases, Brazil became the country with the third-highest number of cases, following Russia and the United States.[479] On 25 May, Brazil exceeded the number of reported cases in Russia when they reported that 11,687 new cases had been confirmed over the previous 24 hours, bringing the total number to over 374,800, with more than 23,400 deaths. President Jair Bolsonaro has created a great deal of controversy referring to the virus as a \"little flu\" and frequently speaking out against preventive measures such as lockdowns and quarantines. His attitude towards the outbreak has so closely matched that of President Trump he has been called the \"Trump of the Tropics\".[480] Bolsonaro later tested positive for the virus.[481] In June 2020, the government of Brazil attempted to conceal the actual figures of the COVID-19 active cases and deaths, as it stopped publishing the total number of infections and deaths. On 5June, Brazil\\'s health ministry took down the official website reflecting the total numbers of infections and deaths. The website was live on 6June, with only the number of infections of the previous 24 hours. The last official numbers reported about 615,000 infections and over 34,000 deaths.[482] On 15 June, it was reported that the worldwide cases had jumped from seven to eight million in one week, citing Latin America, specifically Brazil as one of the countries where cases are surging, in this case, towards 1 million cases.[483] Brazil briefly paused Phase III trials for the CoronavacCOVID-19 vaccine on 10 November after the suicide of a volunteer before resuming on 11 November.[484] Africa The pandemic was confirmed to have spread to Africa on 14 February 2020, with the first confirmed case announced in Egypt.[485][486] The first confirmed case in sub-Saharan Africa was announced in Nigeria at the end of February.[487] Within three months, the virus had spread throughout the continent, as Lesotho, the last African sovereign state to have remained free of the virus, reported a case on 13 May.[488][489] By 26 May, it appeared that most African countries were experiencing community transmission, although testing capacity was limited.[490] Most of the identified imported cases arrived from Europe and the United States rather than from China where the virus originated.[491] It is believed that there is widespread under-reporting in many African countries with less developed healthcare systems.[492] Oceania The pandemic was confirmed to have reached Oceania on 25 January 2020 with the first confirmed case reported in Melbourne, Victoria, Australia.[493] It has since spread elsewhere in the region,[494] although many small Pacific island nations have thus far avoided the outbreak by closing their international borders. Five Oceania sovereign states have yet to report a case: Kiribati, Nauru, Palau, Tonga, and Tuvalu. Australia and New Zealand have been praised for their handling of the pandemic compared to other western nations, with the latter wiping out all community transmission of the virus. The most recent country or territory to report its first confirmed case was the Federated States of Micronesia, on 8 January 2021. Antarctica Due to its remoteness and sparse population, Antarctica was the last continent to have confirmed cases of COVID-19 and was one of the last regions of the world affected directly by the pandemic.[495][496][497] The first cases were reported in December 2020, almost a year after the first cases of COVID-19 were detected in China. At least 36 people are confirmed to have been infected.[498] Even before the first cases on the continent were reported, human activity in Antarctica was indirectly impacted. International responses Travel restrictions As a result of the pandemic, many countries and regions imposed quarantines, entry bans, or other restrictions, either for citizens, recent travellers to affected areas,[499] or for all travellers.[500] Together with a decreased willingness to travel, this had a negative economic and social impact on the travel sector. Concerns have been raised over the effectiveness of travel restrictions to contain the spread of COVID-19.[501] A study in Science found that travel restrictions had only modestly affected the initial spread of COVID-19, unless combined with infection prevention and control measures to considerably reduce transmissions.[502] Researchers concluded that \"travel restrictions are most useful in the early and late phase of an epidemic\" and \"restrictions of travel from Wuhan unfortunately came too late\".[503] Evacuation of foreign citizens Owing to the effective lockdown of Wuhan and Hubei, several countries evacuated their citizens and diplomatic staff from the area, primarily through chartered flights of the home nation, with Chinese authorities providing clearance. Canada, the United States, Japan, India,[508] Sri Lanka, Australia, France, Argentina, Germany, and Thailand were among the first to plan the evacuation of their citizens.[509] Brazil and New Zealand also evacuated their own nationals and some other people.[510][511] On 14 March, South Africa repatriated 112 South Africans who tested negative for the virus from Wuhan, while four who showed symptoms were left behind to mitigate risk.[512] Pakistan said it would not evacuate citizens from China.[513] On 15 February, the U.S. announced it would evacuate Americans aboard the cruise ship Diamond Princess,[514] and on 21 February, Canada evacuated 129 Canadian passengers from the ship.[515] In early March, the Indian government began evacuating its citizens from Iran.[516][517] On 20 March, the United States began to partially withdraw its troops from Iraq due to the pandemic.[518] In responding to the outbreak, the WHO has had to deal with political conflicts between member states, in particular between the United States and China.[521] On May 19, the WHO agreed to an independent investigation into its handling of the pandemic. On August 27, the WHO announced the setting up of an independent expert Review Committee to examine aspects of the international treaty that governs preparedness and response to health emergencies. The outbreak is a major destabilising threat to the global economy. Agathe Demarais of the Economist Intelligence Unit has forecast that markets will remain volatile until a clearer image emerges on potential outcomes. One estimate from an expert at Washington University in St. Louis gave a $300+billion impact on the world\\'s supply chain that could last up to two years.[522] Global stock markets fell on 24 February due to a significant rise in the number of COVID-19 cases outside China.[523][524] On 27 February, due to mounting worries about the coronavirus outbreak, U.S. stock indexes posted their sharpest falls since 2008, with the Dow falling 1,191 points (the largest one-day drop since the financial crisis of 2007–08)[525] and all three major indexes ending the week down more than 10 percent.[526] On 28 February, Scope Ratings GmbH affirmed China\\'s sovereign credit rating but maintained a Negative Outlook.[527] Stocks plunged again due to coronavirus fears, the largest fall being on 16 March.[528] Lloyd\\'s of London has estimated that the global insurance industry will absorb losses of US$204 billion, exceeding the losses from the 2017 Atlantic Hurricane season and 11 September attacks, suggesting the COVID-19 pandemic will likely go down in history as the costliest disaster ever in human history.[529] A highway sign in Toronto discouraging non-essential travel during the pandemic lockdown in March 2020 Tourism is one of the worst affected sectors due to travel bans, closing of public places including travel attractions, and advice of governments against travel. Numerous airlines have cancelled flights due to lower demand, and British regional airline Flybe collapsed.[530] The cruise line industry was hard hit,[531] and several train stations and ferry ports have also been closed.[532] International mail between some countries stopped or was delayed due to reduced transportation between them or suspension of domestic service.[533] The retail sector has been impacted globally, with reductions in store hours or temporary closures.[534] Visits to retailers in Europe and Latin America declined by 40 percent. North America and Middle East retailers saw a 50–60 percent drop.[535] This also resulted in a 33–43 percent drop in foot traffic to shopping centres in March compared to February. Shopping mall operators around the world imposed additional measures, such as increased sanitation, installation of thermal scanners to check the temperature of shoppers, and cancellation of events.[536] \"Those who can, put something in; those who can\\'t, help yourself.\" Bologna, April 2020. Hundreds of millions of jobs could be lost globally.[537][538] More than 40 million Americans lost their jobs and filed unemployment insurance claims.[539] The economic impact and mass unemployment caused by the pandemic has raised fears of a mass eviction crisis,[540][541] with an analysis by the Aspen Institute indicating between 30 and 40 million Americans are at risk for eviction by the end of 2020.[542][543] According to a report by the Yelp, about 60% of U.S. businesses that have closed since the start of the pandemic will stay shut permanently.[544] The outbreak has been blamed for several instances of supply shortages, stemming from globally increased usage of equipment to fight outbreaks, panic buying (which in several places led to shelves being cleared of grocery essentials such as food, toilet paper, and bottled water), and disruption to the factory and logistic operations.[549] The spread of panic buying has been found to stem from perceived threat, perceived scarcity, fear of the unknown, coping behaviour and social psychological factors (e.g. social influence and trust).[550] The technology industry, in particular, has warned of delays to shipments of electronic goods.[551] According to the WHO director-general Tedros Adhanom, demand for personal protection equipment has risen a hundredfold, leading to prices up to twenty times the normal price and also delays in the supply of medical items of four to six months.[552][553] It has also caused a shortage of personal protective equipment worldwide, with the WHO warning that this will endanger health workers.[554] The impact of the coronavirus outbreak was worldwide. The virus created a shortage of precursors (raw material) used in the manufacturing of fentanyl and methamphetamine. The Yuancheng Group, headquartered in Wuhan, is one of the leading suppliers.[555] Price increases and shortages in these illegal drugs have been noticed on the street of the UK.[556] U.S. law enforcement also told the New York Post Mexican drug cartels were having difficulty in obtaining precursors.[557] Oil and other energy markets In early February 2020, Organization of the Petroleum Exporting Countries (OPEC) \"scrambled\" after a steep decline in oil prices due to lower demand from China.[563] On Monday, 20 April, the price of West Texas Intermediate (WTI) went negative and fell to a record low (minus $37.63 a barrel) due to traders\\' offloading holdings so as not to take delivery and incur storage costs.[564] June prices were down but in the positive range, with a barrel of West Texas trading above $20.[564] Culture The performing arts and cultural heritage sectors have been profoundly affected by the pandemic, impacting organisations\\' operations as well as individuals—both employed and independent—globally. Arts and culture sector organisations attempted to uphold their (often publicly funded) mission to provide access to cultural heritage to the community, maintain the safety of their employees and the public, and support artists where possible. By March 2020, across the world and to varying degrees, museums, libraries, performance venues, and other cultural institutions had been indefinitely closed with their exhibitions, events and performances cancelled or postponed.[565] In response there were intensive efforts to provide alternative services through digital platforms.[566][567][568] An American Catholic military chaplain prepares for a live-streamed Mass in an empty chapel at Offutt Air Force Base in March 2020. Holy Week observances in Rome, which occur during the last week of the Christian penitential season of Lent, were cancelled.[567] Many dioceses have recommended older Christians stay home rather than attend Mass on Sundays; services have been made available via radio, online live streaming and television, though some congregations have made provisions for drive-in worship.[569][570][567] With the Roman Catholic Diocese of Rome closing its churches and chapels and St. Peter\\'s Square emptied of Christian pilgrims,[567] other religious bodies also cancelled in-person services and limited public gatherings in churches, mosques, synagogues, temples and gurdwaras.[567] Iran\\'s Health Ministry announced the cancellation of Friday prayers in areas affected by the outbreak and shrines were later closed,[321][328] while Saudi Arabia banned the entry of foreign pilgrims as well as its residents to holy sites in Mecca and Medina.[571][572] The 2020 Hajjwas limited to around 1,000 selected pilgrims, in contrast to the usual number of over 2 million.[573] The entertainment industry has also been affected, with many music groups suspending or cancelling concert tours.[581][582] The Eurovision Song Contest, which was due to be held in Rotterdam, the Netherlands in May, was cancelled; however, the Netherlands was retained as host for 2021.[583][584] Many large theatres such as those on Broadway also suspended all performances.[585] Some artists have explored ways to continue to produce and share work over the internet as an alternative to traditional live performance, such as live streaming concerts[586] or creating web-based \"festivals\" for artists to perform, distribute, and publicise their work.[587] The large number of people working or learning from home via videoconferencing software led to several new terms and trends, including \"zoom fatigue\",[588] a decline in demand for formal clothing, and increased fashion focus on masks and clothes for the upper body (the lower body generally not being visible on a videoconference).[589]\\nThe term \"doomscrolling\" became more widely used. Online, numerous COVID-19-themed Internet memes have spread as many turn to humour and distraction amid the uncertainty.[590] A popular Twitter account called \"Room Rater\" jokingly commented on and assigned numerical scores to the backgrounds of journalists and others appearing in mass media from home.[591] Although they have broad support among epidemiologists, social distancing measures have been politically controversial in many countries. Intellectual opposition to social distancing has come primarily from writers of other fields, although there are a few heterodox epidemiologists.[596] China The government of China has been criticised by the United States,[602] the UK Minister for the Cabinet Office Michael Gove,[603] and others[604] for its handling of the pandemic. A number of provincial-level administrators of the Communist Party of China were dismissed over their handling of the quarantine measures in China, a sign of discontent with their response to the outbreak. Some commentators believed this move was intended to protect CCP general secretaryXi Jinping from the controversy.[605] The U.S. intelligence community claims China intentionally under-reported its number of coronavirus cases.[606] The Chinese government maintains it has acted swiftly and transparently.[607][608] Italy In early March, the Italian government criticised the EU\\'s lack of solidarity with coronavirus-affected Italy[609][610]—Maurizio Massari, Italy\\'s ambassador to the EU, said \"only China responded bilaterally\", not the EU.[611] On 22 March, after a phone call with Italian Prime Minister Giuseppe Conte, Russian president Vladimir Putin had the Russian army send military medics, disinfection vehicles, and other medical equipment to Italy.[612]President of LombardyAttilio Fontana and Italian Foreign Minister Luigi Di Maio expressed their gratitude for the aid.[613] Russia also sent a cargo plane with medical aid to the United States.[614] Kremlin spokesman Dmitry Peskov said \"when offering assistance to U.S. colleagues, [Putin] assumes that when U.S. manufacturers of medical equipment and materials gain momentum, they will also be able to reciprocate if necessary.\"[615]\\nIn early April, Norway and EU states like Romania and Austria started to offer help by sending medical personnel and disinfectant,[616] and Ursula von der Leyen offered an official apology to the country.[617] Other countries The planned NATO \"Defender 2020\" military exercise in Germany, Poland, and the Baltic states, the largest NATO war exercise since the end of the Cold War, was held on a reduced scale.[627][628] The Campaign for Nuclear Disarmament\\'s general secretary Kate Hudson criticised the exercise, saying \"it jeopardises the lives not only of the troops from the U.S. and the many European countries participating but the inhabitants of the countries in which they are operating.\"[629] The Iranian government has been heavily affected by the virus, with about two dozen parliament members and fifteen current or former political figures infected.[331][630] Iran\\'s President Hassan Rouhani wrote a public letter to world leaders asking for help on 14 March 2020, saying they were struggling to fight the outbreak due to a lack of access to international markets from the United States sanctions against Iran.[631]Saudi Arabia, which launched a military intervention in Yemen in March 2015, declared a ceasefire.[632] Diplomatic relations between Japan and South Korea worsened due to the pandemic.[633] South Korea criticised Japan\\'s \"ambiguous and passive quarantine efforts\" after Japan announced anyone coming from South Korea would be placed in quarantine for two weeks at government-designated sites.[634] South Korean society was initially polarised on President Moon Jae-in\\'s response to the crisis; many Koreans signed petitions either calling for Moon\\'s impeachment or praising his response.[354] Some countries have passed emergency legislation in response to the pandemic. Some commentators have expressed concern that it could allow governments to strengthen their grip on power.[635][636] In the Philippines, lawmakers granted president Rodrigo Duterte temporary emergency powers during the pandemic.[637] In Hungary, the parliament voted to allow the prime minister, Viktor Orbán, to rule by decree indefinitely, suspend parliament as well as elections, and punish those deemed to have spread false information about the virus and the government\\'s handling of the crisis.[638] In some countries, including Egypt,[639]Turkey,[640] and Thailand,[637] opposition activists and government critics have been arrested for allegedly spreading fake news about the COVID-19 pandemic.[641] Agriculture and food systems The COVID-19 pandemic has disrupted agricultural and food systems worldwide.[642] COVID-19 hit at a time when hunger or undernourishment was once again on the rise in the world, with an estimated 690 million people already going hungry in 2019.[643] Based on the latest UN estimates, the economic recession triggered by the pandemic may lead to another 83 million people, and possibly as many as 132 million, going hungry in 2020.[643][644][645][646] This is mainly due to a lack of access to food – linked to falling incomes, lost remittances and, in some cases, a rise in food prices. In countries that already suffer from high levels of acute food insecurity, it is no longer an issue of access to food alone, but increasingly also one of food production.[642][643] The pandemic, alongside lockdowns and travel restrictions, has prevented movement of aid and greatly impacted food production. As a result, several famines are forecast, which the UN called a crisis \"of biblical proportions,\"[647] or \"hunger pandemic.\"[648] It is estimated that without intervention 30 million people may die of hunger, with Oxfam reporting that \"12,000 people per day could die from COVID-19 linked hunger\" by the end of 2020.[649][647][650]\\nThis pandemic, in conjunction with the 2019–20 locust infestations and several ongoing armed conflicts, is predicted to form the worst series of famines since the Great Chinese Famine, affecting between 10 and 20 percent of the global population in some way.[651]\\n55 countries are reported to be at risk, with three dozen succumbing to crisis-level famines or above in the worst-case scenario.[652] 265 million people are forecast to be in famine conditions, an increase of 125 million due to the coronavirus pandemic.[649] Education The pandemic has severely impacted educational systems globally. Most governments have temporarily closed educational institutions, with many switching to online education. As of 30 September 2020, approximately 1.077 billion learners are currently affected due to school closures in response to the pandemic. According to UNICEF monitoring, 53 countries are currently implementing nationwide closures and 27 are implementing local closures, impacting about 61.6 percent of the world\\'s student population. 72 countries\\' schools are currently open.[653] School closures impact not only students, teachers, and families but have far-reaching economic and societal consequences. School closures in response to the pandemic have shed light on various social and economic issues, including student debt, digital learning, food insecurity, and homelessness, as well as access to childcare, health care, housing, internet, and disability services. The impact has been more severe for disadvantaged children and their families, causing interrupted learning, compromised nutrition, childcare problems, and consequent economic cost to families who cannot work.[citation needed] Other health issues The pandemic has had many impacts on global health beyond those caused by the COVID-19 disease itself. It has led to a reduction in hospital visits for other reasons. There have been 38 per cent fewer hospital visits for heart attack symptoms in the United States and 40 per cent fewer in Spain.[654] The head of cardiology at the University of Arizona said, \"My worry is some of these people are dying at home because they\\'re too scared to go to the hospital.\"[655] There is also concern that people with strokes and appendicitis are not seeking timely treatment.[655]Shortages of medical supplies have impacted people with various conditions.[656] In several countries there has been a marked reduction of spread of sexually transmitted infections, including HIV/AIDS, attributable to COVID-19 quarantines, social distancing measures, and recommendations to not engage in casual sex.[657][658] Similarly, in some places, rates of transmission of influenza and other respiratory viruses significantly decreased during the pandemic.[659][660][661] The pandemic has also negatively impacted mental health globally, including increased loneliness resulting from social distancing[662] and depression and domestic violence from lockdowns.[663] As of June 2020, 40% of U.S. adults were experiencing adverse mental health symptoms, with 11% having seriously considered trying to kill themselves in the past month.[664] Xenophobia and racism Since the start of the outbreak, heightened prejudice, xenophobia, and racism have been documented around the world toward people of Chinese and East Asian descent.[682][683][684] Reports from February (when most cases were confined to China) documented racist sentiments expressed in groups worldwide about Chinese people \\'deserving\\' the virus.[685][686][687] Chinese people and other Asian in the United Kingdom and United States have reported increasing levels of racist abuse and assaults.[688][689][690] U.S. President Donald Trump has been criticised for referring to the coronavirus as the \"Chinese Virus\" and \"Kung Flu\", which has been widely condemned as racist and xenophobic.[691][692][693] On 14 March, an Asian family, including a two-year-old girl, was attacked at knifepoint in Texas in what the FBI has called a COVID-19 related hate crime.[694] Following the progression of the outbreak to new hotspot countries, people from Italy (the first country in Europe to experience a serious outbreak of COVID-19) were also subjected to suspicion and xenophobia,[695][696] as were people from hotspots in other countries. Discrimination against Muslims in India escalated after public health authorities identified an Islamic missionary (Tablighi Jamaat) group\\'s gathering in New Delhi in early March 2020 as a source of spread.[697] Paris has seen riots break out over police treatment of ethnic minorities during the coronavirus lockdown.[698] Racism and xenophobia towards southern and south east Asians increased in the Arab states of the Persian Gulf.[699][700][701] South Korea\\'s LGBTQ community was blamed by some for the spread of COVID-19 in Seoul.[702][703] In China, some people of African descent were evicted from their homes and told to leave China within 24 hours, due to disinformation that they and other foreigners were spreading the virus.[704] This racism and xenophobia was criticised by foreign governments and diplomatic corps and the Chinese ambassador to Zimbabwe.[705] Information dissemination Ongoing COVID-19 research is indexed and searchable in the NIH COVID-19 Portfolio.[706] Some newspaper agencies removed their online paywalls for some or all of their coronavirus-related articles and posts,[707] while scientific publishers made scientific papers related to the outbreak available with open access.[708][709] Some scientists chose to share their results quickly on preprint servers such as bioRxiv.[710] See also Notes ^In summary, this article is about the coronavirus pandemic, which is caused by the disease COVID‑19, which in turn is caused by the virus SARS‑CoV‑2. ^Known as \"close contact\" which is variously defined, including within ~1.8 metres (six feet) by the US Centers for Disease Control and Prevention (CDC), and being face to face for a cumulative total of 15 minutes,[6] or either 15 minutes of face to face proximity or sharing an enclosed space for a prolonged period such as two hours by the Australian Health Department.[7][8] ^This CDC best estimate (current as of 10 September) was derived from a paper in PLOS Medicine that estimated a range of IFR across several areas in Europe, from 0.5% (95% CrI 0.4%–0.6%) in Switzerland to 1.4% (95% CrI 1.1%–1.6%) in Lombardy, Italy (based on data through mid-to-late April).[62] Regarding the differences across the regions, the European researchers noted \"the importance of local factors ... including demographic characteristics\" and \"the lower degree of preparedness and health service capacity in northern Italy, which in Europe was affected first by the SARS-CoV-2 epidemic.\"[62] ^The overall value was corrected from 0.27% to account for \"the fact that only one or two types of antibodies (among IgG, IgM, IgA) might have been used\" in testing. ^One set of national statistics for England (ONS) shows a decrease in IFR from 2.63% to 0.49%; another (MRC) from 0.69% to 0.30%, both over eight weeks ending 4 August. ^Some refer to \\'fatality rate\\'; however \\'fatality ratio\\' is more accurate as this is not per unit time.[71] ^Gao, Yu (高昱) (26 February 2020). 独家 | 新冠病毒基因测序溯源：警报是何时拉响的 [Exclusive | Tracing the New Coronavirus gene sequencing: when did the alarm sound]. Caixin (in Chinese). Archived from the original on 27 February 2020. Retrieved 1 March 2020. ^Mounk Y (11 March 2020). \"The Extraordinary Decisions Facing Italian Doctors\". The Atlantic. Archived from the original on 12 March 2020. Retrieved 12 March 2020. Now the Italian College of Anesthesia, Analgesia, Resuscitation and Intensive Care (SIAARTI) has published guidelines for the criteria doctors and nurses should follow in these extraordinary circumstances. The document begins by likening the moral choices facing Italian doctors to the wartime triage of \\'catastrophe medicine\\'. ^Smith N (1 February 2020). \"Anti-Chinese racism spikes as virus spreads globally\". The Telegraph. \\'Some Muslims were claiming the disease was \"divine retribution\" for China\\'s oppression of the Uighur minority. The problem lay in confusing the Chinese population with the actions of an authoritarian government known for its lack of transparency,\\' he said.'"
            ]
          },
          "metadata": {
            "tags": []
          },
          "execution_count": 116
        }
      ]
    },
    {
      "cell_type": "markdown",
      "metadata": {
        "id": "zmr79eLxY7-Y"
      },
      "source": [
        "### Exercise 16 - Putting Everything Together"
      ]
    },
    {
      "cell_type": "markdown",
      "metadata": {
        "id": "-sfZtt8uhait"
      },
      "source": [
        "#### 1. Compiling a Tiny Wikipedia Corpus"
      ]
    },
    {
      "cell_type": "code",
      "metadata": {
        "id": "QKw4hrBmhc25"
      },
      "source": [
        "article_urls = [\r\n",
        "                'https://en.wikipedia.org/wiki/Linguistics',\r\n",
        "                'https://en.wikipedia.org/wiki/Sociolinguistics',\r\n",
        "                'https://en.wikipedia.org/wiki/Language_change'\r\n",
        "]"
      ],
      "execution_count": 117,
      "outputs": []
    },
    {
      "cell_type": "markdown",
      "metadata": {
        "id": "1NMLjr_HooPU"
      },
      "source": [
        "Since we want all articles in one document (string), we start with an empty string and add the content for each article to it."
      ]
    },
    {
      "cell_type": "code",
      "metadata": {
        "id": "2YzNk6hAhtjz"
      },
      "source": [
        "wikipedia = ''\r\n",
        "\r\n",
        "for url in article_urls:\r\n",
        "  wikipedia += scrape_wikipedia_jt(url) + '\\n' # Adding a linebreak after each article"
      ],
      "execution_count": 118,
      "outputs": []
    },
    {
      "cell_type": "markdown",
      "metadata": {
        "id": "n5RfB2BZpIzT"
      },
      "source": [
        "We are transforming the whole text (corpus) into lowercase; this reduces the amount of types. We are also generating a tokenized version (list) of the corpus."
      ]
    },
    {
      "cell_type": "code",
      "metadata": {
        "id": "6l-xpNnmh8Xa"
      },
      "source": [
        "wikipedia = wikipedia.lower()\r\n",
        "wikipedia_tokenized = tokenize(wikipedia)"
      ],
      "execution_count": 119,
      "outputs": []
    },
    {
      "cell_type": "markdown",
      "metadata": {
        "id": "hsnd9C3riBCe"
      },
      "source": [
        "#### 2. Reference Corpus\r\n",
        "\r\n",
        "We are using the COCA sampler as our reference corpus. Since we transformed the target corpus (Wikipedia) to lowercase, we will do the same to the reference."
      ]
    },
    {
      "cell_type": "code",
      "metadata": {
        "id": "XqMUwO1viC1c"
      },
      "source": [
        "coca_sampler = textdirectory.TextDirectory(directory='python-programming-for-linguists/2020/data/corpora/coca', autoload=True)\r\n",
        "coca_sampler.stage_transformation(['transformation_lowercase'])"
      ],
      "execution_count": 120,
      "outputs": []
    },
    {
      "cell_type": "code",
      "metadata": {
        "id": "0bNXpN70iQrh"
      },
      "source": [
        "reference_corpus = coca_sampler.aggregate_to_memory()\r\n",
        "reference_corpus_tokenized = tokenize(reference_corpus)"
      ],
      "execution_count": 121,
      "outputs": []
    },
    {
      "cell_type": "markdown",
      "metadata": {
        "id": "5bRX1ZaqiY72"
      },
      "source": [
        "#### 3. Frequency Lists"
      ]
    },
    {
      "cell_type": "markdown",
      "metadata": {
        "id": "QDBSl6GRp2Hz"
      },
      "source": [
        "As in Exercise 10, we are getting the vocabulary of both corpora."
      ]
    },
    {
      "cell_type": "code",
      "metadata": {
        "id": "PwjaogeAiarc"
      },
      "source": [
        "vocabulary = set(reference_corpus_tokenized + wikipedia_tokenized)"
      ],
      "execution_count": 122,
      "outputs": []
    },
    {
      "cell_type": "markdown",
      "metadata": {
        "id": "xoMNfUK_qxzS"
      },
      "source": [
        "Now, again very similarly to Exercise 10, we can generate a frequency table. We are using `enumerate` to get labels (Target/Wikipedia = 0, Reference/COCA = 1) for the two corpora."
      ]
    },
    {
      "cell_type": "code",
      "metadata": {
        "id": "BzkzU4c0ikPL"
      },
      "source": [
        "frequency_table = {}\r\n",
        "\r\n",
        "for i, corpus in enumerate([wikipedia, reference_corpus]):\r\n",
        "  frequency_list = []\r\n",
        "\r\n",
        "  corpus_frequencies = get_frequencies(corpus)\r\n",
        "\r\n",
        "  for vocab in vocabulary:\r\n",
        "    frequency_list.append(corpus_frequencies[vocab])\r\n",
        "\r\n",
        "  frequency_table[i] = frequency_list"
      ],
      "execution_count": 123,
      "outputs": []
    },
    {
      "cell_type": "code",
      "metadata": {
        "colab": {
          "base_uri": "https://localhost:8080/",
          "height": 201
        },
        "id": "pPc9YkG5jZAs",
        "outputId": "3cf7177b-f719-4b4e-ae9d-779481b4bb2e"
      },
      "source": [
        "df_keyness = pd.DataFrame(frequency_table, index=vocabulary)\r\n",
        "df_keyness.head()"
      ],
      "execution_count": 124,
      "outputs": [
        {
          "output_type": "execute_result",
          "data": {
            "text/html": [
              "<div>\n",
              "<style scoped>\n",
              "    .dataframe tbody tr th:only-of-type {\n",
              "        vertical-align: middle;\n",
              "    }\n",
              "\n",
              "    .dataframe tbody tr th {\n",
              "        vertical-align: top;\n",
              "    }\n",
              "\n",
              "    .dataframe thead th {\n",
              "        text-align: right;\n",
              "    }\n",
              "</style>\n",
              "<table border=\"1\" class=\"dataframe\">\n",
              "  <thead>\n",
              "    <tr style=\"text-align: right;\">\n",
              "      <th></th>\n",
              "      <th>0</th>\n",
              "      <th>1</th>\n",
              "    </tr>\n",
              "  </thead>\n",
              "  <tbody>\n",
              "    <tr>\n",
              "      <th>sabinson</th>\n",
              "      <td>0</td>\n",
              "      <td>1</td>\n",
              "    </tr>\n",
              "    <tr>\n",
              "      <th>photocopy</th>\n",
              "      <td>0</td>\n",
              "      <td>6</td>\n",
              "    </tr>\n",
              "    <tr>\n",
              "      <th>legget</th>\n",
              "      <td>0</td>\n",
              "      <td>7</td>\n",
              "    </tr>\n",
              "    <tr>\n",
              "      <th>dellin</th>\n",
              "      <td>0</td>\n",
              "      <td>1</td>\n",
              "    </tr>\n",
              "    <tr>\n",
              "      <th>violator</th>\n",
              "      <td>0</td>\n",
              "      <td>2</td>\n",
              "    </tr>\n",
              "  </tbody>\n",
              "</table>\n",
              "</div>"
            ],
            "text/plain": [
              "           0  1\n",
              "sabinson   0  1\n",
              "photocopy  0  6\n",
              "legget     0  7\n",
              "dellin     0  1\n",
              "violator   0  2"
            ]
          },
          "metadata": {
            "tags": []
          },
          "execution_count": 124
        }
      ]
    },
    {
      "cell_type": "markdown",
      "metadata": {
        "id": "TGR3yQa9jw0f"
      },
      "source": [
        "#### 4. Keyness Statistics"
      ]
    },
    {
      "cell_type": "markdown",
      "metadata": {
        "id": "cGKdU6-5q_Vs"
      },
      "source": [
        "We are using *Kilgariff's Simple Math Parameter* as our keyness statistic."
      ]
    },
    {
      "cell_type": "code",
      "metadata": {
        "id": "YI6woh-KjwGN"
      },
      "source": [
        "def smp(f_word_c0, f_word_c1, cs0, cs1, k=100):\r\n",
        "  rel_f_word_c0 = relative_frequency(f_word_c0, cs0)\r\n",
        "  rel_f_word_c1 = relative_frequency(f_word_c1, cs1)\r\n",
        "\r\n",
        "  smp = (rel_f_word_c0 + k) / (rel_f_word_c1 + k)\r\n",
        "\r\n",
        "  return smp"
      ],
      "execution_count": 125,
      "outputs": []
    },
    {
      "cell_type": "markdown",
      "metadata": {
        "id": "P96sVO5Nr3qa"
      },
      "source": [
        "To get some intuition on the SMP, we can have a look at two equally large (1000 tokens) corpora. If the word appears 1000 times in the target and 100 times in the reference, the SMP will be, based on *k*, ten. The *k* parameter works almost as a filter. The lower you set the parameter, the more low-frequency items you will 'get'."
      ]
    },
    {
      "cell_type": "code",
      "metadata": {
        "colab": {
          "base_uri": "https://localhost:8080/"
        },
        "id": "9Ppu9LK5kcr4",
        "outputId": "a1142588-a084-4164-e12c-ba27155b0305"
      },
      "source": [
        "smp(1000, 100, 1000, 1000)"
      ],
      "execution_count": 126,
      "outputs": [
        {
          "output_type": "execute_result",
          "data": {
            "text/plain": [
              "9.181818181818182"
            ]
          },
          "metadata": {
            "tags": []
          },
          "execution_count": 126
        }
      ]
    },
    {
      "cell_type": "code",
      "metadata": {
        "colab": {
          "base_uri": "https://localhost:8080/",
          "height": 201
        },
        "id": "bjA0mRCFlG6Z",
        "outputId": "37a7ef7b-4acc-483a-95e9-74a91604318c"
      },
      "source": [
        "df_keyness.head()"
      ],
      "execution_count": 127,
      "outputs": [
        {
          "output_type": "execute_result",
          "data": {
            "text/html": [
              "<div>\n",
              "<style scoped>\n",
              "    .dataframe tbody tr th:only-of-type {\n",
              "        vertical-align: middle;\n",
              "    }\n",
              "\n",
              "    .dataframe tbody tr th {\n",
              "        vertical-align: top;\n",
              "    }\n",
              "\n",
              "    .dataframe thead th {\n",
              "        text-align: right;\n",
              "    }\n",
              "</style>\n",
              "<table border=\"1\" class=\"dataframe\">\n",
              "  <thead>\n",
              "    <tr style=\"text-align: right;\">\n",
              "      <th></th>\n",
              "      <th>0</th>\n",
              "      <th>1</th>\n",
              "    </tr>\n",
              "  </thead>\n",
              "  <tbody>\n",
              "    <tr>\n",
              "      <th>sabinson</th>\n",
              "      <td>0</td>\n",
              "      <td>1</td>\n",
              "    </tr>\n",
              "    <tr>\n",
              "      <th>photocopy</th>\n",
              "      <td>0</td>\n",
              "      <td>6</td>\n",
              "    </tr>\n",
              "    <tr>\n",
              "      <th>legget</th>\n",
              "      <td>0</td>\n",
              "      <td>7</td>\n",
              "    </tr>\n",
              "    <tr>\n",
              "      <th>dellin</th>\n",
              "      <td>0</td>\n",
              "      <td>1</td>\n",
              "    </tr>\n",
              "    <tr>\n",
              "      <th>violator</th>\n",
              "      <td>0</td>\n",
              "      <td>2</td>\n",
              "    </tr>\n",
              "  </tbody>\n",
              "</table>\n",
              "</div>"
            ],
            "text/plain": [
              "           0  1\n",
              "sabinson   0  1\n",
              "photocopy  0  6\n",
              "legget     0  7\n",
              "dellin     0  1\n",
              "violator   0  2"
            ]
          },
          "metadata": {
            "tags": []
          },
          "execution_count": 127
        }
      ]
    },
    {
      "cell_type": "markdown",
      "metadata": {
        "id": "iE8Z5BDQsTcw"
      },
      "source": [
        "We can retrieve the corpus sizes by simple checking the length of the token lists."
      ]
    },
    {
      "cell_type": "code",
      "metadata": {
        "id": "M4cYMgF6lQFa"
      },
      "source": [
        "cs0 = len(wikipedia_tokenized)\r\n",
        "cs1 = len(reference_corpus_tokenized)"
      ],
      "execution_count": 128,
      "outputs": []
    },
    {
      "cell_type": "markdown",
      "metadata": {
        "id": "1ab5EwYVtb-C"
      },
      "source": [
        "We can calculate the SMP value for each row (word) by using `.apply` and a Lambda."
      ]
    },
    {
      "cell_type": "code",
      "metadata": {
        "id": "RkMsOUcikpr2"
      },
      "source": [
        "df_keyness['SMP'] = df_keyness.apply(lambda row : smp(row[0], row[1], cs0, cs1), axis=1)"
      ],
      "execution_count": 129,
      "outputs": []
    },
    {
      "cell_type": "code",
      "metadata": {
        "colab": {
          "base_uri": "https://localhost:8080/",
          "height": 201
        },
        "id": "xUrx57HRle4n",
        "outputId": "6e184d4c-6bfb-42c8-c6c7-ad5b1fba91d2"
      },
      "source": [
        "df_keyness.head()"
      ],
      "execution_count": 130,
      "outputs": [
        {
          "output_type": "execute_result",
          "data": {
            "text/html": [
              "<div>\n",
              "<style scoped>\n",
              "    .dataframe tbody tr th:only-of-type {\n",
              "        vertical-align: middle;\n",
              "    }\n",
              "\n",
              "    .dataframe tbody tr th {\n",
              "        vertical-align: top;\n",
              "    }\n",
              "\n",
              "    .dataframe thead th {\n",
              "        text-align: right;\n",
              "    }\n",
              "</style>\n",
              "<table border=\"1\" class=\"dataframe\">\n",
              "  <thead>\n",
              "    <tr style=\"text-align: right;\">\n",
              "      <th></th>\n",
              "      <th>0</th>\n",
              "      <th>1</th>\n",
              "      <th>SMP</th>\n",
              "    </tr>\n",
              "  </thead>\n",
              "  <tbody>\n",
              "    <tr>\n",
              "      <th>sabinson</th>\n",
              "      <td>0</td>\n",
              "      <td>1</td>\n",
              "      <td>0.999990</td>\n",
              "    </tr>\n",
              "    <tr>\n",
              "      <th>photocopy</th>\n",
              "      <td>0</td>\n",
              "      <td>6</td>\n",
              "      <td>0.999937</td>\n",
              "    </tr>\n",
              "    <tr>\n",
              "      <th>legget</th>\n",
              "      <td>0</td>\n",
              "      <td>7</td>\n",
              "      <td>0.999927</td>\n",
              "    </tr>\n",
              "    <tr>\n",
              "      <th>dellin</th>\n",
              "      <td>0</td>\n",
              "      <td>1</td>\n",
              "      <td>0.999990</td>\n",
              "    </tr>\n",
              "    <tr>\n",
              "      <th>violator</th>\n",
              "      <td>0</td>\n",
              "      <td>2</td>\n",
              "      <td>0.999979</td>\n",
              "    </tr>\n",
              "  </tbody>\n",
              "</table>\n",
              "</div>"
            ],
            "text/plain": [
              "           0  1       SMP\n",
              "sabinson   0  1  0.999990\n",
              "photocopy  0  6  0.999937\n",
              "legget     0  7  0.999927\n",
              "dellin     0  1  0.999990\n",
              "violator   0  2  0.999979"
            ]
          },
          "metadata": {
            "tags": []
          },
          "execution_count": 130
        }
      ]
    },
    {
      "cell_type": "markdown",
      "metadata": {
        "id": "S4L5VnD0tUof"
      },
      "source": [
        "In order to get the actual keywords, we can sort the DataFrame by the newly created SMP value and a given cutoff (e.g., 1.5)"
      ]
    },
    {
      "cell_type": "code",
      "metadata": {
        "colab": {
          "base_uri": "https://localhost:8080/",
          "height": 201
        },
        "id": "l6s8um65lqZZ",
        "outputId": "402a8633-a76f-4525-d6a7-1e80afd78c53"
      },
      "source": [
        "df_keyness[df_keyness['SMP'] > 1.5].sort_values('SMP', ascending=False)"
      ],
      "execution_count": 131,
      "outputs": [
        {
          "output_type": "execute_result",
          "data": {
            "text/html": [
              "<div>\n",
              "<style scoped>\n",
              "    .dataframe tbody tr th:only-of-type {\n",
              "        vertical-align: middle;\n",
              "    }\n",
              "\n",
              "    .dataframe tbody tr th {\n",
              "        vertical-align: top;\n",
              "    }\n",
              "\n",
              "    .dataframe thead th {\n",
              "        text-align: right;\n",
              "    }\n",
              "</style>\n",
              "<table border=\"1\" class=\"dataframe\">\n",
              "  <thead>\n",
              "    <tr style=\"text-align: right;\">\n",
              "      <th></th>\n",
              "      <th>0</th>\n",
              "      <th>1</th>\n",
              "      <th>SMP</th>\n",
              "    </tr>\n",
              "  </thead>\n",
              "  <tbody>\n",
              "    <tr>\n",
              "      <th>language</th>\n",
              "      <td>222</td>\n",
              "      <td>1287</td>\n",
              "      <td>3.070407</td>\n",
              "    </tr>\n",
              "    <tr>\n",
              "      <th>of</th>\n",
              "      <td>493</td>\n",
              "      <td>218668</td>\n",
              "      <td>1.732789</td>\n",
              "    </tr>\n",
              "    <tr>\n",
              "      <th>languages</th>\n",
              "      <td>63</td>\n",
              "      <td>198</td>\n",
              "      <td>1.595958</td>\n",
              "    </tr>\n",
              "    <tr>\n",
              "      <th>linguistics</th>\n",
              "      <td>61</td>\n",
              "      <td>6</td>\n",
              "      <td>1.580135</td>\n",
              "    </tr>\n",
              "    <tr>\n",
              "      <th>linguistic</th>\n",
              "      <td>61</td>\n",
              "      <td>49</td>\n",
              "      <td>1.579426</td>\n",
              "    </tr>\n",
              "  </tbody>\n",
              "</table>\n",
              "</div>"
            ],
            "text/plain": [
              "               0       1       SMP\n",
              "language     222    1287  3.070407\n",
              "of           493  218668  1.732789\n",
              "languages     63     198  1.595958\n",
              "linguistics   61       6  1.580135\n",
              "linguistic    61      49  1.579426"
            ]
          },
          "metadata": {
            "tags": []
          },
          "execution_count": 131
        }
      ]
    },
    {
      "cell_type": "markdown",
      "metadata": {
        "id": "0gkUWmaNsiEc"
      },
      "source": [
        "#### Bonus: Stemmed Version\r\n",
        "\r\n",
        "As you can see, in the keyword list we can see that *language* and *languages*, for example, are listed as two keywords. We can use stemming to get a better (well, dependent on your RQ) result."
      ]
    },
    {
      "cell_type": "markdown",
      "metadata": {
        "id": "4Iut_n5qtpRM"
      },
      "source": [
        "This, for the sake of readability and understandability, is just a redefinition of the functions from above."
      ]
    },
    {
      "cell_type": "code",
      "metadata": {
        "id": "Vz8bEzSytmPg"
      },
      "source": [
        "def smp(f_word_c0, f_word_c1, cs0, cs1, k=100):\r\n",
        "  rel_f_word_c0 = relative_frequency(f_word_c0, cs0)\r\n",
        "  rel_f_word_c1 = relative_frequency(f_word_c1, cs1)\r\n",
        "\r\n",
        "  smp = (rel_f_word_c0 + k) / (rel_f_word_c1 + k)\r\n",
        "\r\n",
        "  return smp\r\n",
        "\r\n",
        "\r\n",
        "def scrape_wikipedia_jt(url):\r\n",
        "  html = requests.get(url)\r\n",
        "  paragraphs = justext.justext(html.content, justext.get_stoplist('English'))\r\n",
        "\r\n",
        "  text = []\r\n",
        "\r\n",
        "  for paragraph in paragraphs:\r\n",
        "    if not paragraph.is_boilerplate:\r\n",
        "      text.append(paragraph.text)\r\n",
        "\r\n",
        "  # Combine the paragraphs into one string\r\n",
        "  text = ' '.join(text)\r\n",
        "\r\n",
        "  return text\r\n",
        "\r\n",
        "\r\n",
        "def tokenize(text):\r\n",
        "  return re.findall(r'\\w+', text)"
      ],
      "execution_count": 132,
      "outputs": []
    },
    {
      "cell_type": "markdown",
      "metadata": {
        "id": "pnWMunzfu-ic"
      },
      "source": [
        "Since we are now stemming our corpus we already have tokenized versions of them. Hence, we do not need/want our `get_frequencies` function to tokenize the text."
      ]
    },
    {
      "cell_type": "code",
      "metadata": {
        "id": "ANCL41VVvH8F"
      },
      "source": [
        "def get_frequencies_tokenized_text(tokenized_text):\r\n",
        "  frequencies = Counter(tokenized_text)\r\n",
        "\r\n",
        "  return frequencies"
      ],
      "execution_count": 133,
      "outputs": []
    },
    {
      "cell_type": "markdown",
      "metadata": {
        "id": "CUbfAXbWuA9r"
      },
      "source": [
        "We need a new function which stems a text (well, a list of tokens). This function takes in a list of tokens and constructs a new list of stemmed tokens using the `LancasterStemmer`."
      ]
    },
    {
      "cell_type": "code",
      "metadata": {
        "id": "tecwh2qqty5y"
      },
      "source": [
        "def stem_tokenized_text(text):\r\n",
        "\r\n",
        "  tokens = []\r\n",
        "\r\n",
        "  for token in text:\r\n",
        "    tokens.append(lancaster_stemmer.stem(token))\r\n",
        "\r\n",
        "  return tokens"
      ],
      "execution_count": 134,
      "outputs": []
    },
    {
      "cell_type": "markdown",
      "metadata": {
        "id": "8GcDjFFuuK5e"
      },
      "source": [
        "Of course, we could achieve the same thing using a list comprehension:"
      ]
    },
    {
      "cell_type": "code",
      "metadata": {
        "id": "aFc6pK1SuUMC"
      },
      "source": [
        "text = 'The cars were driving to through the night.'"
      ],
      "execution_count": 135,
      "outputs": []
    },
    {
      "cell_type": "code",
      "metadata": {
        "colab": {
          "base_uri": "https://localhost:8080/"
        },
        "id": "jg7qdil9uKQc",
        "outputId": "c446cc46-ecb7-429e-e629-61de2d6eea9b"
      },
      "source": [
        "[lancaster_stemmer.stem(token) for token in tokenize(text)]"
      ],
      "execution_count": 136,
      "outputs": [
        {
          "output_type": "execute_result",
          "data": {
            "text/plain": [
              "['the', 'car', 'wer', 'driv', 'to', 'through', 'the', 'night']"
            ]
          },
          "metadata": {
            "tags": []
          },
          "execution_count": 136
        }
      ]
    },
    {
      "cell_type": "code",
      "metadata": {
        "colab": {
          "base_uri": "https://localhost:8080/",
          "height": 232
        },
        "id": "UgT2kYCbswNV",
        "outputId": "8491a691-d7a2-472b-b7fe-afc406dc94ef"
      },
      "source": [
        "article_urls = [\r\n",
        "                'https://en.wikipedia.org/wiki/Linguistics',\r\n",
        "                'https://en.wikipedia.org/wiki/Sociolinguistics',\r\n",
        "                'https://en.wikipedia.org/wiki/Language_change'\r\n",
        "]\r\n",
        "\r\n",
        "wikipedia = ''\r\n",
        "\r\n",
        "for url in article_urls:\r\n",
        "  wikipedia += scrape_wikipedia_jt(url)\r\n",
        "\r\n",
        "wikipedia = wikipedia.lower()\r\n",
        "wikipedia_tokenized = tokenize(wikipedia)\r\n",
        "wikipedia_stemmed = stem_tokenized_text(wikipedia_tokenized)\r\n",
        "\r\n",
        "coca_sampler = textdirectory.TextDirectory(directory='python-programming-for-linguists/2020/data/corpora/coca', autoload=True)\r\n",
        "coca_sampler.stage_transformation(['transformation_lowercase'])\r\n",
        "\r\n",
        "reference_corpus = coca_sampler.aggregate_to_memory()\r\n",
        "reference_corpus_tokenized = tokenize(reference_corpus)\r\n",
        "reference_corpus_stemmed = stem_tokenized_text(reference_corpus_tokenized)\r\n",
        "\r\n",
        "# We need to generate a stemmed version of the vocabulary\r\n",
        "vocabulary = set(wikipedia_stemmed + reference_corpus_stemmed)\r\n",
        "\r\n",
        "frequency_table = {}\r\n",
        "\r\n",
        "for i, corpus in enumerate([wikipedia_stemmed, reference_corpus_stemmed]):\r\n",
        "  frequency_list = []\r\n",
        "\r\n",
        "  # We need to get the frequencies for the stemmed/tokenized version.\r\n",
        "  corpus_frequencies = get_frequencies_tokenized_text(corpus)\r\n",
        "\r\n",
        "  for vocab in vocabulary:\r\n",
        "    frequency_list.append(corpus_frequencies[vocab])\r\n",
        "\r\n",
        "  frequency_table[i] = frequency_list\r\n",
        "\r\n",
        "df_keyness = pd.DataFrame(frequency_table, index=vocabulary)\r\n",
        "\r\n",
        "df_keyness['SMP'] = df_keyness.apply(lambda row : smp(row[0], row[1], cs0, cs1), axis=1)\r\n",
        "\r\n",
        "df_keyness[df_keyness['SMP'] > 1.5].sort_values('SMP', ascending=False)"
      ],
      "execution_count": 137,
      "outputs": [
        {
          "output_type": "execute_result",
          "data": {
            "text/html": [
              "<div>\n",
              "<style scoped>\n",
              "    .dataframe tbody tr th:only-of-type {\n",
              "        vertical-align: middle;\n",
              "    }\n",
              "\n",
              "    .dataframe tbody tr th {\n",
              "        vertical-align: top;\n",
              "    }\n",
              "\n",
              "    .dataframe thead th {\n",
              "        text-align: right;\n",
              "    }\n",
              "</style>\n",
              "<table border=\"1\" class=\"dataframe\">\n",
              "  <thead>\n",
              "    <tr style=\"text-align: right;\">\n",
              "      <th></th>\n",
              "      <th>0</th>\n",
              "      <th>1</th>\n",
              "      <th>SMP</th>\n",
              "    </tr>\n",
              "  </thead>\n",
              "  <tbody>\n",
              "    <tr>\n",
              "      <th>langu</th>\n",
              "      <td>285</td>\n",
              "      <td>1489</td>\n",
              "      <td>3.654113</td>\n",
              "    </tr>\n",
              "    <tr>\n",
              "      <th>lingu</th>\n",
              "      <td>149</td>\n",
              "      <td>75</td>\n",
              "      <td>2.415401</td>\n",
              "    </tr>\n",
              "    <tr>\n",
              "      <th>study</th>\n",
              "      <td>87</td>\n",
              "      <td>3977</td>\n",
              "      <td>1.754677</td>\n",
              "    </tr>\n",
              "    <tr>\n",
              "      <th>of</th>\n",
              "      <td>493</td>\n",
              "      <td>218676</td>\n",
              "      <td>1.732745</td>\n",
              "    </tr>\n",
              "    <tr>\n",
              "      <th>word</th>\n",
              "      <td>77</td>\n",
              "      <td>3655</td>\n",
              "      <td>1.668737</td>\n",
              "    </tr>\n",
              "    <tr>\n",
              "      <th>vary</th>\n",
              "      <td>73</td>\n",
              "      <td>3015</td>\n",
              "      <td>1.642662</td>\n",
              "    </tr>\n",
              "  </tbody>\n",
              "</table>\n",
              "</div>"
            ],
            "text/plain": [
              "         0       1       SMP\n",
              "langu  285    1489  3.654113\n",
              "lingu  149      75  2.415401\n",
              "study   87    3977  1.754677\n",
              "of     493  218676  1.732745\n",
              "word    77    3655  1.668737\n",
              "vary    73    3015  1.642662"
            ]
          },
          "metadata": {
            "tags": []
          },
          "execution_count": 137
        }
      ]
    },
    {
      "cell_type": "markdown",
      "metadata": {
        "id": "Ngmss-RjwKjm"
      },
      "source": [
        "Of course this output is far from pretty (also due to using the relatively fast `LancasterStemmer`). However, it bins linguistic items which belong together.\r\n",
        "\r\n",
        "Also note that this approach does not only work for word frequencies. We could just as well, for example, count PoS tags and look for 'keytags' instead of keywords."
      ]
    }
  ]
}