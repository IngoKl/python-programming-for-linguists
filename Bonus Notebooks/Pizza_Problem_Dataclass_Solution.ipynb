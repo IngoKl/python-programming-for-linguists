{
  "nbformat": 4,
  "nbformat_minor": 0,
  "metadata": {
    "colab": {
      "name": "Pizza_Problem_Dataclass_Solution.ipynb",
      "provenance": []
    },
    "kernelspec": {
      "name": "python3",
      "display_name": "Python 3"
    },
    "language_info": {
      "name": "python"
    }
  },
  "cells": [
    {
      "cell_type": "markdown",
      "metadata": {
        "id": "pa2QujQSwJC3"
      },
      "source": [
        "This optimized solution to the Pizza Problem makes use of Python's advanced `dataclass` feature. In order to understand what's going on, you need a solid understanding of classes. Also, have a look at this [*Real Python* article](https://realpython.com/python-data-classes/) for an introduction to dataclasses."
      ]
    },
    {
      "cell_type": "code",
      "metadata": {
        "id": "lSLTbw6g0z2E"
      },
      "source": [
        "import math\n",
        "from dataclasses import dataclass, field"
      ],
      "execution_count": 44,
      "outputs": []
    },
    {
      "cell_type": "code",
      "metadata": {
        "id": "Dwnjkvc6lqr2"
      },
      "source": [
        "@dataclass\n",
        "class Pizza:\n",
        "  name: str = 'pizza'\n",
        "  size: list = field(default_factory=lambda: [26, 0])\n",
        "  price: float = 5.0\n",
        "  shape: str = 'circle'\n",
        "  \n",
        "  pter: float\n",
        "  _pter: float = field(init=False, repr=False)\n",
        "\n",
        "  @property\n",
        "  def area(self) -> float:\n",
        "    if self.shape == 'circle':\n",
        "      return round(math.pi * (self.size[0] / 2) ** 2)\n",
        "    if self.shape == 'rectangle':\n",
        "      return round(self.size[0] * self.size[1])\n",
        "\n",
        "  @property\n",
        "  def pter(self) -> float:\n",
        "    return round(self._pter)\n",
        "\n",
        "  @pter.setter\n",
        "  def pter(self, pter: float) -> float:\n",
        "    self._pter = self.area / self.price"
      ],
      "execution_count": 144,
      "outputs": []
    },
    {
      "cell_type": "code",
      "metadata": {
        "id": "VK56kQmSmHgz"
      },
      "source": [
        "pizzas = [\n",
        "    Pizza('small', [26, 0], 4.80, 'circle'),\n",
        "    Pizza('large', [30, 0], 5.50, 'circle'),\n",
        "    Pizza('party', [46, 33], 13.00, 'rectangle'),\n",
        "]"
      ],
      "execution_count": 145,
      "outputs": []
    },
    {
      "cell_type": "code",
      "metadata": {
        "colab": {
          "base_uri": "https://localhost:8080/"
        },
        "id": "t-G1GEx-rMJg",
        "outputId": "c736743a-798b-4c08-fa55-7e2826b876a1"
      },
      "source": [
        "max(pizzas, key=lambda pizza: pizza.pter)"
      ],
      "execution_count": 146,
      "outputs": [
        {
          "output_type": "execute_result",
          "data": {
            "text/plain": [
              "Pizza(name='large', size=[30, 0], price=5.5, shape='circle', pter=129)"
            ]
          },
          "metadata": {
            "tags": []
          },
          "execution_count": 146
        }
      ]
    }
  ]
}