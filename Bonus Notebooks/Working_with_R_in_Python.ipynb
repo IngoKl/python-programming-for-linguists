{
  "nbformat": 4,
  "nbformat_minor": 0,
  "metadata": {
    "colab": {
      "name": "Untitled1.ipynb",
      "provenance": [],
      "collapsed_sections": []
    },
    "kernelspec": {
      "name": "python3",
      "display_name": "Python 3"
    },
    "language_info": {
      "name": "python"
    }
  },
  "cells": [
    {
      "cell_type": "markdown",
      "metadata": {
        "id": "tqXFE16ZGVNd"
      },
      "source": [
        "# Bonus Notebook: Working with R in Python"
      ]
    },
    {
      "cell_type": "markdown",
      "metadata": {
        "id": "EooMbfTPGdmV"
      },
      "source": [
        "[**R**](https://www.r-project.org), a free software environment for statistical computing and graphing and a programming language, has gained massive traction in (corpus) linguistics over the last few years.\n",
        "\n",
        "In some cases, it might be helpful to have *Python* and R *interact* – for example if only a small part of your project is written in R.\n",
        "\n",
        "Fortunately, there is [`rpy2`](https://pypi.org/project/rpy2/) which is a sophisticated Python interface to the *R* language.\n",
        "\n",
        "*Please Note*: This notebook assumes that you have some working knowledge of R."
      ]
    },
    {
      "cell_type": "code",
      "metadata": {
        "colab": {
          "base_uri": "https://localhost:8080/"
        },
        "id": "vFgu5X7EGOVf",
        "outputId": "cf218107-5747-4cd0-e9aa-33fce9c41752"
      },
      "source": [
        "import rpy2\n",
        "import rpy2.robjects as robjects\n",
        "import rpy2.robjects.packages as rpackages\n",
        "\n",
        "\n",
        "print(rpy2.__version__)"
      ],
      "execution_count": 1,
      "outputs": [
        {
          "output_type": "stream",
          "text": [
            "3.4.3\n"
          ],
          "name": "stdout"
        }
      ]
    },
    {
      "cell_type": "markdown",
      "metadata": {
        "id": "aX-ltQlrH73q"
      },
      "source": [
        "## Example 1: Accessing the Embedded R\n",
        "\n",
        "`rpy2`, under the hood, is running an embedded version of *R*. Also, it provides us with an object (`robjects.r`) that we can use to interface with this *R*. In the example below, we are accessing the `pi` symbol from R."
      ]
    },
    {
      "cell_type": "code",
      "metadata": {
        "colab": {
          "base_uri": "https://localhost:8080/",
          "height": 57
        },
        "id": "-03NKYI3IVaO",
        "outputId": "465bf4b9-99ab-4b7d-d3d9-fbea620a3bc5"
      },
      "source": [
        "# R equivalent: > pi\n",
        "r_pi = robjects.r['pi']\n",
        "\n",
        "r_pi"
      ],
      "execution_count": 2,
      "outputs": [
        {
          "output_type": "execute_result",
          "data": {
            "text/html": [
              "\n",
              "        <span>FloatVector with 1 elements.</span>\n",
              "        <table>\n",
              "        <tbody>\n",
              "          <tr>\n",
              "          \n",
              "            <td>\n",
              "            3.141593\n",
              "            </td>\n",
              "          \n",
              "          </tr>\n",
              "        </tbody>\n",
              "        </table>\n",
              "        "
            ],
            "text/plain": [
              "<rpy2.robjects.vectors.FloatVector object at 0x7fe05eddaa00> [RTYPES.REALSXP]\n",
              "R classes: ('numeric',)\n",
              "[3.141593]"
            ]
          },
          "metadata": {
            "tags": []
          },
          "execution_count": 2
        }
      ]
    },
    {
      "cell_type": "markdown",
      "metadata": {
        "id": "tpdjArxRKFlW"
      },
      "source": [
        "In the example above, you should note that we get a `FloatVector` back. If you just need the number, you need to access `r_pi[0]`."
      ]
    },
    {
      "cell_type": "code",
      "metadata": {
        "colab": {
          "base_uri": "https://localhost:8080/"
        },
        "id": "0xLxWtJlKOIP",
        "outputId": "eaf8b116-70ab-46c7-8c66-63c800eed995"
      },
      "source": [
        "r_pi[0]"
      ],
      "execution_count": 3,
      "outputs": [
        {
          "output_type": "execute_result",
          "data": {
            "text/plain": [
              "3.141592653589793"
            ]
          },
          "metadata": {
            "tags": []
          },
          "execution_count": 3
        }
      ]
    },
    {
      "cell_type": "markdown",
      "metadata": {
        "id": "8s6PLLo4JCMU"
      },
      "source": [
        "## Example 2: Writing an R Function\n",
        "\n",
        "We are also able to write function in *R* and then run them 'in'/using *Python*."
      ]
    },
    {
      "cell_type": "code",
      "metadata": {
        "colab": {
          "base_uri": "https://localhost:8080/"
        },
        "id": "pZri801fJNxp",
        "outputId": "9e83fd3f-cfca-46d0-cec7-6bf90ebebb0b"
      },
      "source": [
        "# A simple R function that will lowercase and print an input\n",
        "robjects.r('''\n",
        "  to_lowercase <- function(s) {\n",
        "    lower <- tolower(s)\n",
        "    print(lower)\n",
        "  }\n",
        "''')"
      ],
      "execution_count": 4,
      "outputs": [
        {
          "output_type": "execute_result",
          "data": {
            "text/plain": [
              "<rpy2.robjects.functions.SignatureTranslatedFunction object at 0x7fe05edeafa0> [RTYPES.CLOSXP]\n",
              "R classes: ('function',)"
            ]
          },
          "metadata": {
            "tags": []
          },
          "execution_count": 4
        }
      ]
    },
    {
      "cell_type": "code",
      "metadata": {
        "colab": {
          "base_uri": "https://localhost:8080/",
          "height": 75
        },
        "id": "AHlbhsriJzwo",
        "outputId": "a34e6ce8-93cc-48e5-8630-a56c0a8af95e"
      },
      "source": [
        "# Retrieve the function\n",
        "r_to_lowercase = robjects.r['to_lowercase']\n",
        "\n",
        "# Run our R function\n",
        "r_to_lowercase('This IS a TeSt')"
      ],
      "execution_count": 5,
      "outputs": [
        {
          "output_type": "stream",
          "text": [
            "[1] \"this is a test\"\n"
          ],
          "name": "stdout"
        },
        {
          "output_type": "execute_result",
          "data": {
            "text/html": [
              "\n",
              "        <span>StrVector with 1 elements.</span>\n",
              "        <table>\n",
              "        <tbody>\n",
              "          <tr>\n",
              "          \n",
              "            <td>\n",
              "            'this is a test'\n",
              "            </td>\n",
              "          \n",
              "          </tr>\n",
              "        </tbody>\n",
              "        </table>\n",
              "        "
            ],
            "text/plain": [
              "<rpy2.robjects.vectors.StrVector object at 0x7fe05edf9e60> [RTYPES.STRSXP]\n",
              "R classes: ('character',)\n",
              "['this is a test']"
            ]
          },
          "metadata": {
            "tags": []
          },
          "execution_count": 5
        }
      ]
    },
    {
      "cell_type": "markdown",
      "metadata": {
        "id": "ZKXfj0iDKi89"
      },
      "source": [
        "### Example 3: Working with R Packages\n",
        "\n",
        "One of the most powerful things about *R* is the rich ecosystem of packages."
      ]
    },
    {
      "cell_type": "markdown",
      "metadata": {
        "id": "1p4WdcywLPsK"
      },
      "source": [
        "For this example, we will be using [`tau`](https://cran.r-project.org/web/packages/tau/index.html), a text processing utility package. To do so, we first have to install this package into our embedded *R*."
      ]
    },
    {
      "cell_type": "code",
      "metadata": {
        "id": "AYQQneAlKu9D"
      },
      "source": [
        "utils = rpackages.importr('utils')\n",
        "utils.install_packages('tau')"
      ],
      "execution_count": null,
      "outputs": []
    },
    {
      "cell_type": "markdown",
      "metadata": {
        "id": "VYK_toDQLgNs"
      },
      "source": [
        "Now, we can import `tau` and work with it!"
      ]
    },
    {
      "cell_type": "code",
      "metadata": {
        "id": "NGZneLPbLLbF"
      },
      "source": [
        "tau = rpackages.importr('tau')"
      ],
      "execution_count": 7,
      "outputs": []
    },
    {
      "cell_type": "code",
      "metadata": {
        "colab": {
          "base_uri": "https://localhost:8080/"
        },
        "id": "8MWMN3soLkzp",
        "outputId": "1826cfa5-d7ae-4e28-831e-32c193df5523"
      },
      "source": [
        "tokenized = tau.tokenize('This is a test.')\n",
        "\n",
        "for token in tokenized:\n",
        "  print(token)"
      ],
      "execution_count": 8,
      "outputs": [
        {
          "output_type": "stream",
          "text": [
            "This\n",
            " \n",
            "is\n",
            " \n",
            "a\n",
            " \n",
            "test\n",
            ".\n"
          ],
          "name": "stdout"
        }
      ]
    },
    {
      "cell_type": "markdown",
      "metadata": {
        "id": "pZxDBTE_L9pi"
      },
      "source": [
        "# Example 4: Working with .R Files\n",
        "\n",
        "In many cases, there will be a `.R` file. For example, if a colleague has written an interesting or useful function in *R* which you want to repurpose in your *Python*.\n",
        "\n",
        "For this example, we will be using the same `to_lowercase` function from before. However, this time the function will reside in an external file called `my_functions.R`. In addition, the same file will also contain a second function called `add_three`."
      ]
    },
    {
      "cell_type": "code",
      "metadata": {
        "colab": {
          "base_uri": "https://localhost:8080/"
        },
        "id": "EAHuhCblNuUi",
        "outputId": "1d443da7-8b9c-44de-cabd-2380184cd9c6"
      },
      "source": [
        "!rm -r python-programming-for-linguists \n",
        "!git clone https://github.com/IngoKl/python-programming-for-linguists "
      ],
      "execution_count": 9,
      "outputs": [
        {
          "output_type": "stream",
          "text": [
            "Cloning into 'python-programming-for-linguists'...\n",
            "remote: Enumerating objects: 379, done.\u001b[K\n",
            "remote: Counting objects: 100% (379/379), done.\u001b[K\n",
            "remote: Compressing objects: 100% (278/278), done.\u001b[K\n",
            "remote: Total 379 (delta 211), reused 262 (delta 94), pack-reused 0\u001b[K\n",
            "Receiving objects: 100% (379/379), 5.17 MiB | 11.95 MiB/s, done.\n",
            "Resolving deltas: 100% (211/211), done.\n"
          ],
          "name": "stdout"
        }
      ]
    },
    {
      "cell_type": "code",
      "metadata": {
        "colab": {
          "base_uri": "https://localhost:8080/",
          "height": 78
        },
        "id": "8x_Ni3zRN4i-",
        "outputId": "2aa3e5cc-f866-47a5-e241-46b78537f0a5"
      },
      "source": [
        "# We can source the script just as we would do in R\n",
        "r_source = robjects.r['source']\n",
        "r_source('python-programming-for-linguists/2021/scripts/my_functions.R')"
      ],
      "execution_count": 10,
      "outputs": [
        {
          "output_type": "execute_result",
          "data": {
            "text/html": [
              "\n",
              "        <span>ListVector with 2 elements.</span>\n",
              "        <table>\n",
              "        <tbody>\n",
              "        \n",
              "          <tr>\n",
              "            <th>\n",
              "            value\n",
              "            </th>\n",
              "            <td>\n",
              "            <rpy2.rinterface.SexpClosure object at 0x7fe05ecf1f50> [RTYPES.CLOSXP]\n",
              "            </td>\n",
              "          </tr>\n",
              "        \n",
              "          <tr>\n",
              "            <th>\n",
              "            visible\n",
              "            </th>\n",
              "            <td>\n",
              "            <rpy2.rinterface.BoolSexpVector object at 0x7fe05ecf61e0> [RTYPES.LGLSXP]\n",
              "            </td>\n",
              "          </tr>\n",
              "        \n",
              "        </tbody>\n",
              "        </table>\n",
              "        "
            ],
            "text/plain": [
              "<rpy2.robjects.vectors.ListVector object at 0x7fe05ed82c30> [RTYPES.VECSXP]\n",
              "R classes: ('list',)\n",
              "[SexpClosure, BoolSexpVector]\n",
              "  value: <class 'rpy2.rinterface.SexpClosure'>\n",
              "  <rpy2.rinterface.SexpClosure object at 0x7fe05ecf1dc0> [RTYPES.CLOSXP]\n",
              "  visible: <class 'rpy2.rinterface.BoolSexpVector'>\n",
              "  <rpy2.rinterface.BoolSexpVector object at 0x7fe05ecf1cd0> [RTYPES.LGLSXP]"
            ]
          },
          "metadata": {
            "tags": []
          },
          "execution_count": 10
        }
      ]
    },
    {
      "cell_type": "code",
      "metadata": {
        "id": "QqnjwojpOkm7"
      },
      "source": [
        "r_add_three = robjects.r['add_tree']\n",
        "r_to_lowercase = robjects.r['to_lowercase']"
      ],
      "execution_count": 11,
      "outputs": []
    },
    {
      "cell_type": "markdown",
      "metadata": {
        "id": "BuWXcIKqO1pB"
      },
      "source": [
        "We already know how `to_lowercase` works. Let's have a look at the internals of `add_tree` from within *Python*."
      ]
    },
    {
      "cell_type": "code",
      "metadata": {
        "colab": {
          "base_uri": "https://localhost:8080/"
        },
        "id": "yrw55Ul-OuSt",
        "outputId": "c95aff34-8553-4433-8915-e65be6b5cd5f"
      },
      "source": [
        "# This will show us the R code\n",
        "print(r_add_three.r_repr())"
      ],
      "execution_count": 12,
      "outputs": [
        {
          "output_type": "stream",
          "text": [
            "function (a, b, c) \n",
            "{\n",
            "    return(a + b + c)\n",
            "}\n"
          ],
          "name": "stdout"
        }
      ]
    },
    {
      "cell_type": "code",
      "metadata": {
        "colab": {
          "base_uri": "https://localhost:8080/",
          "height": 57
        },
        "id": "u1NaS11gPeZV",
        "outputId": "056519a7-2e69-44c7-d1aa-5c9089e7abbf"
      },
      "source": [
        "r_add_three(1, 2, 3)"
      ],
      "execution_count": 13,
      "outputs": [
        {
          "output_type": "execute_result",
          "data": {
            "text/html": [
              "\n",
              "        <span>IntVector with 1 elements.</span>\n",
              "        <table>\n",
              "        <tbody>\n",
              "          <tr>\n",
              "          \n",
              "            <td>\n",
              "            6\n",
              "            </td>\n",
              "          \n",
              "          </tr>\n",
              "        </tbody>\n",
              "        </table>\n",
              "        "
            ],
            "text/plain": [
              "<rpy2.robjects.vectors.IntVector object at 0x7fe05ed01190> [RTYPES.INTSXP]\n",
              "R classes: ('integer',)\n",
              "[6]"
            ]
          },
          "metadata": {
            "tags": []
          },
          "execution_count": 13
        }
      ]
    }
  ]
}