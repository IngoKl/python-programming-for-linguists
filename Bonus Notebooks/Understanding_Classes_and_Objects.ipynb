{
  "nbformat": 4,
  "nbformat_minor": 0,
  "metadata": {
    "colab": {
      "name": "Bonus - Understanding Classes and Objects.ipynb",
      "provenance": [],
      "collapsed_sections": []
    },
    "kernelspec": {
      "name": "python3",
      "display_name": "Python 3"
    }
  },
  "cells": [
    {
      "cell_type": "markdown",
      "metadata": {
        "id": "nx5gA92Y5Yyv"
      },
      "source": [
        "# Bonus - Understanding Classes and Objects\r\n",
        "\r\n",
        "Over the course of the workshop, we encountered both **objects** and **methods** from time to time. However, to not make things even more complicated, I did not really discuss what these are.\r\n",
        "\r\n",
        "Since you have clicked on this notebook, you will now receive a **very** brief introduction to classes, objects, and methods. If you want to dive deeper, have a look at [Object-Oriented Programming (OOP)](https://en.wikipedia.org/wiki/Object-oriented_programming#:~:text=Object%2Doriented%20programming%20(OOP),(often%20known%20as%20methods).)."
      ]
    },
    {
      "cell_type": "markdown",
      "metadata": {
        "id": "nFnDm4RP6alo"
      },
      "source": [
        "## Classes\r\n",
        "\r\n",
        "Below you can see an example of a simple `class`. You can think of classes as blueprints for objects that can have attributes and methods."
      ]
    },
    {
      "cell_type": "code",
      "metadata": {
        "id": "QvT7Dohs5TF-"
      },
      "source": [
        "class Cat:\r\n",
        "  def __init__(self, name, age, color):\r\n",
        "    self.name = name\r\n",
        "    self.age = age\r\n",
        "    self.color = color\r\n",
        "\r\n",
        "    self.hunger = 100\r\n",
        "  \r\n",
        "  def __str__(self):\r\n",
        "    if self.hunger > 50:\r\n",
        "      return f'My name is {self.name}. I am a {self.age} years old {self.color} cat. I am also quite hungry.'\r\n",
        "    else:\r\n",
        "      return f'My name is {self.name}. I am a {self.age} years old {self.color} cat. I am not hungry!.'\r\n",
        "\r\n",
        "  def eat_mouse(self):\r\n",
        "    print('I just ate a mouse!')\r\n",
        "    self.hunger -= 10\r\n"
      ],
      "execution_count": null,
      "outputs": []
    },
    {
      "cell_type": "markdown",
      "metadata": {
        "id": "YX708Wqu88L3"
      },
      "source": [
        "We now have created a blueprint for a 'cat'. The resulting cat will have four attributes (`name`, `age`, `color`, and `hunger`) and two methods (`__str__` and `eat_mouse`). You can think of methods as functions that are tied to an object.\r\n",
        "\r\n",
        "The `__str__` method is a bit special. It will be automatically called if we try to `print` an instance of this class (an object). But we're getting ahead of ourselves..."
      ]
    },
    {
      "cell_type": "markdown",
      "metadata": {
        "id": "NX7xZyQnAs6U"
      },
      "source": [
        "## Objects"
      ]
    },
    {
      "cell_type": "code",
      "metadata": {
        "id": "yrny-rQc9vk5"
      },
      "source": [
        "cleo = Cat('Cleo', 2, 'black')"
      ],
      "execution_count": null,
      "outputs": []
    },
    {
      "cell_type": "markdown",
      "metadata": {
        "id": "ItR3FKfW9_c_"
      },
      "source": [
        "We have just created an object (a *cat*) based on our blueprint. `cleo` is now an object based on the class (blueprint). Let's try to `print cleo`."
      ]
    },
    {
      "cell_type": "code",
      "metadata": {
        "colab": {
          "base_uri": "https://localhost:8080/"
        },
        "id": "DzH6pPoh-OJy",
        "outputId": "9ff0e8e0-60aa-430c-8b95-b7e498d8a0ad"
      },
      "source": [
        "print(cleo)"
      ],
      "execution_count": null,
      "outputs": [
        {
          "output_type": "stream",
          "text": [
            "My name is Cleo. I am a 2 years old black cat. I am also quite hungry.\n"
          ],
          "name": "stdout"
        }
      ]
    },
    {
      "cell_type": "markdown",
      "metadata": {
        "id": "q0tkqJ2h-0qn"
      },
      "source": [
        "As you can see, once we tried to `print` the object. the `__str__` method got called. We can now also access and change Cleo's attributes."
      ]
    },
    {
      "cell_type": "code",
      "metadata": {
        "colab": {
          "base_uri": "https://localhost:8080/"
        },
        "id": "gNkwLHv8--tS",
        "outputId": "fbaa033c-91c8-4705-dcfc-ad9b22a3796d"
      },
      "source": [
        "cleo.age = 3\r\n",
        "print(cleo)"
      ],
      "execution_count": null,
      "outputs": [
        {
          "output_type": "stream",
          "text": [
            "My name is Cleo. I am a 3 years old black cat. I am also quite hungry.\n"
          ],
          "name": "stdout"
        }
      ]
    },
    {
      "cell_type": "markdown",
      "metadata": {
        "id": "zbKqzvF7_JMH"
      },
      "source": [
        "Changing attributes is great! We can, of course, also call methods. For examle our `eat_mouse` methods."
      ]
    },
    {
      "cell_type": "code",
      "metadata": {
        "colab": {
          "base_uri": "https://localhost:8080/"
        },
        "id": "cn1O_S5V_QCz",
        "outputId": "03a09718-3a75-4deb-cbd2-5448cfbe32f8"
      },
      "source": [
        "cleo.eat_mouse()"
      ],
      "execution_count": null,
      "outputs": [
        {
          "output_type": "stream",
          "text": [
            "I just ate a mouse!\n"
          ],
          "name": "stdout"
        }
      ]
    },
    {
      "cell_type": "markdown",
      "metadata": {
        "id": "N6OkLVHb_euS"
      },
      "source": [
        "Now that Cleo has eaten a mouse, she should be less hungry as eating a mouse reduces `hunger` by 10."
      ]
    },
    {
      "cell_type": "code",
      "metadata": {
        "colab": {
          "base_uri": "https://localhost:8080/"
        },
        "id": "VoxObORD_jcD",
        "outputId": "0a0e64c3-da6c-40ba-d55a-616b5d29d050"
      },
      "source": [
        "cleo.hunger"
      ],
      "execution_count": null,
      "outputs": [
        {
          "output_type": "execute_result",
          "data": {
            "text/plain": [
              "90"
            ]
          },
          "metadata": {
            "tags": []
          },
          "execution_count": 34
        }
      ]
    },
    {
      "cell_type": "markdown",
      "metadata": {
        "id": "nTWshN0d_pnA"
      },
      "source": [
        "Let's feed her a couple more mice ..."
      ]
    },
    {
      "cell_type": "code",
      "metadata": {
        "colab": {
          "base_uri": "https://localhost:8080/"
        },
        "id": "XBNboqlI_u7K",
        "outputId": "0ce3e443-a53f-43a8-b7bc-9d332326bb8b"
      },
      "source": [
        "cleo.eat_mouse()\r\n",
        "cleo.eat_mouse()\r\n",
        "cleo.eat_mouse()\r\n",
        "cleo.eat_mouse()\r\n",
        "cleo.eat_mouse()"
      ],
      "execution_count": null,
      "outputs": [
        {
          "output_type": "stream",
          "text": [
            "I just ate a mouse!\n",
            "I just ate a mouse!\n",
            "I just ate a mouse!\n",
            "I just ate a mouse!\n",
            "I just ate a mouse!\n"
          ],
          "name": "stdout"
        }
      ]
    },
    {
      "cell_type": "code",
      "metadata": {
        "colab": {
          "base_uri": "https://localhost:8080/"
        },
        "id": "ANaPLL-k_z0a",
        "outputId": "580474c4-315d-4bb4-dd18-430611bde8c2"
      },
      "source": [
        "print(cleo)"
      ],
      "execution_count": null,
      "outputs": [
        {
          "output_type": "stream",
          "text": [
            "My name is Cleo. I am a 3 years old black cat. I am not hungry!.\n"
          ],
          "name": "stdout"
        }
      ]
    },
    {
      "cell_type": "markdown",
      "metadata": {
        "id": "yyHKf41x_07r"
      },
      "source": [
        "Finally, Cleo isn't hungry anymore!\r\n",
        "\r\n",
        "Alright, so we have seen that objects (instances of classes) can have attributes and methods. The beauty of having a blueprint, however, is that we can have an unlimited number of objects created from them."
      ]
    },
    {
      "cell_type": "code",
      "metadata": {
        "id": "cCErBGxsAMUn"
      },
      "source": [
        "ada = Cat('Ada', 4, 'red')"
      ],
      "execution_count": null,
      "outputs": []
    },
    {
      "cell_type": "code",
      "metadata": {
        "colab": {
          "base_uri": "https://localhost:8080/"
        },
        "id": "zmNlV1QSAXDU",
        "outputId": "3ed3fdac-4ead-49aa-b849-388c0763a680"
      },
      "source": [
        "print(ada)"
      ],
      "execution_count": null,
      "outputs": [
        {
          "output_type": "stream",
          "text": [
            "My name is Ada. I am a 4 years old red cat. I am also quite hungry.\n"
          ],
          "name": "stdout"
        }
      ]
    },
    {
      "cell_type": "markdown",
      "metadata": {
        "id": "odgL1TF0AZ6x"
      },
      "source": [
        "As there is nothing special about objects, we can also, for example, put them into a list and loop over them."
      ]
    },
    {
      "cell_type": "code",
      "metadata": {
        "id": "XXZHPUJHAfzm"
      },
      "source": [
        "cats = [cleo, ada]"
      ],
      "execution_count": null,
      "outputs": []
    },
    {
      "cell_type": "code",
      "metadata": {
        "colab": {
          "base_uri": "https://localhost:8080/"
        },
        "id": "Yq8Fu_K5AimR",
        "outputId": "b671f9da-e85c-4bfb-e8a3-c792881a5dbd"
      },
      "source": [
        "for cat in cats:\r\n",
        "  print(cat.name, cat.age, cat.hunger)"
      ],
      "execution_count": null,
      "outputs": [
        {
          "output_type": "stream",
          "text": [
            "Cleo 3 40\n",
            "Ada 4 100\n"
          ],
          "name": "stdout"
        }
      ]
    },
    {
      "cell_type": "markdown",
      "metadata": {
        "id": "01w8snGZBDMa"
      },
      "source": [
        "## A Slightly More Useful Example\r\n",
        "\r\n",
        "Now that we talked a lot about cats let's try to come up with something more useful. Let's say that we want to have a slightly better way of storing and handling documents.\r\n",
        "\r\n",
        "**Note**: Whenever we create a new object, the `__init__` is automatically being called."
      ]
    },
    {
      "cell_type": "code",
      "metadata": {
        "id": "GVdAO-xoCKsE"
      },
      "source": [
        "%%capture\r\n",
        "!git clone https://github.com/IngoKl/python-programming-for-linguists"
      ],
      "execution_count": null,
      "outputs": []
    },
    {
      "cell_type": "code",
      "metadata": {
        "colab": {
          "base_uri": "https://localhost:8080/"
        },
        "id": "wLGkU9VPDQzB",
        "outputId": "ae9239fe-d3a6-4e1a-8f0e-c0ecffbdb6e8"
      },
      "source": [
        "!ls"
      ],
      "execution_count": null,
      "outputs": [
        {
          "output_type": "stream",
          "text": [
            "python-programming-for-linguists  sample_data\n"
          ],
          "name": "stdout"
        }
      ]
    },
    {
      "cell_type": "code",
      "metadata": {
        "id": "lhJhAsDPBUpB"
      },
      "source": [
        "class Document:\r\n",
        "  def __init__(self, file):\r\n",
        "    self.file = file\r\n",
        "    self.tokens = []\r\n",
        "    self.token_count = None\r\n",
        "\r\n",
        "    with open(self.file, 'r') as f:\r\n",
        "      self.text = f.read()\r\n",
        "\r\n",
        "    self.tokenize()\r\n",
        "\r\n",
        "  def __str__(self):\r\n",
        "    return f'Document created from {self.file} with {self.token_count} tokens.'\r\n",
        "\r\n",
        "  def tokenize(self):\r\n",
        "    self.tokens = self.text.split()\r\n",
        "    self.token_count = len(self.tokens)\r\n"
      ],
      "execution_count": null,
      "outputs": []
    },
    {
      "cell_type": "markdown",
      "metadata": {
        "id": "MYgQcN3fEw6f"
      },
      "source": [
        "We now have a simple class which, once you create an object, reads a text file and automatically tokenizes it.\r\n",
        "\r\n",
        "To to this, we have method called `tokenize` which is called straight from the `__init__` method."
      ]
    },
    {
      "cell_type": "code",
      "metadata": {
        "id": "XdXmrCjSCZHM"
      },
      "source": [
        "cologne = Document('python-programming-for-linguists/2020/data/wikipedia/cologne.txt')"
      ],
      "execution_count": null,
      "outputs": []
    },
    {
      "cell_type": "code",
      "metadata": {
        "colab": {
          "base_uri": "https://localhost:8080/"
        },
        "id": "V9xt1sbRErXj",
        "outputId": "df028d3e-4224-495e-a333-a820a90e045c"
      },
      "source": [
        "print(cologne)"
      ],
      "execution_count": null,
      "outputs": [
        {
          "output_type": "stream",
          "text": [
            "Document created from python-programming-for-linguists/2020/data/wikipedia/cologne.txt with 490 tokens.\n"
          ],
          "name": "stdout"
        }
      ]
    }
  ]
}